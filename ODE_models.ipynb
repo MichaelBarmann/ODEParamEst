{
 "cells": [
  {
   "cell_type": "code",
   "execution_count": 5,
   "metadata": {},
   "outputs": [
    {
     "data": {
      "text/plain": [
       "SIR (generic function with 1 method)"
      ]
     },
     "execution_count": 5,
     "metadata": {},
     "output_type": "execute_result"
    }
   ],
   "source": [
    "function One_Age_Model_1eta(du,u,pars,t)\n",
    "    S, E, P, A, AR, I, H, R, D, Hc = u\n",
    "    βSA, βSI, μ, σ₁, σ₂, ϕ, M, M_AR, γ, ω, χ, ψ, η, tQ = pars\n",
    "    \n",
    "    βSA_t = βSA*(1 + (1/η - 1)*0.5*(1 - tanh(2*(t-tQ))))\n",
    "\n",
    "    dS = -βSA_t*S*(A+P) - βSI*S*I - μ*S\n",
    "    dE = βSA_t*S*(A+P) + βSI*S*I - σ₁*E\n",
    "    dP = (1-ϕ)*σ₁*E - σ₂*P\n",
    "    dA = ϕ*σ₁*E - M_AR*A\n",
    "    dAR = M_AR*A\n",
    "    dI = σ₂*P - M*I\n",
    "    dH = γ*M*I - (1-ω)*χ*H - ω*ψ*H\n",
    "    dR = (1-γ)*M*I + (1-ω)*χ*H\n",
    "    dD = ω*ψ*H\n",
    "    dHc = γ*M*I\n",
    "    du .= [dS, dE, dP, dA, dAR, dI, dH, dR, dD, dHc]\n",
    "    return nothing\n",
    "end\n",
    "\n",
    "#####################################################################\n",
    "\n",
    "#β_SA(βSA,t,tQ) = βSA*(ηSA + (1 - ηSA)*0.5*(1 - tanh(2*(t-tQ))))\n",
    "#β_SI(βSI,t,tQ) = βSI*(ηSI + (1 - ηSI)*0.5*(1 - tanh(2*(t-tQ))))\n",
    "\n",
    "function One_Age_Model(du,u,pars,t)\n",
    "    S, E, P, A, AR, I, H, R, D, Hc = u\n",
    "    βSA, βSI, μ, σ₁, σ₂, ϕ, M, M_AR, γ, ω, χ, ψ, ηSA, ηSI, tQ = pars\n",
    "    \n",
    "    βSA_t = βSA*(ηSA + (1 - ηSA)*0.5*(1 - tanh(2*(t-tQ))))\n",
    "    βSI_t = βSI*(ηSI + (1 - ηSI)*0.5*(1 - tanh(2*(t-tQ))))\n",
    "   \n",
    "    dS = -βSA_t*S*(A+P) - βSI_t*S*I - μ*S\n",
    "    dE = βSA_t*S*(A+P) + βSI_t*S*I - σ₁*E\n",
    "    dP = (1-ϕ)*σ₁*E - σ₂*P\n",
    "    dA = ϕ*σ₁*E - M_AR*A\n",
    "    dAR = M_AR*A\n",
    "    dI = σ₂*P - M*I\n",
    "    dH = γ*M*I - (1-ω)*χ*H - ω*ψ*H\n",
    "    dR = (1-γ)*M*I + (1-ω)*χ*H\n",
    "    dD = ω*ψ*H\n",
    "    dHc = γ*M*I\n",
    "    du .= [dS, dE, dP, dA, dAR, dI, dH, dR, dD, dHc]\n",
    "    return nothing\n",
    "end\n",
    "\n",
    "\n",
    "function OneAgeModel!(du,u,pars,t)\n",
    "    #S, E, P, A, AR, I, H, R, D, Hc = u\n",
    "    βSA, βSI, μ, σ₁, σ₂, ϕ, M, M_AR, γ, ω, χ, ψ, ηSA, ηSI, tQ = pars\n",
    "    \n",
    "    βSA_t = βSA*(ηSA + (1 - ηSA)*0.5*(1 - tanh(2*(t-tQ))))\n",
    "    βSI_t = βSI*(ηSI + (1 - ηSI)*0.5*(1 - tanh(2*(t-tQ))))\n",
    "   \n",
    "    du[1] = -βSA_t*u[1]*(u[4]+u[3]) - βSI_t*u[1]*u[6] \n",
    "    du[2] = -du[1] - σ₁*u[2]\n",
    "    du[3] = (1-ϕ)*σ₁*u[2] - σ₂*u[3]\n",
    "    du[4] = ϕ*σ₁*u[2] - M_AR*u[4]\n",
    "    du[5] = M_AR*u[4]\n",
    "    du[6] = σ₂*u[3] - M*u[6]\n",
    "    du[7] = γ*M*u[6] - (1-ω)*χ*u[7] - ω*ψ*u[7]\n",
    "    du[8] = (1-γ)*M*u[6] + (1-ω)*χ*u[7]\n",
    "    du[9] = ω*ψ*u[7]\n",
    "    du[10] = γ*M*u[6]\n",
    "end\n",
    "\n",
    "function f_ICs(ICs_and_IC_ratios)\n",
    "    S0, er, pr, ar, arr, hr, rr, I0, D0, Hc0 = ICs_and_IC_ratios\n",
    "    E0 = er*I0\n",
    "    P0 = pr*I0\n",
    "    A0 = ar*I0\n",
    "    AR0 = arr*I0\n",
    "    H0 = hr*I0\n",
    "    R0 = rr*I0\n",
    "    y0 = [S0, E0, P0, A0, AR0, I0, H0, R0, D0, Hc0]\n",
    "    return y0\n",
    "end \n",
    "\n",
    "\n",
    "\n",
    "\n",
    "function SIR(du, u, pars, t)\n",
    "    β,γ = pars\n",
    "    S,I,R = u\n",
    "    \n",
    "    dS = -β*S*I\n",
    "    dI = β*S*I - γ*I\n",
    "    dR = γ*I\n",
    "    \n",
    "    du .= [dS, dI, dR]\n",
    "    return nothing \n",
    "end\n"
   ]
  },
  {
   "cell_type": "code",
   "execution_count": 2,
   "metadata": {},
   "outputs": [
    {
     "data": {
      "text/plain": [
       "One_Age_Model_omega (generic function with 1 method)"
      ]
     },
     "execution_count": 2,
     "metadata": {},
     "output_type": "execute_result"
    }
   ],
   "source": [
    "#time_varying ω = ω(t) version\n",
    "function One_Age_Model_omega(du,u,pars,t)\n",
    "    S, E, P, A, AR, I, H, R, D, Hc = u\n",
    "    βSA, βSI, μ, σ₁, σ₂, ϕ, M, M_AR, γ, a, b, c, χ, ψ, ηSA, ηSI, tQ = pars\n",
    "    \n",
    "    βSA_t = βSA*(ηSA + (1 - ηSA)*0.5*(1 - tanh(2*(t-tQ))))\n",
    "    βSI_t = βSI*(ηSI + (1 - ηSI)*0.5*(1 - tanh(2*(t-tQ))))\n",
    "    \n",
    "    ω_t = a*exp(-b) + c\n",
    "    \n",
    "    dS = -βSA_t*S*(A+P) - βSI*S*I - μ*S\n",
    "    dE = βSA_t*S*(A+P) + βSI*S*I - σ₁*E\n",
    "    dP = (1-ϕ)*σ₁*E - σ₂*P\n",
    "    dA = ϕ*σ₁*E - M_AR*A\n",
    "    dAR = M_AR*A\n",
    "    dI = σ₂*P - M*I\n",
    "    dH = γ*M*I - (1 - ω_t)*χ*H - ω_t*ψ*H\n",
    "    dR = (1 - γ)*M*I + (1 - ω_t)*χ*H\n",
    "    dD = ω_t*ψ*H\n",
    "    dHc = γ*M*I\n",
    "    du .= [dS, dE, dP, dA, dAR, dI, dH, dR, dD, dHc]\n",
    "    return nothing\n",
    "end"
   ]
  },
  {
   "cell_type": "code",
   "execution_count": 4,
   "metadata": {},
   "outputs": [
    {
     "data": {
      "text/plain": [
       "Two_Age_Model (generic function with 1 method)"
      ]
     },
     "execution_count": 4,
     "metadata": {},
     "output_type": "execute_result"
    }
   ],
   "source": [
    "function Two_Age_Model(du,u,pars,t)\n",
    "    \n",
    "    #Unpack the variables \n",
    "    Sy, Ey, Py, Ay, ARy, Iy, Hy, Ry, Dy, Hcy = u[1:10]\n",
    "    So, Eo, Po, Ao, ARo, Io, Ho, Ro, Do, Hco = u[11:20]\n",
    "    \n",
    "    #Unpack the parameters \n",
    "    βSA_y, βSA_o, βSI_y, βSI_o, σ₁, σ₂, ϕʸ, ϕᵒ, Mʸ, Mᵒ, MARʸ, MARᵒ = pars[1:12]\n",
    "    γʸ, γᵒ, ωʸ, ωᵒ, χʸ, χᵒ, ψʸ, ψᵒ, ηSAʸ, ηSAᵒ, ηSIʸ, ηSIᵒ, tQ = pars[13:25]  \n",
    "    \n",
    "    #Calculate the betas \n",
    "    βSAy_t = βSA_y*(ηSAʸ + (1 - ηSAʸ)*0.5*(1 - tanh(2*(t-tQ))))\n",
    "    βSAo_t = βSA_o*(ηSAᵒ + (1 - ηSAᵒ)*0.5*(1 - tanh(2*(t-tQ))))\n",
    "    \n",
    "    βSIy_t = βSI_y*(ηSIʸ + (1 - ηSIʸ)*0.5*(1 - tanh(2*(t-tQ))))\n",
    "    βSIo_t = βSI_o*(ηSIᵒ + (1 - ηSIᵒ)*0.5*(1 - tanh(2*(t-tQ))))\n",
    "    \n",
    "    #Plug everything into the ODEs:\n",
    "    dSy = - βSIy_t*Sy*Iy  - βSAy_t*Sy*(Ay + Py) - βSIo_t*Sy*Io - βSAo_t*(Ao + Po)\n",
    "    dEy = βSIy_t*Sy*Iy  + βSAy_t*Sy*(Ay + Py) + βSIo_t*Sy*Io + βSAo_t*(Ao + Po) - σ₁E\n",
    "    dPy = (1 - ϕʸ)*σ₁*Ey - σ₂*Py \n",
    "    dAy = ϕʸ*σ₁*Ey - MARʸ*Ay\n",
    "    dARy = MARʸ*Ay\n",
    "    dIy = σ₂*Py - Mʸ*Iy\n",
    "    dHy = γʸ*Mʸ*Iy - (1 - ωʸ)*χʸ*Hy - ωʸ*ψʸ*Hy\n",
    "    dRy = (1 - γʸ)*Mʸ*Iy + (1 - ωʸ)*χʸ*Hy\n",
    "    dDy =  ωʸ*ψʸ*Hy\n",
    "    dHcy = γʸ*Mʸ*Iy\n",
    "    \n",
    "    dSo = -βSIo_t*So*Io - βSAo_t*So*(Ao + Po) - βSIo_t*So*Iy - βSAo_t*So*(Ay + Py)\n",
    "    dEo = βSIo_t*So*Io + βSAo_t*So*(Ao + Po) + βSIo_t*So*Iy + βSAo_t*So*(Ay + Py) - σ₁*Eo\n",
    "    dPo = (1-ωᵒ)*σ₁*Eo - σ₂*Po\n",
    "    dAo = ωᵒ*σ₁*Eo - MARᵒ*Ao\n",
    "    dARo = MARᵒ*Aᵒ\n",
    "    dIo = σ₂*Pᵒ - Mᵒ*Io\n",
    "    dHo = γᵒ*Mᵒ*Io - (1 - ωᵒ)*χᵒ*Ho - ωᵒ*ψᵒ*Ho\n",
    "    dRo = (1 - γᵒ)*Mᵒ*Io + (1 - ωᵒ)*χᵒ*Ho\n",
    "    dDo = ωᵒ*ψᵒ*Ho\n",
    "    dHco = γᵒ*Mᵒ*Io\n",
    "    \n",
    "    du .= [dSy, dEy, dPy, dAy, dARy, dIy, dHy, dRy, dDy, dHcy, dSo, dEo, dPo, dAo, dARo, dIo, dHo, dRo, dDo, dHco]\n",
    "    \n",
    "end\n"
   ]
  }
 ],
 "metadata": {
  "kernelspec": {
   "display_name": "Julia 1.5.3",
   "language": "julia",
   "name": "julia-1.5"
  },
  "language_info": {
   "file_extension": ".jl",
   "mimetype": "application/julia",
   "name": "julia",
   "version": "1.5.3"
  }
 },
 "nbformat": 4,
 "nbformat_minor": 4
}

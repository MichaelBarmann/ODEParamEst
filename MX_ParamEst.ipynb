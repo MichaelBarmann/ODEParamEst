{
 "cells": [
  {
   "cell_type": "code",
   "execution_count": 1,
   "metadata": {},
   "outputs": [
    {
     "data": {
      "text/plain": [
       "data_to_df (generic function with 1 method)"
      ]
     },
     "execution_count": 1,
     "metadata": {},
     "output_type": "execute_result"
    }
   ],
   "source": [
    "using Pkg, NBInclude, Plots, XLSX, Dates, DataFrames, Random, Statistics\n",
    "using DifferentialEquations, Sundials, ForwardDiff, Optim\n",
    "using Distributions, ProgressMeter, Distributed, StaticArrays, LaTeXStrings\n",
    "@nbinclude(\"ODE_models.ipynb\")\n",
    "@nbinclude(\"ODE_Param_Est.ipynb\")\n",
    "@nbinclude(\"ODE_Fit_IPN.ipynb\")\n",
    "@nbinclude(\"ODE_Fit.ipynb\")\n",
    "@nbinclude(\"HelperFunctions.ipynb\")"
   ]
  },
  {
   "cell_type": "code",
   "execution_count": 2,
   "metadata": {},
   "outputs": [
    {
     "data": {
      "text/plain": [
       "func_get_x0 (generic function with 1 method)"
      ]
     },
     "execution_count": 2,
     "metadata": {},
     "output_type": "execute_result"
    }
   ],
   "source": [
    "#Generate random initial guesses which satisfy inequality constraints on betas & sigmas \n",
    "function func_get_x0(x_LBs, x_UBs)\n",
    "    \n",
    "    #x_LBs and x_UBs are arrays of (scaled) lower bounds and (scaled) upper bounds, respectively,\n",
    "    x0 = x_LBs .+ (x_UBs .- x_LBs) .* rand(Float64,length(x_UBs))\n",
    "    \n",
    "    βSA = rand()\n",
    "    βSI = (βSA / 3)*rand()\n",
    "    τ₁ = 2 + 2*rand()         #τ₁ ∈ [2,4]\n",
    "    if τ₁ ≤ 3\n",
    "        τ₂ = (5 - τ₁) + (τ₁ - 2)*rand()\n",
    "    else\n",
    "        τ₂ = (5 - τ₁) + rand()\n",
    "    end  \n",
    "    σ₁ = 1/τ₁; σ₂ = 1/τ₂\n",
    "    x0[1:4] = [βSA, βSI, σ₁, σ₂]\n",
    "    return x0\n",
    "end"
   ]
  },
  {
   "cell_type": "code",
   "execution_count": null,
   "metadata": {},
   "outputs": [],
   "source": [
    "# a = collect(range(1,5, length = 19)) ./ 5\n",
    "# b = collect(range(1,5, length = 19)) \n",
    "\n",
    "# Random.seed!(1234)\n",
    "# n = 5\n",
    "# vals = [func_get_x0(a,b) for i=1:n]\n",
    "\n",
    "# Random.seed!(1234)\n",
    "# vals = [func_get_x0(a,b) for i=1:n]"
   ]
  },
  {
   "cell_type": "code",
   "execution_count": 3,
   "metadata": {},
   "outputs": [
    {
     "data": {
      "text/plain": [
       "Sim_Data_1age (generic function with 1 method)"
      ]
     },
     "execution_count": 3,
     "metadata": {},
     "output_type": "execute_result"
    }
   ],
   "source": [
    "function Sim_Data_1age(data_obs)\n",
    "    \n",
    "    sim_data = DataFrame(Array{Float64}(undef, nrow(data_obs), ncol(data_obs)), names(data_obs))\n",
    "    \n",
    "    μ = 0.0; σ = 0.125\n",
    "    trunc_norm = truncated(Normal(μ,σ), -0.99, Inf)\n",
    "    \n",
    "    sim_data[1,:] = data_obs[1,:]\n",
    "    for i=2:nrow(data_obs)\n",
    "        dᵢ = data_obs[i,:D] - data_obs[i-1,:D]    #daily new deaths\n",
    "        hᵢ = data_obs[i,:Hc] - data_obs[i-1,:Hc]  #daily new hospitalizations\n",
    "        ϵ = rand(trunc_norm, 2)                   #Note: This assumes that the reporting error for D and Hc are independent...\n",
    "        sim_data[i,:] = (1 .+ ϵ) .* [dᵢ, hᵢ] .+ convert(Vector,sim_data[i-1,:])\n",
    "    end\n",
    "    return sim_data\n",
    "end"
   ]
  },
  {
   "cell_type": "code",
   "execution_count": 4,
   "metadata": {},
   "outputs": [],
   "source": [
    "function con_c!(c,x)\n",
    "    c[1] = x[1]/3 - x[2]    \n",
    "    c[2] = 1/x[3] + 1/x[4]  \n",
    "end\n",
    "\n",
    "function con_jac!(J,x)\n",
    "    J[1,1] = 1/3\n",
    "    J[1,2] = -1\n",
    "    J[2,3] = -1/(x[3])^2\n",
    "    J[2,4] = -1/(x[4])^2\n",
    "end\n",
    "\n",
    "function con_hess!(H, x, λ)\n",
    "    H[3, 3] += λ[2] * 2 / x[3]^3\n",
    "    H[4, 4] += λ[2] * 2 / x[4]^3\n",
    "end\n",
    "\n",
    "c_LBs = [0, 5]      # 0 ≤ BSA/3 - BSI ≤ 1/3\n",
    "c_UBs = [1/3, 6]    # 5 ≤ 1/σ₁ + 1/σ₂ ≤ 6\n",
    "\n",
    "cons = Dict(:con_func => con_c!, :con_jac => con_jac!, \n",
    "            :con_hess => con_hess!, :con_LBs => c_LBs,:con_UBs => c_UBs);                "
   ]
  },
  {
   "cell_type": "code",
   "execution_count": 5,
   "metadata": {},
   "outputs": [],
   "source": [
    "path = \"C:/Users/Michael/Documents/COVID-19/Mexico/Mexico_1age_params.xlsx\"\n",
    "ParIC_dict = Dict(:file_path => path, :param_sheet => \"Params_2etas\", :IC_sheet => \"ICs\");\n",
    "Data_dict = Dict(:file_path => path, :data_sheet => \"Obs_Data\", :date_format => \"mm-dd-yyyy\");"
   ]
  },
  {
   "cell_type": "code",
   "execution_count": 10,
   "metadata": {},
   "outputs": [],
   "source": [
    "int_options = Dict(:integrator => Tsit5(), :rtol => 1e-8, :atol => 1e-8);\n",
    "\n",
    "optim_options = Dict(:xtol_abs => 0, :ftol_rel => 1e-4, :gtol_abs => 1e-8, :show_trace => false,\n",
    "                     :show_every => 5, :max_iter => 1000, :max_time => 60);\n",
    "\n",
    "save_options = Dict(:save_figs => false,  :save_params => true,\n",
    "                    :figs_folder => \"C:/Users/Michael/Documents/COVID-19/BS_plots/fit_100_exp2/\",\n",
    "                    :params_workbook => \"C:/Users/Michael/Documents/COVID-19/BS_params.xlsx\");\n",
    "\n",
    "lin_weights = Array{Real,1}(fill(1.0, 101));\n",
    "exp_weights = Array{Real,1}(exp.(collect(range(0.0, 3.0, length = 81))));"
   ]
  },
  {
   "cell_type": "code",
   "execution_count": 9,
   "metadata": {},
   "outputs": [
    {
     "name": "stderr",
     "output_type": "stream",
     "text": [
      "\u001b[32mOptimizations in progress...  0%|█                                                 |  ETA: 6:56:57\u001b[39mm"
     ]
    },
    {
     "name": "stdout",
     "output_type": "stream",
     "text": [
      "Sample 1 best min: 0.00991160383997941"
     ]
    },
    {
     "name": "stderr",
     "output_type": "stream",
     "text": [
      "\u001b[32mOptimizations in progress...  1%|█                                                 |  ETA: 5:57:49\u001b[39m"
     ]
    },
    {
     "name": "stdout",
     "output_type": "stream",
     "text": [
      "\n"
     ]
    },
    {
     "name": "stderr",
     "output_type": "stream",
     "text": [
      "\u001b[32mOptimizations in progress...  1%|█                                                 |  ETA: 4:44:49\u001b[39m"
     ]
    },
    {
     "name": "stdout",
     "output_type": "stream",
     "text": [
      "Sample 2 best min: 0.012718470255486204\n"
     ]
    },
    {
     "name": "stderr",
     "output_type": "stream",
     "text": [
      "\u001b[32mOptimizations in progress...  2%|█                                                 |  ETA: 4:40:31\u001b[39m"
     ]
    },
    {
     "name": "stdout",
     "output_type": "stream",
     "text": [
      "Sample 3 best min: 0.012094867499503635"
     ]
    },
    {
     "name": "stderr",
     "output_type": "stream",
     "text": [
      "\u001b[32mOptimizations in progress...  2%|█                                                 |  ETA: 4:27:11\u001b[39m"
     ]
    },
    {
     "name": "stdout",
     "output_type": "stream",
     "text": [
      "\n"
     ]
    },
    {
     "name": "stderr",
     "output_type": "stream",
     "text": [
      "\u001b[32mOptimizations in progress...  2%|██                                                |  ETA: 4:20:10\u001b[39m"
     ]
    },
    {
     "name": "stdout",
     "output_type": "stream",
     "text": [
      "Sample 4 best min: 0.006923726536286781\n"
     ]
    },
    {
     "name": "stderr",
     "output_type": "stream",
     "text": [
      "\u001b[32mOptimizations in progress...  2%|██                                                |  ETA: 4:24:48\u001b[39m"
     ]
    },
    {
     "name": "stdout",
     "output_type": "stream",
     "text": [
      "Sample 5 best min: 0.007660610075993047\n"
     ]
    },
    {
     "name": "stderr",
     "output_type": "stream",
     "text": [
      "\u001b[32mOptimizations in progress...  3%|██                                                |  ETA: 4:19:17\u001b[39m"
     ]
    },
    {
     "name": "stdout",
     "output_type": "stream",
     "text": [
      "Sample 6 best min: 0.00944659289499604\n"
     ]
    },
    {
     "name": "stderr",
     "output_type": "stream",
     "text": [
      "\u001b[32mOptimizations in progress...  4%|██                                                |  ETA: 4:25:33\u001b[39m"
     ]
    },
    {
     "name": "stdout",
     "output_type": "stream",
     "text": [
      "Sample 7 best min: 0.008234891882043146"
     ]
    },
    {
     "name": "stderr",
     "output_type": "stream",
     "text": [
      "\u001b[32mOptimizations in progress...  4%|██                                                |  ETA: 4:19:31\u001b[39m"
     ]
    },
    {
     "name": "stdout",
     "output_type": "stream",
     "text": [
      "\n"
     ]
    },
    {
     "name": "stderr",
     "output_type": "stream",
     "text": [
      "\u001b[32mOptimizations in progress...  4%|███                                               |  ETA: 4:30:09\u001b[39m"
     ]
    },
    {
     "name": "stdout",
     "output_type": "stream",
     "text": [
      "Sample 8 best min: 0.008623007102633971\n"
     ]
    },
    {
     "name": "stderr",
     "output_type": "stream",
     "text": [
      "\u001b[32mOptimizations in progress...  4%|███                                               |  ETA: 4:33:57\u001b[39m"
     ]
    },
    {
     "name": "stdout",
     "output_type": "stream",
     "text": [
      "Sample 9 best min: 0.008756472100570883\n"
     ]
    },
    {
     "name": "stderr",
     "output_type": "stream",
     "text": [
      "\u001b[32mOptimizations in progress...  5%|███                                               |  ETA: 4:35:44\u001b[39m"
     ]
    },
    {
     "name": "stdout",
     "output_type": "stream",
     "text": [
      "Sample 10 best min: 0.010437151375185902"
     ]
    },
    {
     "name": "stderr",
     "output_type": "stream",
     "text": [
      "\u001b[32mOptimizations in progress...  5%|███                                               |  ETA: 4:31:16\u001b[39m"
     ]
    },
    {
     "name": "stdout",
     "output_type": "stream",
     "text": [
      "\n"
     ]
    },
    {
     "name": "stderr",
     "output_type": "stream",
     "text": [
      "\u001b[32mOptimizations in progress...  6%|███                                               |  ETA: 4:39:15\u001b[39m"
     ]
    },
    {
     "name": "stdout",
     "output_type": "stream",
     "text": [
      "Sample 11 best min: 0.01072238644332564\n"
     ]
    },
    {
     "name": "stderr",
     "output_type": "stream",
     "text": [
      "\u001b[32mOptimizations in progress...  6%|████                                              |  ETA: 4:52:42\u001b[39m"
     ]
    },
    {
     "name": "stdout",
     "output_type": "stream",
     "text": [
      "Sample 12 best min: 0.011006209048346975\n"
     ]
    },
    {
     "name": "stderr",
     "output_type": "stream",
     "text": [
      "\u001b[32mOptimizations in progress...  6%|████                                              |  ETA: 4:49:47\u001b[39m"
     ]
    },
    {
     "name": "stdout",
     "output_type": "stream",
     "text": [
      "Sample 13 best min: 0.016808833855740852"
     ]
    },
    {
     "name": "stderr",
     "output_type": "stream",
     "text": [
      "\u001b[32mOptimizations in progress...  7%|████                                              |  ETA: 4:46:17\u001b[39m"
     ]
    },
    {
     "name": "stdout",
     "output_type": "stream",
     "text": [
      "\n"
     ]
    },
    {
     "name": "stderr",
     "output_type": "stream",
     "text": [
      "\u001b[32mOptimizations in progress...  7%|████                                              |  ETA: 4:37:11\u001b[39m"
     ]
    },
    {
     "name": "stdout",
     "output_type": "stream",
     "text": [
      "Sample 14 best min: 0.010298487164143024\n"
     ]
    },
    {
     "name": "stderr",
     "output_type": "stream",
     "text": [
      "\u001b[32mOptimizations in progress...  8%|████                                              |  ETA: 4:43:56\u001b[39m"
     ]
    },
    {
     "name": "stdout",
     "output_type": "stream",
     "text": [
      "Sample 15 best min: 0.012069564922282238"
     ]
    },
    {
     "name": "stderr",
     "output_type": "stream",
     "text": [
      "\u001b[32mOptimizations in progress...  8%|████                                              |  ETA: 4:40:42\u001b[39m"
     ]
    },
    {
     "name": "stdout",
     "output_type": "stream",
     "text": [
      "\n"
     ]
    },
    {
     "name": "stderr",
     "output_type": "stream",
     "text": [
      "\u001b[32mOptimizations in progress...  8%|█████                                             |  ETA: 4:36:12\u001b[39m"
     ]
    },
    {
     "name": "stdout",
     "output_type": "stream",
     "text": [
      "Sample 16 best min: 0.012139630335570663\n"
     ]
    },
    {
     "name": "stderr",
     "output_type": "stream",
     "text": [
      "\u001b[32mOptimizations in progress...  8%|█████                                             |  ETA: 4:31:22\u001b[39m"
     ]
    },
    {
     "name": "stdout",
     "output_type": "stream",
     "text": [
      "Sample 17 best min: 0.007539098360311091\n"
     ]
    },
    {
     "name": "stderr",
     "output_type": "stream",
     "text": [
      "\u001b[32mOptimizations in progress...  9%|█████                                             |  ETA: 4:31:47\u001b[39m"
     ]
    },
    {
     "name": "stdout",
     "output_type": "stream",
     "text": [
      "Sample 18 best min: 0.010331999958713995\n"
     ]
    },
    {
     "name": "stderr",
     "output_type": "stream",
     "text": [
      "\u001b[32mOptimizations in progress... 10%|█████                                             |  ETA: 4:21:27\u001b[39m"
     ]
    },
    {
     "name": "stdout",
     "output_type": "stream",
     "text": [
      "Sample 19 best min: 0.0081305383268736\n"
     ]
    },
    {
     "name": "stderr",
     "output_type": "stream",
     "text": [
      "\u001b[32mOptimizations in progress... 10%|██████                                            |  ETA: 4:22:59\u001b[39m"
     ]
    },
    {
     "name": "stdout",
     "output_type": "stream",
     "text": [
      "Sample 20 best min: 0.011445140296474105\n"
     ]
    },
    {
     "name": "stderr",
     "output_type": "stream",
     "text": [
      "\u001b[32mOptimizations in progress... 10%|██████                                            |  ETA: 4:28:13\u001b[39m"
     ]
    },
    {
     "name": "stdout",
     "output_type": "stream",
     "text": [
      "Sample 21 best min: 0.012188751951641189\n"
     ]
    },
    {
     "name": "stderr",
     "output_type": "stream",
     "text": [
      "\u001b[32mOptimizations in progress... 11%|██████                                            |  ETA: 4:25:40\u001b[39m"
     ]
    },
    {
     "name": "stdout",
     "output_type": "stream",
     "text": [
      "Sample 22 best min: 0.011533881474610248\n"
     ]
    },
    {
     "name": "stderr",
     "output_type": "stream",
     "text": [
      "\u001b[32mOptimizations in progress... 12%|██████                                            |  ETA: 4:24:12\u001b[39m"
     ]
    },
    {
     "name": "stdout",
     "output_type": "stream",
     "text": [
      "Sample 23 best min: 0.016038554705694968"
     ]
    },
    {
     "name": "stderr",
     "output_type": "stream",
     "text": [
      "\u001b[32mOptimizations in progress... 12%|██████                                            |  ETA: 4:22:10\u001b[39m"
     ]
    },
    {
     "name": "stdout",
     "output_type": "stream",
     "text": [
      "\n"
     ]
    },
    {
     "name": "stderr",
     "output_type": "stream",
     "text": [
      "\u001b[32mOptimizations in progress... 12%|███████                                           |  ETA: 4:21:12\u001b[39m"
     ]
    },
    {
     "name": "stdout",
     "output_type": "stream",
     "text": [
      "Sample 24 best min: 0.011177589263339817\n"
     ]
    },
    {
     "name": "stderr",
     "output_type": "stream",
     "text": [
      "\u001b[32mOptimizations in progress... 12%|███████                                           |  ETA: 4:15:59\u001b[39m"
     ]
    },
    {
     "name": "stdout",
     "output_type": "stream",
     "text": [
      "Sample 25 best min: 0.009603677324847532"
     ]
    },
    {
     "name": "stderr",
     "output_type": "stream",
     "text": [
      "\u001b[32mOptimizations in progress... 13%|███████                                           |  ETA: 4:14:06\u001b[39m"
     ]
    },
    {
     "name": "stdout",
     "output_type": "stream",
     "text": [
      "\n"
     ]
    },
    {
     "name": "stderr",
     "output_type": "stream",
     "text": [
      "\u001b[32mOptimizations in progress... 13%|███████                                           |  ETA: 4:16:53\u001b[39m"
     ]
    },
    {
     "name": "stdout",
     "output_type": "stream",
     "text": [
      "Sample 26 best min: 0.01143687603239906\n"
     ]
    },
    {
     "name": "stderr",
     "output_type": "stream",
     "text": [
      "\u001b[32mOptimizations in progress... 14%|███████                                           |  ETA: 4:17:57\u001b[39m"
     ]
    },
    {
     "name": "stdout",
     "output_type": "stream",
     "text": [
      "Sample 27 best min: 0.009310760141011266\n"
     ]
    },
    {
     "name": "stderr",
     "output_type": "stream",
     "text": [
      "\u001b[32mOptimizations in progress... 14%|████████                                          |  ETA: 4:17:38\u001b[39m"
     ]
    },
    {
     "name": "stdout",
     "output_type": "stream",
     "text": [
      "Sample 28 best min: 0.01297611258917543\n"
     ]
    },
    {
     "name": "stderr",
     "output_type": "stream",
     "text": [
      "\u001b[32mOptimizations in progress... 14%|████████                                          |  ETA: 4:16:04\u001b[39m"
     ]
    },
    {
     "name": "stdout",
     "output_type": "stream",
     "text": [
      "Sample 29 best min: 0.014817023451088339\n"
     ]
    },
    {
     "name": "stderr",
     "output_type": "stream",
     "text": [
      "\u001b[32mOptimizations in progress... 15%|████████                                          |  ETA: 4:12:50\u001b[39m"
     ]
    },
    {
     "name": "stdout",
     "output_type": "stream",
     "text": [
      "Sample 30 best min: 0.016156660535316357\n"
     ]
    },
    {
     "name": "stderr",
     "output_type": "stream",
     "text": [
      "\u001b[32mOptimizations in progress... 16%|████████                                          |  ETA: 4:13:33\u001b[39m"
     ]
    },
    {
     "name": "stdout",
     "output_type": "stream",
     "text": [
      "Sample 31 best min: 0.01012934122351546\n"
     ]
    },
    {
     "name": "stderr",
     "output_type": "stream",
     "text": [
      "\u001b[32mOptimizations in progress... 16%|█████████                                         |  ETA: 4:12:15\u001b[39m"
     ]
    },
    {
     "name": "stdout",
     "output_type": "stream",
     "text": [
      "Sample 32 best min: 0.007548130238082594\n"
     ]
    },
    {
     "name": "stderr",
     "output_type": "stream",
     "text": [
      "\u001b[32mOptimizations in progress... 16%|█████████                                         |  ETA: 4:09:24\u001b[39m"
     ]
    },
    {
     "name": "stdout",
     "output_type": "stream",
     "text": [
      "Sample 33 best min: 0.008557165538187523\n"
     ]
    },
    {
     "name": "stderr",
     "output_type": "stream",
     "text": [
      "\u001b[32mOptimizations in progress... 17%|█████████                                         |  ETA: 4:08:57\u001b[39m"
     ]
    },
    {
     "name": "stdout",
     "output_type": "stream",
     "text": [
      "Sample 34 best min: 0.012007287525042678\n"
     ]
    },
    {
     "name": "stderr",
     "output_type": "stream",
     "text": [
      "\u001b[32mOptimizations in progress... 18%|█████████                                         |  ETA: 4:08:35\u001b[39m"
     ]
    },
    {
     "name": "stdout",
     "output_type": "stream",
     "text": [
      "Sample 35 best min: 0.01202710182432732\n"
     ]
    },
    {
     "name": "stderr",
     "output_type": "stream",
     "text": [
      "\u001b[32mOptimizations in progress... 18%|██████████                                        |  ETA: 4:04:55\u001b[39m"
     ]
    },
    {
     "name": "stdout",
     "output_type": "stream",
     "text": [
      "Sample 36 best min: 0.008574423508670583\n"
     ]
    },
    {
     "name": "stderr",
     "output_type": "stream",
     "text": [
      "\u001b[32mOptimizations in progress... 18%|██████████                                        |  ETA: 4:04:28\u001b[39m"
     ]
    },
    {
     "name": "stdout",
     "output_type": "stream",
     "text": [
      "Sample 37 best min: 0.013295207864863514"
     ]
    },
    {
     "name": "stderr",
     "output_type": "stream",
     "text": [
      "\u001b[32mOptimizations in progress... 19%|██████████                                        |  ETA: 4:03:08\u001b[39m"
     ]
    },
    {
     "name": "stdout",
     "output_type": "stream",
     "text": [
      "\n"
     ]
    },
    {
     "name": "stderr",
     "output_type": "stream",
     "text": [
      "\u001b[32mOptimizations in progress... 19%|██████████                                        |  ETA: 4:01:27\u001b[39m"
     ]
    },
    {
     "name": "stdout",
     "output_type": "stream",
     "text": [
      "Sample 38 best min: 0.011542178213520118\n"
     ]
    },
    {
     "name": "stderr",
     "output_type": "stream",
     "text": [
      "\u001b[32mOptimizations in progress... 20%|██████████                                        |  ETA: 3:57:32\u001b[39m"
     ]
    },
    {
     "name": "stdout",
     "output_type": "stream",
     "text": [
      "Sample 39 best min: 0.011411863211206602\n"
     ]
    },
    {
     "name": "stderr",
     "output_type": "stream",
     "text": [
      "\u001b[32mOptimizations in progress... 20%|███████████                                       |  ETA: 3:55:14\u001b[39m"
     ]
    },
    {
     "name": "stdout",
     "output_type": "stream",
     "text": [
      "Sample 40 best min: 0.008137982052200506"
     ]
    },
    {
     "name": "stderr",
     "output_type": "stream",
     "text": [
      "\u001b[32mOptimizations in progress... 20%|███████████                                       |  ETA: 3:53:59\u001b[39m"
     ]
    },
    {
     "name": "stdout",
     "output_type": "stream",
     "text": [
      "\n"
     ]
    },
    {
     "name": "stderr",
     "output_type": "stream",
     "text": [
      "\u001b[32mOptimizations in progress... 20%|███████████                                       |  ETA: 3:55:01\u001b[39m"
     ]
    },
    {
     "name": "stdout",
     "output_type": "stream",
     "text": [
      "Sample 41 best min: 0.01087195436957377"
     ]
    },
    {
     "name": "stderr",
     "output_type": "stream",
     "text": [
      "\u001b[32mOptimizations in progress... 21%|███████████                                       |  ETA: 3:53:46\u001b[39m"
     ]
    },
    {
     "name": "stdout",
     "output_type": "stream",
     "text": [
      "\n"
     ]
    },
    {
     "name": "stderr",
     "output_type": "stream",
     "text": [
      "\u001b[32mOptimizations in progress... 21%|███████████                                       |  ETA: 3:53:36\u001b[39m"
     ]
    },
    {
     "name": "stdout",
     "output_type": "stream",
     "text": [
      "Sample 42 best min: 0.010788486143570397\n"
     ]
    },
    {
     "name": "stderr",
     "output_type": "stream",
     "text": [
      "\u001b[32mOptimizations in progress... 22%|███████████                                       |  ETA: 3:51:44\u001b[39m"
     ]
    },
    {
     "name": "stdout",
     "output_type": "stream",
     "text": [
      "Sample 43 best min: 0.011786057180547854\n"
     ]
    },
    {
     "name": "stderr",
     "output_type": "stream",
     "text": [
      "\u001b[32mOptimizations in progress... 22%|████████████                                      |  ETA: 3:50:18\u001b[39m"
     ]
    },
    {
     "name": "stdout",
     "output_type": "stream",
     "text": [
      "Sample 44 best min: 0.012522994880984337\n"
     ]
    },
    {
     "name": "stderr",
     "output_type": "stream",
     "text": [
      "\u001b[32mOptimizations in progress... 22%|████████████                                      |  ETA: 3:50:38\u001b[39m"
     ]
    },
    {
     "name": "stdout",
     "output_type": "stream",
     "text": [
      "Sample 45 best min: 0.013248546236237675"
     ]
    },
    {
     "name": "stderr",
     "output_type": "stream",
     "text": [
      "\u001b[32mOptimizations in progress... 23%|████████████                                      |  ETA: 3:49:34\u001b[39m"
     ]
    },
    {
     "name": "stdout",
     "output_type": "stream",
     "text": [
      "\n"
     ]
    },
    {
     "name": "stderr",
     "output_type": "stream",
     "text": [
      "\u001b[32mOptimizations in progress... 23%|████████████                                      |  ETA: 3:47:25\u001b[39m"
     ]
    },
    {
     "name": "stdout",
     "output_type": "stream",
     "text": [
      "Sample 46 best min: 0.008773841066948816"
     ]
    },
    {
     "name": "stderr",
     "output_type": "stream",
     "text": [
      "\u001b[32mOptimizations in progress... 23%|████████████                                      |  ETA: 3:46:20\u001b[39m"
     ]
    },
    {
     "name": "stdout",
     "output_type": "stream",
     "text": [
      "\n"
     ]
    },
    {
     "name": "stderr",
     "output_type": "stream",
     "text": [
      "\u001b[32mOptimizations in progress... 24%|████████████                                      |  ETA: 3:46:00\u001b[39m"
     ]
    },
    {
     "name": "stdout",
     "output_type": "stream",
     "text": [
      "Sample 47 best min: 0.007882608631304857\n"
     ]
    },
    {
     "name": "stderr",
     "output_type": "stream",
     "text": [
      "\u001b[32mOptimizations in progress... 24%|█████████████                                     |  ETA: 3:42:34\u001b[39m"
     ]
    },
    {
     "name": "stdout",
     "output_type": "stream",
     "text": [
      "Sample 48 best min: 0.010028902819649464"
     ]
    },
    {
     "name": "stderr",
     "output_type": "stream",
     "text": [
      "\u001b[32mOptimizations in progress... 24%|█████████████                                     |  ETA: 3:41:38\u001b[39m"
     ]
    },
    {
     "name": "stdout",
     "output_type": "stream",
     "text": [
      "\n"
     ]
    },
    {
     "name": "stderr",
     "output_type": "stream",
     "text": [
      "\u001b[32mOptimizations in progress... 24%|█████████████                                     |  ETA: 3:41:37\u001b[39m"
     ]
    },
    {
     "name": "stdout",
     "output_type": "stream",
     "text": [
      "Sample 49 best min: 0.01513858797174186\n"
     ]
    },
    {
     "name": "stderr",
     "output_type": "stream",
     "text": [
      "\u001b[32mOptimizations in progress... 25%|█████████████                                     |  ETA: 3:38:21\u001b[39m"
     ]
    },
    {
     "name": "stdout",
     "output_type": "stream",
     "text": [
      "Sample 50 best min: 0.00909935881190478"
     ]
    },
    {
     "name": "stderr",
     "output_type": "stream",
     "text": [
      "\u001b[32mOptimizations in progress... 25%|█████████████                                     |  ETA: 3:37:23\u001b[39m"
     ]
    },
    {
     "name": "stdout",
     "output_type": "stream",
     "text": [
      "\n"
     ]
    },
    {
     "name": "stderr",
     "output_type": "stream",
     "text": [
      "\u001b[32mOptimizations in progress... 26%|█████████████                                     |  ETA: 3:36:41\u001b[39m"
     ]
    },
    {
     "name": "stdout",
     "output_type": "stream",
     "text": [
      "Sample 51 best min: 0.014792221088147017\n"
     ]
    },
    {
     "name": "stderr",
     "output_type": "stream",
     "text": [
      "\u001b[32mOptimizations in progress... 26%|██████████████                                    |  ETA: 3:34:48\u001b[39m"
     ]
    },
    {
     "name": "stdout",
     "output_type": "stream",
     "text": [
      "Sample 52 best min: 0.013463971024272891"
     ]
    },
    {
     "name": "stderr",
     "output_type": "stream",
     "text": [
      "\u001b[32mOptimizations in progress... 26%|██████████████                                    |  ETA: 3:33:51\u001b[39m"
     ]
    },
    {
     "name": "stdout",
     "output_type": "stream",
     "text": [
      "\n"
     ]
    },
    {
     "name": "stderr",
     "output_type": "stream",
     "text": [
      "\u001b[32mOptimizations in progress... 26%|██████████████                                    |  ETA: 3:32:27\u001b[39m"
     ]
    },
    {
     "name": "stdout",
     "output_type": "stream",
     "text": [
      "Sample 53 best min: 0.014487297255226458"
     ]
    },
    {
     "name": "stderr",
     "output_type": "stream",
     "text": [
      "\u001b[32mOptimizations in progress... 27%|██████████████                                    |  ETA: 3:31:30\u001b[39m"
     ]
    },
    {
     "name": "stdout",
     "output_type": "stream",
     "text": [
      "\n"
     ]
    },
    {
     "name": "stderr",
     "output_type": "stream",
     "text": [
      "\u001b[32mOptimizations in progress... 27%|██████████████                                    |  ETA: 3:29:04\u001b[39m"
     ]
    },
    {
     "name": "stdout",
     "output_type": "stream",
     "text": [
      "Sample 54 best min: 0.011192626193941096\n"
     ]
    },
    {
     "name": "stderr",
     "output_type": "stream",
     "text": [
      "\u001b[32mOptimizations in progress... 28%|██████████████                                    |  ETA: 3:26:41\u001b[39m"
     ]
    },
    {
     "name": "stdout",
     "output_type": "stream",
     "text": [
      "Sample 55 best min: 0.011206541859691097"
     ]
    },
    {
     "name": "stderr",
     "output_type": "stream",
     "text": [
      "\u001b[32mOptimizations in progress... 28%|██████████████                                    |  ETA: 3:25:46\u001b[39m"
     ]
    },
    {
     "name": "stdout",
     "output_type": "stream",
     "text": [
      "\n"
     ]
    },
    {
     "name": "stderr",
     "output_type": "stream",
     "text": [
      "\u001b[32mOptimizations in progress... 28%|███████████████                                   |  ETA: 3:25:21\u001b[39mm"
     ]
    },
    {
     "name": "stdout",
     "output_type": "stream",
     "text": [
      "Sample 56 best min: 0.005816550419243123"
     ]
    },
    {
     "name": "stderr",
     "output_type": "stream",
     "text": [
      "\u001b[32mOptimizations in progress... 28%|███████████████                                   |  ETA: 3:24:29\u001b[39m"
     ]
    },
    {
     "name": "stdout",
     "output_type": "stream",
     "text": [
      "\n"
     ]
    },
    {
     "name": "stderr",
     "output_type": "stream",
     "text": [
      "\u001b[32mOptimizations in progress... 28%|███████████████                                   |  ETA: 3:22:03\u001b[39m"
     ]
    },
    {
     "name": "stdout",
     "output_type": "stream",
     "text": [
      "Sample 57 best min: 0.009891317097342752"
     ]
    },
    {
     "name": "stderr",
     "output_type": "stream",
     "text": [
      "\u001b[32mOptimizations in progress... 29%|███████████████                                   |  ETA: 3:21:12\u001b[39m"
     ]
    },
    {
     "name": "stdout",
     "output_type": "stream",
     "text": [
      "\n"
     ]
    },
    {
     "name": "stderr",
     "output_type": "stream",
     "text": [
      "\u001b[32mOptimizations in progress... 29%|███████████████                                   |  ETA: 3:21:17\u001b[39m"
     ]
    },
    {
     "name": "stdout",
     "output_type": "stream",
     "text": [
      "Sample 58 best min: 0.008599676264276265\n"
     ]
    },
    {
     "name": "stderr",
     "output_type": "stream",
     "text": [
      "\u001b[32mOptimizations in progress... 30%|███████████████                                   |  ETA: 3:18:19\u001b[39m"
     ]
    },
    {
     "name": "stdout",
     "output_type": "stream",
     "text": [
      "Sample 59 best min: 0.010888519496168233\n"
     ]
    },
    {
     "name": "stderr",
     "output_type": "stream",
     "text": [
      "\u001b[32mOptimizations in progress... 30%|████████████████                                  |  ETA: 3:16:51\u001b[39m"
     ]
    },
    {
     "name": "stdout",
     "output_type": "stream",
     "text": [
      "Sample 60 best min: 0.008204804686088921"
     ]
    },
    {
     "name": "stderr",
     "output_type": "stream",
     "text": [
      "\u001b[32mOptimizations in progress... 30%|████████████████                                  |  ETA: 3:16:02\u001b[39m"
     ]
    },
    {
     "name": "stdout",
     "output_type": "stream",
     "text": [
      "\n"
     ]
    },
    {
     "name": "stderr",
     "output_type": "stream",
     "text": [
      "\u001b[32mOptimizations in progress... 30%|████████████████                                  |  ETA: 3:16:08\u001b[39m"
     ]
    },
    {
     "name": "stdout",
     "output_type": "stream",
     "text": [
      "Sample 61 best min: 0.010330602400462538\n"
     ]
    },
    {
     "name": "stderr",
     "output_type": "stream",
     "text": [
      "\u001b[32mOptimizations in progress... 31%|████████████████                                  |  ETA: 3:15:33\u001b[39m"
     ]
    },
    {
     "name": "stdout",
     "output_type": "stream",
     "text": [
      "Sample 62 best min: 0.009394270321085658\n"
     ]
    },
    {
     "name": "stderr",
     "output_type": "stream",
     "text": [
      "\u001b[32mOptimizations in progress... 32%|████████████████                                  |  ETA: 3:14:52\u001b[39m"
     ]
    },
    {
     "name": "stdout",
     "output_type": "stream",
     "text": [
      "Sample 63 best min: 0.01320194170213614"
     ]
    },
    {
     "name": "stderr",
     "output_type": "stream",
     "text": [
      "\u001b[32mOptimizations in progress... 32%|████████████████                                  |  ETA: 3:14:07\u001b[39m"
     ]
    },
    {
     "name": "stdout",
     "output_type": "stream",
     "text": [
      "\n"
     ]
    },
    {
     "name": "stderr",
     "output_type": "stream",
     "text": [
      "\u001b[32mOptimizations in progress... 32%|█████████████████                                 |  ETA: 3:12:22\u001b[39m"
     ]
    },
    {
     "name": "stdout",
     "output_type": "stream",
     "text": [
      "Sample 64 best min: 0.01591103476939931\n"
     ]
    },
    {
     "name": "stderr",
     "output_type": "stream",
     "text": [
      "\u001b[32mOptimizations in progress... 32%|█████████████████                                 |  ETA: 3:11:36\u001b[39m"
     ]
    },
    {
     "name": "stdout",
     "output_type": "stream",
     "text": [
      "Sample 65 best min: 0.009076986205442093\n"
     ]
    },
    {
     "name": "stderr",
     "output_type": "stream",
     "text": [
      "\u001b[32mOptimizations in progress... 33%|█████████████████                                 |  ETA: 3:08:40\u001b[39m"
     ]
    },
    {
     "name": "stdout",
     "output_type": "stream",
     "text": [
      "Sample 66 best min: 0.013702327252504622\n"
     ]
    },
    {
     "name": "stderr",
     "output_type": "stream",
     "text": [
      "\u001b[32mOptimizations in progress... 34%|█████████████████                                 |  ETA: 3:07:24\u001b[39m"
     ]
    },
    {
     "name": "stdout",
     "output_type": "stream",
     "text": [
      "Sample 67 best min: 0.012815082069551415"
     ]
    },
    {
     "name": "stderr",
     "output_type": "stream",
     "text": [
      "\u001b[32mOptimizations in progress... 34%|█████████████████                                 |  ETA: 3:06:41\u001b[39m"
     ]
    },
    {
     "name": "stdout",
     "output_type": "stream",
     "text": [
      "\n"
     ]
    },
    {
     "name": "stderr",
     "output_type": "stream",
     "text": [
      "\u001b[32mOptimizations in progress... 34%|██████████████████                                |  ETA: 3:06:15\u001b[39m"
     ]
    },
    {
     "name": "stdout",
     "output_type": "stream",
     "text": [
      "Sample 68 best min: 0.008665908403909716\n"
     ]
    },
    {
     "name": "stderr",
     "output_type": "stream",
     "text": [
      "\u001b[32mOptimizations in progress... 34%|██████████████████                                |  ETA: 3:03:37\u001b[39m"
     ]
    },
    {
     "name": "stdout",
     "output_type": "stream",
     "text": [
      "Sample 69 best min: 0.012803743953057545\n"
     ]
    },
    {
     "name": "stderr",
     "output_type": "stream",
     "text": [
      "\u001b[32mOptimizations in progress... 35%|██████████████████                                |  ETA: 3:03:00\u001b[39m"
     ]
    },
    {
     "name": "stdout",
     "output_type": "stream",
     "text": [
      "Sample 70 best min: 0.011611865344902763\n"
     ]
    },
    {
     "name": "stderr",
     "output_type": "stream",
     "text": [
      "\u001b[32mOptimizations in progress... 36%|██████████████████                                |  ETA: 2:59:59\u001b[39m"
     ]
    },
    {
     "name": "stdout",
     "output_type": "stream",
     "text": [
      "Sample 71 best min: 0.007070446465173293\n"
     ]
    },
    {
     "name": "stderr",
     "output_type": "stream",
     "text": [
      "\u001b[32mOptimizations in progress... 36%|███████████████████                               |  ETA: 2:58:02\u001b[39m"
     ]
    },
    {
     "name": "stdout",
     "output_type": "stream",
     "text": [
      "Sample 72 best min: 0.012232404895130193\n"
     ]
    },
    {
     "name": "stderr",
     "output_type": "stream",
     "text": [
      "\u001b[32mOptimizations in progress... 36%|███████████████████                               |  ETA: 2:57:20\u001b[39m"
     ]
    },
    {
     "name": "stdout",
     "output_type": "stream",
     "text": [
      "Sample 73 best min: 0.009754253916888242\n"
     ]
    },
    {
     "name": "stderr",
     "output_type": "stream",
     "text": [
      "\u001b[32mOptimizations in progress... 37%|███████████████████                               |  ETA: 2:55:53\u001b[39m"
     ]
    },
    {
     "name": "stdout",
     "output_type": "stream",
     "text": [
      "Sample "
     ]
    },
    {
     "name": "stderr",
     "output_type": "stream",
     "text": [
      "\u001b[32mOptimizations in progress... 37%|███████████████████                               |  ETA: 2:55:15\u001b[39m"
     ]
    },
    {
     "name": "stdout",
     "output_type": "stream",
     "text": [
      "74 best min: 0.010331154917300932\n"
     ]
    },
    {
     "name": "stderr",
     "output_type": "stream",
     "text": [
      "\u001b[32mOptimizations in progress... 38%|███████████████████                               |  ETA: 2:55:13\u001b[39m"
     ]
    },
    {
     "name": "stdout",
     "output_type": "stream",
     "text": [
      "Sample 75 best min: 0.00876625811322402\n"
     ]
    },
    {
     "name": "stderr",
     "output_type": "stream",
     "text": [
      "\u001b[32mOptimizations in progress... 38%|████████████████████                              |  ETA: 2:53:45\u001b[39m"
     ]
    },
    {
     "name": "stdout",
     "output_type": "stream",
     "text": [
      "Sample 76 best min: 0.01116184148585958"
     ]
    },
    {
     "name": "stderr",
     "output_type": "stream",
     "text": [
      "\u001b[32mOptimizations in progress... 38%|████████████████████                              |  ETA: 2:53:07\u001b[39m"
     ]
    },
    {
     "name": "stdout",
     "output_type": "stream",
     "text": [
      "\n"
     ]
    },
    {
     "name": "stderr",
     "output_type": "stream",
     "text": [
      "\u001b[32mOptimizations in progress... 38%|████████████████████                              |  ETA: 2:52:19\u001b[39m"
     ]
    },
    {
     "name": "stdout",
     "output_type": "stream",
     "text": [
      "Sample 77 best min: 0.011718781593935856"
     ]
    },
    {
     "name": "stderr",
     "output_type": "stream",
     "text": [
      "\u001b[32mOptimizations in progress... 39%|████████████████████                              |  ETA: 2:51:43\u001b[39m"
     ]
    },
    {
     "name": "stdout",
     "output_type": "stream",
     "text": [
      "\n"
     ]
    },
    {
     "name": "stderr",
     "output_type": "stream",
     "text": [
      "\u001b[32mOptimizations in progress... 39%|████████████████████                              |  ETA: 2:51:18\u001b[39m"
     ]
    },
    {
     "name": "stdout",
     "output_type": "stream",
     "text": [
      "Sample 78 best min: 0.00893704109834577"
     ]
    },
    {
     "name": "stderr",
     "output_type": "stream",
     "text": [
      "\u001b[32mOptimizations in progress... 39%|████████████████████                              |  ETA: 2:50:42\u001b[39m"
     ]
    },
    {
     "name": "stdout",
     "output_type": "stream",
     "text": [
      "\n"
     ]
    },
    {
     "name": "stderr",
     "output_type": "stream",
     "text": [
      "\u001b[32mOptimizations in progress... 40%|████████████████████                              |  ETA: 2:50:30\u001b[39m"
     ]
    },
    {
     "name": "stdout",
     "output_type": "stream",
     "text": [
      "Sample 79 best min: 0.010401316206088786\n"
     ]
    },
    {
     "name": "stderr",
     "output_type": "stream",
     "text": [
      "\u001b[32mOptimizations in progress... 40%|█████████████████████                             |  ETA: 2:49:25\u001b[39m"
     ]
    },
    {
     "name": "stdout",
     "output_type": "stream",
     "text": [
      "Sample 80 best min: 0.008685953213849162"
     ]
    },
    {
     "name": "stderr",
     "output_type": "stream",
     "text": [
      "\u001b[32mOptimizations in progress... 40%|█████████████████████                             |  ETA: 2:48:50\u001b[39m"
     ]
    },
    {
     "name": "stdout",
     "output_type": "stream",
     "text": [
      "\n"
     ]
    },
    {
     "name": "stderr",
     "output_type": "stream",
     "text": [
      "\u001b[32mOptimizations in progress... 40%|█████████████████████                             |  ETA: 2:48:02\u001b[39m"
     ]
    },
    {
     "name": "stdout",
     "output_type": "stream",
     "text": [
      "Sample 81 best min: 0.01146046085275532\n"
     ]
    },
    {
     "name": "stderr",
     "output_type": "stream",
     "text": [
      "\u001b[32mOptimizations in progress... 41%|█████████████████████                             |  ETA: 2:47:37\u001b[39m"
     ]
    },
    {
     "name": "stdout",
     "output_type": "stream",
     "text": [
      "Sample 82 best min: 0.014581875356302964\n"
     ]
    },
    {
     "name": "stderr",
     "output_type": "stream",
     "text": [
      "\u001b[32mOptimizations in progress... 42%|█████████████████████                             |  ETA: 2:45:30\u001b[39m"
     ]
    },
    {
     "name": "stdout",
     "output_type": "stream",
     "text": [
      "Sample 83 best min: 0.013107748339506503\n"
     ]
    },
    {
     "name": "stderr",
     "output_type": "stream",
     "text": [
      "\u001b[32mOptimizations in progress... 42%|██████████████████████                            |  ETA: 2:44:13\u001b[39m"
     ]
    },
    {
     "name": "stdout",
     "output_type": "stream",
     "text": [
      "Sample 84 best min: 0.008944886037035709\n"
     ]
    },
    {
     "name": "stderr",
     "output_type": "stream",
     "text": [
      "\u001b[32mOptimizations in progress... 42%|██████████████████████                            |  ETA: 2:43:13\u001b[39m"
     ]
    },
    {
     "name": "stdout",
     "output_type": "stream",
     "text": [
      "Sample 85 best min: 0.00997360515200342\n"
     ]
    },
    {
     "name": "stderr",
     "output_type": "stream",
     "text": [
      "\u001b[32mOptimizations in progress... 43%|██████████████████████                            |  ETA: 2:41:43\u001b[39m"
     ]
    },
    {
     "name": "stdout",
     "output_type": "stream",
     "text": [
      "Sample 86 best min: 0.01030052350148102"
     ]
    },
    {
     "name": "stderr",
     "output_type": "stream",
     "text": [
      "\u001b[32mOptimizations in progress... 43%|██████████████████████                            |  ETA: 2:41:09\u001b[39m"
     ]
    },
    {
     "name": "stdout",
     "output_type": "stream",
     "text": [
      "\n"
     ]
    },
    {
     "name": "stderr",
     "output_type": "stream",
     "text": [
      "\u001b[32mOptimizations in progress... 44%|██████████████████████                            |  ETA: 2:41:05\u001b[39m"
     ]
    },
    {
     "name": "stdout",
     "output_type": "stream",
     "text": [
      "Sample 87 best min: 0.011710331008290184\n"
     ]
    },
    {
     "name": "stderr",
     "output_type": "stream",
     "text": [
      "\u001b[32mOptimizations in progress... 44%|███████████████████████                           |  ETA: 2:39:27\u001b[39m"
     ]
    },
    {
     "name": "stdout",
     "output_type": "stream",
     "text": [
      "Sample 88 best min: 0.012355827914148092\n"
     ]
    },
    {
     "name": "stderr",
     "output_type": "stream",
     "text": [
      "\u001b[32mOptimizations in progress... 44%|███████████████████████                           |  ETA: 2:38:41\u001b[39m"
     ]
    },
    {
     "name": "stdout",
     "output_type": "stream",
     "text": [
      "Sample 89 best min: 0.011091164863518799"
     ]
    },
    {
     "name": "stderr",
     "output_type": "stream",
     "text": [
      "\u001b[32mOptimizations in progress... 45%|███████████████████████                           |  ETA: 2:38:06\u001b[39m"
     ]
    },
    {
     "name": "stdout",
     "output_type": "stream",
     "text": [
      "\n"
     ]
    },
    {
     "name": "stderr",
     "output_type": "stream",
     "text": [
      "\u001b[32mOptimizations in progress... 45%|███████████████████████                           |  ETA: 2:37:11\u001b[39m"
     ]
    },
    {
     "name": "stdout",
     "output_type": "stream",
     "text": [
      "Sample 90 best min: 0.008916774129465743"
     ]
    },
    {
     "name": "stderr",
     "output_type": "stream",
     "text": [
      "\u001b[32mOptimizations in progress... 45%|███████████████████████                           |  ETA: 2:36:37\u001b[39m"
     ]
    },
    {
     "name": "stdout",
     "output_type": "stream",
     "text": [
      "\n"
     ]
    },
    {
     "name": "stderr",
     "output_type": "stream",
     "text": [
      "\u001b[32mOptimizations in progress... 46%|███████████████████████                           |  ETA: 2:35:37\u001b[39m"
     ]
    },
    {
     "name": "stdout",
     "output_type": "stream",
     "text": [
      "Sample 91 best min: 0.008906729626342036"
     ]
    },
    {
     "name": "stderr",
     "output_type": "stream",
     "text": [
      "\u001b[32mOptimizations in progress... 46%|███████████████████████                           |  ETA: 2:35:04\u001b[39m"
     ]
    },
    {
     "name": "stdout",
     "output_type": "stream",
     "text": [
      "\n"
     ]
    },
    {
     "name": "stderr",
     "output_type": "stream",
     "text": [
      "\u001b[32mOptimizations in progress... 46%|████████████████████████                          |  ETA: 2:34:29\u001b[39m"
     ]
    },
    {
     "name": "stdout",
     "output_type": "stream",
     "text": [
      "Sample 92 best min: 0.010670370185527384"
     ]
    },
    {
     "name": "stderr",
     "output_type": "stream",
     "text": [
      "\u001b[32mOptimizations in progress... 46%|████████████████████████                          |  ETA: 2:33:58\u001b[39m"
     ]
    },
    {
     "name": "stdout",
     "output_type": "stream",
     "text": [
      "\n"
     ]
    },
    {
     "name": "stderr",
     "output_type": "stream",
     "text": [
      "\u001b[32mOptimizations in progress... 46%|████████████████████████                          |  ETA: 2:32:45\u001b[39m"
     ]
    },
    {
     "name": "stdout",
     "output_type": "stream",
     "text": [
      "Sample 93 best min: 0.011129630881342938\n"
     ]
    },
    {
     "name": "stderr",
     "output_type": "stream",
     "text": [
      "\u001b[32mOptimizations in progress... 47%|████████████████████████                          |  ETA: 2:30:50\u001b[39m"
     ]
    },
    {
     "name": "stdout",
     "output_type": "stream",
     "text": [
      "Sample 94 best min: 0.012963248911892742\n"
     ]
    },
    {
     "name": "stderr",
     "output_type": "stream",
     "text": [
      "\u001b[32mOptimizations in progress... 48%|████████████████████████                          |  ETA: 2:28:40\u001b[39m"
     ]
    },
    {
     "name": "stdout",
     "output_type": "stream",
     "text": [
      "Sample 95 best min: 0.014237968643989699\n"
     ]
    },
    {
     "name": "stderr",
     "output_type": "stream",
     "text": [
      "\u001b[32mOptimizations in progress... 48%|█████████████████████████                         |  ETA: 2:26:23\u001b[39m"
     ]
    },
    {
     "name": "stdout",
     "output_type": "stream",
     "text": [
      "Sample 96 best min: 0.014209083910647773\n"
     ]
    },
    {
     "name": "stderr",
     "output_type": "stream",
     "text": [
      "\u001b[32mOptimizations in progress... 48%|█████████████████████████                         |  ETA: 2:24:37\u001b[39m"
     ]
    },
    {
     "name": "stdout",
     "output_type": "stream",
     "text": [
      "Sample 97 best min: 0.009565343605220187"
     ]
    },
    {
     "name": "stderr",
     "output_type": "stream",
     "text": [
      "\u001b[32mOptimizations in progress... 49%|█████████████████████████                         |  ETA: 2:24:06\u001b[39m"
     ]
    },
    {
     "name": "stdout",
     "output_type": "stream",
     "text": [
      "\n"
     ]
    },
    {
     "name": "stderr",
     "output_type": "stream",
     "text": [
      "\u001b[32mOptimizations in progress... 49%|█████████████████████████                         |  ETA: 2:23:15\u001b[39m"
     ]
    },
    {
     "name": "stdout",
     "output_type": "stream",
     "text": [
      "Sample 98 best min: 0.009544421551454633"
     ]
    },
    {
     "name": "stderr",
     "output_type": "stream",
     "text": [
      "\u001b[32mOptimizations in progress... 49%|█████████████████████████                         |  ETA: 2:22:44\u001b[39m"
     ]
    },
    {
     "name": "stdout",
     "output_type": "stream",
     "text": [
      "\n"
     ]
    },
    {
     "name": "stderr",
     "output_type": "stream",
     "text": [
      "\u001b[32mOptimizations in progress... 50%|█████████████████████████                         |  ETA: 2:21:20\u001b[39m"
     ]
    },
    {
     "name": "stdout",
     "output_type": "stream",
     "text": [
      "Sample 99 best min: 0.011903671639568802\n"
     ]
    },
    {
     "name": "stderr",
     "output_type": "stream",
     "text": [
      "\u001b[32mOptimizations in progress... 50%|██████████████████████████                        |  ETA: 2:19:58\u001b[39m"
     ]
    },
    {
     "name": "stdout",
     "output_type": "stream",
     "text": [
      "Sample 100 best min: 0.012953233590796687"
     ]
    },
    {
     "name": "stderr",
     "output_type": "stream",
     "text": [
      "\u001b[32mOptimizations in progress... 50%|██████████████████████████                        |  ETA: 2:19:27\u001b[39m"
     ]
    },
    {
     "name": "stdout",
     "output_type": "stream",
     "text": [
      "\n"
     ]
    },
    {
     "name": "stderr",
     "output_type": "stream",
     "text": [
      "\u001b[32mOptimizations in progress... 50%|██████████████████████████                        |  ETA: 2:18:40\u001b[39m"
     ]
    },
    {
     "name": "stdout",
     "output_type": "stream",
     "text": [
      "Sample 101 best min: 0.016417910296480057\n"
     ]
    },
    {
     "name": "stderr",
     "output_type": "stream",
     "text": [
      "\u001b[32mOptimizations in progress... 51%|██████████████████████████                        |  ETA: 2:17:33\u001b[39m"
     ]
    },
    {
     "name": "stdout",
     "output_type": "stream",
     "text": [
      "Sample 102 best min: 0.010121628510225435"
     ]
    },
    {
     "name": "stderr",
     "output_type": "stream",
     "text": [
      "\u001b[32mOptimizations in progress... 51%|██████████████████████████                        |  ETA: 2:17:03\u001b[39m"
     ]
    },
    {
     "name": "stdout",
     "output_type": "stream",
     "text": [
      "\n"
     ]
    },
    {
     "name": "stderr",
     "output_type": "stream",
     "text": [
      "\u001b[32mOptimizations in progress... 52%|██████████████████████████                        |  ETA: 2:16:08\u001b[39m"
     ]
    },
    {
     "name": "stdout",
     "output_type": "stream",
     "text": [
      "Sample 103 best min: 0.008392689988808615"
     ]
    },
    {
     "name": "stderr",
     "output_type": "stream",
     "text": [
      "\u001b[32mOptimizations in progress... 52%|██████████████████████████                        |  ETA: 2:15:39\u001b[39m"
     ]
    },
    {
     "name": "stdout",
     "output_type": "stream",
     "text": [
      "\n"
     ]
    },
    {
     "name": "stderr",
     "output_type": "stream",
     "text": [
      "\u001b[32mOptimizations in progress... 52%|███████████████████████████                       |  ETA: 2:14:55\u001b[39m"
     ]
    },
    {
     "name": "stdout",
     "output_type": "stream",
     "text": [
      "Sample 104 best min: 0.007470745804949126\n"
     ]
    },
    {
     "name": "stderr",
     "output_type": "stream",
     "text": [
      "\u001b[32mOptimizations in progress... 52%|███████████████████████████                       |  ETA: 2:13:29\u001b[39m"
     ]
    },
    {
     "name": "stdout",
     "output_type": "stream",
     "text": [
      "Sample 105 best min: 0.013934377940262588\n"
     ]
    },
    {
     "name": "stderr",
     "output_type": "stream",
     "text": [
      "\u001b[32mOptimizations in progress... 53%|███████████████████████████                       |  ETA: 2:12:14\u001b[39m"
     ]
    },
    {
     "name": "stdout",
     "output_type": "stream",
     "text": [
      "Sample 106 best min: 0.008962198921640087\n"
     ]
    },
    {
     "name": "stderr",
     "output_type": "stream",
     "text": [
      "\u001b[32mOptimizations in progress... 54%|███████████████████████████                       |  ETA: 2:10:45\u001b[39m"
     ]
    },
    {
     "name": "stdout",
     "output_type": "stream",
     "text": [
      "Sample 107 best min: 0.010605500655478677\n"
     ]
    },
    {
     "name": "stderr",
     "output_type": "stream",
     "text": [
      "\u001b[32mOptimizations in progress... 54%|████████████████████████████                      |  ETA: 2:09:20\u001b[39m"
     ]
    },
    {
     "name": "stdout",
     "output_type": "stream",
     "text": [
      "Sample 108 best min: 0.012028006659764171"
     ]
    },
    {
     "name": "stderr",
     "output_type": "stream",
     "text": [
      "\u001b[32mOptimizations in progress... 54%|████████████████████████████                      |  ETA: 2:08:52\u001b[39m"
     ]
    },
    {
     "name": "stdout",
     "output_type": "stream",
     "text": [
      "\n"
     ]
    },
    {
     "name": "stderr",
     "output_type": "stream",
     "text": [
      "\u001b[32mOptimizations in progress... 54%|████████████████████████████                      |  ETA: 2:07:35\u001b[39m"
     ]
    },
    {
     "name": "stdout",
     "output_type": "stream",
     "text": [
      "Sample 109 best min: 0.010440402395795311\n"
     ]
    },
    {
     "name": "stderr",
     "output_type": "stream",
     "text": [
      "\u001b[32mOptimizations in progress... 55%|████████████████████████████                      |  ETA: 2:06:09\u001b[39m"
     ]
    },
    {
     "name": "stdout",
     "output_type": "stream",
     "text": [
      "Sample 110 best min: 0.010197189872773469\n"
     ]
    },
    {
     "name": "stderr",
     "output_type": "stream",
     "text": [
      "\u001b[32mOptimizations in progress... 56%|████████████████████████████                      |  ETA: 2:04:55\u001b[39m"
     ]
    },
    {
     "name": "stdout",
     "output_type": "stream",
     "text": [
      "Sample 111 best min: 0.010012909499968723"
     ]
    },
    {
     "name": "stderr",
     "output_type": "stream",
     "text": [
      "\u001b[32mOptimizations in progress... 56%|████████████████████████████                      |  ETA: 2:04:29\u001b[39m"
     ]
    },
    {
     "name": "stdout",
     "output_type": "stream",
     "text": [
      "\n"
     ]
    },
    {
     "name": "stderr",
     "output_type": "stream",
     "text": [
      "\u001b[32mOptimizations in progress... 56%|█████████████████████████████                     |  ETA: 2:03:43\u001b[39m"
     ]
    },
    {
     "name": "stdout",
     "output_type": "stream",
     "text": [
      "Sample 112 best min: 0.01080314988449055\n"
     ]
    },
    {
     "name": "stderr",
     "output_type": "stream",
     "text": [
      "\u001b[32mOptimizations in progress... 56%|█████████████████████████████                     |  ETA: 2:02:39\u001b[39m"
     ]
    },
    {
     "name": "stdout",
     "output_type": "stream",
     "text": [
      "Sample 113 best min: 0.00954849862297244\n"
     ]
    },
    {
     "name": "stderr",
     "output_type": "stream",
     "text": [
      "\u001b[32mOptimizations in progress... 57%|█████████████████████████████                     |  ETA: 2:01:03\u001b[39m"
     ]
    },
    {
     "name": "stdout",
     "output_type": "stream",
     "text": [
      "Sample 114 best min: 0.008047655288425234\n"
     ]
    },
    {
     "name": "stderr",
     "output_type": "stream",
     "text": [
      "\u001b[32mOptimizations in progress... 58%|█████████████████████████████                     |  ETA: 1:59:52\u001b[39m"
     ]
    },
    {
     "name": "stdout",
     "output_type": "stream",
     "text": [
      "Sample 115 best min: 0.011905262323952628\n"
     ]
    },
    {
     "name": "stderr",
     "output_type": "stream",
     "text": [
      "\u001b[32mOptimizations in progress... 58%|██████████████████████████████                    |  ETA: 1:58:06\u001b[39m"
     ]
    },
    {
     "name": "stdout",
     "output_type": "stream",
     "text": [
      "Sample 116 best min: 0.01510840330716853\n"
     ]
    },
    {
     "name": "stderr",
     "output_type": "stream",
     "text": [
      "\u001b[32mOptimizations in progress... 58%|██████████████████████████████                    |  ETA: 1:57:00\u001b[39m"
     ]
    },
    {
     "name": "stdout",
     "output_type": "stream",
     "text": [
      "Sample 117 best min: 0.011315646111316018\n"
     ]
    },
    {
     "name": "stderr",
     "output_type": "stream",
     "text": [
      "\u001b[32mOptimizations in progress... 59%|██████████████████████████████                    |  ETA: 1:55:40\u001b[39m"
     ]
    },
    {
     "name": "stdout",
     "output_type": "stream",
     "text": [
      "Sample 118 best min: 0.007902069092282516\n"
     ]
    },
    {
     "name": "stderr",
     "output_type": "stream",
     "text": [
      "\u001b[32mOptimizations in progress... 60%|██████████████████████████████                    |  ETA: 1:53:38\u001b[39m"
     ]
    },
    {
     "name": "stdout",
     "output_type": "stream",
     "text": [
      "Sample 119 best min: 0.012214108399270885\n"
     ]
    },
    {
     "name": "stderr",
     "output_type": "stream",
     "text": [
      "\u001b[32mOptimizations in progress... 60%|███████████████████████████████                   |  ETA: 1:52:20\u001b[39m"
     ]
    },
    {
     "name": "stdout",
     "output_type": "stream",
     "text": [
      "Sample 120 best min: 0.009500579301254797\n"
     ]
    },
    {
     "name": "stderr",
     "output_type": "stream",
     "text": [
      "\u001b[32mOptimizations in progress... 60%|███████████████████████████████                   |  ETA: 1:50:47\u001b[39m"
     ]
    },
    {
     "name": "stdout",
     "output_type": "stream",
     "text": [
      "Sample 121 best min: 0.00923409249957296\n"
     ]
    },
    {
     "name": "stderr",
     "output_type": "stream",
     "text": [
      "\u001b[32mOptimizations in progress... 61%|███████████████████████████████                   |  ETA: 1:49:02\u001b[39m"
     ]
    },
    {
     "name": "stdout",
     "output_type": "stream",
     "text": [
      "Sample 122 best min: 0.011771685193530858"
     ]
    },
    {
     "name": "stderr",
     "output_type": "stream",
     "text": [
      "\u001b[32mOptimizations in progress... 61%|███████████████████████████████                   |  ETA: 1:48:37\u001b[39m"
     ]
    },
    {
     "name": "stdout",
     "output_type": "stream",
     "text": [
      "\n"
     ]
    },
    {
     "name": "stderr",
     "output_type": "stream",
     "text": [
      "\u001b[32mOptimizations in progress... 62%|███████████████████████████████                   |  ETA: 1:47:03\u001b[39m"
     ]
    },
    {
     "name": "stdout",
     "output_type": "stream",
     "text": [
      "Sample 123 best min: 0.010395648982781992"
     ]
    },
    {
     "name": "stderr",
     "output_type": "stream",
     "text": [
      "\u001b[32mOptimizations in progress... 62%|███████████████████████████████                   |  ETA: 1:46:39\u001b[39m"
     ]
    },
    {
     "name": "stdout",
     "output_type": "stream",
     "text": [
      "\n"
     ]
    },
    {
     "name": "stderr",
     "output_type": "stream",
     "text": [
      "\u001b[32mOptimizations in progress... 62%|████████████████████████████████                  |  ETA: 1:46:06\u001b[39m"
     ]
    },
    {
     "name": "stdout",
     "output_type": "stream",
     "text": [
      "Sample 124 best min: 0.01007441019194713"
     ]
    },
    {
     "name": "stderr",
     "output_type": "stream",
     "text": [
      "\u001b[32mOptimizations in progress... 62%|████████████████████████████████                  |  ETA: 1:45:42\u001b[39m"
     ]
    },
    {
     "name": "stdout",
     "output_type": "stream",
     "text": [
      "\n"
     ]
    },
    {
     "name": "stderr",
     "output_type": "stream",
     "text": [
      "\u001b[32mOptimizations in progress... 62%|████████████████████████████████                  |  ETA: 1:44:59\u001b[39m"
     ]
    },
    {
     "name": "stdout",
     "output_type": "stream",
     "text": [
      "Sample 125 best min: 0.011989191499036284\n"
     ]
    },
    {
     "name": "stderr",
     "output_type": "stream",
     "text": [
      "\u001b[32mOptimizations in progress... 63%|████████████████████████████████                  |  ETA: 1:43:38\u001b[39m"
     ]
    },
    {
     "name": "stdout",
     "output_type": "stream",
     "text": [
      "Sample 126 best min: 0.007930511752931347\n"
     ]
    },
    {
     "name": "stderr",
     "output_type": "stream",
     "text": [
      "\u001b[32mOptimizations in progress... 64%|████████████████████████████████                  |  ETA: 1:41:58\u001b[39m"
     ]
    },
    {
     "name": "stdout",
     "output_type": "stream",
     "text": [
      "Sample 127 best min: 0.007361481033001488\n"
     ]
    },
    {
     "name": "stderr",
     "output_type": "stream",
     "text": [
      "\u001b[32mOptimizations in progress... 64%|█████████████████████████████████                 |  ETA: 1:40:38\u001b[39m"
     ]
    },
    {
     "name": "stdout",
     "output_type": "stream",
     "text": [
      "Sample 128 best min: 0.011057018643359902\n"
     ]
    },
    {
     "name": "stderr",
     "output_type": "stream",
     "text": [
      "\u001b[32mOptimizations in progress... 64%|█████████████████████████████████                 |  ETA: 1:39:11\u001b[39m"
     ]
    },
    {
     "name": "stdout",
     "output_type": "stream",
     "text": [
      "Sample 129 best min: 0.012886334852013619\n"
     ]
    },
    {
     "name": "stderr",
     "output_type": "stream",
     "text": [
      "\u001b[32mOptimizations in progress... 65%|█████████████████████████████████                 |  ETA: 1:37:42\u001b[39m"
     ]
    },
    {
     "name": "stdout",
     "output_type": "stream",
     "text": [
      "Sample 130 best min: 0.011326700714555021\n"
     ]
    },
    {
     "name": "stderr",
     "output_type": "stream",
     "text": [
      "\u001b[32mOptimizations in progress... 66%|█████████████████████████████████                 |  ETA: 1:36:22\u001b[39m"
     ]
    },
    {
     "name": "stdout",
     "output_type": "stream",
     "text": [
      "Sample 131 best min: 0.014080313174168343"
     ]
    },
    {
     "name": "stderr",
     "output_type": "stream",
     "text": [
      "\u001b[32mOptimizations in progress... 66%|█████████████████████████████████                 |  ETA: 1:35:58\u001b[39m"
     ]
    },
    {
     "name": "stdout",
     "output_type": "stream",
     "text": [
      "\n"
     ]
    },
    {
     "name": "stderr",
     "output_type": "stream",
     "text": [
      "\u001b[32mOptimizations in progress... 66%|██████████████████████████████████                |  ETA: 1:35:12\u001b[39m"
     ]
    },
    {
     "name": "stdout",
     "output_type": "stream",
     "text": [
      "Sample 132 best min: 0.01458408750630917\n"
     ]
    },
    {
     "name": "stderr",
     "output_type": "stream",
     "text": [
      "\u001b[32mOptimizations in progress... 66%|██████████████████████████████████                |  ETA: 1:33:27\u001b[39m"
     ]
    },
    {
     "name": "stdout",
     "output_type": "stream",
     "text": [
      "Sample 133 best min: 0.010368239174566429\n"
     ]
    },
    {
     "name": "stderr",
     "output_type": "stream",
     "text": [
      "\u001b[32mOptimizations in progress... 67%|██████████████████████████████████                |  ETA: 1:32:05\u001b[39m"
     ]
    },
    {
     "name": "stdout",
     "output_type": "stream",
     "text": [
      "Sample 134 best min: 0.013295630387903575\n"
     ]
    },
    {
     "name": "stderr",
     "output_type": "stream",
     "text": [
      "\u001b[32mOptimizations in progress... 68%|██████████████████████████████████                |  ETA: 1:30:40\u001b[39m"
     ]
    },
    {
     "name": "stdout",
     "output_type": "stream",
     "text": [
      "Sample 135 best min: 0.0102985779333716\n"
     ]
    },
    {
     "name": "stderr",
     "output_type": "stream",
     "text": [
      "\u001b[32mOptimizations in progress... 68%|███████████████████████████████████               |  ETA: 1:29:15\u001b[39m"
     ]
    },
    {
     "name": "stdout",
     "output_type": "stream",
     "text": [
      "Sample 136 best min: 0.008561885057651038"
     ]
    },
    {
     "name": "stderr",
     "output_type": "stream",
     "text": [
      "\u001b[32mOptimizations in progress... 68%|███████████████████████████████████               |  ETA: 1:28:52\u001b[39m"
     ]
    },
    {
     "name": "stdout",
     "output_type": "stream",
     "text": [
      "\n"
     ]
    },
    {
     "name": "stderr",
     "output_type": "stream",
     "text": [
      "\u001b[32mOptimizations in progress... 68%|███████████████████████████████████               |  ETA: 1:27:39\u001b[39m"
     ]
    },
    {
     "name": "stdout",
     "output_type": "stream",
     "text": [
      "Sample 137 best min: 0.010339238679152195\n"
     ]
    },
    {
     "name": "stderr",
     "output_type": "stream",
     "text": [
      "\u001b[32mOptimizations in progress... 69%|███████████████████████████████████               |  ETA: 1:26:21\u001b[39m"
     ]
    },
    {
     "name": "stdout",
     "output_type": "stream",
     "text": [
      "Sample 138 best min: 0.00915540245809019"
     ]
    },
    {
     "name": "stderr",
     "output_type": "stream",
     "text": [
      "\u001b[32mOptimizations in progress... 69%|███████████████████████████████████               |  ETA: 1:25:58\u001b[39m"
     ]
    },
    {
     "name": "stdout",
     "output_type": "stream",
     "text": [
      "\n"
     ]
    },
    {
     "name": "stderr",
     "output_type": "stream",
     "text": [
      "\u001b[32mOptimizations in progress... 70%|███████████████████████████████████               |  ETA: 1:24:37\u001b[39m"
     ]
    },
    {
     "name": "stdout",
     "output_type": "stream",
     "text": [
      "Sample 139 best min: 0.016355619497650638\n"
     ]
    },
    {
     "name": "stderr",
     "output_type": "stream",
     "text": [
      "\u001b[32mOptimizations in progress... 70%|████████████████████████████████████              |  ETA: 1:23:17\u001b[39m"
     ]
    },
    {
     "name": "stdout",
     "output_type": "stream",
     "text": [
      "Sample 140 best min: 0.01422079720165605\n"
     ]
    },
    {
     "name": "stderr",
     "output_type": "stream",
     "text": [
      "\u001b[32mOptimizations in progress... 70%|████████████████████████████████████              |  ETA: 1:21:58\u001b[39m"
     ]
    },
    {
     "name": "stdout",
     "output_type": "stream",
     "text": [
      "Sample 141 best min: 0.009205016602792772\n"
     ]
    },
    {
     "name": "stderr",
     "output_type": "stream",
     "text": [
      "\u001b[32mOptimizations in progress... 71%|████████████████████████████████████              |  ETA: 1:20:43\u001b[39m"
     ]
    },
    {
     "name": "stdout",
     "output_type": "stream",
     "text": [
      "Sample 142 best min: 0.010048044769634255"
     ]
    },
    {
     "name": "stderr",
     "output_type": "stream",
     "text": [
      "\u001b[32mOptimizations in progress... 71%|████████████████████████████████████              |  ETA: 1:20:21\u001b[39m"
     ]
    },
    {
     "name": "stdout",
     "output_type": "stream",
     "text": [
      "\n"
     ]
    },
    {
     "name": "stderr",
     "output_type": "stream",
     "text": [
      "\u001b[32mOptimizations in progress... 72%|████████████████████████████████████              |  ETA: 1:19:20\u001b[39m"
     ]
    },
    {
     "name": "stdout",
     "output_type": "stream",
     "text": [
      "Sample 143 best min: 0.013176156800173158"
     ]
    },
    {
     "name": "stderr",
     "output_type": "stream",
     "text": [
      "\u001b[32mOptimizations in progress... 72%|████████████████████████████████████              |  ETA: 1:18:58\u001b[39m"
     ]
    },
    {
     "name": "stdout",
     "output_type": "stream",
     "text": [
      "\n"
     ]
    },
    {
     "name": "stderr",
     "output_type": "stream",
     "text": [
      "\u001b[32mOptimizations in progress... 72%|█████████████████████████████████████             |  ETA: 1:17:48\u001b[39m"
     ]
    },
    {
     "name": "stdout",
     "output_type": "stream",
     "text": [
      "Sample 144 best min: 0.007800680836337366"
     ]
    },
    {
     "name": "stderr",
     "output_type": "stream",
     "text": [
      "\u001b[32mOptimizations in progress... 72%|█████████████████████████████████████             |  ETA: 1:17:26\u001b[39m"
     ]
    },
    {
     "name": "stdout",
     "output_type": "stream",
     "text": [
      "\n"
     ]
    },
    {
     "name": "stderr",
     "output_type": "stream",
     "text": [
      "\u001b[32mOptimizations in progress... 72%|█████████████████████████████████████             |  ETA: 1:16:06\u001b[39m"
     ]
    },
    {
     "name": "stdout",
     "output_type": "stream",
     "text": [
      "Sample 145 best min: 0.013246428166359386"
     ]
    },
    {
     "name": "stderr",
     "output_type": "stream",
     "text": [
      "\u001b[32mOptimizations in progress... 73%|█████████████████████████████████████             |  ETA: 1:15:44\u001b[39m"
     ]
    },
    {
     "name": "stdout",
     "output_type": "stream",
     "text": [
      "\n"
     ]
    },
    {
     "name": "stderr",
     "output_type": "stream",
     "text": [
      "\u001b[32mOptimizations in progress... 73%|█████████████████████████████████████             |  ETA: 1:14:34\u001b[39m"
     ]
    },
    {
     "name": "stdout",
     "output_type": "stream",
     "text": [
      "Sample 146 best min: 0.009725435148618615\n"
     ]
    },
    {
     "name": "stderr",
     "output_type": "stream",
     "text": [
      "\u001b[32mOptimizations in progress... 74%|█████████████████████████████████████             |  ETA: 1:13:10\u001b[39m"
     ]
    },
    {
     "name": "stdout",
     "output_type": "stream",
     "text": [
      "Sample 147 best min: 0.010861928857310965\n"
     ]
    },
    {
     "name": "stderr",
     "output_type": "stream",
     "text": [
      "\u001b[32mOptimizations in progress... 74%|██████████████████████████████████████            |  ETA: 1:11:43\u001b[39m"
     ]
    },
    {
     "name": "stdout",
     "output_type": "stream",
     "text": [
      "Sample 148 best min: 0.01062250345135736"
     ]
    },
    {
     "name": "stderr",
     "output_type": "stream",
     "text": [
      "\u001b[32mOptimizations in progress... 74%|██████████████████████████████████████            |  ETA: 1:11:22\u001b[39m"
     ]
    },
    {
     "name": "stdout",
     "output_type": "stream",
     "text": [
      "\n"
     ]
    },
    {
     "name": "stderr",
     "output_type": "stream",
     "text": [
      "\u001b[32mOptimizations in progress... 74%|██████████████████████████████████████            |  ETA: 1:10:11\u001b[39m"
     ]
    },
    {
     "name": "stdout",
     "output_type": "stream",
     "text": [
      "Sample 149 best min: 0.013676965768477253"
     ]
    },
    {
     "name": "stderr",
     "output_type": "stream",
     "text": [
      "\u001b[32mOptimizations in progress... 75%|██████████████████████████████████████            |  ETA: 1:09:49\u001b[39m"
     ]
    },
    {
     "name": "stdout",
     "output_type": "stream",
     "text": [
      "\n"
     ]
    },
    {
     "name": "stderr",
     "output_type": "stream",
     "text": [
      "\u001b[32mOptimizations in progress... 75%|██████████████████████████████████████            |  ETA: 1:08:38\u001b[39m"
     ]
    },
    {
     "name": "stdout",
     "output_type": "stream",
     "text": [
      "Sample 150 best min: 0.009369106539372916"
     ]
    },
    {
     "name": "stderr",
     "output_type": "stream",
     "text": [
      "\u001b[32mOptimizations in progress... 75%|██████████████████████████████████████            |  ETA: 1:08:17\u001b[39m"
     ]
    },
    {
     "name": "stdout",
     "output_type": "stream",
     "text": [
      "\n"
     ]
    },
    {
     "name": "stderr",
     "output_type": "stream",
     "text": [
      "\u001b[32mOptimizations in progress... 76%|██████████████████████████████████████            |  ETA: 1:07:04\u001b[39m"
     ]
    },
    {
     "name": "stdout",
     "output_type": "stream",
     "text": [
      "Sample 151 best min: 0.009866828492789638"
     ]
    },
    {
     "name": "stderr",
     "output_type": "stream",
     "text": [
      "\u001b[32mOptimizations in progress... 76%|██████████████████████████████████████            |  ETA: 1:06:43\u001b[39m"
     ]
    },
    {
     "name": "stdout",
     "output_type": "stream",
     "text": [
      "\n"
     ]
    },
    {
     "name": "stderr",
     "output_type": "stream",
     "text": [
      "\u001b[32mOptimizations in progress... 76%|███████████████████████████████████████           |  ETA: 1:05:42\u001b[39m"
     ]
    },
    {
     "name": "stdout",
     "output_type": "stream",
     "text": [
      "Sample 152 best min: 0.007866620269961697"
     ]
    },
    {
     "name": "stderr",
     "output_type": "stream",
     "text": [
      "\u001b[32mOptimizations in progress... 76%|███████████████████████████████████████           |  ETA: 1:05:21\u001b[39m"
     ]
    },
    {
     "name": "stdout",
     "output_type": "stream",
     "text": [
      "\n"
     ]
    },
    {
     "name": "stderr",
     "output_type": "stream",
     "text": [
      "\u001b[32mOptimizations in progress... 76%|███████████████████████████████████████           |  ETA: 1:04:17\u001b[39m"
     ]
    },
    {
     "name": "stdout",
     "output_type": "stream",
     "text": [
      "Sample 153 best min: 0.014174825219003087\n"
     ]
    },
    {
     "name": "stderr",
     "output_type": "stream",
     "text": [
      "\u001b[32mOptimizations in progress... 77%|███████████████████████████████████████           |  ETA: 1:02:41\u001b[39m"
     ]
    },
    {
     "name": "stdout",
     "output_type": "stream",
     "text": [
      "Sample 154 best min: 0.011521288141959705\n"
     ]
    },
    {
     "name": "stderr",
     "output_type": "stream",
     "text": [
      "\u001b[32mOptimizations in progress... 78%|███████████████████████████████████████           |  ETA: 1:01:35\u001b[39m"
     ]
    },
    {
     "name": "stdout",
     "output_type": "stream",
     "text": [
      "Sample 155 best min: 0.012786820193362861\n"
     ]
    },
    {
     "name": "stderr",
     "output_type": "stream",
     "text": [
      "\u001b[32mOptimizations in progress... 78%|████████████████████████████████████████          |  ETA: 1:00:22\u001b[39m"
     ]
    },
    {
     "name": "stdout",
     "output_type": "stream",
     "text": [
      "Sample 156 best min: 0.012379223522781174"
     ]
    },
    {
     "name": "stderr",
     "output_type": "stream",
     "text": [
      "\u001b[32mOptimizations in progress... 78%|████████████████████████████████████████          |  ETA: 1:00:02\u001b[39m"
     ]
    },
    {
     "name": "stdout",
     "output_type": "stream",
     "text": [
      "\n"
     ]
    },
    {
     "name": "stderr",
     "output_type": "stream",
     "text": [
      "\u001b[32mOptimizations in progress... 78%|████████████████████████████████████████          |  ETA: 0:58:58\u001b[39m"
     ]
    },
    {
     "name": "stdout",
     "output_type": "stream",
     "text": [
      "Sample 157 best min: 0.009170499994268064\n"
     ]
    },
    {
     "name": "stderr",
     "output_type": "stream",
     "text": [
      "\u001b[32mOptimizations in progress... 79%|████████████████████████████████████████          |  ETA: 0:57:27\u001b[39m"
     ]
    },
    {
     "name": "stdout",
     "output_type": "stream",
     "text": [
      "Sample 158 best min: 0.014605713091006698\n"
     ]
    },
    {
     "name": "stderr",
     "output_type": "stream",
     "text": [
      "\u001b[32mOptimizations in progress... 80%|████████████████████████████████████████          |  ETA: 0:55:51\u001b[39m"
     ]
    },
    {
     "name": "stdout",
     "output_type": "stream",
     "text": [
      "Sample 159 best min: 0.012240250530623296\n"
     ]
    },
    {
     "name": "stderr",
     "output_type": "stream",
     "text": [
      "\u001b[32mOptimizations in progress... 80%|█████████████████████████████████████████         |  ETA: 0:54:30\u001b[39m"
     ]
    },
    {
     "name": "stdout",
     "output_type": "stream",
     "text": [
      "Sample 160 best min: 0.010018492220095689\n"
     ]
    },
    {
     "name": "stderr",
     "output_type": "stream",
     "text": [
      "\u001b[32mOptimizations in progress... 80%|█████████████████████████████████████████         |  ETA: 0:53:04\u001b[39m"
     ]
    },
    {
     "name": "stdout",
     "output_type": "stream",
     "text": [
      "Sample 161 best min: 0.012391144889232857"
     ]
    },
    {
     "name": "stderr",
     "output_type": "stream",
     "text": [
      "\u001b[32mOptimizations in progress... 81%|█████████████████████████████████████████         |  ETA: 0:52:45\u001b[39m"
     ]
    },
    {
     "name": "stdout",
     "output_type": "stream",
     "text": [
      "\n"
     ]
    },
    {
     "name": "stderr",
     "output_type": "stream",
     "text": [
      "\u001b[32mOptimizations in progress... 81%|█████████████████████████████████████████         |  ETA: 0:51:33\u001b[39m"
     ]
    },
    {
     "name": "stdout",
     "output_type": "stream",
     "text": [
      "Sample 162 best min: 0.016489058661029142\n"
     ]
    },
    {
     "name": "stderr",
     "output_type": "stream",
     "text": [
      "\u001b[32mOptimizations in progress... 82%|█████████████████████████████████████████         |  ETA: 0:50:10\u001b[39m"
     ]
    },
    {
     "name": "stdout",
     "output_type": "stream",
     "text": [
      "Sample 163 best min: 0.00799928122602074\n"
     ]
    },
    {
     "name": "stderr",
     "output_type": "stream",
     "text": [
      "\u001b[32mOptimizations in progress... 82%|██████████████████████████████████████████        |  ETA: 0:48:51\u001b[39m"
     ]
    },
    {
     "name": "stdout",
     "output_type": "stream",
     "text": [
      "Sample 164 best min: 0.00910372801756569\n"
     ]
    },
    {
     "name": "stderr",
     "output_type": "stream",
     "text": [
      "\u001b[32mOptimizations in progress... 82%|██████████████████████████████████████████        |  ETA: 0:47:25\u001b[39m"
     ]
    },
    {
     "name": "stdout",
     "output_type": "stream",
     "text": [
      "Sample 165 best min: 0.008444972725095975\n"
     ]
    },
    {
     "name": "stderr",
     "output_type": "stream",
     "text": [
      "\u001b[32mOptimizations in progress... 83%|██████████████████████████████████████████        |  ETA: 0:46:09\u001b[39m"
     ]
    },
    {
     "name": "stdout",
     "output_type": "stream",
     "text": [
      "Sample 166 best min: 0.007624516495780288"
     ]
    },
    {
     "name": "stderr",
     "output_type": "stream",
     "text": [
      "\u001b[32mOptimizations in progress... 83%|██████████████████████████████████████████        |  ETA: 0:45:49\u001b[39m"
     ]
    },
    {
     "name": "stdout",
     "output_type": "stream",
     "text": [
      "\n"
     ]
    },
    {
     "name": "stderr",
     "output_type": "stream",
     "text": [
      "\u001b[32mOptimizations in progress... 84%|██████████████████████████████████████████        |  ETA: 0:44:42\u001b[39m"
     ]
    },
    {
     "name": "stdout",
     "output_type": "stream",
     "text": [
      "Sample 167 best min: 0.010554423606752173\n"
     ]
    },
    {
     "name": "stderr",
     "output_type": "stream",
     "text": [
      "\u001b[32mOptimizations in progress... 84%|███████████████████████████████████████████       |  ETA: 0:43:17\u001b[39m"
     ]
    },
    {
     "name": "stdout",
     "output_type": "stream",
     "text": [
      "Sample 168 best min: 0.009615833820508731\n"
     ]
    },
    {
     "name": "stderr",
     "output_type": "stream",
     "text": [
      "\u001b[32mOptimizations in progress... 84%|███████████████████████████████████████████       |  ETA: 0:42:00\u001b[39m"
     ]
    },
    {
     "name": "stdout",
     "output_type": "stream",
     "text": [
      "Sample 169 best min: 0.010788146851635743"
     ]
    },
    {
     "name": "stderr",
     "output_type": "stream",
     "text": [
      "\u001b[32mOptimizations in progress... 85%|███████████████████████████████████████████       |  ETA: 0:41:41\u001b[39m"
     ]
    },
    {
     "name": "stdout",
     "output_type": "stream",
     "text": [
      "\n"
     ]
    },
    {
     "name": "stderr",
     "output_type": "stream",
     "text": [
      "\u001b[32mOptimizations in progress... 85%|███████████████████████████████████████████       |  ETA: 0:40:45\u001b[39m"
     ]
    },
    {
     "name": "stdout",
     "output_type": "stream",
     "text": [
      "Sample 170 best min: 0.012324534183841898\n"
     ]
    },
    {
     "name": "stderr",
     "output_type": "stream",
     "text": [
      "\u001b[32mOptimizations in progress... 86%|███████████████████████████████████████████       |  ETA: 0:39:27\u001b[39m"
     ]
    },
    {
     "name": "stdout",
     "output_type": "stream",
     "text": [
      "Sample 171 best min: 0.012427639152475793\n"
     ]
    },
    {
     "name": "stderr",
     "output_type": "stream",
     "text": [
      "\u001b[32mOptimizations in progress... 86%|████████████████████████████████████████████      |  ETA: 0:38:12\u001b[39m"
     ]
    },
    {
     "name": "stdout",
     "output_type": "stream",
     "text": [
      "Sample 172 best min: 0.009814601003214324"
     ]
    },
    {
     "name": "stderr",
     "output_type": "stream",
     "text": [
      "\u001b[32mOptimizations in progress... 86%|████████████████████████████████████████████      |  ETA: 0:37:53\u001b[39m"
     ]
    },
    {
     "name": "stdout",
     "output_type": "stream",
     "text": [
      "\n"
     ]
    },
    {
     "name": "stderr",
     "output_type": "stream",
     "text": [
      "\u001b[32mOptimizations in progress... 86%|████████████████████████████████████████████      |  ETA: 0:36:44\u001b[39m"
     ]
    },
    {
     "name": "stdout",
     "output_type": "stream",
     "text": [
      "Sample 173 best min: 0.00971083780039424"
     ]
    },
    {
     "name": "stderr",
     "output_type": "stream",
     "text": [
      "\u001b[32mOptimizations in progress... 87%|████████████████████████████████████████████      |  ETA: 0:36:26\u001b[39m"
     ]
    },
    {
     "name": "stdout",
     "output_type": "stream",
     "text": [
      "\n"
     ]
    },
    {
     "name": "stderr",
     "output_type": "stream",
     "text": [
      "\u001b[32mOptimizations in progress... 87%|████████████████████████████████████████████      |  ETA: 0:35:19\u001b[39m"
     ]
    },
    {
     "name": "stdout",
     "output_type": "stream",
     "text": [
      "Sample 174 best min: 0.00967064332129539\n"
     ]
    },
    {
     "name": "stderr",
     "output_type": "stream",
     "text": [
      "\u001b[32mOptimizations in progress... 88%|████████████████████████████████████████████      |  ETA: 0:33:51\u001b[39m"
     ]
    },
    {
     "name": "stdout",
     "output_type": "stream",
     "text": [
      "Sample 175 best min: 0.013994179915466417\n"
     ]
    },
    {
     "name": "stderr",
     "output_type": "stream",
     "text": [
      "\u001b[32mOptimizations in progress... 88%|█████████████████████████████████████████████     |  ETA: 0:32:28\u001b[39m"
     ]
    },
    {
     "name": "stdout",
     "output_type": "stream",
     "text": [
      "Sample 176 best min: 0.012575999145934278\n"
     ]
    },
    {
     "name": "stderr",
     "output_type": "stream",
     "text": [
      "\u001b[32mOptimizations in progress... 88%|█████████████████████████████████████████████     |  ETA: 0:31:05\u001b[39m"
     ]
    },
    {
     "name": "stdout",
     "output_type": "stream",
     "text": [
      "Sample 177 best min: 0.009588356686104138\n"
     ]
    },
    {
     "name": "stderr",
     "output_type": "stream",
     "text": [
      "\u001b[32mOptimizations in progress... 89%|█████████████████████████████████████████████     |  ETA: 0:29:47\u001b[39m"
     ]
    },
    {
     "name": "stdout",
     "output_type": "stream",
     "text": [
      "Sample 178 best min: 0.013064693641480253"
     ]
    },
    {
     "name": "stderr",
     "output_type": "stream",
     "text": [
      "\u001b[32mOptimizations in progress... 89%|█████████████████████████████████████████████     |  ETA: 0:29:29\u001b[39m"
     ]
    },
    {
     "name": "stdout",
     "output_type": "stream",
     "text": [
      "\n"
     ]
    },
    {
     "name": "stderr",
     "output_type": "stream",
     "text": [
      "\u001b[32mOptimizations in progress... 90%|█████████████████████████████████████████████     |  ETA: 0:28:24\u001b[39m"
     ]
    },
    {
     "name": "stdout",
     "output_type": "stream",
     "text": [
      "Sample 179 best min: 0.010494913242214483\n"
     ]
    },
    {
     "name": "stderr",
     "output_type": "stream",
     "text": [
      "\u001b[32mOptimizations in progress... 90%|██████████████████████████████████████████████    |  ETA: 0:27:03\u001b[39m"
     ]
    },
    {
     "name": "stdout",
     "output_type": "stream",
     "text": [
      "Sample 180 best min: 0.014161419451041893\n"
     ]
    },
    {
     "name": "stderr",
     "output_type": "stream",
     "text": [
      "\u001b[32mOptimizations in progress... 90%|██████████████████████████████████████████████    |  ETA: 0:25:47\u001b[39m"
     ]
    },
    {
     "name": "stdout",
     "output_type": "stream",
     "text": [
      "Sample 181 best min: 0.010183394608914622"
     ]
    },
    {
     "name": "stderr",
     "output_type": "stream",
     "text": [
      "\u001b[32mOptimizations in progress... 91%|██████████████████████████████████████████████    |  ETA: 0:25:29\u001b[39m"
     ]
    },
    {
     "name": "stdout",
     "output_type": "stream",
     "text": [
      "\n"
     ]
    },
    {
     "name": "stderr",
     "output_type": "stream",
     "text": [
      "\u001b[32mOptimizations in progress... 91%|██████████████████████████████████████████████    |  ETA: 0:24:27\u001b[39m"
     ]
    },
    {
     "name": "stdout",
     "output_type": "stream",
     "text": [
      "Sample 182 best min: 0.009344210294530211\n"
     ]
    },
    {
     "name": "stderr",
     "output_type": "stream",
     "text": [
      "\u001b[32mOptimizations in progress... 92%|██████████████████████████████████████████████    |  ETA: 0:23:05\u001b[39m"
     ]
    },
    {
     "name": "stdout",
     "output_type": "stream",
     "text": [
      "Sample 183 best min: 0.010406260816948459\n"
     ]
    },
    {
     "name": "stderr",
     "output_type": "stream",
     "text": [
      "\u001b[32mOptimizations in progress... 92%|███████████████████████████████████████████████   |  ETA: 0:21:46\u001b[39m"
     ]
    },
    {
     "name": "stdout",
     "output_type": "stream",
     "text": [
      "Sample 184 best min: 0.00846846720347874"
     ]
    },
    {
     "name": "stderr",
     "output_type": "stream",
     "text": [
      "\u001b[32mOptimizations in progress... 92%|███████████████████████████████████████████████   |  ETA: 0:21:29\u001b[39m"
     ]
    },
    {
     "name": "stdout",
     "output_type": "stream",
     "text": [
      "\n"
     ]
    },
    {
     "name": "stderr",
     "output_type": "stream",
     "text": [
      "\u001b[32mOptimizations in progress... 92%|███████████████████████████████████████████████   |  ETA: 0:20:22\u001b[39m"
     ]
    },
    {
     "name": "stdout",
     "output_type": "stream",
     "text": [
      "Sample 185 best min: 0.013755180317528749\n"
     ]
    },
    {
     "name": "stderr",
     "output_type": "stream",
     "text": [
      "\u001b[32mOptimizations in progress... 93%|███████████████████████████████████████████████   |  ETA: 0:18:56\u001b[39m"
     ]
    },
    {
     "name": "stdout",
     "output_type": "stream",
     "text": [
      "Sample 186 best min: 0.018021889413241787\n"
     ]
    },
    {
     "name": "stderr",
     "output_type": "stream",
     "text": [
      "\u001b[32mOptimizations in progress... 94%|███████████████████████████████████████████████   |  ETA: 0:17:36\u001b[39m"
     ]
    },
    {
     "name": "stdout",
     "output_type": "stream",
     "text": [
      "Sample 187 best min: 0.008897023510133027\n"
     ]
    },
    {
     "name": "stderr",
     "output_type": "stream",
     "text": [
      "\u001b[32mOptimizations in progress... 94%|████████████████████████████████████████████████  |  ETA: 0:16:17\u001b[39m"
     ]
    },
    {
     "name": "stdout",
     "output_type": "stream",
     "text": [
      "Sample 188 best min: 0.011107379421273524"
     ]
    },
    {
     "name": "stderr",
     "output_type": "stream",
     "text": [
      "\u001b[32mOptimizations in progress... 94%|████████████████████████████████████████████████  |  ETA: 0:16:00\u001b[39m"
     ]
    },
    {
     "name": "stdout",
     "output_type": "stream",
     "text": [
      "\n"
     ]
    },
    {
     "name": "stderr",
     "output_type": "stream",
     "text": [
      "\u001b[32mOptimizations in progress... 94%|████████████████████████████████████████████████  |  ETA: 0:14:56\u001b[39m"
     ]
    },
    {
     "name": "stdout",
     "output_type": "stream",
     "text": [
      "Sample 189 best min: 0.011621324256930143\n"
     ]
    },
    {
     "name": "stderr",
     "output_type": "stream",
     "text": [
      "\u001b[32mOptimizations in progress... 95%|████████████████████████████████████████████████  |  ETA: 0:13:34\u001b[39m"
     ]
    },
    {
     "name": "stdout",
     "output_type": "stream",
     "text": [
      "Sample 190 best min: 0.015903804138541356\n"
     ]
    },
    {
     "name": "stderr",
     "output_type": "stream",
     "text": [
      "\u001b[32mOptimizations in progress... 96%|████████████████████████████████████████████████  |  ETA: 0:12:13\u001b[39m"
     ]
    },
    {
     "name": "stdout",
     "output_type": "stream",
     "text": [
      "Sample 191 best min: 0.01260260036774925\n"
     ]
    },
    {
     "name": "stderr",
     "output_type": "stream",
     "text": [
      "\u001b[32mOptimizations in progress... 96%|█████████████████████████████████████████████████ |  ETA: 0:10:50\u001b[39m"
     ]
    },
    {
     "name": "stdout",
     "output_type": "stream",
     "text": [
      "Sample 192 best min: 0.01049840641802002"
     ]
    },
    {
     "name": "stderr",
     "output_type": "stream",
     "text": [
      "\u001b[32mOptimizations in progress... 96%|█████████████████████████████████████████████████ |  ETA: 0:10:33\u001b[39m"
     ]
    },
    {
     "name": "stdout",
     "output_type": "stream",
     "text": [
      "\n"
     ]
    },
    {
     "name": "stderr",
     "output_type": "stream",
     "text": [
      "\u001b[32mOptimizations in progress... 96%|█████████████████████████████████████████████████ |  ETA: 0:09:30\u001b[39m"
     ]
    },
    {
     "name": "stdout",
     "output_type": "stream",
     "text": [
      "Sample 193 best min: 0.012364876648207717\n"
     ]
    },
    {
     "name": "stderr",
     "output_type": "stream",
     "text": [
      "\u001b[32mOptimizations in progress... 97%|█████████████████████████████████████████████████ |  ETA: 0:08:09\u001b[39m"
     ]
    },
    {
     "name": "stdout",
     "output_type": "stream",
     "text": [
      "Sample 194 best min: 0.011698035337285941"
     ]
    },
    {
     "name": "stderr",
     "output_type": "stream",
     "text": [
      "\u001b[32mOptimizations in progress... 97%|█████████████████████████████████████████████████ |  ETA: 0:07:52\u001b[39m"
     ]
    },
    {
     "name": "stdout",
     "output_type": "stream",
     "text": [
      "\n"
     ]
    },
    {
     "name": "stderr",
     "output_type": "stream",
     "text": [
      "\u001b[32mOptimizations in progress... 98%|█████████████████████████████████████████████████ |  ETA: 0:06:46\u001b[39m"
     ]
    },
    {
     "name": "stdout",
     "output_type": "stream",
     "text": [
      "Sample 195 best min: 0.009577976945366629"
     ]
    },
    {
     "name": "stderr",
     "output_type": "stream",
     "text": [
      "\u001b[32mOptimizations in progress... 98%|█████████████████████████████████████████████████ |  ETA: 0:06:30\u001b[39m"
     ]
    },
    {
     "name": "stdout",
     "output_type": "stream",
     "text": [
      "\n"
     ]
    },
    {
     "name": "stderr",
     "output_type": "stream",
     "text": [
      "\u001b[32mOptimizations in progress... 98%|██████████████████████████████████████████████████|  ETA: 0:05:24\u001b[39m"
     ]
    },
    {
     "name": "stdout",
     "output_type": "stream",
     "text": [
      "Sample 196 best min: 0.011496003610022086\n"
     ]
    },
    {
     "name": "stderr",
     "output_type": "stream",
     "text": [
      "\u001b[32mOptimizations in progress... 98%|██████████████████████████████████████████████████|  ETA: 0:04:03\u001b[39m"
     ]
    },
    {
     "name": "stdout",
     "output_type": "stream",
     "text": [
      "Sample 197 best min: 0.013523156525824812\n"
     ]
    },
    {
     "name": "stderr",
     "output_type": "stream",
     "text": [
      "\u001b[32mOptimizations in progress... 99%|██████████████████████████████████████████████████|  ETA: 0:02:42\u001b[39m"
     ]
    },
    {
     "name": "stdout",
     "output_type": "stream",
     "text": [
      "Sample 198 best min: 0.012598193226143983\n"
     ]
    },
    {
     "name": "stderr",
     "output_type": "stream",
     "text": [
      "\u001b[32mOptimizations in progress...100%|██████████████████████████████████████████████████|  ETA: 0:01:21\u001b[39m"
     ]
    },
    {
     "name": "stdout",
     "output_type": "stream",
     "text": [
      "Sample 199 best min: 0.009733781064640517"
     ]
    },
    {
     "name": "stderr",
     "output_type": "stream",
     "text": [
      "\u001b[32mOptimizations in progress...100%|██████████████████████████████████████████████████|  ETA: 0:01:05\u001b[39m"
     ]
    },
    {
     "name": "stdout",
     "output_type": "stream",
     "text": [
      "\n"
     ]
    },
    {
     "name": "stderr",
     "output_type": "stream",
     "text": [
      "\u001b[32mOptimizations in progress...100%|██████████████████████████████████████████████████| Time: 4:30:20\u001b[39m\n"
     ]
    },
    {
     "name": "stdout",
     "output_type": "stream",
     "text": [
      "Sample 200 best min: 0.011438734640701009\n"
     ]
    },
    {
     "data": {
      "image/svg+xml": [
       "<?xml version=\"1.0\" encoding=\"utf-8\"?>\n",
       "<svg xmlns=\"http://www.w3.org/2000/svg\" xmlns:xlink=\"http://www.w3.org/1999/xlink\" width=\"540\" height=\"360\" viewBox=\"0 0 2160 1440\">\n",
       "<defs>\n",
       "  <clipPath id=\"clip770\">\n",
       "    <rect x=\"0\" y=\"0\" width=\"2160\" height=\"1440\"/>\n",
       "  </clipPath>\n",
       "</defs>\n",
       "<path clip-path=\"url(#clip770)\" d=\"\n",
       "M0 1440 L2160 1440 L2160 0 L0 0  Z\n",
       "  \" fill=\"#ffffff\" fill-rule=\"evenodd\" fill-opacity=\"1\"/>\n",
       "<defs>\n",
       "  <clipPath id=\"clip771\">\n",
       "    <rect x=\"432\" y=\"0\" width=\"1513\" height=\"1440\"/>\n",
       "  </clipPath>\n",
       "</defs>\n",
       "<path clip-path=\"url(#clip770)\" d=\"\n",
       "M268.115 1284.63 L2117.48 1284.63 L2117.48 90.7148 L268.115 90.7148  Z\n",
       "  \" fill=\"#ffffff\" fill-rule=\"evenodd\" fill-opacity=\"1\"/>\n",
       "<defs>\n",
       "  <clipPath id=\"clip772\">\n",
       "    <rect x=\"268\" y=\"90\" width=\"1850\" height=\"1195\"/>\n",
       "  </clipPath>\n",
       "</defs>\n",
       "<polyline clip-path=\"url(#clip772)\" style=\"stroke:#000000; stroke-width:1.8; stroke-opacity:0.1; fill:none\" points=\"\n",
       "  320.456,1284.63 320.456,90.7148 \n",
       "  \"/>\n",
       "<polyline clip-path=\"url(#clip772)\" style=\"stroke:#000000; stroke-width:1.8; stroke-opacity:0.1; fill:none\" points=\"\n",
       "  917.95,1284.63 917.95,90.7148 \n",
       "  \"/>\n",
       "<polyline clip-path=\"url(#clip772)\" style=\"stroke:#000000; stroke-width:1.8; stroke-opacity:0.1; fill:none\" points=\"\n",
       "  1515.44,1284.63 1515.44,90.7148 \n",
       "  \"/>\n",
       "<polyline clip-path=\"url(#clip772)\" style=\"stroke:#000000; stroke-width:1.8; stroke-opacity:0.1; fill:none\" points=\"\n",
       "  2112.94,1284.63 2112.94,90.7148 \n",
       "  \"/>\n",
       "<polyline clip-path=\"url(#clip770)\" style=\"stroke:#000000; stroke-width:3.6; stroke-opacity:1; fill:none\" points=\"\n",
       "  268.115,1284.63 2117.48,1284.63 \n",
       "  \"/>\n",
       "<polyline clip-path=\"url(#clip770)\" style=\"stroke:#000000; stroke-width:3.6; stroke-opacity:1; fill:none\" points=\"\n",
       "  320.456,1284.63 320.456,1270.3 \n",
       "  \"/>\n",
       "<polyline clip-path=\"url(#clip770)\" style=\"stroke:#000000; stroke-width:3.6; stroke-opacity:1; fill:none\" points=\"\n",
       "  917.95,1284.63 917.95,1270.3 \n",
       "  \"/>\n",
       "<polyline clip-path=\"url(#clip770)\" style=\"stroke:#000000; stroke-width:3.6; stroke-opacity:1; fill:none\" points=\"\n",
       "  1515.44,1284.63 1515.44,1270.3 \n",
       "  \"/>\n",
       "<polyline clip-path=\"url(#clip770)\" style=\"stroke:#000000; stroke-width:3.6; stroke-opacity:1; fill:none\" points=\"\n",
       "  2112.94,1284.63 2112.94,1270.3 \n",
       "  \"/>\n",
       "<path clip-path=\"url(#clip770)\" d=\"M 0 0 M310.873 1324.67 Q310.873 1317.98 312.563 1314.33 Q314.92 1308.91 320.478 1308.91 Q321.656 1308.91 322.879 1309.24 Q324.124 1309.55 325.681 1310.78 Q327.259 1312 328.215 1314 Q330.038 1317.87 330.038 1324.67 Q330.038 1331.32 328.349 1334.94 Q325.881 1340.24 320.434 1340.24 Q318.388 1340.24 316.298 1339.19 Q314.231 1338.15 312.919 1335.63 Q310.873 1331.88 310.873 1324.67 M314.653 1324.12 Q314.653 1330.99 315.142 1333.72 Q315.698 1336.68 317.21 1337.97 Q318.744 1339.23 320.434 1339.23 Q322.257 1339.23 323.769 1337.88 Q325.303 1336.5 325.77 1333.54 Q326.281 1330.63 326.259 1324.12 Q326.259 1317.78 325.814 1315.25 Q325.214 1312.29 323.613 1311.11 Q322.034 1309.91 320.434 1309.91 Q319.833 1309.91 319.189 1310.09 Q318.566 1310.27 317.655 1310.78 Q316.743 1311.29 316.032 1312.56 Q315.342 1313.82 315.009 1315.73 Q314.653 1318.2 314.653 1324.12 Z\" fill=\"#000000\" fill-rule=\"evenodd\" fill-opacity=\"1\" /><path clip-path=\"url(#clip770)\" d=\"M 0 0 M898.385 1331.9 Q898.385 1330.54 899.119 1330.03 Q899.853 1329.5 900.631 1329.5 Q901.676 1329.5 902.276 1330.16 Q902.899 1330.81 902.899 1331.72 Q902.899 1332.63 902.276 1333.3 Q901.676 1333.94 900.631 1333.94 Q900.119 1333.94 899.853 1333.85 Q900.453 1335.94 902.276 1337.46 Q904.121 1338.97 906.545 1338.97 Q909.591 1338.97 911.414 1336.01 Q912.503 1334.1 912.503 1329.76 Q912.503 1325.94 911.681 1324.03 Q910.413 1321.11 907.812 1321.11 Q904.121 1321.11 901.943 1324.29 Q901.676 1324.69 901.365 1324.72 Q900.92 1324.72 900.809 1324.47 Q900.72 1324.21 900.72 1323.52 L900.72 1310.04 Q900.72 1308.95 901.164 1308.95 Q901.342 1308.95 901.72 1309.09 Q904.588 1310.35 907.768 1310.38 Q911.036 1310.38 913.971 1309.04 Q914.193 1308.91 914.326 1308.91 Q914.771 1308.91 914.793 1309.42 Q914.793 1309.6 914.415 1310.13 Q914.06 1310.64 913.281 1311.33 Q912.503 1312 911.503 1312.64 Q910.502 1313.29 909.035 1313.73 Q907.59 1314.16 905.989 1314.16 Q904.077 1314.16 902.12 1313.56 L902.12 1322.43 Q904.477 1320.11 907.901 1320.11 Q911.547 1320.11 914.06 1323.05 Q916.572 1325.98 916.572 1330.07 Q916.572 1334.37 913.593 1337.3 Q910.636 1340.24 906.634 1340.24 Q902.988 1340.24 900.675 1337.63 Q898.385 1335.03 898.385 1331.9 Z\" fill=\"#000000\" fill-rule=\"evenodd\" fill-opacity=\"1\" /><path clip-path=\"url(#clip770)\" d=\"M 0 0 M918.351 1324.67 Q918.351 1317.98 920.04 1314.33 Q922.397 1308.91 927.955 1308.91 Q929.134 1308.91 930.356 1309.24 Q931.601 1309.55 933.158 1310.78 Q934.736 1312 935.692 1314 Q937.515 1317.87 937.515 1324.67 Q937.515 1331.32 935.826 1334.94 Q933.358 1340.24 927.911 1340.24 Q925.865 1340.24 923.775 1339.19 Q921.708 1338.15 920.396 1335.63 Q918.351 1331.88 918.351 1324.67 M922.13 1324.12 Q922.13 1330.99 922.619 1333.72 Q923.175 1336.68 924.687 1337.97 Q926.221 1339.23 927.911 1339.23 Q929.734 1339.23 931.246 1337.88 Q932.78 1336.5 933.247 1333.54 Q933.758 1330.63 933.736 1324.12 Q933.736 1317.78 933.291 1315.25 Q932.691 1312.29 931.09 1311.11 Q929.512 1309.91 927.911 1309.91 Q927.31 1309.91 926.666 1310.09 Q926.043 1310.27 925.132 1310.78 Q924.22 1311.29 923.509 1312.56 Q922.819 1313.82 922.486 1315.73 Q922.13 1318.2 922.13 1324.12 Z\" fill=\"#000000\" fill-rule=\"evenodd\" fill-opacity=\"1\" /><path clip-path=\"url(#clip770)\" d=\"M 0 0 M1486.99 1313.24 L1486.99 1311.82 Q1492.46 1311.82 1495.28 1308.91 Q1496.06 1308.91 1496.19 1309.09 Q1496.32 1309.26 1496.32 1310.09 L1496.32 1335.63 Q1496.32 1336.99 1496.99 1337.41 Q1497.66 1337.83 1500.57 1337.83 L1502.02 1337.83 L1502.02 1339.23 Q1500.42 1339.1 1494.63 1339.1 Q1488.85 1339.1 1487.28 1339.23 L1487.28 1337.83 L1488.72 1337.83 Q1491.59 1337.83 1492.28 1337.43 Q1492.97 1337.01 1492.97 1335.63 L1492.97 1312.04 Q1490.59 1313.24 1486.99 1313.24 Z\" fill=\"#000000\" fill-rule=\"evenodd\" fill-opacity=\"1\" /><path clip-path=\"url(#clip770)\" d=\"M 0 0 M1503.79 1324.67 Q1503.79 1317.98 1505.48 1314.33 Q1507.84 1308.91 1513.4 1308.91 Q1514.58 1308.91 1515.8 1309.24 Q1517.05 1309.55 1518.6 1310.78 Q1520.18 1312 1521.14 1314 Q1522.96 1317.87 1522.96 1324.67 Q1522.96 1331.32 1521.27 1334.94 Q1518.8 1340.24 1513.35 1340.24 Q1511.31 1340.24 1509.22 1339.19 Q1507.15 1338.15 1505.84 1335.63 Q1503.79 1331.88 1503.79 1324.67 M1507.57 1324.12 Q1507.57 1330.99 1508.06 1333.72 Q1508.62 1336.68 1510.13 1337.97 Q1511.67 1339.23 1513.35 1339.23 Q1515.18 1339.23 1516.69 1337.88 Q1518.22 1336.5 1518.69 1333.54 Q1519.2 1330.63 1519.18 1324.12 Q1519.18 1317.78 1518.74 1315.25 Q1518.14 1312.29 1516.53 1311.11 Q1514.96 1309.91 1513.35 1309.91 Q1512.75 1309.91 1512.11 1310.09 Q1511.49 1310.27 1510.58 1310.78 Q1509.66 1311.29 1508.95 1312.56 Q1508.26 1313.82 1507.93 1315.73 Q1507.57 1318.2 1507.57 1324.12 Z\" fill=\"#000000\" fill-rule=\"evenodd\" fill-opacity=\"1\" /><path clip-path=\"url(#clip770)\" d=\"M 0 0 M1524.74 1324.67 Q1524.74 1317.98 1526.43 1314.33 Q1528.78 1308.91 1534.34 1308.91 Q1535.52 1308.91 1536.74 1309.24 Q1537.99 1309.55 1539.55 1310.78 Q1541.12 1312 1542.08 1314 Q1543.9 1317.87 1543.9 1324.67 Q1543.9 1331.32 1542.21 1334.94 Q1539.75 1340.24 1534.3 1340.24 Q1532.25 1340.24 1530.16 1339.19 Q1528.1 1338.15 1526.78 1335.63 Q1524.74 1331.88 1524.74 1324.67 M1528.52 1324.12 Q1528.52 1330.99 1529.01 1333.72 Q1529.56 1336.68 1531.07 1337.97 Q1532.61 1339.23 1534.3 1339.23 Q1536.12 1339.23 1537.63 1337.88 Q1539.17 1336.5 1539.63 1333.54 Q1540.15 1330.63 1540.12 1324.12 Q1540.12 1317.78 1539.68 1315.25 Q1539.08 1312.29 1537.48 1311.11 Q1535.9 1309.91 1534.3 1309.91 Q1533.7 1309.91 1533.05 1310.09 Q1532.43 1310.27 1531.52 1310.78 Q1530.61 1311.29 1529.9 1312.56 Q1529.21 1313.82 1528.87 1315.73 Q1528.52 1318.2 1528.52 1324.12 Z\" fill=\"#000000\" fill-rule=\"evenodd\" fill-opacity=\"1\" /><path clip-path=\"url(#clip770)\" d=\"M 0 0 M2084.73 1313.24 L2084.73 1311.82 Q2090.19 1311.82 2093.02 1308.91 Q2093.8 1308.91 2093.93 1309.09 Q2094.06 1309.26 2094.06 1310.09 L2094.06 1335.63 Q2094.06 1336.99 2094.73 1337.41 Q2095.4 1337.83 2098.31 1337.83 L2099.76 1337.83 L2099.76 1339.23 Q2098.15 1339.1 2092.37 1339.1 Q2086.59 1339.1 2085.01 1339.23 L2085.01 1337.83 L2086.46 1337.83 Q2089.33 1337.83 2090.02 1337.43 Q2090.71 1337.01 2090.71 1335.63 L2090.71 1312.04 Q2088.33 1313.24 2084.73 1313.24 Z\" fill=\"#000000\" fill-rule=\"evenodd\" fill-opacity=\"1\" /><path clip-path=\"url(#clip770)\" d=\"M 0 0 M2102.02 1331.9 Q2102.02 1330.54 2102.76 1330.03 Q2103.49 1329.5 2104.27 1329.5 Q2105.31 1329.5 2105.91 1330.16 Q2106.54 1330.81 2106.54 1331.72 Q2106.54 1332.63 2105.91 1333.3 Q2105.31 1333.94 2104.27 1333.94 Q2103.76 1333.94 2103.49 1333.85 Q2104.09 1335.94 2105.91 1337.46 Q2107.76 1338.97 2110.18 1338.97 Q2113.23 1338.97 2115.05 1336.01 Q2116.14 1334.1 2116.14 1329.76 Q2116.14 1325.94 2115.32 1324.03 Q2114.05 1321.11 2111.45 1321.11 Q2107.76 1321.11 2105.58 1324.29 Q2105.31 1324.69 2105 1324.72 Q2104.56 1324.72 2104.45 1324.47 Q2104.36 1324.21 2104.36 1323.52 L2104.36 1310.04 Q2104.36 1308.95 2104.8 1308.95 Q2104.98 1308.95 2105.36 1309.09 Q2108.23 1310.35 2111.41 1310.38 Q2114.67 1310.38 2117.61 1309.04 Q2117.83 1308.91 2117.96 1308.91 Q2118.41 1308.91 2118.43 1309.42 Q2118.43 1309.6 2118.05 1310.13 Q2117.7 1310.64 2116.92 1311.33 Q2116.14 1312 2115.14 1312.64 Q2114.14 1313.29 2112.67 1313.73 Q2111.23 1314.16 2109.63 1314.16 Q2107.71 1314.16 2105.76 1313.56 L2105.76 1322.43 Q2108.11 1320.11 2111.54 1320.11 Q2115.18 1320.11 2117.7 1323.05 Q2120.21 1325.98 2120.21 1330.07 Q2120.21 1334.37 2117.23 1337.3 Q2114.27 1340.24 2110.27 1340.24 Q2106.63 1340.24 2104.31 1337.63 Q2102.02 1335.03 2102.02 1331.9 Z\" fill=\"#000000\" fill-rule=\"evenodd\" fill-opacity=\"1\" /><path clip-path=\"url(#clip770)\" d=\"M 0 0 M2121.99 1324.67 Q2121.99 1317.98 2123.68 1314.33 Q2126.03 1308.91 2131.59 1308.91 Q2132.77 1308.91 2133.99 1309.24 Q2135.24 1309.55 2136.8 1310.78 Q2138.37 1312 2139.33 1314 Q2141.15 1317.87 2141.15 1324.67 Q2141.15 1331.32 2139.46 1334.94 Q2137 1340.24 2131.55 1340.24 Q2129.5 1340.24 2127.41 1339.19 Q2125.35 1338.15 2124.03 1335.63 Q2121.99 1331.88 2121.99 1324.67 M2125.77 1324.12 Q2125.77 1330.99 2126.26 1333.72 Q2126.81 1336.68 2128.32 1337.97 Q2129.86 1339.23 2131.55 1339.23 Q2133.37 1339.23 2134.88 1337.88 Q2136.42 1336.5 2136.88 1333.54 Q2137.4 1330.63 2137.37 1324.12 Q2137.37 1317.78 2136.93 1315.25 Q2136.33 1312.29 2134.73 1311.11 Q2133.15 1309.91 2131.55 1309.91 Q2130.95 1309.91 2130.3 1310.09 Q2129.68 1310.27 2128.77 1310.78 Q2127.86 1311.29 2127.15 1312.56 Q2126.46 1313.82 2126.12 1315.73 Q2125.77 1318.2 2125.77 1324.12 Z\" fill=\"#000000\" fill-rule=\"evenodd\" fill-opacity=\"1\" /><path clip-path=\"url(#clip770)\" d=\"M 0 0 M892.5 1365.98 Q892.5 1366.8 892.123 1367 Q891.746 1367.17 890.703 1367.17 L885.137 1367.17 L880.732 1384.68 Q880.384 1386.22 880.384 1387.52 Q880.384 1388.97 880.819 1389.61 Q881.282 1390.24 882.239 1390.24 Q884.123 1390.24 886.152 1388.53 Q888.21 1386.82 889.949 1382.65 Q890.181 1382.1 890.297 1381.98 Q890.442 1381.84 890.819 1381.84 Q891.543 1381.84 891.543 1382.42 Q891.543 1382.62 891.137 1383.55 Q890.761 1384.48 889.92 1385.84 Q889.108 1387.2 888.036 1388.48 Q886.992 1389.75 885.398 1390.68 Q883.804 1391.58 882.094 1391.58 Q879.688 1391.58 878.152 1390.04 Q876.645 1388.51 876.645 1386.1 Q876.645 1385.32 877.253 1382.82 Q877.862 1380.3 881.166 1367.17 L875.92 1367.17 Q875.195 1367.17 874.906 1367.14 Q874.645 1367.11 874.442 1366.97 Q874.268 1366.8 874.268 1366.45 Q874.268 1365.9 874.5 1365.66 Q874.732 1365.4 875.022 1365.37 Q875.34 1365.32 876.065 1365.32 L881.63 1365.32 L883.949 1355.9 Q884.181 1354.97 884.761 1354.45 Q885.369 1353.9 885.717 1353.84 Q886.065 1353.75 886.326 1353.75 Q887.108 1353.75 887.572 1354.19 Q888.036 1354.59 888.036 1355.35 Q888.036 1355.75 885.601 1365.32 L890.819 1365.32 Q891.485 1365.32 891.746 1365.35 Q892.036 1365.37 892.268 1365.52 Q892.5 1365.66 892.5 1365.98 Z\" fill=\"#000000\" fill-rule=\"evenodd\" fill-opacity=\"1\" /><path clip-path=\"url(#clip770)\" d=\"M 0 0 M915.063 1376.07 Q915.063 1366.04 918.803 1357.95 Q920.397 1354.56 922.629 1351.72 Q924.86 1348.88 926.339 1347.64 Q927.817 1346.39 928.223 1346.39 Q928.802 1346.39 928.831 1346.97 Q928.831 1347.26 928.049 1347.98 Q918.484 1357.72 918.513 1376.07 Q918.513 1394.48 927.817 1403.84 Q928.831 1404.85 928.831 1405.17 Q928.831 1405.75 928.223 1405.75 Q927.817 1405.75 926.397 1404.56 Q924.976 1403.37 922.774 1400.65 Q920.571 1397.93 918.976 1394.59 Q915.063 1386.51 915.063 1376.07 Z\" fill=\"#000000\" fill-rule=\"evenodd\" fill-opacity=\"1\" /><path clip-path=\"url(#clip770)\" d=\"M 0 0 M937.874 1378.16 Q937.874 1372.51 941.816 1368.59 Q945.758 1364.68 951.092 1364.68 Q955.613 1364.68 958.57 1368.36 L958.57 1355.52 Q958.57 1353.32 957.787 1352.77 Q957.034 1352.22 953.961 1352.22 L953.961 1350.36 L962.512 1349.72 L962.512 1385.75 Q962.512 1387.95 963.266 1388.53 Q964.048 1389.08 967.121 1389.08 L967.121 1390.91 L958.396 1391.58 L958.396 1387.64 Q955.324 1391.55 950.454 1391.58 Q945.353 1391.58 941.614 1387.66 Q937.874 1383.75 937.874 1378.16 M942.802 1378.22 Q942.802 1383.72 944.512 1386.45 Q946.889 1390.24 950.744 1390.24 Q955.15 1390.24 957.758 1386.1 Q958.425 1385.08 958.396 1383.9 L958.396 1371.72 Q958.396 1370.53 957.758 1369.55 Q955.324 1365.98 951.353 1365.98 Q947.208 1365.98 944.628 1369.78 Q942.802 1372.62 942.802 1378.22 Z\" fill=\"#000000\" fill-rule=\"evenodd\" fill-opacity=\"1\" /><path clip-path=\"url(#clip770)\" d=\"M 0 0 M970.511 1385.26 Q970.511 1380.22 976.453 1377.55 Q980.018 1375.84 987.38 1375.4 L987.38 1373.23 Q987.38 1369.55 985.438 1367.61 Q983.525 1365.64 981.091 1365.64 Q976.743 1365.64 974.656 1368.36 Q976.424 1368.42 977.062 1369.32 Q977.699 1370.19 977.699 1371.08 Q977.699 1372.27 976.946 1373.06 Q976.221 1373.81 974.975 1373.81 Q973.786 1373.81 973.004 1373.08 Q972.221 1372.33 972.221 1371.03 Q972.221 1368.13 974.83 1366.22 Q977.467 1364.3 981.206 1364.3 Q986.076 1364.3 989.322 1367.58 Q990.337 1368.59 990.83 1369.9 Q991.351 1371.2 991.409 1372.07 Q991.467 1372.91 991.467 1374.59 L991.467 1386.45 Q991.467 1386.79 991.583 1387.37 Q991.699 1387.95 992.221 1388.71 Q992.772 1389.43 993.67 1389.43 Q995.815 1389.43 995.786 1385.64 L995.786 1382.3 L997.293 1382.3 L997.293 1385.64 Q997.293 1388.79 995.612 1390.04 Q993.96 1391.26 992.424 1391.26 Q990.453 1391.26 989.206 1389.81 Q987.96 1388.36 987.786 1386.39 Q986.888 1388.65 984.83 1390.13 Q982.801 1391.58 980.018 1391.58 Q977.873 1391.58 975.844 1391.03 Q973.844 1390.51 972.163 1389.03 Q970.511 1387.52 970.511 1385.26 M975.091 1385.2 Q975.091 1387.4 976.656 1388.82 Q978.221 1390.24 980.424 1390.24 Q982.917 1390.24 985.148 1388.33 Q987.38 1386.39 987.38 1382.59 L987.38 1376.65 Q980.801 1376.88 977.931 1379.52 Q975.091 1382.13 975.091 1385.2 Z\" fill=\"#000000\" fill-rule=\"evenodd\" fill-opacity=\"1\" /><path clip-path=\"url(#clip770)\" d=\"M 0 0 M998.017 1398.27 Q998.017 1397.03 998.742 1396.36 Q999.495 1395.72 1000.51 1395.72 Q1001.58 1395.72 1002.28 1396.39 Q1003 1397.08 1003 1398.22 Q1003 1400.42 1000.68 1400.71 Q1001.81 1401.78 1003.47 1401.78 Q1005.23 1401.78 1006.65 1400.48 Q1008.1 1399.17 1008.71 1397.93 Q1009.35 1396.68 1010.25 1394.42 Q1011.09 1392.65 1011.73 1390.91 L1002.83 1369.23 Q1002.25 1367.81 1001.35 1367.49 Q1000.45 1367.17 998.017 1367.17 L998.017 1365.32 Q1000.68 1365.49 1003.79 1365.49 Q1005.61 1365.49 1010.25 1365.32 L1010.25 1367.17 Q1006.92 1367.17 1006.92 1368.71 Q1006.92 1368.88 1007.26 1369.78 L1013.87 1385.75 L1019.87 1371.14 Q1020.22 1370.3 1020.22 1369.72 Q1020.22 1367.29 1017.44 1367.17 L1017.44 1365.32 Q1021.35 1365.49 1022.6 1365.49 Q1025.03 1365.49 1027.03 1365.32 L1027.03 1367.17 Q1023.06 1367.17 1021.52 1370.97 L1011.06 1396.3 Q1008.22 1403.06 1003.47 1403.08 Q1001.21 1403.08 999.611 1401.69 Q998.017 1400.3 998.017 1398.27 Z\" fill=\"#000000\" fill-rule=\"evenodd\" fill-opacity=\"1\" /><path clip-path=\"url(#clip770)\" d=\"M 0 0 M1027.44 1390.13 L1027.44 1382.3 Q1027.44 1381.64 1027.47 1381.4 Q1027.5 1381.17 1027.67 1381 Q1027.85 1380.82 1028.19 1380.82 Q1028.6 1380.82 1028.75 1381 Q1028.92 1381.17 1029.04 1381.84 Q1029.93 1385.93 1031.85 1388.1 Q1033.79 1390.24 1037.3 1390.24 Q1040.63 1390.24 1042.31 1388.77 Q1043.99 1387.29 1043.99 1384.85 Q1043.99 1380.51 1037.82 1379.4 Q1034.25 1378.68 1032.77 1378.22 Q1031.3 1377.72 1029.99 1376.65 Q1027.44 1374.56 1027.44 1371.61 Q1027.44 1368.65 1029.67 1366.48 Q1031.93 1364.3 1036.92 1364.3 Q1040.25 1364.3 1042.51 1365.98 Q1043.18 1365.46 1043.53 1365.03 Q1044.31 1364.3 1044.72 1364.3 Q1045.18 1364.3 1045.27 1364.62 Q1045.35 1364.91 1045.35 1365.75 L1045.35 1371.72 Q1045.35 1372.39 1045.32 1372.62 Q1045.3 1372.85 1045.12 1373.03 Q1044.95 1373.17 1044.57 1373.17 Q1043.9 1373.17 1043.88 1372.62 Q1043.41 1365.43 1036.92 1365.43 Q1033.41 1365.43 1031.85 1366.8 Q1030.28 1368.13 1030.28 1369.95 Q1030.28 1370.97 1030.75 1371.75 Q1031.24 1372.51 1031.85 1372.97 Q1032.48 1373.4 1033.64 1373.84 Q1034.8 1374.24 1035.5 1374.39 Q1036.22 1374.53 1037.59 1374.82 Q1042.34 1375.72 1044.34 1377.66 Q1046.83 1380.16 1046.83 1383.32 Q1046.83 1386.82 1044.46 1389.2 Q1042.08 1391.58 1037.3 1391.58 Q1033.44 1391.58 1030.75 1389 Q1030.4 1389.35 1030.14 1389.66 Q1029.88 1389.95 1029.76 1390.07 Q1029.67 1390.19 1029.64 1390.27 Q1029.61 1390.33 1029.56 1390.39 Q1028.37 1391.58 1028.08 1391.58 Q1027.61 1391.58 1027.53 1391.26 Q1027.44 1390.97 1027.44 1390.13 Z\" fill=\"#000000\" fill-rule=\"evenodd\" fill-opacity=\"1\" /><path clip-path=\"url(#clip770)\" d=\"M 0 0 M1070.16 1390.13 L1070.16 1382.3 Q1070.16 1381.64 1070.19 1381.4 Q1070.22 1381.17 1070.39 1381 Q1070.57 1380.82 1070.92 1380.82 Q1071.32 1380.82 1071.47 1381 Q1071.64 1381.17 1071.76 1381.84 Q1072.65 1385.93 1074.57 1388.1 Q1076.51 1390.24 1080.02 1390.24 Q1083.35 1390.24 1085.03 1388.77 Q1086.71 1387.29 1086.71 1384.85 Q1086.71 1380.51 1080.54 1379.4 Q1076.97 1378.68 1075.49 1378.22 Q1074.02 1377.72 1072.71 1376.65 Q1070.16 1374.56 1070.16 1371.61 Q1070.16 1368.65 1072.39 1366.48 Q1074.65 1364.3 1079.64 1364.3 Q1082.97 1364.3 1085.23 1365.98 Q1085.9 1365.46 1086.25 1365.03 Q1087.03 1364.3 1087.44 1364.3 Q1087.9 1364.3 1087.99 1364.62 Q1088.07 1364.91 1088.07 1365.75 L1088.07 1371.72 Q1088.07 1372.39 1088.05 1372.62 Q1088.02 1372.85 1087.84 1373.03 Q1087.67 1373.17 1087.29 1373.17 Q1086.63 1373.17 1086.6 1372.62 Q1086.13 1365.43 1079.64 1365.43 Q1076.13 1365.43 1074.57 1366.8 Q1073 1368.13 1073 1369.95 Q1073 1370.97 1073.47 1371.75 Q1073.96 1372.51 1074.57 1372.97 Q1075.2 1373.4 1076.36 1373.84 Q1077.52 1374.24 1078.22 1374.39 Q1078.94 1374.53 1080.31 1374.82 Q1085.06 1375.72 1087.06 1377.66 Q1089.55 1380.16 1089.55 1383.32 Q1089.55 1386.82 1087.18 1389.2 Q1084.8 1391.58 1080.02 1391.58 Q1076.16 1391.58 1073.47 1389 Q1073.12 1389.35 1072.86 1389.66 Q1072.6 1389.95 1072.48 1390.07 Q1072.39 1390.19 1072.36 1390.27 Q1072.34 1390.33 1072.28 1390.39 Q1071.09 1391.58 1070.8 1391.58 Q1070.34 1391.58 1070.25 1391.26 Q1070.16 1390.97 1070.16 1390.13 Z\" fill=\"#000000\" fill-rule=\"evenodd\" fill-opacity=\"1\" /><path clip-path=\"url(#clip770)\" d=\"M 0 0 M1093.32 1390.91 L1093.32 1389.08 Q1096.48 1389.08 1097.2 1388.71 Q1097.93 1388.3 1097.93 1386.39 L1097.93 1370.42 Q1097.93 1368.22 1097.17 1367.69 Q1096.45 1367.17 1093.55 1367.17 L1093.55 1365.32 L1101.84 1364.68 L1101.84 1386.45 Q1101.84 1388.22 1102.48 1388.65 Q1103.11 1389.08 1106.01 1389.08 L1106.01 1390.91 Q1099.95 1390.74 1099.84 1390.74 Q1099.03 1390.74 1093.32 1390.91 M1095.81 1354.33 Q1095.81 1353.14 1096.71 1352.19 Q1097.64 1351.2 1098.94 1351.2 Q1100.24 1351.2 1101.17 1352.1 Q1102.1 1352.97 1102.1 1354.36 Q1102.1 1355.72 1101.17 1356.62 Q1100.24 1357.49 1098.94 1357.49 Q1097.58 1357.49 1096.68 1356.53 Q1095.81 1355.58 1095.81 1354.33 Z\" fill=\"#000000\" fill-rule=\"evenodd\" fill-opacity=\"1\" /><path clip-path=\"url(#clip770)\" d=\"M 0 0 M1109.61 1390.91 L1109.61 1389.08 Q1112.77 1389.08 1113.49 1388.71 Q1114.22 1388.3 1114.22 1386.39 L1114.22 1370.48 Q1114.22 1368.27 1113.43 1367.72 Q1112.68 1367.17 1109.61 1367.17 L1109.61 1365.32 L1117.95 1364.68 L1117.95 1370.91 Q1120.74 1364.68 1126.74 1364.68 Q1131.2 1364.68 1132.97 1366.88 Q1134.27 1368.36 1134.53 1370.01 Q1134.82 1371.66 1134.82 1375.95 L1134.82 1387.29 Q1134.88 1388.53 1135.84 1388.82 Q1136.79 1389.08 1139.46 1389.08 L1139.46 1390.91 Q1133.4 1390.74 1132.79 1390.74 Q1132.33 1390.74 1126.1 1390.91 L1126.1 1389.08 Q1129.26 1389.08 1129.98 1388.71 Q1130.74 1388.3 1130.74 1386.39 L1130.74 1372.56 Q1130.74 1369.55 1129.81 1367.78 Q1128.88 1365.98 1126.33 1365.98 Q1123.26 1365.98 1120.79 1368.56 Q1118.33 1371.14 1118.33 1375.49 L1118.33 1386.39 Q1118.33 1388.3 1119.06 1388.71 Q1119.81 1389.08 1122.94 1389.08 L1122.94 1390.91 Q1116.88 1390.74 1116.3 1390.74 Q1115.84 1390.74 1109.61 1390.91 Z\" fill=\"#000000\" fill-rule=\"evenodd\" fill-opacity=\"1\" /><path clip-path=\"url(#clip770)\" d=\"M 0 0 M1146.01 1387.66 Q1142.24 1383.72 1142.24 1378.1 Q1142.24 1372.45 1145.95 1368.39 Q1149.66 1364.3 1155.11 1364.3 Q1158.74 1364.3 1161.46 1366.04 Q1164.18 1367.75 1164.18 1370.68 Q1164.18 1371.98 1163.4 1372.74 Q1162.65 1373.46 1161.46 1373.46 Q1160.21 1373.46 1159.46 1372.71 Q1158.74 1371.93 1158.74 1370.74 Q1158.74 1370.22 1158.91 1369.69 Q1159.08 1369.17 1159.72 1368.62 Q1160.39 1368.07 1161.52 1367.98 Q1159.4 1365.81 1155.29 1365.81 Q1155.23 1365.81 1155.17 1365.81 Q1152.16 1365.81 1149.66 1368.65 Q1147.17 1371.49 1147.17 1377.98 Q1147.17 1381.37 1147.98 1383.87 Q1148.82 1386.33 1150.19 1387.61 Q1151.55 1388.88 1152.88 1389.49 Q1154.21 1390.07 1155.52 1390.07 Q1161.34 1390.07 1163.32 1383.84 Q1163.49 1383.26 1164.07 1383.26 Q1164.85 1383.26 1164.85 1383.84 Q1164.85 1384.13 1164.62 1384.88 Q1164.39 1385.64 1163.66 1386.82 Q1162.94 1388.01 1161.9 1389.06 Q1160.88 1390.07 1159.05 1390.82 Q1157.26 1391.58 1155 1391.58 Q1149.78 1391.58 1146.01 1387.66 Z\" fill=\"#000000\" fill-rule=\"evenodd\" fill-opacity=\"1\" /><path clip-path=\"url(#clip770)\" d=\"M 0 0 M1168.36 1377.84 Q1168.36 1372.24 1171.95 1368.27 Q1175.55 1364.3 1180.71 1364.3 Q1185.92 1364.3 1188.62 1367.69 Q1191.34 1371.08 1191.34 1375.95 Q1191.34 1376.85 1191.11 1377.03 Q1190.88 1377.2 1189.87 1377.2 L1173.29 1377.2 Q1173.29 1383.26 1175.08 1386.1 Q1177.58 1390.07 1181.78 1390.07 Q1182.36 1390.07 1183.05 1389.95 Q1183.75 1389.84 1185.17 1389.35 Q1186.59 1388.82 1187.84 1387.46 Q1189.08 1386.1 1189.81 1383.95 Q1189.98 1383.11 1190.56 1383.14 Q1191.34 1383.14 1191.34 1383.84 Q1191.34 1384.36 1190.76 1385.55 Q1190.21 1386.71 1189.14 1388.1 Q1188.07 1389.49 1185.98 1390.53 Q1183.92 1391.58 1181.43 1391.58 Q1176.21 1391.58 1172.27 1387.64 Q1168.36 1383.66 1168.36 1377.84 M1173.34 1375.95 L1187.43 1375.95 Q1187.43 1374.71 1187.2 1373.32 Q1187 1371.93 1186.36 1370.01 Q1185.75 1368.07 1184.3 1366.85 Q1182.85 1365.64 1180.71 1365.64 Q1179.75 1365.64 1178.71 1366.04 Q1177.69 1366.45 1176.44 1367.43 Q1175.2 1368.42 1174.33 1370.65 Q1173.46 1372.88 1173.34 1375.95 Z\" fill=\"#000000\" fill-rule=\"evenodd\" fill-opacity=\"1\" /><path clip-path=\"url(#clip770)\" d=\"M 0 0 M1214.04 1371.93 Q1214.04 1363.2 1216.24 1358.45 Q1219.31 1351.37 1226.56 1351.37 Q1228.1 1351.37 1229.69 1351.81 Q1231.31 1352.22 1233.34 1353.81 Q1235.4 1355.4 1236.65 1358.01 Q1239.02 1363.06 1239.02 1371.93 Q1239.02 1380.59 1236.82 1385.32 Q1233.6 1392.22 1226.5 1392.22 Q1223.83 1392.22 1221.11 1390.85 Q1218.41 1389.49 1216.7 1386.22 Q1214.04 1381.32 1214.04 1371.93 M1218.96 1371.2 Q1218.96 1380.16 1219.6 1383.72 Q1220.33 1387.58 1222.3 1389.26 Q1224.3 1390.91 1226.5 1390.91 Q1228.88 1390.91 1230.85 1389.14 Q1232.85 1387.35 1233.46 1383.49 Q1234.12 1379.69 1234.1 1371.2 Q1234.1 1362.94 1233.52 1359.64 Q1232.73 1355.78 1230.65 1354.24 Q1228.59 1352.68 1226.5 1352.68 Q1225.72 1352.68 1224.88 1352.91 Q1224.07 1353.14 1222.88 1353.81 Q1221.69 1354.48 1220.76 1356.13 Q1219.86 1357.78 1219.43 1360.27 Q1218.96 1363.49 1218.96 1371.2 Z\" fill=\"#000000\" fill-rule=\"evenodd\" fill-opacity=\"1\" /><path clip-path=\"url(#clip770)\" d=\"M 0 0 M1243.46 1382.91 Q1243.46 1381.14 1244.47 1380.3 Q1245.49 1379.46 1246.79 1379.46 Q1248.15 1379.46 1249.11 1380.36 Q1250.09 1381.23 1250.09 1382.77 Q1250.09 1384.42 1248.93 1385.35 Q1247.8 1386.27 1246.18 1386.04 Q1247.6 1388.42 1250.21 1389.49 Q1252.85 1390.56 1255.28 1390.56 Q1257.83 1390.56 1259.89 1388.36 Q1261.98 1386.16 1261.98 1380.77 Q1261.98 1376.19 1260.18 1373.55 Q1258.41 1370.91 1254.91 1370.91 L1252.3 1370.91 Q1251.4 1370.91 1251.14 1370.82 Q1250.88 1370.74 1250.88 1370.24 Q1250.88 1369.66 1251.78 1369.55 Q1252.67 1369.55 1254.09 1369.37 Q1257.54 1369.26 1259.37 1366.27 Q1261.02 1363.49 1261.02 1359.52 Q1261.02 1355.9 1259.28 1354.39 Q1257.57 1352.85 1255.34 1352.85 Q1253.25 1352.85 1250.96 1353.72 Q1248.67 1354.59 1247.43 1356.53 Q1251.11 1356.53 1251.11 1359.52 Q1251.11 1360.82 1250.27 1361.69 Q1249.46 1362.53 1248.09 1362.53 Q1246.79 1362.53 1245.92 1361.72 Q1245.05 1360.88 1245.05 1359.46 Q1245.05 1356.07 1248.06 1353.72 Q1251.11 1351.37 1255.57 1351.37 Q1259.98 1351.37 1263.22 1353.69 Q1266.5 1356.01 1266.5 1359.58 Q1266.5 1363.08 1264.18 1365.95 Q1261.86 1368.82 1258.18 1370.01 Q1262.7 1370.91 1265.4 1373.98 Q1268.09 1377.03 1268.09 1380.77 Q1268.09 1385.4 1264.44 1388.82 Q1260.79 1392.22 1255.46 1392.22 Q1250.53 1392.22 1246.99 1389.55 Q1243.46 1386.88 1243.46 1382.91 Z\" fill=\"#000000\" fill-rule=\"evenodd\" fill-opacity=\"1\" /><path clip-path=\"url(#clip770)\" d=\"M 0 0 M1272.87 1379.87 L1272.87 1376.36 L1288.67 1376.36 L1288.67 1379.87 L1272.87 1379.87 Z\" fill=\"#000000\" fill-rule=\"evenodd\" fill-opacity=\"1\" /><path clip-path=\"url(#clip770)\" d=\"M 0 0 M1292.44 1390.91 Q1292.44 1389.84 1292.53 1389.52 Q1292.64 1389.2 1293.11 1388.71 L1304.5 1376.01 Q1310.73 1369 1310.73 1362.88 Q1310.73 1358.91 1308.64 1356.07 Q1306.58 1353.23 1302.79 1353.23 Q1300.18 1353.23 1297.98 1354.82 Q1295.77 1356.42 1294.76 1359.26 Q1294.93 1359.2 1295.54 1359.2 Q1297.02 1359.2 1297.83 1360.13 Q1298.67 1361.06 1298.67 1362.3 Q1298.67 1363.9 1297.63 1364.68 Q1296.61 1365.43 1295.6 1365.43 Q1295.19 1365.43 1294.64 1365.35 Q1294.12 1365.26 1293.28 1364.45 Q1292.44 1363.61 1292.44 1362.13 Q1292.44 1357.98 1295.57 1354.68 Q1298.73 1351.37 1303.54 1351.37 Q1308.99 1351.37 1312.56 1354.62 Q1316.15 1357.84 1316.15 1362.88 Q1316.15 1364.65 1315.6 1366.27 Q1315.08 1367.87 1314.35 1369.11 Q1313.66 1370.36 1311.74 1372.36 Q1309.83 1374.36 1308.29 1375.78 Q1306.76 1377.2 1303.31 1380.22 L1297.02 1386.33 L1307.71 1386.33 Q1312.93 1386.33 1313.34 1385.87 Q1313.92 1385.03 1314.64 1380.59 L1316.15 1380.59 L1314.47 1390.91 L1292.44 1390.91 Z\" fill=\"#000000\" fill-rule=\"evenodd\" fill-opacity=\"1\" /><path clip-path=\"url(#clip770)\" d=\"M 0 0 M1321.86 1390.91 Q1321.86 1389.84 1321.95 1389.52 Q1322.06 1389.2 1322.53 1388.71 L1333.92 1376.01 Q1340.15 1369 1340.15 1362.88 Q1340.15 1358.91 1338.06 1356.07 Q1336 1353.23 1332.21 1353.23 Q1329.6 1353.23 1327.39 1354.82 Q1325.19 1356.42 1324.18 1359.26 Q1324.35 1359.2 1324.96 1359.2 Q1326.44 1359.2 1327.25 1360.13 Q1328.09 1361.06 1328.09 1362.3 Q1328.09 1363.9 1327.05 1364.68 Q1326.03 1365.43 1325.02 1365.43 Q1324.61 1365.43 1324.06 1365.35 Q1323.54 1365.26 1322.7 1364.45 Q1321.86 1363.61 1321.86 1362.13 Q1321.86 1357.98 1324.99 1354.68 Q1328.15 1351.37 1332.96 1351.37 Q1338.41 1351.37 1341.97 1354.62 Q1345.57 1357.84 1345.57 1362.88 Q1345.57 1364.65 1345.02 1366.27 Q1344.5 1367.87 1343.77 1369.11 Q1343.08 1370.36 1341.16 1372.36 Q1339.25 1374.36 1337.71 1375.78 Q1336.18 1377.2 1332.73 1380.22 L1326.44 1386.33 L1337.13 1386.33 Q1342.35 1386.33 1342.76 1385.87 Q1343.34 1385.03 1344.06 1380.59 L1345.57 1380.59 L1343.89 1390.91 L1321.86 1390.91 Z\" fill=\"#000000\" fill-rule=\"evenodd\" fill-opacity=\"1\" /><path clip-path=\"url(#clip770)\" d=\"M 0 0 M1351.28 1379.87 L1351.28 1376.36 L1367.07 1376.36 L1367.07 1379.87 L1351.28 1379.87 Z\" fill=\"#000000\" fill-rule=\"evenodd\" fill-opacity=\"1\" /><path clip-path=\"url(#clip770)\" d=\"M 0 0 M1370.84 1390.91 Q1370.84 1389.84 1370.93 1389.52 Q1371.04 1389.2 1371.51 1388.71 L1382.9 1376.01 Q1389.13 1369 1389.13 1362.88 Q1389.13 1358.91 1387.04 1356.07 Q1384.99 1353.23 1381.19 1353.23 Q1378.58 1353.23 1376.38 1354.82 Q1374.18 1356.42 1373.16 1359.26 Q1373.33 1359.2 1373.94 1359.2 Q1375.42 1359.2 1376.23 1360.13 Q1377.07 1361.06 1377.07 1362.3 Q1377.07 1363.9 1376.03 1364.68 Q1375.02 1365.43 1374 1365.43 Q1373.6 1365.43 1373.04 1365.35 Q1372.52 1365.26 1371.68 1364.45 Q1370.84 1363.61 1370.84 1362.13 Q1370.84 1357.98 1373.97 1354.68 Q1377.13 1351.37 1381.94 1351.37 Q1387.39 1351.37 1390.96 1354.62 Q1394.55 1357.84 1394.55 1362.88 Q1394.55 1364.65 1394 1366.27 Q1393.48 1367.87 1392.75 1369.11 Q1392.06 1370.36 1390.15 1372.36 Q1388.23 1374.36 1386.7 1375.78 Q1385.16 1377.2 1381.71 1380.22 L1375.42 1386.33 L1386.12 1386.33 Q1391.33 1386.33 1391.74 1385.87 Q1392.32 1385.03 1393.04 1380.59 L1394.55 1380.59 L1392.87 1390.91 L1370.84 1390.91 Z\" fill=\"#000000\" fill-rule=\"evenodd\" fill-opacity=\"1\" /><path clip-path=\"url(#clip770)\" d=\"M 0 0 M1400.26 1371.93 Q1400.26 1363.2 1402.46 1358.45 Q1405.54 1351.37 1412.78 1351.37 Q1414.32 1351.37 1415.91 1351.81 Q1417.54 1352.22 1419.56 1353.81 Q1421.62 1355.4 1422.87 1358.01 Q1425.25 1363.06 1425.25 1371.93 Q1425.25 1380.59 1423.04 1385.32 Q1419.83 1392.22 1412.72 1392.22 Q1410.06 1392.22 1407.33 1390.85 Q1404.64 1389.49 1402.93 1386.22 Q1400.26 1381.32 1400.26 1371.93 M1405.19 1371.2 Q1405.19 1380.16 1405.83 1383.72 Q1406.55 1387.58 1408.52 1389.26 Q1410.52 1390.91 1412.72 1390.91 Q1415.1 1390.91 1417.07 1389.14 Q1419.07 1387.35 1419.68 1383.49 Q1420.35 1379.69 1420.32 1371.2 Q1420.32 1362.94 1419.74 1359.64 Q1418.96 1355.78 1416.87 1354.24 Q1414.81 1352.68 1412.72 1352.68 Q1411.94 1352.68 1411.1 1352.91 Q1410.29 1353.14 1409.1 1353.81 Q1407.91 1354.48 1406.99 1356.13 Q1406.09 1357.78 1405.65 1360.27 Q1405.19 1363.49 1405.19 1371.2 Z\" fill=\"#000000\" fill-rule=\"evenodd\" fill-opacity=\"1\" /><path clip-path=\"url(#clip770)\" d=\"M 0 0 M1429.68 1390.91 Q1429.68 1389.84 1429.77 1389.52 Q1429.88 1389.2 1430.35 1388.71 L1441.74 1376.01 Q1447.97 1369 1447.97 1362.88 Q1447.97 1358.91 1445.88 1356.07 Q1443.82 1353.23 1440.03 1353.23 Q1437.42 1353.23 1435.22 1354.82 Q1433.01 1356.42 1432 1359.26 Q1432.17 1359.2 1432.78 1359.2 Q1434.26 1359.2 1435.07 1360.13 Q1435.91 1361.06 1435.91 1362.3 Q1435.91 1363.9 1434.87 1364.68 Q1433.85 1365.43 1432.84 1365.43 Q1432.43 1365.43 1431.88 1365.35 Q1431.36 1365.26 1430.52 1364.45 Q1429.68 1363.61 1429.68 1362.13 Q1429.68 1357.98 1432.81 1354.68 Q1435.97 1351.37 1440.78 1351.37 Q1446.23 1351.37 1449.8 1354.62 Q1453.39 1357.84 1453.39 1362.88 Q1453.39 1364.65 1452.84 1366.27 Q1452.32 1367.87 1451.59 1369.11 Q1450.9 1370.36 1448.98 1372.36 Q1447.07 1374.36 1445.53 1375.78 Q1444 1377.2 1440.55 1380.22 L1434.26 1386.33 L1444.95 1386.33 Q1450.17 1386.33 1450.58 1385.87 Q1451.16 1385.03 1451.88 1380.59 L1453.39 1380.59 L1451.71 1390.91 L1429.68 1390.91 Z\" fill=\"#000000\" fill-rule=\"evenodd\" fill-opacity=\"1\" /><path clip-path=\"url(#clip770)\" d=\"M 0 0 M1459.1 1371.93 Q1459.1 1363.2 1461.3 1358.45 Q1464.37 1351.37 1471.62 1351.37 Q1473.16 1351.37 1474.75 1351.81 Q1476.37 1352.22 1478.4 1353.81 Q1480.46 1355.4 1481.71 1358.01 Q1484.08 1363.06 1484.08 1371.93 Q1484.08 1380.59 1481.88 1385.32 Q1478.66 1392.22 1471.56 1392.22 Q1468.89 1392.22 1466.17 1390.85 Q1463.47 1389.49 1461.76 1386.22 Q1459.1 1381.32 1459.1 1371.93 M1464.03 1371.2 Q1464.03 1380.16 1464.66 1383.72 Q1465.39 1387.58 1467.36 1389.26 Q1469.36 1390.91 1471.56 1390.91 Q1473.94 1390.91 1475.91 1389.14 Q1477.91 1387.35 1478.52 1383.49 Q1479.18 1379.69 1479.16 1371.2 Q1479.16 1362.94 1478.58 1359.64 Q1477.79 1355.78 1475.71 1354.24 Q1473.65 1352.68 1471.56 1352.68 Q1470.78 1352.68 1469.94 1352.91 Q1469.13 1353.14 1467.94 1353.81 Q1466.75 1354.48 1465.82 1356.13 Q1464.92 1357.78 1464.49 1360.27 Q1464.03 1363.49 1464.03 1371.2 Z\" fill=\"#000000\" fill-rule=\"evenodd\" fill-opacity=\"1\" /><path clip-path=\"url(#clip770)\" d=\"M 0 0 M1488.52 1405.17 Q1488.52 1404.88 1489.27 1404.16 Q1498.84 1394.42 1498.84 1376.07 Q1498.84 1357.66 1489.65 1348.36 Q1488.52 1347.29 1488.52 1346.97 Q1488.52 1346.39 1489.1 1346.39 Q1489.5 1346.39 1490.92 1347.58 Q1492.37 1348.77 1494.55 1351.49 Q1496.75 1354.22 1498.37 1357.55 Q1502.28 1365.64 1502.28 1376.07 Q1502.28 1386.1 1498.55 1394.19 Q1496.95 1397.58 1494.72 1400.42 Q1492.49 1403.26 1491.01 1404.5 Q1489.53 1405.75 1489.1 1405.75 Q1488.52 1405.75 1488.52 1405.17 Z\" fill=\"#000000\" fill-rule=\"evenodd\" fill-opacity=\"1\" /><polyline clip-path=\"url(#clip772)\" style=\"stroke:#000000; stroke-width:1.8; stroke-opacity:0.1; fill:none\" points=\"\n",
       "  268.115,1250.87 2117.48,1250.87 \n",
       "  \"/>\n",
       "<polyline clip-path=\"url(#clip772)\" style=\"stroke:#000000; stroke-width:1.8; stroke-opacity:0.1; fill:none\" points=\"\n",
       "  268.115,893.896 2117.48,893.896 \n",
       "  \"/>\n",
       "<polyline clip-path=\"url(#clip772)\" style=\"stroke:#000000; stroke-width:1.8; stroke-opacity:0.1; fill:none\" points=\"\n",
       "  268.115,536.924 2117.48,536.924 \n",
       "  \"/>\n",
       "<polyline clip-path=\"url(#clip772)\" style=\"stroke:#000000; stroke-width:1.8; stroke-opacity:0.1; fill:none\" points=\"\n",
       "  268.115,179.952 2117.48,179.952 \n",
       "  \"/>\n",
       "<polyline clip-path=\"url(#clip770)\" style=\"stroke:#000000; stroke-width:3.6; stroke-opacity:1; fill:none\" points=\"\n",
       "  268.115,1284.63 268.115,90.7148 \n",
       "  \"/>\n",
       "<polyline clip-path=\"url(#clip770)\" style=\"stroke:#000000; stroke-width:3.6; stroke-opacity:1; fill:none\" points=\"\n",
       "  268.115,1250.87 290.308,1250.87 \n",
       "  \"/>\n",
       "<polyline clip-path=\"url(#clip770)\" style=\"stroke:#000000; stroke-width:3.6; stroke-opacity:1; fill:none\" points=\"\n",
       "  268.115,893.896 290.308,893.896 \n",
       "  \"/>\n",
       "<polyline clip-path=\"url(#clip770)\" style=\"stroke:#000000; stroke-width:3.6; stroke-opacity:1; fill:none\" points=\"\n",
       "  268.115,536.924 290.308,536.924 \n",
       "  \"/>\n",
       "<polyline clip-path=\"url(#clip770)\" style=\"stroke:#000000; stroke-width:3.6; stroke-opacity:1; fill:none\" points=\"\n",
       "  268.115,179.952 290.308,179.952 \n",
       "  \"/>\n",
       "<path clip-path=\"url(#clip770)\" d=\"M 0 0 M216.55 1251.86 Q216.55 1245.17 218.24 1241.52 Q220.597 1236.09 226.155 1236.09 Q227.334 1236.09 228.556 1236.43 Q229.801 1236.74 231.358 1237.96 Q232.936 1239.18 233.892 1241.19 Q235.715 1245.05 235.715 1251.86 Q235.715 1258.51 234.026 1262.13 Q231.558 1267.42 226.111 1267.42 Q224.065 1267.42 221.975 1266.38 Q219.908 1265.33 218.596 1262.82 Q216.55 1259.06 216.55 1251.86 M220.33 1251.3 Q220.33 1258.17 220.819 1260.91 Q221.375 1263.86 222.887 1265.15 Q224.421 1266.42 226.111 1266.42 Q227.934 1266.42 229.446 1265.06 Q230.98 1263.69 231.447 1260.73 Q231.958 1257.82 231.936 1251.3 Q231.936 1244.97 231.491 1242.43 Q230.891 1239.47 229.29 1238.3 Q227.711 1237.1 226.111 1237.1 Q225.51 1237.1 224.866 1237.27 Q224.243 1237.45 223.332 1237.96 Q222.42 1238.47 221.709 1239.74 Q221.019 1241.01 220.686 1242.92 Q220.33 1245.39 220.33 1251.3 Z\" fill=\"#000000\" fill-rule=\"evenodd\" fill-opacity=\"1\" /><path clip-path=\"url(#clip770)\" d=\"M 0 0 M102.834 907.914 Q102.834 906.558 103.568 906.047 Q104.302 905.513 105.08 905.513 Q106.125 905.513 106.725 906.18 Q107.347 906.825 107.347 907.736 Q107.347 908.648 106.725 909.315 Q106.125 909.96 105.08 909.96 Q104.568 909.96 104.302 909.871 Q104.902 911.961 106.725 913.473 Q108.57 914.984 110.994 914.984 Q114.04 914.984 115.863 912.027 Q116.952 910.115 116.952 905.78 Q116.952 901.956 116.129 900.044 Q114.862 897.131 112.261 897.131 Q108.57 897.131 106.391 900.311 Q106.125 900.711 105.813 900.733 Q105.369 900.733 105.258 900.488 Q105.169 900.222 105.169 899.532 L105.169 886.059 Q105.169 884.97 105.613 884.97 Q105.791 884.97 106.169 885.103 Q109.037 886.37 112.216 886.393 Q115.485 886.393 118.419 885.059 Q118.642 884.925 118.775 884.925 Q119.22 884.925 119.242 885.437 Q119.242 885.615 118.864 886.148 Q118.508 886.66 117.73 887.349 Q116.952 888.016 115.952 888.66 Q114.951 889.305 113.484 889.75 Q112.039 890.172 110.438 890.172 Q108.526 890.172 106.569 889.572 L106.569 898.443 Q108.926 896.131 112.35 896.131 Q115.996 896.131 118.508 899.066 Q121.021 902 121.021 906.091 Q121.021 910.382 118.042 913.317 Q115.085 916.252 111.083 916.252 Q107.436 916.252 105.124 913.65 Q102.834 911.049 102.834 907.914 Z\" fill=\"#000000\" fill-rule=\"evenodd\" fill-opacity=\"1\" /><path clip-path=\"url(#clip770)\" d=\"M 0 0 M125.579 914.517 Q124.889 913.784 124.889 912.828 Q124.889 911.872 125.579 911.183 Q126.268 910.471 127.313 910.471 Q128.313 910.471 128.98 911.138 Q129.669 911.783 129.669 912.85 Q129.669 913.895 128.936 914.584 Q128.224 915.251 127.313 915.251 Q126.268 915.251 125.579 914.517 Z\" fill=\"#000000\" fill-rule=\"evenodd\" fill-opacity=\"1\" /><path clip-path=\"url(#clip770)\" d=\"M 0 0 M131.448 900.689 Q131.448 893.996 133.138 890.35 Q135.494 884.925 141.053 884.925 Q142.231 884.925 143.454 885.259 Q144.699 885.57 146.255 886.793 Q147.834 888.016 148.79 890.017 Q150.613 893.885 150.613 900.689 Q150.613 907.336 148.923 910.96 Q146.455 916.252 141.008 916.252 Q138.963 916.252 136.873 915.207 Q134.805 914.162 133.493 911.649 Q131.448 907.892 131.448 900.689 M135.228 900.133 Q135.228 907.003 135.717 909.737 Q136.273 912.694 137.784 913.984 Q139.319 915.251 141.008 915.251 Q142.831 915.251 144.343 913.895 Q145.877 912.517 146.344 909.56 Q146.856 906.647 146.833 900.133 Q146.833 893.796 146.389 891.262 Q145.788 888.305 144.188 887.126 Q142.609 885.926 141.008 885.926 Q140.408 885.926 139.763 886.104 Q139.141 886.282 138.229 886.793 Q137.318 887.304 136.606 888.572 Q135.917 889.839 135.583 891.751 Q135.228 894.219 135.228 900.133 Z\" fill=\"#000000\" fill-rule=\"evenodd\" fill-opacity=\"1\" /><path clip-path=\"url(#clip770)\" d=\"M 0 0 M179.027 914.562 Q178.804 914.829 178.404 914.829 Q178.026 914.829 177.759 914.562 L168.333 905.135 L158.906 914.562 Q158.639 914.829 158.239 914.829 Q157.861 914.829 157.616 914.562 Q157.35 914.317 157.35 913.939 Q157.35 913.561 157.616 913.295 L167.043 903.868 L157.616 894.441 Q157.35 894.174 157.35 893.796 Q157.35 893.396 157.616 893.174 Q157.861 892.907 158.239 892.907 Q158.639 892.907 158.906 893.174 L168.333 902.601 L177.759 893.174 Q178.026 892.907 178.404 892.907 Q178.804 892.907 179.027 893.174 Q179.294 893.396 179.294 893.796 Q179.294 894.174 179.027 894.441 L169.6 903.868 L179.027 913.295 Q179.294 913.561 179.294 913.962 Q179.294 914.34 179.027 914.562 Z\" fill=\"#000000\" fill-rule=\"evenodd\" fill-opacity=\"1\" /><path clip-path=\"url(#clip770)\" d=\"M 0 0 M183.34 889.261 L183.34 887.838 Q188.809 887.838 191.633 884.925 Q192.411 884.925 192.544 885.103 Q192.678 885.281 192.678 886.104 L192.678 911.649 Q192.678 913.006 193.345 913.428 Q194.012 913.85 196.924 913.85 L198.369 913.85 L198.369 915.251 Q196.769 915.118 190.988 915.118 Q185.207 915.118 183.629 915.251 L183.629 913.85 L185.074 913.85 Q187.942 913.85 188.631 913.45 Q189.321 913.028 189.321 911.649 L189.321 888.06 Q186.942 889.261 183.34 889.261 Z\" fill=\"#000000\" fill-rule=\"evenodd\" fill-opacity=\"1\" /><path clip-path=\"url(#clip770)\" d=\"M 0 0 M200.148 900.689 Q200.148 893.996 201.838 890.35 Q204.194 884.925 209.753 884.925 Q210.931 884.925 212.154 885.259 Q213.399 885.57 214.955 886.793 Q216.534 888.016 217.49 890.017 Q219.313 893.885 219.313 900.689 Q219.313 907.336 217.623 910.96 Q215.155 916.252 209.708 916.252 Q207.663 916.252 205.573 915.207 Q203.505 914.162 202.194 911.649 Q200.148 907.892 200.148 900.689 M203.928 900.133 Q203.928 907.003 204.417 909.737 Q204.973 912.694 206.484 913.984 Q208.019 915.251 209.708 915.251 Q211.531 915.251 213.043 913.895 Q214.577 912.517 215.044 909.56 Q215.556 906.647 215.533 900.133 Q215.533 893.796 215.089 891.262 Q214.488 888.305 212.888 887.126 Q211.309 885.926 209.708 885.926 Q209.108 885.926 208.463 886.104 Q207.841 886.282 206.929 886.793 Q206.018 887.304 205.306 888.572 Q204.617 889.839 204.283 891.751 Q203.928 894.219 203.928 900.133 Z\" fill=\"#000000\" fill-rule=\"evenodd\" fill-opacity=\"1\" /><path clip-path=\"url(#clip770)\" d=\"M 0 0 M219.313 884.476 L219.313 883.338 L230.675 865.978 Q230.964 865.527 231.416 865.545 Q231.832 865.545 231.922 865.707 Q232.012 865.87 232.012 866.502 L232.012 883.338 L235.715 883.338 L235.715 884.476 L232.012 884.476 L232.012 887.692 Q232.012 888.757 232.446 889.101 Q232.897 889.444 234.812 889.444 L235.589 889.444 L235.589 890.582 Q234.072 890.473 230.567 890.473 Q227.081 890.473 225.563 890.582 L225.563 889.444 L226.34 889.444 Q228.255 889.444 228.706 889.119 Q229.158 888.775 229.158 887.692 L229.158 884.476 L219.313 884.476 M220.361 883.338 L229.375 883.338 L229.375 869.537 L220.361 883.338 Z\" fill=\"#000000\" fill-rule=\"evenodd\" fill-opacity=\"1\" /><path clip-path=\"url(#clip770)\" d=\"M 0 0 M107.617 532.289 L107.617 530.866 Q113.086 530.866 115.91 527.953 Q116.688 527.953 116.821 528.131 Q116.955 528.309 116.955 529.132 L116.955 554.677 Q116.955 556.034 117.622 556.456 Q118.289 556.878 121.201 556.878 L122.647 556.878 L122.647 558.279 Q121.046 558.146 115.265 558.146 Q109.485 558.146 107.906 558.279 L107.906 556.878 L109.351 556.878 Q112.219 556.878 112.908 556.478 Q113.598 556.056 113.598 554.677 L113.598 531.088 Q111.219 532.289 107.617 532.289 Z\" fill=\"#000000\" fill-rule=\"evenodd\" fill-opacity=\"1\" /><path clip-path=\"url(#clip770)\" d=\"M 0 0 M127.204 557.545 Q126.515 556.812 126.515 555.856 Q126.515 554.9 127.204 554.21 Q127.894 553.499 128.938 553.499 Q129.939 553.499 130.606 554.166 Q131.295 554.811 131.295 555.878 Q131.295 556.923 130.562 557.612 Q129.85 558.279 128.938 558.279 Q127.894 558.279 127.204 557.545 Z\" fill=\"#000000\" fill-rule=\"evenodd\" fill-opacity=\"1\" /><path clip-path=\"url(#clip770)\" d=\"M 0 0 M133.074 543.717 Q133.074 537.024 134.764 533.378 Q137.12 527.953 142.678 527.953 Q143.857 527.953 145.08 528.287 Q146.325 528.598 147.881 529.821 Q149.46 531.044 150.416 533.045 Q152.239 536.913 152.239 543.717 Q152.239 550.364 150.549 553.988 Q148.081 559.28 142.634 559.28 Q140.589 559.28 138.499 558.235 Q136.431 557.19 135.119 554.677 Q133.074 550.92 133.074 543.717 M136.853 543.161 Q136.853 550.031 137.343 552.765 Q137.898 555.722 139.41 557.012 Q140.944 558.279 142.634 558.279 Q144.457 558.279 145.969 556.923 Q147.503 555.544 147.97 552.587 Q148.481 549.675 148.459 543.161 Q148.459 536.824 148.014 534.29 Q147.414 531.333 145.813 530.154 Q144.235 528.954 142.634 528.954 Q142.034 528.954 141.389 529.132 Q140.766 529.31 139.855 529.821 Q138.943 530.332 138.232 531.6 Q137.543 532.867 137.209 534.779 Q136.853 537.247 136.853 543.161 Z\" fill=\"#000000\" fill-rule=\"evenodd\" fill-opacity=\"1\" /><path clip-path=\"url(#clip770)\" d=\"M 0 0 M180.653 557.59 Q180.43 557.857 180.03 557.857 Q179.652 557.857 179.385 557.59 L169.958 548.163 L160.532 557.59 Q160.265 557.857 159.865 557.857 Q159.487 557.857 159.242 557.59 Q158.975 557.345 158.975 556.967 Q158.975 556.589 159.242 556.323 L168.669 546.896 L159.242 537.469 Q158.975 537.202 158.975 536.824 Q158.975 536.424 159.242 536.202 Q159.487 535.935 159.865 535.935 Q160.265 535.935 160.532 536.202 L169.958 545.629 L179.385 536.202 Q179.652 535.935 180.03 535.935 Q180.43 535.935 180.653 536.202 Q180.919 536.424 180.919 536.824 Q180.919 537.202 180.653 537.469 L171.226 546.896 L180.653 556.323 Q180.919 556.589 180.919 556.99 Q180.919 557.368 180.653 557.59 Z\" fill=\"#000000\" fill-rule=\"evenodd\" fill-opacity=\"1\" /><path clip-path=\"url(#clip770)\" d=\"M 0 0 M184.966 532.289 L184.966 530.866 Q190.435 530.866 193.259 527.953 Q194.037 527.953 194.17 528.131 Q194.304 528.309 194.304 529.132 L194.304 554.677 Q194.304 556.034 194.971 556.456 Q195.638 556.878 198.55 556.878 L199.995 556.878 L199.995 558.279 Q198.394 558.146 192.614 558.146 Q186.833 558.146 185.255 558.279 L185.255 556.878 L186.7 556.878 Q189.568 556.878 190.257 556.478 Q190.946 556.056 190.946 554.677 L190.946 531.088 Q188.567 532.289 184.966 532.289 Z\" fill=\"#000000\" fill-rule=\"evenodd\" fill-opacity=\"1\" /><path clip-path=\"url(#clip770)\" d=\"M 0 0 M201.774 543.717 Q201.774 537.024 203.464 533.378 Q205.82 527.953 211.379 527.953 Q212.557 527.953 213.78 528.287 Q215.025 528.598 216.581 529.821 Q218.16 531.044 219.116 533.045 Q220.939 536.913 220.939 543.717 Q220.939 550.364 219.249 553.988 Q216.781 559.28 211.334 559.28 Q209.289 559.28 207.199 558.235 Q205.131 557.19 203.819 554.677 Q201.774 550.92 201.774 543.717 M205.553 543.161 Q205.553 550.031 206.043 552.765 Q206.598 555.722 208.11 557.012 Q209.644 558.279 211.334 558.279 Q213.157 558.279 214.669 556.923 Q216.203 555.544 216.67 552.587 Q217.181 549.675 217.159 543.161 Q217.159 536.824 216.714 534.29 Q216.114 531.333 214.513 530.154 Q212.935 528.954 211.334 528.954 Q210.734 528.954 210.089 529.132 Q209.467 529.31 208.555 529.821 Q207.643 530.332 206.932 531.6 Q206.243 532.867 205.909 534.779 Q205.553 537.247 205.553 543.161 Z\" fill=\"#000000\" fill-rule=\"evenodd\" fill-opacity=\"1\" /><path clip-path=\"url(#clip770)\" d=\"M 0 0 M220.939 527.649 Q220.939 526.547 221.535 526.131 Q222.131 525.698 222.763 525.698 Q223.612 525.698 224.1 526.24 Q224.606 526.763 224.606 527.504 Q224.606 528.245 224.1 528.787 Q223.612 529.31 222.763 529.31 Q222.348 529.31 222.131 529.238 Q222.619 530.936 224.1 532.165 Q225.599 533.393 227.568 533.393 Q230.043 533.393 231.524 530.99 Q232.41 529.437 232.41 525.914 Q232.41 522.807 231.741 521.254 Q230.712 518.887 228.598 518.887 Q225.599 518.887 223.829 521.471 Q223.612 521.796 223.359 521.814 Q222.998 521.814 222.908 521.615 Q222.835 521.398 222.835 520.838 L222.835 509.891 Q222.835 509.006 223.197 509.006 Q223.341 509.006 223.648 509.115 Q225.979 510.144 228.562 510.162 Q231.217 510.162 233.602 509.078 Q233.782 508.97 233.891 508.97 Q234.252 508.97 234.27 509.386 Q234.27 509.53 233.963 509.964 Q233.674 510.379 233.042 510.939 Q232.41 511.481 231.597 512.005 Q230.784 512.529 229.592 512.89 Q228.417 513.233 227.117 513.233 Q225.563 513.233 223.974 512.745 L223.974 519.953 Q225.888 518.074 228.67 518.074 Q231.633 518.074 233.674 520.459 Q235.715 522.843 235.715 526.167 Q235.715 529.654 233.295 532.038 Q230.892 534.423 227.641 534.423 Q224.678 534.423 222.799 532.309 Q220.939 530.196 220.939 527.649 Z\" fill=\"#000000\" fill-rule=\"evenodd\" fill-opacity=\"1\" /><path clip-path=\"url(#clip770)\" d=\"M 0 0 M108.106 175.317 L108.106 173.894 Q113.575 173.894 116.399 170.981 Q117.177 170.981 117.311 171.159 Q117.444 171.337 117.444 172.16 L117.444 197.705 Q117.444 199.062 118.111 199.484 Q118.778 199.906 121.691 199.906 L123.136 199.906 L123.136 201.307 Q121.535 201.174 115.754 201.174 Q109.974 201.174 108.395 201.307 L108.395 199.906 L109.84 199.906 Q112.708 199.906 113.398 199.506 Q114.087 199.084 114.087 197.705 L114.087 174.116 Q111.708 175.317 108.106 175.317 Z\" fill=\"#000000\" fill-rule=\"evenodd\" fill-opacity=\"1\" /><path clip-path=\"url(#clip770)\" d=\"M 0 0 M127.693 200.573 Q127.004 199.84 127.004 198.884 Q127.004 197.928 127.693 197.238 Q128.383 196.527 129.428 196.527 Q130.428 196.527 131.095 197.194 Q131.784 197.839 131.784 198.906 Q131.784 199.951 131.051 200.64 Q130.339 201.307 129.428 201.307 Q128.383 201.307 127.693 200.573 Z\" fill=\"#000000\" fill-rule=\"evenodd\" fill-opacity=\"1\" /><path clip-path=\"url(#clip770)\" d=\"M 0 0 M134.052 193.97 Q134.052 192.614 134.786 192.103 Q135.519 191.569 136.298 191.569 Q137.343 191.569 137.943 192.236 Q138.565 192.881 138.565 193.792 Q138.565 194.704 137.943 195.371 Q137.343 196.016 136.298 196.016 Q135.786 196.016 135.519 195.927 Q136.12 198.017 137.943 199.528 Q139.788 201.04 142.212 201.04 Q145.258 201.04 147.081 198.083 Q148.17 196.171 148.17 191.836 Q148.17 188.012 147.347 186.1 Q146.08 183.187 143.479 183.187 Q139.788 183.187 137.609 186.367 Q137.343 186.767 137.031 186.789 Q136.587 186.789 136.475 186.544 Q136.387 186.278 136.387 185.588 L136.387 172.115 Q136.387 171.026 136.831 171.026 Q137.009 171.026 137.387 171.159 Q140.255 172.426 143.434 172.449 Q146.703 172.449 149.637 171.115 Q149.86 170.981 149.993 170.981 Q150.438 170.981 150.46 171.493 Q150.46 171.67 150.082 172.204 Q149.726 172.715 148.948 173.405 Q148.17 174.072 147.17 174.716 Q146.169 175.361 144.702 175.806 Q143.257 176.228 141.656 176.228 Q139.744 176.228 137.787 175.628 L137.787 184.499 Q140.144 182.187 143.568 182.187 Q147.214 182.187 149.726 185.121 Q152.239 188.056 152.239 192.147 Q152.239 196.438 149.259 199.373 Q146.302 202.308 142.301 202.308 Q138.654 202.308 136.342 199.706 Q134.052 197.105 134.052 193.97 Z\" fill=\"#000000\" fill-rule=\"evenodd\" fill-opacity=\"1\" /><path clip-path=\"url(#clip770)\" d=\"M 0 0 M180.653 200.618 Q180.43 200.885 180.03 200.885 Q179.652 200.885 179.385 200.618 L169.958 191.191 L160.532 200.618 Q160.265 200.885 159.865 200.885 Q159.487 200.885 159.242 200.618 Q158.975 200.373 158.975 199.995 Q158.975 199.617 159.242 199.351 L168.669 189.924 L159.242 180.497 Q158.975 180.23 158.975 179.852 Q158.975 179.452 159.242 179.23 Q159.487 178.963 159.865 178.963 Q160.265 178.963 160.532 179.23 L169.958 188.657 L179.385 179.23 Q179.652 178.963 180.03 178.963 Q180.43 178.963 180.653 179.23 Q180.919 179.452 180.919 179.852 Q180.919 180.23 180.653 180.497 L171.226 189.924 L180.653 199.351 Q180.919 199.617 180.919 200.018 Q180.919 200.396 180.653 200.618 Z\" fill=\"#000000\" fill-rule=\"evenodd\" fill-opacity=\"1\" /><path clip-path=\"url(#clip770)\" d=\"M 0 0 M184.966 175.317 L184.966 173.894 Q190.435 173.894 193.259 170.981 Q194.037 170.981 194.17 171.159 Q194.304 171.337 194.304 172.16 L194.304 197.705 Q194.304 199.062 194.971 199.484 Q195.638 199.906 198.55 199.906 L199.995 199.906 L199.995 201.307 Q198.394 201.174 192.614 201.174 Q186.833 201.174 185.255 201.307 L185.255 199.906 L186.7 199.906 Q189.568 199.906 190.257 199.506 Q190.946 199.084 190.946 197.705 L190.946 174.116 Q188.567 175.317 184.966 175.317 Z\" fill=\"#000000\" fill-rule=\"evenodd\" fill-opacity=\"1\" /><path clip-path=\"url(#clip770)\" d=\"M 0 0 M201.774 186.744 Q201.774 180.052 203.464 176.406 Q205.82 170.981 211.379 170.981 Q212.557 170.981 213.78 171.315 Q215.025 171.626 216.581 172.849 Q218.16 174.072 219.116 176.073 Q220.939 179.941 220.939 186.744 Q220.939 193.392 219.249 197.016 Q216.781 202.308 211.334 202.308 Q209.289 202.308 207.199 201.263 Q205.131 200.218 203.819 197.705 Q201.774 193.948 201.774 186.744 M205.553 186.189 Q205.553 193.059 206.043 195.793 Q206.598 198.75 208.11 200.04 Q209.644 201.307 211.334 201.307 Q213.157 201.307 214.669 199.951 Q216.203 198.572 216.67 195.615 Q217.181 192.703 217.159 186.189 Q217.159 179.852 216.714 177.318 Q216.114 174.361 214.513 173.182 Q212.935 171.982 211.334 171.982 Q210.734 171.982 210.089 172.16 Q209.467 172.337 208.555 172.849 Q207.643 173.36 206.932 174.627 Q206.243 175.895 205.909 177.807 Q205.553 180.275 205.553 186.189 Z\" fill=\"#000000\" fill-rule=\"evenodd\" fill-opacity=\"1\" /><path clip-path=\"url(#clip770)\" d=\"M 0 0 M220.939 170.677 Q220.939 169.575 221.535 169.159 Q222.131 168.726 222.763 168.726 Q223.612 168.726 224.1 169.267 Q224.606 169.791 224.606 170.532 Q224.606 171.273 224.1 171.815 Q223.612 172.338 222.763 172.338 Q222.348 172.338 222.131 172.266 Q222.619 173.964 224.1 175.193 Q225.599 176.421 227.568 176.421 Q230.043 176.421 231.524 174.018 Q232.41 172.465 232.41 168.942 Q232.41 165.835 231.741 164.282 Q230.712 161.915 228.598 161.915 Q225.599 161.915 223.829 164.499 Q223.612 164.824 223.359 164.842 Q222.998 164.842 222.908 164.643 Q222.835 164.426 222.835 163.866 L222.835 152.919 Q222.835 152.034 223.197 152.034 Q223.341 152.034 223.648 152.143 Q225.979 153.172 228.562 153.19 Q231.217 153.19 233.602 152.106 Q233.782 151.998 233.891 151.998 Q234.252 151.998 234.27 152.413 Q234.27 152.558 233.963 152.992 Q233.674 153.407 233.042 153.967 Q232.41 154.509 231.597 155.033 Q230.784 155.557 229.592 155.918 Q228.417 156.261 227.117 156.261 Q225.563 156.261 223.974 155.773 L223.974 162.981 Q225.888 161.102 228.67 161.102 Q231.633 161.102 233.674 163.487 Q235.715 165.871 235.715 169.195 Q235.715 172.682 233.295 175.066 Q230.892 177.451 227.641 177.451 Q224.678 177.451 222.799 175.337 Q220.939 173.224 220.939 170.677 Z\" fill=\"#000000\" fill-rule=\"evenodd\" fill-opacity=\"1\" /><path clip-path=\"url(#clip770)\" d=\"M 0 0 M79.2037 791.933 L77.2778 791.933 Q77.2778 789.67 76.8498 788.234 Q76.3913 786.797 75.5659 786.277 Q74.7099 785.757 74.1596 785.635 Q73.5788 785.482 72.6311 785.482 L39.9513 785.482 Q39.0648 785.482 38.8508 785.727 Q38.6368 785.941 38.5145 787.011 Q38.3922 788.876 38.3922 790.129 L38.3922 791.933 L36.4357 791.933 L36.4357 781.294 Q36.4357 780.408 36.558 780.163 Q36.6803 779.919 37.2611 779.491 L69.7575 757.388 L43.0084 757.388 Q42.0607 757.388 41.5104 757.51 Q40.9602 757.633 40.1042 758.183 Q39.2482 758.703 38.8202 760.139 Q38.3922 761.576 38.3922 763.838 L36.4357 763.838 Q36.6192 757.266 36.6192 756.532 Q36.6192 755.768 36.4357 749.195 L38.3922 749.195 Q38.3922 751.457 38.8202 752.894 Q39.2482 754.331 40.1042 754.851 Q40.9602 755.37 41.541 755.523 Q42.0913 755.646 43.0084 755.646 L77.5835 755.646 Q78.5923 755.646 78.898 755.768 Q79.2037 755.89 79.2037 756.502 Q79.2037 756.93 78.3783 757.572 L40.8379 783.128 Q40.471 783.373 40.0736 783.74 L72.6311 783.74 Q73.5788 783.74 74.1596 783.618 Q74.7099 783.495 75.5659 782.976 Q76.3913 782.425 76.8498 780.988 Q77.2778 779.552 77.2778 777.289 L79.2037 777.289 Q79.0203 783.862 79.0203 784.626 Q79.0203 785.36 79.2037 791.933 Z\" fill=\"#000000\" fill-rule=\"evenodd\" fill-opacity=\"1\" /><path clip-path=\"url(#clip770)\" d=\"M 0 0 M54.1666 747.178 L52.2101 747.178 L51.5375 737.976 L72.3254 737.976 Q73.8234 737.976 74.7099 737.854 Q75.5659 737.731 76.5747 737.242 Q77.5835 736.723 78.0421 735.561 Q78.5006 734.369 78.5006 732.473 Q78.5006 729.08 75.7187 727.001 Q72.9368 724.892 68.8098 724.892 L57.6516 724.892 Q55.3283 724.892 54.7474 725.717 Q54.1666 726.543 54.1666 729.783 L52.2101 729.783 L51.5375 720.581 L73.7622 720.581 Q76.0856 720.581 76.697 719.787 Q77.2778 718.961 77.2778 715.69 L79.2037 715.69 L79.9069 724.708 L74.2513 724.708 Q79.8763 727.337 79.9069 732.779 Q79.9069 735.53 79.2037 737.426 Q78.5006 739.29 77.6447 740.238 Q76.7581 741.186 75.0767 741.706 Q73.3954 742.195 72.356 742.256 Q71.3166 742.317 69.2989 742.317 L59.9138 742.317 Q55.6645 742.317 54.9308 742.928 Q54.1666 743.54 54.1666 747.178 Z\" fill=\"#000000\" fill-rule=\"evenodd\" fill-opacity=\"1\" /><path clip-path=\"url(#clip770)\" d=\"M 0 0 M79.2037 713.672 L77.2778 713.672 Q77.2778 710.34 76.8804 709.576 Q76.4524 708.812 74.4348 708.812 L57.6516 708.812 Q55.3283 708.812 54.7474 709.637 Q54.1666 710.432 54.1666 713.672 L52.2101 713.672 L51.5375 704.868 L58.1102 704.868 Q51.5375 701.933 51.5375 695.605 Q51.5375 688.268 57.6516 687.26 Q55.2671 686.19 53.4023 683.958 Q51.5375 681.696 51.5375 678.18 Q51.5375 673.472 53.8609 671.608 Q55.42 670.232 57.1625 669.957 Q58.905 669.682 63.4294 669.682 L75.3824 669.682 Q76.697 669.62 77.0027 668.612 Q77.2778 667.603 77.2778 664.79 L79.2037 664.79 Q79.0203 671.18 79.0203 671.791 Q79.0203 672.28 79.2037 678.883 L77.2778 678.883 Q77.2778 675.551 76.8804 674.787 Q76.4524 673.992 74.4348 673.992 L59.8527 673.992 Q56.6734 673.992 54.8086 674.97 Q52.9132 675.949 52.9132 678.639 Q52.9132 681.879 55.634 684.478 Q58.3547 687.076 62.9403 687.076 L74.4348 687.076 Q76.4524 687.076 76.8804 686.312 Q77.2778 685.517 77.2778 682.185 L79.2037 682.185 Q79.0203 688.574 79.0203 689.216 Q79.0203 689.705 79.2037 696.278 L77.2778 696.278 Q77.2778 692.946 76.8804 692.181 Q76.4524 691.387 74.4348 691.387 L59.8527 691.387 Q56.6734 691.387 54.8086 692.365 Q52.9132 693.343 52.9132 696.033 Q52.9132 699.274 55.634 701.872 Q58.3547 704.471 62.9403 704.471 L74.4348 704.471 Q76.4524 704.471 76.8804 703.707 Q77.2778 702.912 77.2778 699.61 L79.2037 699.61 Q79.0203 705.999 79.0203 706.611 Q79.0203 707.1 79.2037 713.672 Z\" fill=\"#000000\" fill-rule=\"evenodd\" fill-opacity=\"1\" /><path clip-path=\"url(#clip770)\" d=\"M 0 0 M38.3922 664.79 L36.4357 664.79 L35.7632 655.772 L55.6034 655.772 Q51.5375 652.134 51.5375 647.182 Q51.5375 641.801 55.6645 637.858 Q59.7915 633.914 65.6916 633.914 Q71.6529 633.914 75.7799 638.041 Q79.9069 642.168 79.9069 647.885 Q79.9069 653.082 75.3213 656.078 Q79.1426 658.279 79.2037 658.34 L79.2037 659.899 L41.8773 659.899 Q39.5539 659.899 38.9731 660.725 Q38.3922 661.55 38.3922 664.79 M72.0808 655.589 Q73.3954 655.589 74.7099 654.702 Q78.5006 652.226 78.5006 648.191 Q78.5006 648.16 78.5006 648.13 Q78.5006 643.758 74.4959 641.037 Q71.5 639.111 65.6305 639.111 Q59.8221 639.111 56.9179 640.915 Q52.9132 643.422 52.9132 647.488 Q52.9132 652.073 56.9179 654.886 Q57.9267 655.589 59.1801 655.589 L72.0808 655.589 Z\" fill=\"#000000\" fill-rule=\"evenodd\" fill-opacity=\"1\" /><path clip-path=\"url(#clip770)\" d=\"M 0 0 M65.4165 630.429 Q59.5164 630.429 55.3283 626.639 Q51.1401 622.848 51.1401 617.406 Q51.1401 611.904 54.7168 609.061 Q58.2936 606.187 63.4294 606.187 Q64.3771 606.187 64.5605 606.431 Q64.7439 606.676 64.7439 607.746 L64.7439 625.232 Q71.1332 625.232 74.1291 623.337 Q78.3172 620.708 78.3172 616.275 Q78.3172 615.664 78.1949 614.93 Q78.0726 614.196 77.5529 612.698 Q77.0027 611.2 75.5659 609.886 Q74.1291 608.571 71.8668 607.807 Q70.9803 607.624 71.0109 607.012 Q71.0109 606.187 71.7446 606.187 Q72.2948 606.187 73.5482 606.798 Q74.771 607.379 76.2384 608.51 Q77.7058 609.641 78.8063 611.842 Q79.9069 614.013 79.9069 616.642 Q79.9069 622.145 75.7493 626.302 Q71.5611 630.429 65.4165 630.429 M63.4294 625.171 L63.4294 610.314 Q62.1149 610.314 60.6475 610.558 Q59.1801 610.772 57.1625 611.445 Q55.1143 612.087 53.8303 613.616 Q52.5463 615.144 52.5463 617.406 Q52.5463 618.415 52.9743 619.516 Q53.4023 620.586 54.4417 621.9 Q55.4811 623.215 57.835 624.132 Q60.1889 625.049 63.4294 625.171 Z\" fill=\"#000000\" fill-rule=\"evenodd\" fill-opacity=\"1\" /><path clip-path=\"url(#clip770)\" d=\"M 0 0 M79.2037 604.444 L77.2778 604.444 Q77.2778 601.112 76.8804 600.348 Q76.4524 599.553 74.4348 599.553 L57.6516 599.553 Q55.3283 599.553 54.7474 600.379 Q54.1666 601.173 54.1666 604.444 L52.2101 604.444 L51.5375 595.732 L58.4159 595.732 Q55.7257 594.845 53.6469 592.98 Q51.5375 591.085 51.5375 588.028 Q51.5375 586.01 52.6686 584.726 Q53.7997 583.412 55.3588 583.412 Q56.7345 583.412 57.4376 584.268 Q58.1102 585.093 58.1102 586.102 Q58.1102 587.233 57.407 588.028 Q56.6734 588.792 55.42 588.792 Q54.6557 588.792 54.0749 588.456 Q53.4635 588.089 53.2495 587.814 Q53.0355 587.539 52.9743 587.356 Q52.9132 587.478 52.9132 588.028 Q52.9132 591.483 56.3676 593.47 Q59.7915 595.426 64.6828 595.426 L74.3125 595.426 Q76.1161 595.426 76.697 594.692 Q77.2778 593.928 77.2778 590.657 L77.2778 589.343 L79.2037 589.343 Q79.0203 591.849 79.0203 597.291 Q79.0203 598.055 79.0509 599.247 Q79.0815 600.44 79.1426 601.999 Q79.2037 603.558 79.2037 604.444 Z\" fill=\"#000000\" fill-rule=\"evenodd\" fill-opacity=\"1\" /><path clip-path=\"url(#clip770)\" d=\"M 0 0 M1219.57 23.6357 Q1219.57 29.7226 1216.95 35.6988 Q1214.37 41.6382 1210.17 46.1388 Q1206 50.6025 1200.35 53.3693 Q1194.71 56.1361 1188.95 56.1361 L1163.94 56.1361 Q1163.06 56.1361 1162.69 56.0992 Q1162.36 56.0623 1162.1 55.8779 Q1161.84 55.6565 1161.84 55.2138 Q1161.84 54.5129 1162.13 54.2178 Q1162.43 53.8858 1162.76 53.8489 Q1163.09 53.812 1163.94 53.812 Q1165.79 53.812 1166.89 53.7013 Q1168 53.5907 1168.7 53.4431 Q1169.44 53.2586 1169.81 52.7422 Q1170.21 52.2257 1170.4 51.783 Q1170.58 51.3035 1170.84 50.2336 L1180.95 9.65425 Q1181.24 8.43687 1181.24 8.25242 Q1181.24 7.62528 1180.87 7.40394 Q1180.54 7.14571 1179.58 7.03504 Q1177.74 6.88748 1176.34 6.88748 Q1175.41 6.88748 1175.05 6.85059 Q1174.71 6.8137 1174.42 6.62924 Q1174.16 6.4079 1174.16 5.96522 Q1174.16 5.2643 1174.46 4.96918 Q1174.79 4.63716 1175.16 4.60027 Q1175.53 4.52649 1176.41 4.52649 L1201.79 4.52649 Q1207.29 4.52649 1211.38 7.10882 Q1215.48 9.65425 1217.51 13.9704 Q1219.57 18.2497 1219.57 23.6357 M1212.97 20.8689 Q1212.97 13.8229 1209.13 10.3552 Q1205.33 6.88748 1199.32 6.88748 L1191.24 6.88748 Q1188.84 6.88748 1188.25 7.33016 Q1187.66 7.73595 1187.15 9.76492 L1176.78 51.2297 Q1176.41 52.5946 1176.41 52.9635 Q1176.41 53.3693 1176.6 53.5169 Q1176.82 53.6275 1177.41 53.7013 Q1178.07 53.812 1179.07 53.812 L1187.59 53.812 Q1190.87 53.812 1193.86 52.9266 Q1196.88 52.0044 1199.06 50.5657 Q1201.24 49.09 1202.64 47.8358 Q1204.04 46.5446 1205.04 45.2534 Q1207.29 42.3391 1208.95 38.5394 Q1210.64 34.7397 1211.42 31.272 Q1212.23 27.7674 1212.6 25.1851 Q1212.97 22.5659 1212.97 20.8689 Z\" fill=\"#000000\" fill-rule=\"evenodd\" fill-opacity=\"1\" /><path clip-path=\"url(#clip772)\" d=\"\n",
       "M320.456 1250.84 L332.406 1250.83 L344.356 1250.82 L356.306 1250.8 L368.255 1250.76 L380.205 1250.71 L392.155 1250.64 L404.105 1250.55 L416.055 1250.44 L428.005 1250.31 \n",
       "  L439.955 1250.15 L451.905 1249.97 L463.855 1249.76 L475.804 1249.53 L487.754 1249.26 L499.704 1248.96 L511.654 1248.63 L523.604 1248.27 L535.554 1247.87 L547.504 1247.43 \n",
       "  L559.454 1246.96 L571.404 1246.44 L583.353 1245.89 L595.303 1245.29 L607.253 1244.64 L619.203 1243.95 L631.153 1243.21 L643.103 1242.4 L655.053 1241.54 L667.003 1240.62 \n",
       "  L678.953 1239.63 L690.902 1238.57 L702.852 1237.43 L714.802 1236.22 L726.752 1234.93 L738.702 1233.55 L750.652 1232.1 L762.602 1230.57 L774.552 1228.96 L786.502 1227.26 \n",
       "  L798.451 1225.49 L810.401 1223.68 L822.351 1221.77 L834.301 1219.78 L846.251 1217.76 L858.201 1215.69 L870.151 1213.55 L882.101 1211.34 L894.051 1209.05 L906 1206.7 \n",
       "  L917.95 1204.28 L929.9 1201.78 L941.85 1199.2 L953.8 1196.55 L965.75 1193.78 L977.7 1190.92 L989.65 1187.99 L1001.6 1185.09 L1013.55 1182.11 L1025.5 1178.98 \n",
       "  L1037.45 1175.76 L1049.4 1172.45 L1061.35 1169.08 L1073.3 1165.67 L1085.25 1162.18 L1097.2 1158.59 L1109.15 1154.94 L1121.1 1151.26 L1133.05 1147.5 L1145 1143.65 \n",
       "  L1156.95 1139.58 L1168.9 1135.4 L1180.85 1131.14 L1192.8 1126.76 L1204.75 1122.32 L1216.7 1117.92 L1228.65 1113.41 L1240.6 1108.8 L1252.55 1103.9 L1264.5 1098.85 \n",
       "  L1276.45 1093.67 L1288.4 1088.37 L1300.35 1082.94 L1312.3 1077.54 L1324.25 1071.92 L1336.2 1066.4 L1348.15 1060.73 L1360.1 1055.04 L1372.05 1049.06 L1384 1042.69 \n",
       "  L1395.95 1036.35 L1407.9 1029.94 L1419.85 1023.39 L1431.8 1016.69 L1443.75 1009.84 L1455.7 1002.84 L1467.65 995.692 L1479.6 988.386 L1491.55 980.92 L1503.49 973.307 \n",
       "  L1515.44 965.757 L1527.39 958.049 L1539.34 950.183 L1551.29 942.04 L1563.24 933.52 L1575.19 924.811 L1587.14 915.911 L1599.09 906.814 L1611.04 897.518 L1622.99 888.019 \n",
       "  L1634.94 878.41 L1646.89 868.929 L1658.84 859.257 L1670.79 849.392 L1682.74 839.329 L1694.69 829.065 L1706.64 818.597 L1718.59 807.917 L1730.54 797.022 L1742.49 785.91 \n",
       "  L1754.44 774.578 L1766.39 763.021 L1778.34 751.237 L1790.29 739.219 L1802.24 726.965 L1814.19 714.47 L1826.14 701.73 L1838.09 688.741 L1850.04 675.498 L1861.99 661.755 \n",
       "  L1873.94 647.602 L1885.89 633.164 L1897.84 618.829 L1909.79 604.215 L1921.74 589.312 L1933.69 574.122 L1945.64 558.641 L1957.59 542.807 L1969.54 526.445 L1981.49 509.976 \n",
       "  L1993.44 493.444 L2005.39 475.942 L2017.34 458.099 L2029.29 440.004 L2041.24 421.766 L2053.19 403.201 L2065.14 384.308 L2065.14 124.505 L2053.19 152.944 L2041.24 180.757 \n",
       "  L2029.29 207.953 L2017.34 234.544 L2005.39 260.541 L1993.44 285.955 L1981.49 310.796 L1969.54 335.075 L1957.59 358.803 L1945.64 381.989 L1933.69 404.659 L1921.74 426.817 \n",
       "  L1909.79 448.464 L1897.84 469.609 L1885.89 490.264 L1873.94 510.437 L1861.99 530.145 L1850.04 549.848 L1838.09 568.792 L1826.14 586.789 L1814.19 604.37 L1802.24 621.837 \n",
       "  L1790.29 638.888 L1778.34 655.533 L1766.39 671.781 L1754.44 687.3 L1742.49 702.455 L1730.54 717.256 L1718.59 731.713 L1706.64 745.831 L1694.69 759.618 L1682.74 773.08 \n",
       "  L1670.79 786.226 L1658.84 799.066 L1646.89 811.61 L1634.94 824.134 L1622.99 836.489 L1611.04 848.533 L1599.09 860.273 L1587.14 871.716 L1575.19 882.87 L1563.24 893.741 \n",
       "  L1551.29 904.336 L1539.34 914.661 L1527.39 924.728 L1515.44 934.39 L1503.49 943.551 L1491.55 952.492 L1479.6 961.219 L1467.65 969.736 L1455.7 978.049 L1443.75 986.163 \n",
       "  L1431.8 994.164 L1419.85 1002.19 L1407.9 1010 L1395.95 1017.62 L1384 1024.76 L1372.05 1031.73 L1360.1 1038.66 L1348.15 1045.51 L1336.2 1052.17 L1324.25 1058.67 \n",
       "  L1312.3 1064.88 L1300.35 1070.86 L1288.4 1076.71 L1276.45 1082.41 L1264.5 1087.88 L1252.55 1093.21 L1240.6 1098.47 L1228.65 1103.72 L1216.7 1108.73 L1204.75 1113.55 \n",
       "  L1192.8 1118.27 L1180.85 1122.87 L1168.9 1127.35 L1156.95 1131.73 L1145 1136.01 L1133.05 1140.18 L1121.1 1144.32 L1109.15 1148.28 L1097.2 1152.21 L1085.25 1155.99 \n",
       "  L1073.3 1159.7 L1061.35 1163.34 L1049.4 1166.89 L1037.45 1170.36 L1025.5 1173.75 L1013.55 1177.05 L1001.6 1180.27 L989.65 1183.42 L977.7 1186.48 L965.75 1189.47 \n",
       "  L953.8 1192.39 L941.85 1195.25 L929.9 1198.04 L917.95 1200.76 L906 1203.41 L894.051 1205.97 L882.101 1208.43 L870.151 1210.81 L858.201 1213.12 L846.251 1215.35 \n",
       "  L834.301 1217.53 L822.351 1219.61 L810.401 1221.62 L798.451 1223.53 L786.502 1225.38 L774.552 1227.19 L762.602 1228.92 L750.652 1230.55 L738.702 1232.08 L726.752 1233.54 \n",
       "  L714.802 1234.91 L702.852 1236.22 L690.902 1237.45 L678.953 1238.61 L667.003 1239.68 L655.053 1240.68 L643.103 1241.61 L631.153 1242.48 L619.203 1243.3 L607.253 1244.05 \n",
       "  L595.303 1244.76 L583.353 1245.41 L571.404 1246.02 L559.454 1246.59 L547.504 1247.1 L535.554 1247.57 L523.604 1248.01 L511.654 1248.41 L499.704 1248.77 L487.754 1249.09 \n",
       "  L475.804 1249.38 L463.855 1249.64 L451.905 1249.87 L439.955 1250.06 L428.005 1250.23 L416.055 1250.38 L404.105 1250.5 L392.155 1250.6 L380.205 1250.68 L368.255 1250.74 \n",
       "  L356.306 1250.79 L344.356 1250.82 L332.406 1250.83 L320.456 1250.84  Z\n",
       "  \" fill=\"#c271d2\" fill-rule=\"evenodd\" fill-opacity=\"0.25\"/>\n",
       "<polyline clip-path=\"url(#clip772)\" style=\"stroke:#c271d2; stroke-width:0; stroke-opacity:1; fill:none\" points=\"\n",
       "  320.456,1250.84 332.406,1250.83 344.356,1250.82 356.306,1250.8 368.255,1250.76 380.205,1250.71 392.155,1250.64 404.105,1250.55 416.055,1250.44 428.005,1250.31 \n",
       "  439.955,1250.15 451.905,1249.97 463.855,1249.76 475.804,1249.53 487.754,1249.26 499.704,1248.96 511.654,1248.63 523.604,1248.27 535.554,1247.87 547.504,1247.43 \n",
       "  559.454,1246.96 571.404,1246.44 583.353,1245.89 595.303,1245.29 607.253,1244.64 619.203,1243.95 631.153,1243.21 643.103,1242.4 655.053,1241.54 667.003,1240.62 \n",
       "  678.953,1239.63 690.902,1238.57 702.852,1237.43 714.802,1236.22 726.752,1234.93 738.702,1233.55 750.652,1232.1 762.602,1230.57 774.552,1228.96 786.502,1227.26 \n",
       "  798.451,1225.49 810.401,1223.68 822.351,1221.77 834.301,1219.78 846.251,1217.76 858.201,1215.69 870.151,1213.55 882.101,1211.34 894.051,1209.05 906,1206.7 \n",
       "  917.95,1204.28 929.9,1201.78 941.85,1199.2 953.8,1196.55 965.75,1193.78 977.7,1190.92 989.65,1187.99 1001.6,1185.09 1013.55,1182.11 1025.5,1178.98 \n",
       "  1037.45,1175.76 1049.4,1172.45 1061.35,1169.08 1073.3,1165.67 1085.25,1162.18 1097.2,1158.59 1109.15,1154.94 1121.1,1151.26 1133.05,1147.5 1145,1143.65 \n",
       "  1156.95,1139.58 1168.9,1135.4 1180.85,1131.14 1192.8,1126.76 1204.75,1122.32 1216.7,1117.92 1228.65,1113.41 1240.6,1108.8 1252.55,1103.9 1264.5,1098.85 \n",
       "  1276.45,1093.67 1288.4,1088.37 1300.35,1082.94 1312.3,1077.54 1324.25,1071.92 1336.2,1066.4 1348.15,1060.73 1360.1,1055.04 1372.05,1049.06 1384,1042.69 \n",
       "  1395.95,1036.35 1407.9,1029.94 1419.85,1023.39 1431.8,1016.69 1443.75,1009.84 1455.7,1002.84 1467.65,995.692 1479.6,988.386 1491.55,980.92 1503.49,973.307 \n",
       "  1515.44,965.757 1527.39,958.049 1539.34,950.183 1551.29,942.04 1563.24,933.52 1575.19,924.811 1587.14,915.911 1599.09,906.814 1611.04,897.518 1622.99,888.019 \n",
       "  1634.94,878.41 1646.89,868.929 1658.84,859.257 1670.79,849.392 1682.74,839.329 1694.69,829.065 1706.64,818.597 1718.59,807.917 1730.54,797.022 1742.49,785.91 \n",
       "  1754.44,774.578 1766.39,763.021 1778.34,751.237 1790.29,739.219 1802.24,726.965 1814.19,714.47 1826.14,701.73 1838.09,688.741 1850.04,675.498 1861.99,661.755 \n",
       "  1873.94,647.602 1885.89,633.164 1897.84,618.829 1909.79,604.215 1921.74,589.312 1933.69,574.122 1945.64,558.641 1957.59,542.807 1969.54,526.445 1981.49,509.976 \n",
       "  1993.44,493.444 2005.39,475.942 2017.34,458.099 2029.29,440.004 2041.24,421.766 2053.19,403.201 2065.14,384.308 \n",
       "  \"/>\n",
       "<circle clip-path=\"url(#clip772)\" cx=\"320.456\" cy=\"1250.84\" r=\"6\" fill=\"#e26f46\" fill-rule=\"evenodd\" fill-opacity=\"1\" stroke=\"#000000\" stroke-opacity=\"1\" stroke-width=\"0\"/>\n",
       "<circle clip-path=\"url(#clip772)\" cx=\"332.406\" cy=\"1250.83\" r=\"6\" fill=\"#e26f46\" fill-rule=\"evenodd\" fill-opacity=\"1\" stroke=\"#000000\" stroke-opacity=\"1\" stroke-width=\"0\"/>\n",
       "<circle clip-path=\"url(#clip772)\" cx=\"344.356\" cy=\"1250.82\" r=\"6\" fill=\"#e26f46\" fill-rule=\"evenodd\" fill-opacity=\"1\" stroke=\"#000000\" stroke-opacity=\"1\" stroke-width=\"0\"/>\n",
       "<circle clip-path=\"url(#clip772)\" cx=\"356.306\" cy=\"1250.8\" r=\"6\" fill=\"#e26f46\" fill-rule=\"evenodd\" fill-opacity=\"1\" stroke=\"#000000\" stroke-opacity=\"1\" stroke-width=\"0\"/>\n",
       "<circle clip-path=\"url(#clip772)\" cx=\"368.255\" cy=\"1250.75\" r=\"6\" fill=\"#e26f46\" fill-rule=\"evenodd\" fill-opacity=\"1\" stroke=\"#000000\" stroke-opacity=\"1\" stroke-width=\"0\"/>\n",
       "<circle clip-path=\"url(#clip772)\" cx=\"380.205\" cy=\"1250.7\" r=\"6\" fill=\"#e26f46\" fill-rule=\"evenodd\" fill-opacity=\"1\" stroke=\"#000000\" stroke-opacity=\"1\" stroke-width=\"0\"/>\n",
       "<circle clip-path=\"url(#clip772)\" cx=\"392.155\" cy=\"1250.6\" r=\"6\" fill=\"#e26f46\" fill-rule=\"evenodd\" fill-opacity=\"1\" stroke=\"#000000\" stroke-opacity=\"1\" stroke-width=\"0\"/>\n",
       "<circle clip-path=\"url(#clip772)\" cx=\"404.105\" cy=\"1250.54\" r=\"6\" fill=\"#e26f46\" fill-rule=\"evenodd\" fill-opacity=\"1\" stroke=\"#000000\" stroke-opacity=\"1\" stroke-width=\"0\"/>\n",
       "<circle clip-path=\"url(#clip772)\" cx=\"416.055\" cy=\"1250.45\" r=\"6\" fill=\"#e26f46\" fill-rule=\"evenodd\" fill-opacity=\"1\" stroke=\"#000000\" stroke-opacity=\"1\" stroke-width=\"0\"/>\n",
       "<circle clip-path=\"url(#clip772)\" cx=\"428.005\" cy=\"1250.3\" r=\"6\" fill=\"#e26f46\" fill-rule=\"evenodd\" fill-opacity=\"1\" stroke=\"#000000\" stroke-opacity=\"1\" stroke-width=\"0\"/>\n",
       "<circle clip-path=\"url(#clip772)\" cx=\"439.955\" cy=\"1250.16\" r=\"6\" fill=\"#e26f46\" fill-rule=\"evenodd\" fill-opacity=\"1\" stroke=\"#000000\" stroke-opacity=\"1\" stroke-width=\"0\"/>\n",
       "<circle clip-path=\"url(#clip772)\" cx=\"451.905\" cy=\"1249.98\" r=\"6\" fill=\"#e26f46\" fill-rule=\"evenodd\" fill-opacity=\"1\" stroke=\"#000000\" stroke-opacity=\"1\" stroke-width=\"0\"/>\n",
       "<circle clip-path=\"url(#clip772)\" cx=\"463.855\" cy=\"1249.75\" r=\"6\" fill=\"#e26f46\" fill-rule=\"evenodd\" fill-opacity=\"1\" stroke=\"#000000\" stroke-opacity=\"1\" stroke-width=\"0\"/>\n",
       "<circle clip-path=\"url(#clip772)\" cx=\"475.804\" cy=\"1249.51\" r=\"6\" fill=\"#e26f46\" fill-rule=\"evenodd\" fill-opacity=\"1\" stroke=\"#000000\" stroke-opacity=\"1\" stroke-width=\"0\"/>\n",
       "<circle clip-path=\"url(#clip772)\" cx=\"487.754\" cy=\"1249.32\" r=\"6\" fill=\"#e26f46\" fill-rule=\"evenodd\" fill-opacity=\"1\" stroke=\"#000000\" stroke-opacity=\"1\" stroke-width=\"0\"/>\n",
       "<circle clip-path=\"url(#clip772)\" cx=\"499.704\" cy=\"1248.94\" r=\"6\" fill=\"#e26f46\" fill-rule=\"evenodd\" fill-opacity=\"1\" stroke=\"#000000\" stroke-opacity=\"1\" stroke-width=\"0\"/>\n",
       "<circle clip-path=\"url(#clip772)\" cx=\"511.654\" cy=\"1248.54\" r=\"6\" fill=\"#e26f46\" fill-rule=\"evenodd\" fill-opacity=\"1\" stroke=\"#000000\" stroke-opacity=\"1\" stroke-width=\"0\"/>\n",
       "<circle clip-path=\"url(#clip772)\" cx=\"523.604\" cy=\"1248.21\" r=\"6\" fill=\"#e26f46\" fill-rule=\"evenodd\" fill-opacity=\"1\" stroke=\"#000000\" stroke-opacity=\"1\" stroke-width=\"0\"/>\n",
       "<circle clip-path=\"url(#clip772)\" cx=\"535.554\" cy=\"1247.83\" r=\"6\" fill=\"#e26f46\" fill-rule=\"evenodd\" fill-opacity=\"1\" stroke=\"#000000\" stroke-opacity=\"1\" stroke-width=\"0\"/>\n",
       "<circle clip-path=\"url(#clip772)\" cx=\"547.504\" cy=\"1247.36\" r=\"6\" fill=\"#e26f46\" fill-rule=\"evenodd\" fill-opacity=\"1\" stroke=\"#000000\" stroke-opacity=\"1\" stroke-width=\"0\"/>\n",
       "<circle clip-path=\"url(#clip772)\" cx=\"559.454\" cy=\"1246.87\" r=\"6\" fill=\"#e26f46\" fill-rule=\"evenodd\" fill-opacity=\"1\" stroke=\"#000000\" stroke-opacity=\"1\" stroke-width=\"0\"/>\n",
       "<circle clip-path=\"url(#clip772)\" cx=\"571.404\" cy=\"1246.36\" r=\"6\" fill=\"#e26f46\" fill-rule=\"evenodd\" fill-opacity=\"1\" stroke=\"#000000\" stroke-opacity=\"1\" stroke-width=\"0\"/>\n",
       "<circle clip-path=\"url(#clip772)\" cx=\"583.353\" cy=\"1245.79\" r=\"6\" fill=\"#e26f46\" fill-rule=\"evenodd\" fill-opacity=\"1\" stroke=\"#000000\" stroke-opacity=\"1\" stroke-width=\"0\"/>\n",
       "<circle clip-path=\"url(#clip772)\" cx=\"595.303\" cy=\"1245.13\" r=\"6\" fill=\"#e26f46\" fill-rule=\"evenodd\" fill-opacity=\"1\" stroke=\"#000000\" stroke-opacity=\"1\" stroke-width=\"0\"/>\n",
       "<circle clip-path=\"url(#clip772)\" cx=\"607.253\" cy=\"1244.45\" r=\"6\" fill=\"#e26f46\" fill-rule=\"evenodd\" fill-opacity=\"1\" stroke=\"#000000\" stroke-opacity=\"1\" stroke-width=\"0\"/>\n",
       "<circle clip-path=\"url(#clip772)\" cx=\"619.203\" cy=\"1243.86\" r=\"6\" fill=\"#e26f46\" fill-rule=\"evenodd\" fill-opacity=\"1\" stroke=\"#000000\" stroke-opacity=\"1\" stroke-width=\"0\"/>\n",
       "<circle clip-path=\"url(#clip772)\" cx=\"631.153\" cy=\"1243.07\" r=\"6\" fill=\"#e26f46\" fill-rule=\"evenodd\" fill-opacity=\"1\" stroke=\"#000000\" stroke-opacity=\"1\" stroke-width=\"0\"/>\n",
       "<circle clip-path=\"url(#clip772)\" cx=\"643.103\" cy=\"1242.28\" r=\"6\" fill=\"#e26f46\" fill-rule=\"evenodd\" fill-opacity=\"1\" stroke=\"#000000\" stroke-opacity=\"1\" stroke-width=\"0\"/>\n",
       "<circle clip-path=\"url(#clip772)\" cx=\"655.053\" cy=\"1241.31\" r=\"6\" fill=\"#e26f46\" fill-rule=\"evenodd\" fill-opacity=\"1\" stroke=\"#000000\" stroke-opacity=\"1\" stroke-width=\"0\"/>\n",
       "<circle clip-path=\"url(#clip772)\" cx=\"667.003\" cy=\"1240.11\" r=\"6\" fill=\"#e26f46\" fill-rule=\"evenodd\" fill-opacity=\"1\" stroke=\"#000000\" stroke-opacity=\"1\" stroke-width=\"0\"/>\n",
       "<circle clip-path=\"url(#clip772)\" cx=\"678.953\" cy=\"1238.97\" r=\"6\" fill=\"#e26f46\" fill-rule=\"evenodd\" fill-opacity=\"1\" stroke=\"#000000\" stroke-opacity=\"1\" stroke-width=\"0\"/>\n",
       "<circle clip-path=\"url(#clip772)\" cx=\"690.902\" cy=\"1237.78\" r=\"6\" fill=\"#e26f46\" fill-rule=\"evenodd\" fill-opacity=\"1\" stroke=\"#000000\" stroke-opacity=\"1\" stroke-width=\"0\"/>\n",
       "<circle clip-path=\"url(#clip772)\" cx=\"702.852\" cy=\"1236.6\" r=\"6\" fill=\"#e26f46\" fill-rule=\"evenodd\" fill-opacity=\"1\" stroke=\"#000000\" stroke-opacity=\"1\" stroke-width=\"0\"/>\n",
       "<circle clip-path=\"url(#clip772)\" cx=\"714.802\" cy=\"1235.15\" r=\"6\" fill=\"#e26f46\" fill-rule=\"evenodd\" fill-opacity=\"1\" stroke=\"#000000\" stroke-opacity=\"1\" stroke-width=\"0\"/>\n",
       "<circle clip-path=\"url(#clip772)\" cx=\"726.752\" cy=\"1233.55\" r=\"6\" fill=\"#e26f46\" fill-rule=\"evenodd\" fill-opacity=\"1\" stroke=\"#000000\" stroke-opacity=\"1\" stroke-width=\"0\"/>\n",
       "<circle clip-path=\"url(#clip772)\" cx=\"738.702\" cy=\"1231.86\" r=\"6\" fill=\"#e26f46\" fill-rule=\"evenodd\" fill-opacity=\"1\" stroke=\"#000000\" stroke-opacity=\"1\" stroke-width=\"0\"/>\n",
       "<circle clip-path=\"url(#clip772)\" cx=\"750.652\" cy=\"1230.34\" r=\"6\" fill=\"#e26f46\" fill-rule=\"evenodd\" fill-opacity=\"1\" stroke=\"#000000\" stroke-opacity=\"1\" stroke-width=\"0\"/>\n",
       "<circle clip-path=\"url(#clip772)\" cx=\"762.602\" cy=\"1228.82\" r=\"6\" fill=\"#e26f46\" fill-rule=\"evenodd\" fill-opacity=\"1\" stroke=\"#000000\" stroke-opacity=\"1\" stroke-width=\"0\"/>\n",
       "<circle clip-path=\"url(#clip772)\" cx=\"774.552\" cy=\"1226.87\" r=\"6\" fill=\"#e26f46\" fill-rule=\"evenodd\" fill-opacity=\"1\" stroke=\"#000000\" stroke-opacity=\"1\" stroke-width=\"0\"/>\n",
       "<circle clip-path=\"url(#clip772)\" cx=\"786.502\" cy=\"1224.98\" r=\"6\" fill=\"#e26f46\" fill-rule=\"evenodd\" fill-opacity=\"1\" stroke=\"#000000\" stroke-opacity=\"1\" stroke-width=\"0\"/>\n",
       "<circle clip-path=\"url(#clip772)\" cx=\"798.451\" cy=\"1222.83\" r=\"6\" fill=\"#e26f46\" fill-rule=\"evenodd\" fill-opacity=\"1\" stroke=\"#000000\" stroke-opacity=\"1\" stroke-width=\"0\"/>\n",
       "<circle clip-path=\"url(#clip772)\" cx=\"810.401\" cy=\"1220.95\" r=\"6\" fill=\"#e26f46\" fill-rule=\"evenodd\" fill-opacity=\"1\" stroke=\"#000000\" stroke-opacity=\"1\" stroke-width=\"0\"/>\n",
       "<circle clip-path=\"url(#clip772)\" cx=\"822.351\" cy=\"1219.06\" r=\"6\" fill=\"#e26f46\" fill-rule=\"evenodd\" fill-opacity=\"1\" stroke=\"#000000\" stroke-opacity=\"1\" stroke-width=\"0\"/>\n",
       "<circle clip-path=\"url(#clip772)\" cx=\"834.301\" cy=\"1216.66\" r=\"6\" fill=\"#e26f46\" fill-rule=\"evenodd\" fill-opacity=\"1\" stroke=\"#000000\" stroke-opacity=\"1\" stroke-width=\"0\"/>\n",
       "<circle clip-path=\"url(#clip772)\" cx=\"846.251\" cy=\"1214.4\" r=\"6\" fill=\"#e26f46\" fill-rule=\"evenodd\" fill-opacity=\"1\" stroke=\"#000000\" stroke-opacity=\"1\" stroke-width=\"0\"/>\n",
       "<circle clip-path=\"url(#clip772)\" cx=\"858.201\" cy=\"1212.22\" r=\"6\" fill=\"#e26f46\" fill-rule=\"evenodd\" fill-opacity=\"1\" stroke=\"#000000\" stroke-opacity=\"1\" stroke-width=\"0\"/>\n",
       "<circle clip-path=\"url(#clip772)\" cx=\"870.151\" cy=\"1210.1\" r=\"6\" fill=\"#e26f46\" fill-rule=\"evenodd\" fill-opacity=\"1\" stroke=\"#000000\" stroke-opacity=\"1\" stroke-width=\"0\"/>\n",
       "<circle clip-path=\"url(#clip772)\" cx=\"882.101\" cy=\"1207.77\" r=\"6\" fill=\"#e26f46\" fill-rule=\"evenodd\" fill-opacity=\"1\" stroke=\"#000000\" stroke-opacity=\"1\" stroke-width=\"0\"/>\n",
       "<circle clip-path=\"url(#clip772)\" cx=\"894.051\" cy=\"1205.54\" r=\"6\" fill=\"#e26f46\" fill-rule=\"evenodd\" fill-opacity=\"1\" stroke=\"#000000\" stroke-opacity=\"1\" stroke-width=\"0\"/>\n",
       "<circle clip-path=\"url(#clip772)\" cx=\"906\" cy=\"1203.24\" r=\"6\" fill=\"#e26f46\" fill-rule=\"evenodd\" fill-opacity=\"1\" stroke=\"#000000\" stroke-opacity=\"1\" stroke-width=\"0\"/>\n",
       "<circle clip-path=\"url(#clip772)\" cx=\"917.95\" cy=\"1200.78\" r=\"6\" fill=\"#e26f46\" fill-rule=\"evenodd\" fill-opacity=\"1\" stroke=\"#000000\" stroke-opacity=\"1\" stroke-width=\"0\"/>\n",
       "<circle clip-path=\"url(#clip772)\" cx=\"929.9\" cy=\"1198.32\" r=\"6\" fill=\"#e26f46\" fill-rule=\"evenodd\" fill-opacity=\"1\" stroke=\"#000000\" stroke-opacity=\"1\" stroke-width=\"0\"/>\n",
       "<circle clip-path=\"url(#clip772)\" cx=\"941.85\" cy=\"1195.6\" r=\"6\" fill=\"#e26f46\" fill-rule=\"evenodd\" fill-opacity=\"1\" stroke=\"#000000\" stroke-opacity=\"1\" stroke-width=\"0\"/>\n",
       "<circle clip-path=\"url(#clip772)\" cx=\"953.8\" cy=\"1192.62\" r=\"6\" fill=\"#e26f46\" fill-rule=\"evenodd\" fill-opacity=\"1\" stroke=\"#000000\" stroke-opacity=\"1\" stroke-width=\"0\"/>\n",
       "<circle clip-path=\"url(#clip772)\" cx=\"965.75\" cy=\"1189.54\" r=\"6\" fill=\"#e26f46\" fill-rule=\"evenodd\" fill-opacity=\"1\" stroke=\"#000000\" stroke-opacity=\"1\" stroke-width=\"0\"/>\n",
       "<circle clip-path=\"url(#clip772)\" cx=\"977.7\" cy=\"1186.7\" r=\"6\" fill=\"#e26f46\" fill-rule=\"evenodd\" fill-opacity=\"1\" stroke=\"#000000\" stroke-opacity=\"1\" stroke-width=\"0\"/>\n",
       "<circle clip-path=\"url(#clip772)\" cx=\"989.65\" cy=\"1183.44\" r=\"6\" fill=\"#e26f46\" fill-rule=\"evenodd\" fill-opacity=\"1\" stroke=\"#000000\" stroke-opacity=\"1\" stroke-width=\"0\"/>\n",
       "<circle clip-path=\"url(#clip772)\" cx=\"1001.6\" cy=\"1180.18\" r=\"6\" fill=\"#e26f46\" fill-rule=\"evenodd\" fill-opacity=\"1\" stroke=\"#000000\" stroke-opacity=\"1\" stroke-width=\"0\"/>\n",
       "<circle clip-path=\"url(#clip772)\" cx=\"1013.55\" cy=\"1176.88\" r=\"6\" fill=\"#e26f46\" fill-rule=\"evenodd\" fill-opacity=\"1\" stroke=\"#000000\" stroke-opacity=\"1\" stroke-width=\"0\"/>\n",
       "<circle clip-path=\"url(#clip772)\" cx=\"1025.5\" cy=\"1173.58\" r=\"6\" fill=\"#e26f46\" fill-rule=\"evenodd\" fill-opacity=\"1\" stroke=\"#000000\" stroke-opacity=\"1\" stroke-width=\"0\"/>\n",
       "<circle clip-path=\"url(#clip772)\" cx=\"1037.45\" cy=\"1170.33\" r=\"6\" fill=\"#e26f46\" fill-rule=\"evenodd\" fill-opacity=\"1\" stroke=\"#000000\" stroke-opacity=\"1\" stroke-width=\"0\"/>\n",
       "<circle clip-path=\"url(#clip772)\" cx=\"1049.4\" cy=\"1167.17\" r=\"6\" fill=\"#e26f46\" fill-rule=\"evenodd\" fill-opacity=\"1\" stroke=\"#000000\" stroke-opacity=\"1\" stroke-width=\"0\"/>\n",
       "<circle clip-path=\"url(#clip772)\" cx=\"1061.35\" cy=\"1164.01\" r=\"6\" fill=\"#e26f46\" fill-rule=\"evenodd\" fill-opacity=\"1\" stroke=\"#000000\" stroke-opacity=\"1\" stroke-width=\"0\"/>\n",
       "<circle clip-path=\"url(#clip772)\" cx=\"1073.3\" cy=\"1160.6\" r=\"6\" fill=\"#e26f46\" fill-rule=\"evenodd\" fill-opacity=\"1\" stroke=\"#000000\" stroke-opacity=\"1\" stroke-width=\"0\"/>\n",
       "<circle clip-path=\"url(#clip772)\" cx=\"1085.25\" cy=\"1157.08\" r=\"6\" fill=\"#e26f46\" fill-rule=\"evenodd\" fill-opacity=\"1\" stroke=\"#000000\" stroke-opacity=\"1\" stroke-width=\"0\"/>\n",
       "<circle clip-path=\"url(#clip772)\" cx=\"1097.2\" cy=\"1153.56\" r=\"6\" fill=\"#e26f46\" fill-rule=\"evenodd\" fill-opacity=\"1\" stroke=\"#000000\" stroke-opacity=\"1\" stroke-width=\"0\"/>\n",
       "<circle clip-path=\"url(#clip772)\" cx=\"1109.15\" cy=\"1150.22\" r=\"6\" fill=\"#e26f46\" fill-rule=\"evenodd\" fill-opacity=\"1\" stroke=\"#000000\" stroke-opacity=\"1\" stroke-width=\"0\"/>\n",
       "<circle clip-path=\"url(#clip772)\" cx=\"1121.1\" cy=\"1146.67\" r=\"6\" fill=\"#e26f46\" fill-rule=\"evenodd\" fill-opacity=\"1\" stroke=\"#000000\" stroke-opacity=\"1\" stroke-width=\"0\"/>\n",
       "<circle clip-path=\"url(#clip772)\" cx=\"1133.05\" cy=\"1143.43\" r=\"6\" fill=\"#e26f46\" fill-rule=\"evenodd\" fill-opacity=\"1\" stroke=\"#000000\" stroke-opacity=\"1\" stroke-width=\"0\"/>\n",
       "<circle clip-path=\"url(#clip772)\" cx=\"1145\" cy=\"1139.88\" r=\"6\" fill=\"#e26f46\" fill-rule=\"evenodd\" fill-opacity=\"1\" stroke=\"#000000\" stroke-opacity=\"1\" stroke-width=\"0\"/>\n",
       "<circle clip-path=\"url(#clip772)\" cx=\"1156.95\" cy=\"1136.18\" r=\"6\" fill=\"#e26f46\" fill-rule=\"evenodd\" fill-opacity=\"1\" stroke=\"#000000\" stroke-opacity=\"1\" stroke-width=\"0\"/>\n",
       "<circle clip-path=\"url(#clip772)\" cx=\"1168.9\" cy=\"1132.15\" r=\"6\" fill=\"#e26f46\" fill-rule=\"evenodd\" fill-opacity=\"1\" stroke=\"#000000\" stroke-opacity=\"1\" stroke-width=\"0\"/>\n",
       "<circle clip-path=\"url(#clip772)\" cx=\"1180.85\" cy=\"1128.51\" r=\"6\" fill=\"#e26f46\" fill-rule=\"evenodd\" fill-opacity=\"1\" stroke=\"#000000\" stroke-opacity=\"1\" stroke-width=\"0\"/>\n",
       "<circle clip-path=\"url(#clip772)\" cx=\"1192.8\" cy=\"1124.59\" r=\"6\" fill=\"#e26f46\" fill-rule=\"evenodd\" fill-opacity=\"1\" stroke=\"#000000\" stroke-opacity=\"1\" stroke-width=\"0\"/>\n",
       "<circle clip-path=\"url(#clip772)\" cx=\"1204.75\" cy=\"1120.7\" r=\"6\" fill=\"#e26f46\" fill-rule=\"evenodd\" fill-opacity=\"1\" stroke=\"#000000\" stroke-opacity=\"1\" stroke-width=\"0\"/>\n",
       "<circle clip-path=\"url(#clip772)\" cx=\"1216.7\" cy=\"1117\" r=\"6\" fill=\"#e26f46\" fill-rule=\"evenodd\" fill-opacity=\"1\" stroke=\"#000000\" stroke-opacity=\"1\" stroke-width=\"0\"/>\n",
       "<circle clip-path=\"url(#clip772)\" cx=\"1228.65\" cy=\"1113.03\" r=\"6\" fill=\"#e26f46\" fill-rule=\"evenodd\" fill-opacity=\"1\" stroke=\"#000000\" stroke-opacity=\"1\" stroke-width=\"0\"/>\n",
       "<circle clip-path=\"url(#clip772)\" cx=\"1240.6\" cy=\"1108.86\" r=\"6\" fill=\"#e26f46\" fill-rule=\"evenodd\" fill-opacity=\"1\" stroke=\"#000000\" stroke-opacity=\"1\" stroke-width=\"0\"/>\n",
       "<circle clip-path=\"url(#clip772)\" cx=\"1252.55\" cy=\"1104.46\" r=\"6\" fill=\"#e26f46\" fill-rule=\"evenodd\" fill-opacity=\"1\" stroke=\"#000000\" stroke-opacity=\"1\" stroke-width=\"0\"/>\n",
       "<circle clip-path=\"url(#clip772)\" cx=\"1264.5\" cy=\"1100.31\" r=\"6\" fill=\"#e26f46\" fill-rule=\"evenodd\" fill-opacity=\"1\" stroke=\"#000000\" stroke-opacity=\"1\" stroke-width=\"0\"/>\n",
       "<circle clip-path=\"url(#clip772)\" cx=\"1276.45\" cy=\"1095.99\" r=\"6\" fill=\"#e26f46\" fill-rule=\"evenodd\" fill-opacity=\"1\" stroke=\"#000000\" stroke-opacity=\"1\" stroke-width=\"0\"/>\n",
       "<circle clip-path=\"url(#clip772)\" cx=\"1288.4\" cy=\"1091.98\" r=\"6\" fill=\"#3da44d\" fill-rule=\"evenodd\" fill-opacity=\"1\" stroke=\"#000000\" stroke-opacity=\"1\" stroke-width=\"0\"/>\n",
       "<circle clip-path=\"url(#clip772)\" cx=\"1300.35\" cy=\"1087.51\" r=\"6\" fill=\"#3da44d\" fill-rule=\"evenodd\" fill-opacity=\"1\" stroke=\"#000000\" stroke-opacity=\"1\" stroke-width=\"0\"/>\n",
       "<circle clip-path=\"url(#clip772)\" cx=\"1312.3\" cy=\"1083.35\" r=\"6\" fill=\"#3da44d\" fill-rule=\"evenodd\" fill-opacity=\"1\" stroke=\"#000000\" stroke-opacity=\"1\" stroke-width=\"0\"/>\n",
       "<circle clip-path=\"url(#clip772)\" cx=\"1324.25\" cy=\"1078.99\" r=\"6\" fill=\"#3da44d\" fill-rule=\"evenodd\" fill-opacity=\"1\" stroke=\"#000000\" stroke-opacity=\"1\" stroke-width=\"0\"/>\n",
       "<circle clip-path=\"url(#clip772)\" cx=\"1336.2\" cy=\"1074.67\" r=\"6\" fill=\"#3da44d\" fill-rule=\"evenodd\" fill-opacity=\"1\" stroke=\"#000000\" stroke-opacity=\"1\" stroke-width=\"0\"/>\n",
       "<circle clip-path=\"url(#clip772)\" cx=\"1348.15\" cy=\"1069.87\" r=\"6\" fill=\"#3da44d\" fill-rule=\"evenodd\" fill-opacity=\"1\" stroke=\"#000000\" stroke-opacity=\"1\" stroke-width=\"0\"/>\n",
       "<circle clip-path=\"url(#clip772)\" cx=\"1360.1\" cy=\"1065.22\" r=\"6\" fill=\"#3da44d\" fill-rule=\"evenodd\" fill-opacity=\"1\" stroke=\"#000000\" stroke-opacity=\"1\" stroke-width=\"0\"/>\n",
       "<circle clip-path=\"url(#clip772)\" cx=\"1372.05\" cy=\"1061.04\" r=\"6\" fill=\"#3da44d\" fill-rule=\"evenodd\" fill-opacity=\"1\" stroke=\"#000000\" stroke-opacity=\"1\" stroke-width=\"0\"/>\n",
       "<circle clip-path=\"url(#clip772)\" cx=\"1384\" cy=\"1056.97\" r=\"6\" fill=\"#3da44d\" fill-rule=\"evenodd\" fill-opacity=\"1\" stroke=\"#000000\" stroke-opacity=\"1\" stroke-width=\"0\"/>\n",
       "<circle clip-path=\"url(#clip772)\" cx=\"1395.95\" cy=\"1053.38\" r=\"6\" fill=\"#3da44d\" fill-rule=\"evenodd\" fill-opacity=\"1\" stroke=\"#000000\" stroke-opacity=\"1\" stroke-width=\"0\"/>\n",
       "<circle clip-path=\"url(#clip772)\" cx=\"1407.9\" cy=\"1049.23\" r=\"6\" fill=\"#3da44d\" fill-rule=\"evenodd\" fill-opacity=\"1\" stroke=\"#000000\" stroke-opacity=\"1\" stroke-width=\"0\"/>\n",
       "<circle clip-path=\"url(#clip772)\" cx=\"1419.85\" cy=\"1045.06\" r=\"6\" fill=\"#3da44d\" fill-rule=\"evenodd\" fill-opacity=\"1\" stroke=\"#000000\" stroke-opacity=\"1\" stroke-width=\"0\"/>\n",
       "<circle clip-path=\"url(#clip772)\" cx=\"1431.8\" cy=\"1040.97\" r=\"6\" fill=\"#3da44d\" fill-rule=\"evenodd\" fill-opacity=\"1\" stroke=\"#000000\" stroke-opacity=\"1\" stroke-width=\"0\"/>\n",
       "<circle clip-path=\"url(#clip772)\" cx=\"1443.75\" cy=\"1036.96\" r=\"6\" fill=\"#3da44d\" fill-rule=\"evenodd\" fill-opacity=\"1\" stroke=\"#000000\" stroke-opacity=\"1\" stroke-width=\"0\"/>\n",
       "<circle clip-path=\"url(#clip772)\" cx=\"1455.7\" cy=\"1033.1\" r=\"6\" fill=\"#3da44d\" fill-rule=\"evenodd\" fill-opacity=\"1\" stroke=\"#000000\" stroke-opacity=\"1\" stroke-width=\"0\"/>\n",
       "<circle clip-path=\"url(#clip772)\" cx=\"1467.65\" cy=\"1028.84\" r=\"6\" fill=\"#3da44d\" fill-rule=\"evenodd\" fill-opacity=\"1\" stroke=\"#000000\" stroke-opacity=\"1\" stroke-width=\"0\"/>\n",
       "<circle clip-path=\"url(#clip772)\" cx=\"1479.6\" cy=\"1024.61\" r=\"6\" fill=\"#3da44d\" fill-rule=\"evenodd\" fill-opacity=\"1\" stroke=\"#000000\" stroke-opacity=\"1\" stroke-width=\"0\"/>\n",
       "<circle clip-path=\"url(#clip772)\" cx=\"1491.55\" cy=\"1020.44\" r=\"6\" fill=\"#3da44d\" fill-rule=\"evenodd\" fill-opacity=\"1\" stroke=\"#000000\" stroke-opacity=\"1\" stroke-width=\"0\"/>\n",
       "<circle clip-path=\"url(#clip772)\" cx=\"1503.49\" cy=\"1015.8\" r=\"6\" fill=\"#3da44d\" fill-rule=\"evenodd\" fill-opacity=\"1\" stroke=\"#000000\" stroke-opacity=\"1\" stroke-width=\"0\"/>\n",
       "<circle clip-path=\"url(#clip772)\" cx=\"1515.44\" cy=\"1011.4\" r=\"6\" fill=\"#3da44d\" fill-rule=\"evenodd\" fill-opacity=\"1\" stroke=\"#000000\" stroke-opacity=\"1\" stroke-width=\"0\"/>\n",
       "<circle clip-path=\"url(#clip772)\" cx=\"1527.39\" cy=\"1007.16\" r=\"6\" fill=\"#3da44d\" fill-rule=\"evenodd\" fill-opacity=\"1\" stroke=\"#000000\" stroke-opacity=\"1\" stroke-width=\"0\"/>\n",
       "<circle clip-path=\"url(#clip772)\" cx=\"1539.34\" cy=\"1002.99\" r=\"6\" fill=\"#3da44d\" fill-rule=\"evenodd\" fill-opacity=\"1\" stroke=\"#000000\" stroke-opacity=\"1\" stroke-width=\"0\"/>\n",
       "<circle clip-path=\"url(#clip772)\" cx=\"1551.29\" cy=\"998.725\" r=\"6\" fill=\"#3da44d\" fill-rule=\"evenodd\" fill-opacity=\"1\" stroke=\"#000000\" stroke-opacity=\"1\" stroke-width=\"0\"/>\n",
       "<circle clip-path=\"url(#clip772)\" cx=\"1563.24\" cy=\"994.305\" r=\"6\" fill=\"#3da44d\" fill-rule=\"evenodd\" fill-opacity=\"1\" stroke=\"#000000\" stroke-opacity=\"1\" stroke-width=\"0\"/>\n",
       "<circle clip-path=\"url(#clip772)\" cx=\"1575.19\" cy=\"989.622\" r=\"6\" fill=\"#3da44d\" fill-rule=\"evenodd\" fill-opacity=\"1\" stroke=\"#000000\" stroke-opacity=\"1\" stroke-width=\"0\"/>\n",
       "<circle clip-path=\"url(#clip772)\" cx=\"1587.14\" cy=\"984.467\" r=\"6\" fill=\"#3da44d\" fill-rule=\"evenodd\" fill-opacity=\"1\" stroke=\"#000000\" stroke-opacity=\"1\" stroke-width=\"0\"/>\n",
       "<circle clip-path=\"url(#clip772)\" cx=\"1599.09\" cy=\"979.505\" r=\"6\" fill=\"#3da44d\" fill-rule=\"evenodd\" fill-opacity=\"1\" stroke=\"#000000\" stroke-opacity=\"1\" stroke-width=\"0\"/>\n",
       "<circle clip-path=\"url(#clip772)\" cx=\"1611.04\" cy=\"974.979\" r=\"6\" fill=\"#3da44d\" fill-rule=\"evenodd\" fill-opacity=\"1\" stroke=\"#000000\" stroke-opacity=\"1\" stroke-width=\"0\"/>\n",
       "<circle clip-path=\"url(#clip772)\" cx=\"1622.99\" cy=\"970.367\" r=\"6\" fill=\"#3da44d\" fill-rule=\"evenodd\" fill-opacity=\"1\" stroke=\"#000000\" stroke-opacity=\"1\" stroke-width=\"0\"/>\n",
       "<circle clip-path=\"url(#clip772)\" cx=\"1634.94\" cy=\"965.962\" r=\"6\" fill=\"#3da44d\" fill-rule=\"evenodd\" fill-opacity=\"1\" stroke=\"#000000\" stroke-opacity=\"1\" stroke-width=\"0\"/>\n",
       "<circle clip-path=\"url(#clip772)\" cx=\"1646.89\" cy=\"961.514\" r=\"6\" fill=\"#3da44d\" fill-rule=\"evenodd\" fill-opacity=\"1\" stroke=\"#000000\" stroke-opacity=\"1\" stroke-width=\"0\"/>\n",
       "<circle clip-path=\"url(#clip772)\" cx=\"1658.84\" cy=\"957.059\" r=\"6\" fill=\"#3da44d\" fill-rule=\"evenodd\" fill-opacity=\"1\" stroke=\"#000000\" stroke-opacity=\"1\" stroke-width=\"0\"/>\n",
       "<circle clip-path=\"url(#clip772)\" cx=\"1670.79\" cy=\"952.19\" r=\"6\" fill=\"#3da44d\" fill-rule=\"evenodd\" fill-opacity=\"1\" stroke=\"#000000\" stroke-opacity=\"1\" stroke-width=\"0\"/>\n",
       "<circle clip-path=\"url(#clip772)\" cx=\"1682.74\" cy=\"947.549\" r=\"6\" fill=\"#3da44d\" fill-rule=\"evenodd\" fill-opacity=\"1\" stroke=\"#000000\" stroke-opacity=\"1\" stroke-width=\"0\"/>\n",
       "<circle clip-path=\"url(#clip772)\" cx=\"1694.69\" cy=\"942.83\" r=\"6\" fill=\"#3da44d\" fill-rule=\"evenodd\" fill-opacity=\"1\" stroke=\"#000000\" stroke-opacity=\"1\" stroke-width=\"0\"/>\n",
       "<circle clip-path=\"url(#clip772)\" cx=\"1706.64\" cy=\"938.039\" r=\"6\" fill=\"#3da44d\" fill-rule=\"evenodd\" fill-opacity=\"1\" stroke=\"#000000\" stroke-opacity=\"1\" stroke-width=\"0\"/>\n",
       "<circle clip-path=\"url(#clip772)\" cx=\"1718.59\" cy=\"933.563\" r=\"6\" fill=\"#3da44d\" fill-rule=\"evenodd\" fill-opacity=\"1\" stroke=\"#000000\" stroke-opacity=\"1\" stroke-width=\"0\"/>\n",
       "<circle clip-path=\"url(#clip772)\" cx=\"1730.54\" cy=\"929.194\" r=\"6\" fill=\"#3da44d\" fill-rule=\"evenodd\" fill-opacity=\"1\" stroke=\"#000000\" stroke-opacity=\"1\" stroke-width=\"0\"/>\n",
       "<circle clip-path=\"url(#clip772)\" cx=\"1742.49\" cy=\"924.517\" r=\"6\" fill=\"#3da44d\" fill-rule=\"evenodd\" fill-opacity=\"1\" stroke=\"#000000\" stroke-opacity=\"1\" stroke-width=\"0\"/>\n",
       "<circle clip-path=\"url(#clip772)\" cx=\"1754.44\" cy=\"919.848\" r=\"6\" fill=\"#3da44d\" fill-rule=\"evenodd\" fill-opacity=\"1\" stroke=\"#000000\" stroke-opacity=\"1\" stroke-width=\"0\"/>\n",
       "<circle clip-path=\"url(#clip772)\" cx=\"1766.39\" cy=\"914.936\" r=\"6\" fill=\"#3da44d\" fill-rule=\"evenodd\" fill-opacity=\"1\" stroke=\"#000000\" stroke-opacity=\"1\" stroke-width=\"0\"/>\n",
       "<circle clip-path=\"url(#clip772)\" cx=\"1778.34\" cy=\"910.66\" r=\"6\" fill=\"#3da44d\" fill-rule=\"evenodd\" fill-opacity=\"1\" stroke=\"#000000\" stroke-opacity=\"1\" stroke-width=\"0\"/>\n",
       "<circle clip-path=\"url(#clip772)\" cx=\"1790.29\" cy=\"906.076\" r=\"6\" fill=\"#3da44d\" fill-rule=\"evenodd\" fill-opacity=\"1\" stroke=\"#000000\" stroke-opacity=\"1\" stroke-width=\"0\"/>\n",
       "<circle clip-path=\"url(#clip772)\" cx=\"1802.24\" cy=\"901.757\" r=\"6\" fill=\"#3da44d\" fill-rule=\"evenodd\" fill-opacity=\"1\" stroke=\"#000000\" stroke-opacity=\"1\" stroke-width=\"0\"/>\n",
       "<circle clip-path=\"url(#clip772)\" cx=\"1814.19\" cy=\"897.223\" r=\"6\" fill=\"#3da44d\" fill-rule=\"evenodd\" fill-opacity=\"1\" stroke=\"#000000\" stroke-opacity=\"1\" stroke-width=\"0\"/>\n",
       "<circle clip-path=\"url(#clip772)\" cx=\"1826.14\" cy=\"892.718\" r=\"6\" fill=\"#3da44d\" fill-rule=\"evenodd\" fill-opacity=\"1\" stroke=\"#000000\" stroke-opacity=\"1\" stroke-width=\"0\"/>\n",
       "<circle clip-path=\"url(#clip772)\" cx=\"1838.09\" cy=\"888.128\" r=\"6\" fill=\"#3da44d\" fill-rule=\"evenodd\" fill-opacity=\"1\" stroke=\"#000000\" stroke-opacity=\"1\" stroke-width=\"0\"/>\n",
       "<circle clip-path=\"url(#clip772)\" cx=\"1850.04\" cy=\"883.637\" r=\"6\" fill=\"#3da44d\" fill-rule=\"evenodd\" fill-opacity=\"1\" stroke=\"#000000\" stroke-opacity=\"1\" stroke-width=\"0\"/>\n",
       "<circle clip-path=\"url(#clip772)\" cx=\"1861.99\" cy=\"879.667\" r=\"6\" fill=\"#3da44d\" fill-rule=\"evenodd\" fill-opacity=\"1\" stroke=\"#000000\" stroke-opacity=\"1\" stroke-width=\"0\"/>\n",
       "<circle clip-path=\"url(#clip772)\" cx=\"1873.94\" cy=\"875.284\" r=\"6\" fill=\"#3da44d\" fill-rule=\"evenodd\" fill-opacity=\"1\" stroke=\"#000000\" stroke-opacity=\"1\" stroke-width=\"0\"/>\n",
       "<circle clip-path=\"url(#clip772)\" cx=\"1885.89\" cy=\"871.329\" r=\"6\" fill=\"#3da44d\" fill-rule=\"evenodd\" fill-opacity=\"1\" stroke=\"#000000\" stroke-opacity=\"1\" stroke-width=\"0\"/>\n",
       "<circle clip-path=\"url(#clip772)\" cx=\"1897.84\" cy=\"867.188\" r=\"6\" fill=\"#3da44d\" fill-rule=\"evenodd\" fill-opacity=\"1\" stroke=\"#000000\" stroke-opacity=\"1\" stroke-width=\"0\"/>\n",
       "<circle clip-path=\"url(#clip772)\" cx=\"1909.79\" cy=\"863.24\" r=\"6\" fill=\"#3da44d\" fill-rule=\"evenodd\" fill-opacity=\"1\" stroke=\"#000000\" stroke-opacity=\"1\" stroke-width=\"0\"/>\n",
       "<circle clip-path=\"url(#clip772)\" cx=\"1921.74\" cy=\"858.892\" r=\"6\" fill=\"#3da44d\" fill-rule=\"evenodd\" fill-opacity=\"1\" stroke=\"#000000\" stroke-opacity=\"1\" stroke-width=\"0\"/>\n",
       "<circle clip-path=\"url(#clip772)\" cx=\"1933.69\" cy=\"854.372\" r=\"6\" fill=\"#3da44d\" fill-rule=\"evenodd\" fill-opacity=\"1\" stroke=\"#000000\" stroke-opacity=\"1\" stroke-width=\"0\"/>\n",
       "<circle clip-path=\"url(#clip772)\" cx=\"1945.64\" cy=\"850.303\" r=\"6\" fill=\"#3da44d\" fill-rule=\"evenodd\" fill-opacity=\"1\" stroke=\"#000000\" stroke-opacity=\"1\" stroke-width=\"0\"/>\n",
       "<circle clip-path=\"url(#clip772)\" cx=\"1957.59\" cy=\"846.298\" r=\"6\" fill=\"#3da44d\" fill-rule=\"evenodd\" fill-opacity=\"1\" stroke=\"#000000\" stroke-opacity=\"1\" stroke-width=\"0\"/>\n",
       "<circle clip-path=\"url(#clip772)\" cx=\"1969.54\" cy=\"842.442\" r=\"6\" fill=\"#3da44d\" fill-rule=\"evenodd\" fill-opacity=\"1\" stroke=\"#000000\" stroke-opacity=\"1\" stroke-width=\"0\"/>\n",
       "<circle clip-path=\"url(#clip772)\" cx=\"1981.49\" cy=\"838.459\" r=\"6\" fill=\"#3da44d\" fill-rule=\"evenodd\" fill-opacity=\"1\" stroke=\"#000000\" stroke-opacity=\"1\" stroke-width=\"0\"/>\n",
       "<circle clip-path=\"url(#clip772)\" cx=\"1993.44\" cy=\"834.632\" r=\"6\" fill=\"#3da44d\" fill-rule=\"evenodd\" fill-opacity=\"1\" stroke=\"#000000\" stroke-opacity=\"1\" stroke-width=\"0\"/>\n",
       "<circle clip-path=\"url(#clip772)\" cx=\"2005.39\" cy=\"830.712\" r=\"6\" fill=\"#3da44d\" fill-rule=\"evenodd\" fill-opacity=\"1\" stroke=\"#000000\" stroke-opacity=\"1\" stroke-width=\"0\"/>\n",
       "<circle clip-path=\"url(#clip772)\" cx=\"2017.34\" cy=\"826.728\" r=\"6\" fill=\"#3da44d\" fill-rule=\"evenodd\" fill-opacity=\"1\" stroke=\"#000000\" stroke-opacity=\"1\" stroke-width=\"0\"/>\n",
       "<circle clip-path=\"url(#clip772)\" cx=\"2029.29\" cy=\"823.18\" r=\"6\" fill=\"#3da44d\" fill-rule=\"evenodd\" fill-opacity=\"1\" stroke=\"#000000\" stroke-opacity=\"1\" stroke-width=\"0\"/>\n",
       "<circle clip-path=\"url(#clip772)\" cx=\"2041.24\" cy=\"819.689\" r=\"6\" fill=\"#3da44d\" fill-rule=\"evenodd\" fill-opacity=\"1\" stroke=\"#000000\" stroke-opacity=\"1\" stroke-width=\"0\"/>\n",
       "<circle clip-path=\"url(#clip772)\" cx=\"2053.19\" cy=\"816.298\" r=\"6\" fill=\"#3da44d\" fill-rule=\"evenodd\" fill-opacity=\"1\" stroke=\"#000000\" stroke-opacity=\"1\" stroke-width=\"0\"/>\n",
       "<circle clip-path=\"url(#clip772)\" cx=\"2065.14\" cy=\"813.028\" r=\"6\" fill=\"#3da44d\" fill-rule=\"evenodd\" fill-opacity=\"1\" stroke=\"#000000\" stroke-opacity=\"1\" stroke-width=\"0\"/>\n",
       "<path clip-path=\"url(#clip770)\" d=\"\n",
       "M329.761 348.24 L922.462 348.24 L922.462 130.512 L329.761 130.512  Z\n",
       "  \" fill=\"#ffffff\" fill-rule=\"evenodd\" fill-opacity=\"1\"/>\n",
       "<polyline clip-path=\"url(#clip770)\" style=\"stroke:#000000; stroke-width:3.6; stroke-opacity:1; fill:none\" points=\"\n",
       "  329.761,348.24 922.462,348.24 922.462,130.512 329.761,130.512 329.761,348.24 \n",
       "  \"/>\n",
       "<path clip-path=\"url(#clip770)\" d=\"\n",
       "M350.309 206.717 L473.6 206.717 L473.6 163.171 L350.309 163.171 L350.309 206.717  Z\n",
       "  \" fill=\"#c271d2\" fill-rule=\"evenodd\" fill-opacity=\"0.25\"/>\n",
       "<polyline clip-path=\"url(#clip770)\" style=\"stroke:#c271d2; stroke-width:0; stroke-opacity:1; fill:none\" points=\"\n",
       "  350.309,163.171 473.6,163.171 \n",
       "  \"/>\n",
       "<path clip-path=\"url(#clip770)\" d=\"M 0 0 M494.149 180.42 Q494.149 177.996 494.86 176.351 Q495.572 174.683 497.061 173.038 Q499.796 170.17 503.754 170.17 Q505.443 170.17 506.933 170.882 Q508.445 171.593 509.868 173.216 Q511.313 174.817 512.18 177.996 Q513.047 181.153 513.047 185.511 Q513.047 192.559 509.623 197.028 Q506.221 201.496 501.619 201.496 Q498.707 201.496 496.995 200.185 Q495.283 198.851 495.283 196.583 Q495.283 195.405 495.95 194.915 Q496.617 194.404 497.373 194.404 Q498.195 194.404 498.84 194.96 Q499.485 195.494 499.485 196.494 Q499.485 197.317 498.951 197.961 Q498.44 198.584 497.106 198.584 Q498.418 200.229 501.575 200.229 Q502.709 200.229 503.842 199.718 Q504.976 199.184 506.199 197.917 Q507.444 196.627 508.2 193.937 Q508.956 191.247 508.956 187.467 L508.956 186.022 Q507.133 190.58 503.264 190.58 Q499.44 190.58 496.795 187.645 Q494.149 184.711 494.149 180.42 M498.24 180.464 Q498.24 184.977 499.062 186.645 Q500.463 189.513 503.309 189.513 Q506.088 189.513 507.466 187.045 Q508.867 184.555 508.867 181.331 Q508.867 176.862 508.133 174.906 Q506.777 171.304 503.754 171.304 Q500.752 171.304 499.196 174.172 Q498.24 175.862 498.24 180.464 Z\" fill=\"#000000\" fill-rule=\"evenodd\" fill-opacity=\"1\" /><path clip-path=\"url(#clip770)\" d=\"M 0 0 M515.315 193.159 Q515.315 191.803 516.048 191.291 Q516.782 190.758 517.56 190.758 Q518.605 190.758 519.205 191.425 Q519.828 192.07 519.828 192.981 Q519.828 193.893 519.205 194.56 Q518.605 195.204 517.56 195.204 Q517.049 195.204 516.782 195.116 Q517.382 197.205 519.205 198.717 Q521.051 200.229 523.474 200.229 Q526.52 200.229 528.343 197.272 Q529.433 195.36 529.433 191.025 Q529.433 187.201 528.61 185.289 Q527.343 182.376 524.741 182.376 Q521.051 182.376 518.872 185.555 Q518.605 185.956 518.294 185.978 Q517.849 185.978 517.738 185.733 Q517.649 185.466 517.649 184.777 L517.649 171.304 Q517.649 170.215 518.094 170.215 Q518.272 170.215 518.65 170.348 Q521.518 171.615 524.697 171.637 Q527.965 171.637 530.9 170.304 Q531.122 170.17 531.256 170.17 Q531.7 170.17 531.723 170.681 Q531.723 170.859 531.345 171.393 Q530.989 171.904 530.211 172.594 Q529.433 173.261 528.432 173.905 Q527.432 174.55 525.964 174.995 Q524.519 175.417 522.918 175.417 Q521.006 175.417 519.05 174.817 L519.05 183.688 Q521.407 181.376 524.83 181.376 Q528.477 181.376 530.989 184.31 Q533.501 187.245 533.501 191.336 Q533.501 195.627 530.522 198.562 Q527.565 201.496 523.563 201.496 Q519.917 201.496 517.605 198.895 Q515.315 196.294 515.315 193.159 Z\" fill=\"#000000\" fill-rule=\"evenodd\" fill-opacity=\"1\" /><path clip-path=\"url(#clip770)\" d=\"M 0 0 M536.058 175.506 Q536.058 171.593 538.059 168.97 Q540.06 166.346 542.75 166.346 Q544.395 166.346 546.019 167.813 Q549.709 171.326 554.534 171.304 Q560.003 171.304 563.182 166.991 Q563.738 166.346 564.138 166.346 Q564.494 166.346 564.761 166.635 Q565.05 166.902 565.05 167.258 Q565.05 167.524 564.694 168.08 L541.661 202.364 Q541.149 203.053 540.749 203.053 Q540.394 203.053 540.105 202.764 Q539.838 202.497 539.838 202.141 Q539.838 201.83 540.238 201.23 L560.692 170.77 L560.648 170.726 Q558.291 172.327 554.578 172.304 Q551.065 172.304 547.708 170.392 Q548.664 172.749 548.664 175.551 Q548.664 179.375 546.952 182.043 Q545.24 184.688 542.75 184.688 Q540.06 184.688 538.059 182.109 Q536.058 179.508 536.058 175.506 M539.193 171.793 Q538.882 173.394 538.882 175.551 Q538.882 177.685 539.193 179.286 Q539.504 180.864 539.949 181.687 Q540.416 182.509 541.038 182.999 Q541.661 183.465 542.039 183.577 Q542.417 183.688 542.795 183.688 Q544.662 183.688 546.085 181.376 Q547.53 179.041 547.53 175.506 Q547.53 172.038 546.085 169.703 Q544.662 167.347 542.795 167.347 Q542.395 167.347 541.994 167.458 Q541.616 167.569 541.016 168.058 Q540.416 168.525 539.949 169.347 Q539.504 170.17 539.193 171.793 M556.223 193.848 Q556.223 189.935 558.224 187.312 Q560.225 184.688 562.916 184.688 Q565.383 184.688 567.095 187.356 Q568.83 190.024 568.83 193.893 Q568.83 197.717 567.118 200.385 Q565.428 203.053 562.916 203.053 Q560.225 203.053 558.224 200.451 Q556.223 197.85 556.223 193.848 M559.358 190.135 Q559.047 191.758 559.047 193.893 Q559.047 196.027 559.358 197.628 Q559.692 199.229 560.136 200.051 Q560.603 200.852 561.204 201.319 Q561.826 201.808 562.204 201.919 Q562.604 202.052 562.96 202.052 Q564.828 202.052 566.251 199.74 Q567.696 197.406 567.696 193.848 Q567.696 190.38 566.251 188.045 Q564.828 185.689 562.96 185.689 Q562.56 185.689 562.16 185.822 Q561.782 185.933 561.181 186.422 Q560.603 186.889 560.136 187.712 Q559.692 188.512 559.358 190.135 Z\" fill=\"#000000\" fill-rule=\"evenodd\" fill-opacity=\"1\" /><path clip-path=\"url(#clip770)\" d=\"M 0 0 M585.238 207.922 Q587.661 207.922 588.217 207.611 Q588.795 207.321 588.795 205.876 L588.795 184.555 Q588.795 183.043 588.217 182.665 Q587.661 182.287 585.238 182.287 L585.238 180.864 L591.796 180.375 L591.796 183.377 Q594.531 180.375 598.177 180.375 Q602.046 180.375 604.869 183.377 Q607.693 186.378 607.693 190.669 Q607.693 195.004 604.691 198.006 Q601.69 201.007 597.532 201.007 Q595.265 201.007 593.731 199.851 Q592.219 198.673 591.93 197.806 L591.93 198.228 L591.93 205.876 Q591.93 207.344 592.508 207.633 Q593.086 207.922 595.487 207.922 L595.487 209.322 Q590.707 209.189 590.351 209.189 Q589.906 209.189 585.238 209.322 L585.238 207.922 M591.93 195.316 Q591.93 196.005 592.019 196.249 Q592.13 196.494 592.574 197.228 Q594.375 199.985 597.31 199.985 Q597.332 199.985 597.355 199.985 Q599.956 199.985 601.935 197.339 Q603.913 194.671 603.913 190.669 Q603.913 186.845 602.112 184.177 Q600.312 181.509 597.821 181.509 Q596.043 181.509 594.486 182.465 Q592.93 183.421 591.93 185.155 L591.93 195.316 Z\" fill=\"#000000\" fill-rule=\"evenodd\" fill-opacity=\"1\" /><path clip-path=\"url(#clip770)\" d=\"M 0 0 M608.96 200.496 L608.96 199.095 Q611.384 199.095 611.939 198.806 Q612.517 198.495 612.517 197.028 L612.517 184.822 Q612.517 183.132 611.917 182.71 Q611.339 182.287 608.96 182.287 L608.96 180.864 L615.297 180.375 L615.297 185.378 Q615.941 183.421 617.298 181.909 Q618.676 180.375 620.899 180.375 Q622.367 180.375 623.3 181.198 Q624.257 182.02 624.257 183.154 Q624.257 184.155 623.634 184.666 Q623.034 185.155 622.3 185.155 Q621.477 185.155 620.899 184.644 Q620.344 184.11 620.344 183.199 Q620.344 182.643 620.588 182.22 Q620.855 181.776 621.055 181.62 Q621.255 181.464 621.388 181.42 Q621.3 181.376 620.899 181.376 Q618.387 181.376 616.942 183.888 Q615.519 186.378 615.519 189.935 L615.519 196.939 Q615.519 198.25 616.053 198.673 Q616.608 199.095 618.987 199.095 L619.943 199.095 L619.943 200.496 Q618.12 200.363 614.163 200.363 Q613.607 200.363 612.74 200.385 Q611.873 200.407 610.739 200.451 Q609.605 200.496 608.96 200.496 Z\" fill=\"#000000\" fill-rule=\"evenodd\" fill-opacity=\"1\" /><path clip-path=\"url(#clip770)\" d=\"M 0 0 M625.524 190.469 Q625.524 186.178 628.281 183.132 Q631.038 180.086 634.995 180.086 Q638.997 180.086 641.065 182.687 Q643.155 185.289 643.155 189.024 Q643.155 189.713 642.977 189.846 Q642.799 189.98 642.021 189.98 L629.303 189.98 Q629.303 194.626 630.682 196.805 Q632.594 199.851 635.818 199.851 Q636.262 199.851 636.796 199.762 Q637.33 199.673 638.419 199.295 Q639.508 198.895 640.464 197.85 Q641.42 196.805 641.976 195.16 Q642.11 194.515 642.554 194.538 Q643.155 194.538 643.155 195.071 Q643.155 195.471 642.71 196.383 Q642.287 197.272 641.465 198.339 Q640.642 199.407 639.041 200.207 Q637.463 201.007 635.551 201.007 Q631.549 201.007 628.525 197.984 Q625.524 194.938 625.524 190.469 M629.348 189.024 L640.153 189.024 Q640.153 188.068 639.975 187.001 Q639.82 185.933 639.331 184.466 Q638.864 182.976 637.752 182.043 Q636.64 181.109 634.995 181.109 Q634.261 181.109 633.461 181.42 Q632.683 181.731 631.727 182.487 Q630.771 183.243 630.104 184.955 Q629.437 186.667 629.348 189.024 Z\" fill=\"#000000\" fill-rule=\"evenodd\" fill-opacity=\"1\" /><path clip-path=\"url(#clip770)\" d=\"M 0 0 M644.711 190.713 Q644.711 186.378 647.735 183.377 Q650.758 180.375 654.849 180.375 Q658.318 180.375 660.585 183.199 L660.585 173.349 Q660.585 171.66 659.985 171.237 Q659.407 170.815 657.05 170.815 L657.05 169.392 L663.609 168.903 L663.609 196.538 Q663.609 198.228 664.187 198.673 Q664.787 199.095 667.144 199.095 L667.144 200.496 L660.452 201.007 L660.452 197.984 Q658.095 200.985 654.36 201.007 Q650.447 201.007 647.579 198.006 Q644.711 195.004 644.711 190.713 M648.491 190.758 Q648.491 194.982 649.802 197.072 Q651.625 199.985 654.582 199.985 Q657.962 199.985 659.963 196.805 Q660.474 196.027 660.452 195.116 L660.452 185.778 Q660.452 184.866 659.963 184.11 Q658.095 181.376 655.049 181.376 Q651.87 181.376 649.891 184.288 Q648.491 186.467 648.491 190.758 Z\" fill=\"#000000\" fill-rule=\"evenodd\" fill-opacity=\"1\" /><path clip-path=\"url(#clip770)\" d=\"M 0 0 M668.656 200.496 L668.656 199.095 Q671.079 199.095 671.635 198.806 Q672.191 198.495 672.191 197.028 L672.191 184.777 Q672.191 183.087 671.613 182.687 Q671.057 182.287 668.834 182.287 L668.834 180.864 L675.192 180.375 L675.192 197.072 Q675.192 198.428 675.681 198.762 Q676.171 199.095 678.394 199.095 L678.394 200.496 Q673.747 200.363 673.658 200.363 Q673.036 200.363 668.656 200.496 M670.568 172.438 Q670.568 171.526 671.257 170.793 Q671.969 170.037 672.969 170.037 Q673.97 170.037 674.681 170.726 Q675.392 171.393 675.392 172.46 Q675.392 173.505 674.681 174.194 Q673.97 174.861 672.969 174.861 Q671.924 174.861 671.235 174.128 Q670.568 173.394 670.568 172.438 Z\" fill=\"#000000\" fill-rule=\"evenodd\" fill-opacity=\"1\" /><path clip-path=\"url(#clip770)\" d=\"M 0 0 M682.841 198.006 Q679.95 194.982 679.95 190.669 Q679.95 186.334 682.796 183.221 Q685.642 180.086 689.822 180.086 Q692.601 180.086 694.691 181.42 Q696.781 182.732 696.781 184.977 Q696.781 185.978 696.18 186.556 Q695.602 187.112 694.691 187.112 Q693.735 187.112 693.157 186.534 Q692.601 185.933 692.601 185.022 Q692.601 184.622 692.734 184.221 Q692.868 183.821 693.357 183.399 Q693.868 182.976 694.735 182.91 Q693.112 181.242 689.955 181.242 Q689.911 181.242 689.866 181.242 Q687.554 181.242 685.642 183.421 Q683.73 185.6 683.73 190.58 Q683.73 193.181 684.352 195.093 Q684.997 196.983 686.042 197.961 Q687.087 198.94 688.11 199.407 Q689.132 199.851 690.133 199.851 Q694.602 199.851 696.114 195.071 Q696.247 194.626 696.692 194.626 Q697.292 194.626 697.292 195.071 Q697.292 195.293 697.114 195.871 Q696.936 196.45 696.38 197.361 Q695.825 198.273 695.024 199.073 Q694.246 199.851 692.845 200.429 Q691.467 201.007 689.733 201.007 Q685.731 201.007 682.841 198.006 Z\" fill=\"#000000\" fill-rule=\"evenodd\" fill-opacity=\"1\" /><path clip-path=\"url(#clip770)\" d=\"M 0 0 M698.159 182.287 L698.159 181.287 Q700.249 181.198 701.627 179.73 Q703.028 178.241 703.495 176.418 Q703.984 174.594 704.029 172.482 L705.162 172.482 L705.162 180.864 L711.677 180.864 L711.677 182.287 L705.162 182.287 L705.162 194.938 Q705.162 199.851 708.231 199.851 Q709.542 199.851 710.409 198.517 Q711.277 197.161 711.277 194.76 L711.277 192.248 L712.41 192.248 L712.41 194.849 Q712.41 197.317 711.277 199.162 Q710.143 201.007 707.897 201.007 Q707.075 201.007 706.252 200.785 Q705.452 200.585 704.384 200.051 Q703.339 199.495 702.672 198.161 Q702.028 196.805 702.028 194.849 L702.028 182.287 L698.159 182.287 Z\" fill=\"#000000\" fill-rule=\"evenodd\" fill-opacity=\"1\" /><path clip-path=\"url(#clip770)\" d=\"M 0 0 M713.922 200.496 L713.922 199.095 Q716.346 199.095 716.902 198.806 Q717.457 198.495 717.457 197.028 L717.457 184.777 Q717.457 183.087 716.879 182.687 Q716.323 182.287 714.1 182.287 L714.1 180.864 L720.459 180.375 L720.459 197.072 Q720.459 198.428 720.948 198.762 Q721.437 199.095 723.66 199.095 L723.66 200.496 Q719.014 200.363 718.925 200.363 Q718.302 200.363 713.922 200.496 M715.834 172.438 Q715.834 171.526 716.524 170.793 Q717.235 170.037 718.236 170.037 Q719.236 170.037 719.947 170.726 Q720.659 171.393 720.659 172.46 Q720.659 173.505 719.947 174.194 Q719.236 174.861 718.236 174.861 Q717.191 174.861 716.501 174.128 Q715.834 173.394 715.834 172.438 Z\" fill=\"#000000\" fill-rule=\"evenodd\" fill-opacity=\"1\" /><path clip-path=\"url(#clip770)\" d=\"M 0 0 M727.929 198.05 Q724.928 195.071 724.928 190.758 Q724.928 186.422 727.862 183.265 Q730.819 180.086 735.044 180.086 Q739.179 180.086 742.136 183.243 Q745.115 186.378 745.115 190.758 Q745.115 195.049 742.114 198.028 Q739.135 201.007 734.999 201.007 Q730.953 201.007 727.929 198.05 M728.707 190.38 Q728.707 194.804 729.863 196.805 Q731.642 199.851 735.044 199.851 Q736.733 199.851 738.134 198.94 Q739.557 198.028 740.335 196.494 Q741.336 194.493 741.336 190.38 Q741.336 186 740.135 184.066 Q738.356 181.109 734.999 181.109 Q733.532 181.109 732.087 181.887 Q730.664 182.643 729.797 184.155 Q728.707 186.156 728.707 190.38 Z\" fill=\"#000000\" fill-rule=\"evenodd\" fill-opacity=\"1\" /><path clip-path=\"url(#clip770)\" d=\"M 0 0 M746.583 200.496 L746.583 199.095 Q749.006 199.095 749.562 198.806 Q750.118 198.495 750.118 197.028 L750.118 184.822 Q750.118 183.132 749.517 182.71 Q748.939 182.287 746.583 182.287 L746.583 180.864 L752.986 180.375 L752.986 185.155 Q755.12 180.375 759.722 180.375 Q763.146 180.375 764.502 182.065 Q765.503 183.199 765.703 184.466 Q765.925 185.733 765.925 189.024 L765.925 197.717 Q765.97 198.673 766.703 198.895 Q767.437 199.095 769.483 199.095 L769.483 200.496 Q764.836 200.363 764.369 200.363 Q764.013 200.363 759.233 200.496 L759.233 199.095 Q761.657 199.095 762.212 198.806 Q762.79 198.495 762.79 197.028 L762.79 186.422 Q762.79 184.11 762.079 182.754 Q761.368 181.376 759.411 181.376 Q757.054 181.376 755.165 183.354 Q753.275 185.333 753.275 188.668 L753.275 197.028 Q753.275 198.495 753.831 198.806 Q754.409 199.095 756.81 199.095 L756.81 200.496 Q752.163 200.363 751.718 200.363 Q751.363 200.363 746.583 200.496 Z\" fill=\"#000000\" fill-rule=\"evenodd\" fill-opacity=\"1\" /><path clip-path=\"url(#clip770)\" d=\"M 0 0 M785.891 170.815 L785.891 169.392 L792.449 168.903 L792.449 183.332 Q795.095 180.375 798.697 180.375 Q802.61 180.375 805.478 183.377 Q808.346 186.378 808.346 190.669 Q808.346 195.004 805.344 198.006 Q802.343 201.007 798.185 201.007 Q794.406 201.007 792.227 197.672 Q790.626 200.451 790.582 200.496 L789.448 200.496 L789.448 173.349 Q789.448 171.66 788.848 171.237 Q788.247 170.815 785.891 170.815 M792.583 195.316 Q792.583 196.272 793.227 197.228 Q795.028 199.985 797.963 199.985 Q797.985 199.985 798.008 199.985 Q801.187 199.985 803.166 197.072 Q804.566 194.893 804.566 190.624 Q804.566 186.4 803.255 184.288 Q801.431 181.376 798.474 181.376 Q795.14 181.376 793.094 184.288 Q792.583 185.022 792.583 185.933 L792.583 195.316 Z\" fill=\"#000000\" fill-rule=\"evenodd\" fill-opacity=\"1\" /><path clip-path=\"url(#clip770)\" d=\"M 0 0 M810.258 196.161 Q810.258 192.292 814.816 190.247 Q817.55 188.935 823.198 188.601 L823.198 186.934 Q823.198 184.11 821.708 182.621 Q820.241 181.109 818.373 181.109 Q815.038 181.109 813.437 183.199 Q814.794 183.243 815.283 183.932 Q815.772 184.599 815.772 185.289 Q815.772 186.2 815.194 186.8 Q814.638 187.378 813.682 187.378 Q812.77 187.378 812.17 186.823 Q811.57 186.245 811.57 185.244 Q811.57 183.021 813.571 181.553 Q815.594 180.086 818.462 180.086 Q822.197 180.086 824.687 182.598 Q825.465 183.377 825.843 184.377 Q826.244 185.378 826.288 186.044 Q826.332 186.689 826.332 187.979 L826.332 197.072 Q826.332 197.339 826.421 197.784 Q826.51 198.228 826.911 198.806 Q827.333 199.362 828.022 199.362 Q829.667 199.362 829.645 196.45 L829.645 193.893 L830.801 193.893 L830.801 196.45 Q830.801 198.873 829.512 199.829 Q828.245 200.763 827.066 200.763 Q825.554 200.763 824.598 199.651 Q823.642 198.539 823.509 197.028 Q822.82 198.762 821.241 199.896 Q819.685 201.007 817.55 201.007 Q815.905 201.007 814.349 200.585 Q812.815 200.185 811.525 199.051 Q810.258 197.895 810.258 196.161 M813.771 196.116 Q813.771 197.806 814.971 198.895 Q816.172 199.985 817.862 199.985 Q819.774 199.985 821.486 198.517 Q823.198 197.028 823.198 194.115 L823.198 189.557 Q818.151 189.735 815.95 191.758 Q813.771 193.759 813.771 196.116 Z\" fill=\"#000000\" fill-rule=\"evenodd\" fill-opacity=\"1\" /><path clip-path=\"url(#clip770)\" d=\"M 0 0 M832.269 200.496 L832.269 199.095 Q834.692 199.095 835.248 198.806 Q835.804 198.495 835.804 197.028 L835.804 184.822 Q835.804 183.132 835.203 182.71 Q834.625 182.287 832.269 182.287 L832.269 180.864 L838.672 180.375 L838.672 185.155 Q840.806 180.375 845.408 180.375 Q848.832 180.375 850.188 182.065 Q851.189 183.199 851.389 184.466 Q851.611 185.733 851.611 189.024 L851.611 197.717 Q851.656 198.673 852.39 198.895 Q853.123 199.095 855.169 199.095 L855.169 200.496 Q850.522 200.363 850.055 200.363 Q849.699 200.363 844.919 200.496 L844.919 199.095 Q847.343 199.095 847.898 198.806 Q848.477 198.495 848.477 197.028 L848.477 186.422 Q848.477 184.11 847.765 182.754 Q847.054 181.376 845.097 181.376 Q842.74 181.376 840.851 183.354 Q838.961 185.333 838.961 188.668 L838.961 197.028 Q838.961 198.495 839.517 198.806 Q840.095 199.095 842.496 199.095 L842.496 200.496 Q837.849 200.363 837.405 200.363 Q837.049 200.363 832.269 200.496 Z\" fill=\"#000000\" fill-rule=\"evenodd\" fill-opacity=\"1\" /><path clip-path=\"url(#clip770)\" d=\"M 0 0 M856.725 190.713 Q856.725 186.378 859.749 183.377 Q862.772 180.375 866.863 180.375 Q870.332 180.375 872.599 183.199 L872.599 173.349 Q872.599 171.66 871.999 171.237 Q871.421 170.815 869.064 170.815 L869.064 169.392 L875.623 168.903 L875.623 196.538 Q875.623 198.228 876.201 198.673 Q876.801 199.095 879.158 199.095 L879.158 200.496 L872.466 201.007 L872.466 197.984 Q870.109 200.985 866.374 201.007 Q862.461 201.007 859.593 198.006 Q856.725 195.004 856.725 190.713 M860.505 190.758 Q860.505 194.982 861.816 197.072 Q863.639 199.985 866.596 199.985 Q869.976 199.985 871.977 196.805 Q872.488 196.027 872.466 195.116 L872.466 185.778 Q872.466 184.866 871.977 184.11 Q870.109 181.376 867.063 181.376 Q863.884 181.376 861.905 184.288 Q860.505 186.467 860.505 190.758 Z\" fill=\"#000000\" fill-rule=\"evenodd\" fill-opacity=\"1\" /><circle clip-path=\"url(#clip770)\" cx=\"411.955\" cy=\"239.376\" r=\"20\" fill=\"#e26f46\" fill-rule=\"evenodd\" fill-opacity=\"1\" stroke=\"#000000\" stroke-opacity=\"1\" stroke-width=\"0\"/>\n",
       "<path clip-path=\"url(#clip770)\" d=\"M 0 0 M527.139 231.604 Q527.139 235.083 525.643 238.498 Q524.167 241.891 521.764 244.463 Q519.382 247.014 516.157 248.595 Q512.931 250.176 509.643 250.176 L495.35 250.176 Q494.845 250.176 494.634 250.155 Q494.444 250.134 494.296 250.028 Q494.149 249.902 494.149 249.649 Q494.149 249.248 494.318 249.08 Q494.486 248.89 494.676 248.869 Q494.866 248.848 495.35 248.848 Q496.404 248.848 497.037 248.785 Q497.669 248.721 498.07 248.637 Q498.491 248.532 498.702 248.237 Q498.934 247.941 499.039 247.688 Q499.145 247.414 499.292 246.803 L505.068 223.615 Q505.237 222.919 505.237 222.814 Q505.237 222.455 505.026 222.329 Q504.837 222.181 504.288 222.118 Q503.234 222.034 502.433 222.034 Q501.906 222.034 501.696 222.013 Q501.506 221.992 501.337 221.886 Q501.19 221.76 501.19 221.507 Q501.19 221.106 501.358 220.938 Q501.548 220.748 501.759 220.727 Q501.97 220.685 502.476 220.685 L516.979 220.685 Q520.12 220.685 522.46 222.16 Q524.799 223.615 525.959 226.081 Q527.139 228.527 527.139 231.604 M523.366 230.023 Q523.366 225.997 521.174 224.015 Q519.002 222.034 515.566 222.034 L510.95 222.034 Q509.58 222.034 509.242 222.287 Q508.905 222.519 508.61 223.678 L502.686 247.372 Q502.476 248.152 502.476 248.363 Q502.476 248.595 502.581 248.679 Q502.707 248.743 503.045 248.785 Q503.424 248.848 503.993 248.848 L508.863 248.848 Q510.739 248.848 512.446 248.342 Q514.175 247.815 515.419 246.993 Q516.663 246.15 517.464 245.433 Q518.265 244.695 518.834 243.957 Q520.12 242.292 521.068 240.121 Q522.038 237.949 522.481 235.968 Q522.944 233.965 523.155 232.49 Q523.366 230.993 523.366 230.023 Z\" fill=\"#000000\" fill-rule=\"evenodd\" fill-opacity=\"1\" /><path clip-path=\"url(#clip770)\" d=\"M 0 0 M543.746 239.383 Q543.746 232.089 546.465 226.208 Q547.624 223.741 549.247 221.676 Q550.871 219.61 551.946 218.703 Q553.021 217.797 553.316 217.797 Q553.738 217.797 553.759 218.218 Q553.759 218.429 553.189 218.956 Q546.233 226.039 546.254 239.383 Q546.254 252.769 553.021 259.578 Q553.759 260.316 553.759 260.547 Q553.759 260.969 553.316 260.969 Q553.021 260.969 551.988 260.105 Q550.955 259.24 549.353 257.259 Q547.751 255.277 546.591 252.853 Q543.746 246.972 543.746 239.383 Z\" fill=\"#000000\" fill-rule=\"evenodd\" fill-opacity=\"1\" /><path clip-path=\"url(#clip770)\" d=\"M 0 0 M563.165 247.857 Q560.32 245.032 560.32 240.943 Q560.32 236.832 563.102 233.839 Q565.906 230.824 569.911 230.824 Q573.832 230.824 576.636 233.818 Q579.46 236.79 579.46 240.943 Q579.46 245.011 576.615 247.836 Q573.79 250.661 569.869 250.661 Q566.032 250.661 563.165 247.857 M563.903 240.584 Q563.903 244.779 564.999 246.677 Q566.686 249.565 569.911 249.565 Q571.513 249.565 572.841 248.7 Q574.19 247.836 574.928 246.382 Q575.877 244.484 575.877 240.584 Q575.877 236.432 574.738 234.598 Q573.052 231.794 569.869 231.794 Q568.478 231.794 567.107 232.532 Q565.758 233.249 564.936 234.682 Q563.903 236.579 563.903 240.584 Z\" fill=\"#000000\" fill-rule=\"evenodd\" fill-opacity=\"1\" /><path clip-path=\"url(#clip770)\" d=\"M 0 0 M581.695 222.034 L581.695 220.685 L587.913 220.221 L587.913 233.902 Q590.422 231.098 593.837 231.098 Q597.547 231.098 600.266 233.944 Q602.986 236.79 602.986 240.859 Q602.986 244.969 600.14 247.815 Q597.294 250.661 593.352 250.661 Q589.768 250.661 587.702 247.499 Q586.185 250.134 586.142 250.176 L585.067 250.176 L585.067 224.437 Q585.067 222.835 584.498 222.434 Q583.929 222.034 581.695 222.034 M588.04 245.264 Q588.04 246.171 588.651 247.077 Q590.358 249.691 593.141 249.691 Q593.162 249.691 593.183 249.691 Q596.198 249.691 598.074 246.93 Q599.402 244.864 599.402 240.816 Q599.402 236.811 598.158 234.808 Q596.43 232.047 593.626 232.047 Q590.464 232.047 588.524 234.808 Q588.04 235.504 588.04 236.368 L588.04 245.264 Z\" fill=\"#000000\" fill-rule=\"evenodd\" fill-opacity=\"1\" /><path clip-path=\"url(#clip770)\" d=\"M 0 0 M605.407 249.607 L605.407 243.915 Q605.407 243.43 605.428 243.262 Q605.45 243.093 605.576 242.967 Q605.703 242.84 605.955 242.84 Q606.251 242.84 606.356 242.967 Q606.482 243.093 606.567 243.578 Q607.22 246.55 608.612 248.131 Q610.024 249.691 612.575 249.691 Q614.999 249.691 616.222 248.616 Q617.444 247.541 617.444 245.77 Q617.444 242.608 612.954 241.807 Q610.361 241.28 609.286 240.943 Q608.211 240.584 607.262 239.804 Q605.407 238.287 605.407 236.137 Q605.407 233.986 607.031 232.405 Q608.675 230.824 612.301 230.824 Q614.725 230.824 616.369 232.047 Q616.854 231.668 617.107 231.351 Q617.676 230.824 617.971 230.824 Q618.308 230.824 618.372 231.056 Q618.435 231.267 618.435 231.878 L618.435 236.221 Q618.435 236.706 618.414 236.874 Q618.393 237.043 618.266 237.169 Q618.14 237.275 617.866 237.275 Q617.381 237.275 617.36 236.874 Q617.023 231.646 612.301 231.646 Q609.75 231.646 608.612 232.637 Q607.473 233.607 607.473 234.935 Q607.473 235.673 607.811 236.242 Q608.169 236.79 608.612 237.127 Q609.075 237.444 609.919 237.76 Q610.762 238.055 611.268 238.16 Q611.795 238.266 612.785 238.476 Q616.243 239.13 617.697 240.542 Q619.51 242.355 619.51 244.653 Q619.51 247.204 617.781 248.932 Q616.053 250.661 612.575 250.661 Q609.771 250.661 607.811 248.785 Q607.558 249.038 607.368 249.27 Q607.178 249.48 607.094 249.565 Q607.031 249.649 607.009 249.712 Q606.988 249.754 606.946 249.797 Q606.082 250.661 605.871 250.661 Q605.534 250.661 605.471 250.429 Q605.407 250.218 605.407 249.607 Z\" fill=\"#000000\" fill-rule=\"evenodd\" fill-opacity=\"1\" /><path clip-path=\"url(#clip770)\" d=\"M 0 0 M622.232 240.669 Q622.232 236.6 624.846 233.712 Q627.46 230.824 631.212 230.824 Q635.006 230.824 636.967 233.291 Q638.948 235.757 638.948 239.299 Q638.948 239.952 638.78 240.079 Q638.611 240.205 637.873 240.205 L625.816 240.205 Q625.816 244.611 627.122 246.677 Q628.935 249.565 631.992 249.565 Q632.414 249.565 632.92 249.48 Q633.425 249.396 634.458 249.038 Q635.491 248.658 636.398 247.667 Q637.304 246.677 637.831 245.117 Q637.958 244.505 638.379 244.526 Q638.948 244.526 638.948 245.032 Q638.948 245.412 638.527 246.276 Q638.126 247.119 637.346 248.131 Q636.566 249.143 635.049 249.902 Q633.552 250.661 631.739 250.661 Q627.945 250.661 625.078 247.794 Q622.232 244.906 622.232 240.669 M625.858 239.299 L636.103 239.299 Q636.103 238.392 635.934 237.38 Q635.786 236.368 635.323 234.977 Q634.88 233.565 633.826 232.679 Q632.772 231.794 631.212 231.794 Q630.516 231.794 629.757 232.089 Q629.02 232.384 628.113 233.101 Q627.207 233.818 626.574 235.441 Q625.942 237.064 625.858 239.299 Z\" fill=\"#000000\" fill-rule=\"evenodd\" fill-opacity=\"1\" /><path clip-path=\"url(#clip770)\" d=\"M 0 0 M641.206 250.176 L641.206 248.848 Q643.504 248.848 644.031 248.574 Q644.579 248.279 644.579 246.887 L644.579 235.314 Q644.579 233.712 644.01 233.312 Q643.462 232.911 641.206 232.911 L641.206 231.562 L647.214 231.098 L647.214 235.841 Q647.826 233.986 649.111 232.553 Q650.418 231.098 652.526 231.098 Q653.918 231.098 654.803 231.878 Q655.71 232.658 655.71 233.733 Q655.71 234.682 655.119 235.167 Q654.55 235.631 653.854 235.631 Q653.075 235.631 652.526 235.146 Q651.999 234.64 651.999 233.776 Q651.999 233.249 652.231 232.848 Q652.484 232.426 652.674 232.279 Q652.864 232.131 652.99 232.089 Q652.906 232.047 652.526 232.047 Q650.144 232.047 648.774 234.429 Q647.425 236.79 647.425 240.163 L647.425 246.803 Q647.425 248.047 647.931 248.447 Q648.458 248.848 650.714 248.848 L651.62 248.848 L651.62 250.176 Q649.891 250.049 646.139 250.049 Q645.612 250.049 644.79 250.071 Q643.968 250.092 642.893 250.134 Q641.818 250.176 641.206 250.176 Z\" fill=\"#000000\" fill-rule=\"evenodd\" fill-opacity=\"1\" /><path clip-path=\"url(#clip770)\" d=\"M 0 0 M658.806 232.911 L658.806 231.562 Q660.745 231.689 663.001 231.689 Q663.823 231.689 667.701 231.562 L667.701 232.911 Q665.235 232.911 665.235 234.029 Q665.235 234.197 665.488 234.766 L670.336 246.803 L674.742 235.799 Q674.995 235.061 674.995 234.766 Q674.995 234.029 674.489 233.502 Q674.004 232.953 672.929 232.911 L672.929 231.562 Q675.122 231.689 676.682 231.689 Q678.452 231.689 679.907 231.562 L679.907 232.911 Q678.621 232.911 677.715 233.502 Q676.808 234.071 676.513 234.577 Q676.239 235.061 675.944 235.799 L670.294 249.839 Q669.957 250.661 669.388 250.661 Q669.008 250.661 668.84 250.492 Q668.692 250.345 668.481 249.839 L662.263 234.513 Q661.841 233.438 661.293 233.185 Q660.745 232.911 658.806 232.911 Z\" fill=\"#000000\" fill-rule=\"evenodd\" fill-opacity=\"1\" /><path clip-path=\"url(#clip770)\" d=\"M 0 0 M680.879 240.669 Q680.879 236.6 683.493 233.712 Q686.107 230.824 689.859 230.824 Q693.653 230.824 695.614 233.291 Q697.595 235.757 697.595 239.299 Q697.595 239.952 697.427 240.079 Q697.258 240.205 696.52 240.205 L684.462 240.205 Q684.462 244.611 685.769 246.677 Q687.582 249.565 690.639 249.565 Q691.06 249.565 691.566 249.48 Q692.072 249.396 693.105 249.038 Q694.138 248.658 695.045 247.667 Q695.951 246.677 696.478 245.117 Q696.604 244.505 697.026 244.526 Q697.595 244.526 697.595 245.032 Q697.595 245.412 697.174 246.276 Q696.773 247.119 695.993 248.131 Q695.213 249.143 693.695 249.902 Q692.199 250.661 690.386 250.661 Q686.591 250.661 683.724 247.794 Q680.879 244.906 680.879 240.669 M684.504 239.299 L694.749 239.299 Q694.749 238.392 694.581 237.38 Q694.433 236.368 693.969 234.977 Q693.527 233.565 692.473 232.679 Q691.419 231.794 689.859 231.794 Q689.163 231.794 688.404 232.089 Q687.666 232.384 686.76 233.101 Q685.854 233.818 685.221 235.441 Q684.589 237.064 684.504 239.299 Z\" fill=\"#000000\" fill-rule=\"evenodd\" fill-opacity=\"1\" /><path clip-path=\"url(#clip770)\" d=\"M 0 0 M699.853 240.901 Q699.853 236.79 702.72 233.944 Q705.587 231.098 709.466 231.098 Q712.754 231.098 714.904 233.776 L714.904 224.437 Q714.904 222.835 714.335 222.434 Q713.787 222.034 711.553 222.034 L711.553 220.685 L717.771 220.221 L717.771 246.424 Q717.771 248.026 718.319 248.447 Q718.889 248.848 721.123 248.848 L721.123 250.176 L714.778 250.661 L714.778 247.794 Q712.543 250.64 709.002 250.661 Q705.292 250.661 702.572 247.815 Q699.853 244.969 699.853 240.901 M703.437 240.943 Q703.437 244.948 704.68 246.93 Q706.409 249.691 709.213 249.691 Q712.417 249.691 714.314 246.677 Q714.799 245.939 714.778 245.075 L714.778 236.221 Q714.778 235.357 714.314 234.64 Q712.543 232.047 709.655 232.047 Q706.641 232.047 704.765 234.808 Q703.437 236.874 703.437 240.943 Z\" fill=\"#000000\" fill-rule=\"evenodd\" fill-opacity=\"1\" /><path clip-path=\"url(#clip770)\" d=\"M 0 0 M724.177 249.48 Q723.566 248.785 723.566 247.878 Q723.566 246.972 724.156 246.297 Q724.768 245.602 725.864 245.602 Q727.15 245.602 727.887 246.845 Q728.625 248.068 728.625 250.134 Q728.625 252.368 727.719 254.434 Q726.812 256.521 725.927 257.512 Q725.042 258.503 724.683 258.503 Q724.262 258.503 724.262 258.039 Q724.262 257.87 724.557 257.554 Q727.656 254.223 727.677 250.134 Q727.677 249.48 727.592 249.48 L727.487 249.565 Q726.749 250.176 725.864 250.176 Q724.789 250.176 724.177 249.48 Z\" fill=\"#000000\" fill-rule=\"evenodd\" fill-opacity=\"1\" /><path clip-path=\"url(#clip770)\" d=\"M 0 0 M749.617 232.911 L749.617 231.562 L753.011 231.562 L753.011 226.608 Q753.011 223.404 755.077 221.57 Q757.164 219.736 759.714 219.736 Q761.401 219.736 762.497 220.643 Q763.593 221.549 763.593 222.772 Q763.593 223.594 763.087 224.142 Q762.602 224.669 761.696 224.669 Q760.831 224.669 760.326 224.121 Q759.841 223.573 759.841 222.814 Q759.841 221.423 761.127 221.001 Q760.473 220.706 759.714 220.685 Q758.154 220.685 756.932 222.287 Q755.73 223.889 755.73 226.566 L755.73 231.562 L760.789 231.562 L760.789 232.911 L755.878 232.911 L755.878 246.803 Q755.878 248.047 756.384 248.447 Q756.911 248.848 759.145 248.848 L760.052 248.848 L760.052 250.176 Q758.323 250.049 754.571 250.049 Q754.044 250.049 753.222 250.071 Q752.42 250.092 751.324 250.134 Q750.249 250.176 749.659 250.176 L749.659 248.848 Q751.957 248.848 752.484 248.574 Q753.011 248.279 753.011 246.887 L753.011 232.911 L749.617 232.911 Z\" fill=\"#000000\" fill-rule=\"evenodd\" fill-opacity=\"1\" /><path clip-path=\"url(#clip770)\" d=\"M 0 0 M761.292 250.176 L761.292 248.848 Q763.59 248.848 764.117 248.574 Q764.644 248.279 764.644 246.887 L764.644 235.272 Q764.644 233.67 764.096 233.291 Q763.569 232.911 761.461 232.911 L761.461 231.562 L767.49 231.098 L767.49 246.93 Q767.49 248.215 767.954 248.532 Q768.417 248.848 770.525 248.848 L770.525 250.176 Q766.12 250.049 766.035 250.049 Q765.445 250.049 761.292 250.176 M763.105 223.573 Q763.105 222.708 763.759 222.013 Q764.433 221.296 765.382 221.296 Q766.33 221.296 767.005 221.95 Q767.679 222.582 767.679 223.594 Q767.679 224.585 767.005 225.238 Q766.33 225.87 765.382 225.87 Q764.391 225.87 763.737 225.175 Q763.105 224.479 763.105 223.573 Z\" fill=\"#000000\" fill-rule=\"evenodd\" fill-opacity=\"1\" /><path clip-path=\"url(#clip770)\" d=\"M 0 0 M773.128 232.911 L773.128 231.963 Q775.109 231.878 776.416 230.487 Q777.744 229.075 778.187 227.346 Q778.651 225.618 778.693 223.615 L779.768 223.615 L779.768 231.562 L785.945 231.562 L785.945 232.911 L779.768 232.911 L779.768 244.906 Q779.768 249.565 782.677 249.565 Q783.921 249.565 784.743 248.3 Q785.565 247.014 785.565 244.737 L785.565 242.355 L786.64 242.355 L786.64 244.822 Q786.64 247.161 785.565 248.911 Q784.49 250.661 782.361 250.661 Q781.581 250.661 780.801 250.45 Q780.042 250.26 779.03 249.754 Q778.039 249.227 777.407 247.963 Q776.796 246.677 776.796 244.822 L776.796 232.911 L773.128 232.911 Z\" fill=\"#000000\" fill-rule=\"evenodd\" fill-opacity=\"1\" /><path clip-path=\"url(#clip770)\" d=\"M 0 0 M789.702 260.547 Q789.702 260.337 790.25 259.81 Q797.206 252.727 797.206 239.383 Q797.206 225.997 790.524 219.23 Q789.702 218.45 789.702 218.218 Q789.702 217.797 790.123 217.797 Q790.418 217.797 791.451 218.661 Q792.505 219.525 794.086 221.507 Q795.689 223.488 796.869 225.913 Q799.715 231.794 799.715 239.383 Q799.715 246.677 796.995 252.558 Q795.836 255.024 794.213 257.09 Q792.59 259.156 791.515 260.063 Q790.44 260.969 790.123 260.969 Q789.702 260.969 789.702 260.547 Z\" fill=\"#000000\" fill-rule=\"evenodd\" fill-opacity=\"1\" /><circle clip-path=\"url(#clip770)\" cx=\"411.955\" cy=\"293.808\" r=\"20\" fill=\"#3da44d\" fill-rule=\"evenodd\" fill-opacity=\"1\" stroke=\"#000000\" stroke-opacity=\"1\" stroke-width=\"0\"/>\n",
       "<path clip-path=\"url(#clip770)\" d=\"M 0 0 M527.139 286.036 Q527.139 289.515 525.643 292.93 Q524.167 296.323 521.764 298.895 Q519.382 301.446 516.157 303.027 Q512.931 304.608 509.643 304.608 L495.35 304.608 Q494.845 304.608 494.634 304.587 Q494.444 304.566 494.296 304.46 Q494.149 304.334 494.149 304.081 Q494.149 303.68 494.318 303.512 Q494.486 303.322 494.676 303.301 Q494.866 303.28 495.35 303.28 Q496.404 303.28 497.037 303.217 Q497.669 303.153 498.07 303.069 Q498.491 302.964 498.702 302.669 Q498.934 302.373 499.039 302.12 Q499.145 301.846 499.292 301.235 L505.068 278.047 Q505.237 277.351 505.237 277.246 Q505.237 276.887 505.026 276.761 Q504.837 276.613 504.288 276.55 Q503.234 276.466 502.433 276.466 Q501.906 276.466 501.696 276.445 Q501.506 276.424 501.337 276.318 Q501.19 276.192 501.19 275.939 Q501.19 275.538 501.358 275.37 Q501.548 275.18 501.759 275.159 Q501.97 275.117 502.476 275.117 L516.979 275.117 Q520.12 275.117 522.46 276.592 Q524.799 278.047 525.959 280.513 Q527.139 282.959 527.139 286.036 M523.366 284.455 Q523.366 280.429 521.174 278.447 Q519.002 276.466 515.566 276.466 L510.95 276.466 Q509.58 276.466 509.242 276.719 Q508.905 276.951 508.61 278.11 L502.686 301.804 Q502.476 302.584 502.476 302.795 Q502.476 303.027 502.581 303.111 Q502.707 303.175 503.045 303.217 Q503.424 303.28 503.993 303.28 L508.863 303.28 Q510.739 303.28 512.446 302.774 Q514.175 302.247 515.419 301.425 Q516.663 300.582 517.464 299.865 Q518.265 299.127 518.834 298.389 Q520.12 296.724 521.068 294.553 Q522.038 292.381 522.481 290.4 Q522.944 288.397 523.155 286.922 Q523.366 285.425 523.366 284.455 Z\" fill=\"#000000\" fill-rule=\"evenodd\" fill-opacity=\"1\" /><path clip-path=\"url(#clip770)\" d=\"M 0 0 M543.746 293.815 Q543.746 286.521 546.465 280.64 Q547.624 278.173 549.247 276.108 Q550.871 274.042 551.946 273.135 Q553.021 272.229 553.316 272.229 Q553.738 272.229 553.759 272.65 Q553.759 272.861 553.189 273.388 Q546.233 280.471 546.254 293.815 Q546.254 307.201 553.021 314.01 Q553.759 314.748 553.759 314.979 Q553.759 315.401 553.316 315.401 Q553.021 315.401 551.988 314.537 Q550.955 313.672 549.353 311.691 Q547.751 309.709 546.591 307.285 Q543.746 301.404 543.746 293.815 Z\" fill=\"#000000\" fill-rule=\"evenodd\" fill-opacity=\"1\" /><path clip-path=\"url(#clip770)\" d=\"M 0 0 M563.165 302.289 Q560.32 299.464 560.32 295.375 Q560.32 291.264 563.102 288.271 Q565.906 285.256 569.911 285.256 Q573.832 285.256 576.636 288.25 Q579.46 291.222 579.46 295.375 Q579.46 299.443 576.615 302.268 Q573.79 305.093 569.869 305.093 Q566.032 305.093 563.165 302.289 M563.903 295.016 Q563.903 299.211 564.999 301.109 Q566.686 303.997 569.911 303.997 Q571.513 303.997 572.841 303.132 Q574.19 302.268 574.928 300.814 Q575.877 298.916 575.877 295.016 Q575.877 290.864 574.738 289.03 Q573.052 286.226 569.869 286.226 Q568.478 286.226 567.107 286.964 Q565.758 287.681 564.936 289.114 Q563.903 291.011 563.903 295.016 Z\" fill=\"#000000\" fill-rule=\"evenodd\" fill-opacity=\"1\" /><path clip-path=\"url(#clip770)\" d=\"M 0 0 M581.695 276.466 L581.695 275.117 L587.913 274.653 L587.913 288.334 Q590.422 285.53 593.837 285.53 Q597.547 285.53 600.266 288.376 Q602.986 291.222 602.986 295.291 Q602.986 299.401 600.14 302.247 Q597.294 305.093 593.352 305.093 Q589.768 305.093 587.702 301.931 Q586.185 304.566 586.142 304.608 L585.067 304.608 L585.067 278.869 Q585.067 277.267 584.498 276.866 Q583.929 276.466 581.695 276.466 M588.04 299.696 Q588.04 300.603 588.651 301.509 Q590.358 304.123 593.141 304.123 Q593.162 304.123 593.183 304.123 Q596.198 304.123 598.074 301.362 Q599.402 299.296 599.402 295.248 Q599.402 291.243 598.158 289.24 Q596.43 286.479 593.626 286.479 Q590.464 286.479 588.524 289.24 Q588.04 289.936 588.04 290.8 L588.04 299.696 Z\" fill=\"#000000\" fill-rule=\"evenodd\" fill-opacity=\"1\" /><path clip-path=\"url(#clip770)\" d=\"M 0 0 M605.407 304.039 L605.407 298.347 Q605.407 297.862 605.428 297.694 Q605.45 297.525 605.576 297.399 Q605.703 297.272 605.955 297.272 Q606.251 297.272 606.356 297.399 Q606.482 297.525 606.567 298.01 Q607.22 300.982 608.612 302.563 Q610.024 304.123 612.575 304.123 Q614.999 304.123 616.222 303.048 Q617.444 301.973 617.444 300.202 Q617.444 297.04 612.954 296.239 Q610.361 295.712 609.286 295.375 Q608.211 295.016 607.262 294.236 Q605.407 292.719 605.407 290.569 Q605.407 288.418 607.031 286.837 Q608.675 285.256 612.301 285.256 Q614.725 285.256 616.369 286.479 Q616.854 286.1 617.107 285.783 Q617.676 285.256 617.971 285.256 Q618.308 285.256 618.372 285.488 Q618.435 285.699 618.435 286.31 L618.435 290.653 Q618.435 291.138 618.414 291.306 Q618.393 291.475 618.266 291.601 Q618.14 291.707 617.866 291.707 Q617.381 291.707 617.36 291.306 Q617.023 286.078 612.301 286.078 Q609.75 286.078 608.612 287.069 Q607.473 288.039 607.473 289.367 Q607.473 290.105 607.811 290.674 Q608.169 291.222 608.612 291.559 Q609.075 291.876 609.919 292.192 Q610.762 292.487 611.268 292.592 Q611.795 292.698 612.785 292.908 Q616.243 293.562 617.697 294.974 Q619.51 296.787 619.51 299.085 Q619.51 301.636 617.781 303.364 Q616.053 305.093 612.575 305.093 Q609.771 305.093 607.811 303.217 Q607.558 303.47 607.368 303.702 Q607.178 303.912 607.094 303.997 Q607.031 304.081 607.009 304.144 Q606.988 304.186 606.946 304.229 Q606.082 305.093 605.871 305.093 Q605.534 305.093 605.471 304.861 Q605.407 304.65 605.407 304.039 Z\" fill=\"#000000\" fill-rule=\"evenodd\" fill-opacity=\"1\" /><path clip-path=\"url(#clip770)\" d=\"M 0 0 M622.232 295.101 Q622.232 291.032 624.846 288.144 Q627.46 285.256 631.212 285.256 Q635.006 285.256 636.967 287.723 Q638.948 290.189 638.948 293.731 Q638.948 294.384 638.78 294.511 Q638.611 294.637 637.873 294.637 L625.816 294.637 Q625.816 299.043 627.122 301.109 Q628.935 303.997 631.992 303.997 Q632.414 303.997 632.92 303.912 Q633.425 303.828 634.458 303.47 Q635.491 303.09 636.398 302.099 Q637.304 301.109 637.831 299.549 Q637.958 298.937 638.379 298.958 Q638.948 298.958 638.948 299.464 Q638.948 299.844 638.527 300.708 Q638.126 301.551 637.346 302.563 Q636.566 303.575 635.049 304.334 Q633.552 305.093 631.739 305.093 Q627.945 305.093 625.078 302.226 Q622.232 299.338 622.232 295.101 M625.858 293.731 L636.103 293.731 Q636.103 292.824 635.934 291.812 Q635.786 290.8 635.323 289.409 Q634.88 287.997 633.826 287.111 Q632.772 286.226 631.212 286.226 Q630.516 286.226 629.757 286.521 Q629.02 286.816 628.113 287.533 Q627.207 288.25 626.574 289.873 Q625.942 291.496 625.858 293.731 Z\" fill=\"#000000\" fill-rule=\"evenodd\" fill-opacity=\"1\" /><path clip-path=\"url(#clip770)\" d=\"M 0 0 M641.206 304.608 L641.206 303.28 Q643.504 303.28 644.031 303.006 Q644.579 302.711 644.579 301.319 L644.579 289.746 Q644.579 288.144 644.01 287.744 Q643.462 287.343 641.206 287.343 L641.206 285.994 L647.214 285.53 L647.214 290.273 Q647.826 288.418 649.111 286.985 Q650.418 285.53 652.526 285.53 Q653.918 285.53 654.803 286.31 Q655.71 287.09 655.71 288.165 Q655.71 289.114 655.119 289.599 Q654.55 290.063 653.854 290.063 Q653.075 290.063 652.526 289.578 Q651.999 289.072 651.999 288.208 Q651.999 287.681 652.231 287.28 Q652.484 286.858 652.674 286.711 Q652.864 286.563 652.99 286.521 Q652.906 286.479 652.526 286.479 Q650.144 286.479 648.774 288.861 Q647.425 291.222 647.425 294.595 L647.425 301.235 Q647.425 302.479 647.931 302.879 Q648.458 303.28 650.714 303.28 L651.62 303.28 L651.62 304.608 Q649.891 304.481 646.139 304.481 Q645.612 304.481 644.79 304.503 Q643.968 304.524 642.893 304.566 Q641.818 304.608 641.206 304.608 Z\" fill=\"#000000\" fill-rule=\"evenodd\" fill-opacity=\"1\" /><path clip-path=\"url(#clip770)\" d=\"M 0 0 M658.806 287.343 L658.806 285.994 Q660.745 286.121 663.001 286.121 Q663.823 286.121 667.701 285.994 L667.701 287.343 Q665.235 287.343 665.235 288.461 Q665.235 288.629 665.488 289.198 L670.336 301.235 L674.742 290.231 Q674.995 289.493 674.995 289.198 Q674.995 288.461 674.489 287.934 Q674.004 287.385 672.929 287.343 L672.929 285.994 Q675.122 286.121 676.682 286.121 Q678.452 286.121 679.907 285.994 L679.907 287.343 Q678.621 287.343 677.715 287.934 Q676.808 288.503 676.513 289.009 Q676.239 289.493 675.944 290.231 L670.294 304.271 Q669.957 305.093 669.388 305.093 Q669.008 305.093 668.84 304.924 Q668.692 304.777 668.481 304.271 L662.263 288.945 Q661.841 287.87 661.293 287.617 Q660.745 287.343 658.806 287.343 Z\" fill=\"#000000\" fill-rule=\"evenodd\" fill-opacity=\"1\" /><path clip-path=\"url(#clip770)\" d=\"M 0 0 M680.879 295.101 Q680.879 291.032 683.493 288.144 Q686.107 285.256 689.859 285.256 Q693.653 285.256 695.614 287.723 Q697.595 290.189 697.595 293.731 Q697.595 294.384 697.427 294.511 Q697.258 294.637 696.52 294.637 L684.462 294.637 Q684.462 299.043 685.769 301.109 Q687.582 303.997 690.639 303.997 Q691.06 303.997 691.566 303.912 Q692.072 303.828 693.105 303.47 Q694.138 303.09 695.045 302.099 Q695.951 301.109 696.478 299.549 Q696.604 298.937 697.026 298.958 Q697.595 298.958 697.595 299.464 Q697.595 299.844 697.174 300.708 Q696.773 301.551 695.993 302.563 Q695.213 303.575 693.695 304.334 Q692.199 305.093 690.386 305.093 Q686.591 305.093 683.724 302.226 Q680.879 299.338 680.879 295.101 M684.504 293.731 L694.749 293.731 Q694.749 292.824 694.581 291.812 Q694.433 290.8 693.969 289.409 Q693.527 287.997 692.473 287.111 Q691.419 286.226 689.859 286.226 Q689.163 286.226 688.404 286.521 Q687.666 286.816 686.76 287.533 Q685.854 288.25 685.221 289.873 Q684.589 291.496 684.504 293.731 Z\" fill=\"#000000\" fill-rule=\"evenodd\" fill-opacity=\"1\" /><path clip-path=\"url(#clip770)\" d=\"M 0 0 M699.853 295.333 Q699.853 291.222 702.72 288.376 Q705.587 285.53 709.466 285.53 Q712.754 285.53 714.904 288.208 L714.904 278.869 Q714.904 277.267 714.335 276.866 Q713.787 276.466 711.553 276.466 L711.553 275.117 L717.771 274.653 L717.771 300.856 Q717.771 302.458 718.319 302.879 Q718.889 303.28 721.123 303.28 L721.123 304.608 L714.778 305.093 L714.778 302.226 Q712.543 305.072 709.002 305.093 Q705.292 305.093 702.572 302.247 Q699.853 299.401 699.853 295.333 M703.437 295.375 Q703.437 299.38 704.68 301.362 Q706.409 304.123 709.213 304.123 Q712.417 304.123 714.314 301.109 Q714.799 300.371 714.778 299.507 L714.778 290.653 Q714.778 289.789 714.314 289.072 Q712.543 286.479 709.655 286.479 Q706.641 286.479 704.765 289.24 Q703.437 291.306 703.437 295.375 Z\" fill=\"#000000\" fill-rule=\"evenodd\" fill-opacity=\"1\" /><path clip-path=\"url(#clip770)\" d=\"M 0 0 M724.177 303.912 Q723.566 303.217 723.566 302.31 Q723.566 301.404 724.156 300.729 Q724.768 300.034 725.864 300.034 Q727.15 300.034 727.887 301.277 Q728.625 302.5 728.625 304.566 Q728.625 306.8 727.719 308.866 Q726.812 310.953 725.927 311.944 Q725.042 312.935 724.683 312.935 Q724.262 312.935 724.262 312.471 Q724.262 312.302 724.557 311.986 Q727.656 308.655 727.677 304.566 Q727.677 303.912 727.592 303.912 L727.487 303.997 Q726.749 304.608 725.864 304.608 Q724.789 304.608 724.177 303.912 Z\" fill=\"#000000\" fill-rule=\"evenodd\" fill-opacity=\"1\" /><path clip-path=\"url(#clip770)\" d=\"M 0 0 M749.617 304.608 L749.617 303.28 Q751.915 303.28 752.442 303.006 Q752.969 302.711 752.969 301.319 L752.969 289.746 Q752.969 288.144 752.399 287.744 Q751.851 287.343 749.617 287.343 L749.617 285.994 L755.688 285.53 L755.688 290.063 Q757.712 285.53 762.075 285.53 Q765.322 285.53 766.607 287.132 Q767.556 288.208 767.746 289.409 Q767.957 290.611 767.957 293.731 L767.957 301.973 Q767.999 302.879 768.694 303.09 Q769.39 303.28 771.329 303.28 L771.329 304.608 Q766.924 304.481 766.481 304.481 Q766.144 304.481 761.611 304.608 L761.611 303.28 Q763.909 303.28 764.436 303.006 Q764.984 302.711 764.984 301.319 L764.984 291.264 Q764.984 289.072 764.31 287.786 Q763.635 286.479 761.78 286.479 Q759.546 286.479 757.754 288.355 Q755.962 290.231 755.962 293.393 L755.962 301.319 Q755.962 302.711 756.489 303.006 Q757.037 303.28 759.314 303.28 L759.314 304.608 Q754.908 304.481 754.486 304.481 Q754.149 304.481 749.617 304.608 Z\" fill=\"#000000\" fill-rule=\"evenodd\" fill-opacity=\"1\" /><path clip-path=\"url(#clip770)\" d=\"M 0 0 M776.176 302.289 Q773.33 299.464 773.33 295.375 Q773.33 291.264 776.112 288.271 Q778.916 285.256 782.921 285.256 Q786.842 285.256 789.646 288.25 Q792.471 291.222 792.471 295.375 Q792.471 299.443 789.625 302.268 Q786.8 305.093 782.879 305.093 Q779.042 305.093 776.176 302.289 M776.913 295.016 Q776.913 299.211 778.009 301.109 Q779.696 303.997 782.921 303.997 Q784.523 303.997 785.851 303.132 Q787.2 302.268 787.938 300.814 Q788.887 298.916 788.887 295.016 Q788.887 290.864 787.749 289.03 Q786.062 286.226 782.879 286.226 Q781.488 286.226 780.118 286.964 Q778.768 287.681 777.946 289.114 Q776.913 291.011 776.913 295.016 Z\" fill=\"#000000\" fill-rule=\"evenodd\" fill-opacity=\"1\" /><path clip-path=\"url(#clip770)\" d=\"M 0 0 M793.917 287.343 L793.917 286.395 Q795.899 286.31 797.206 284.919 Q798.534 283.507 798.976 281.778 Q799.44 280.05 799.482 278.047 L800.557 278.047 L800.557 285.994 L806.734 285.994 L806.734 287.343 L800.557 287.343 L800.557 299.338 Q800.557 303.997 803.467 303.997 Q804.71 303.997 805.532 302.732 Q806.355 301.446 806.355 299.169 L806.355 296.787 L807.43 296.787 L807.43 299.254 Q807.43 301.593 806.355 303.343 Q805.279 305.093 803.15 305.093 Q802.37 305.093 801.59 304.882 Q800.831 304.692 799.82 304.186 Q798.829 303.659 798.196 302.395 Q797.585 301.109 797.585 299.254 L797.585 287.343 L793.917 287.343 Z\" fill=\"#000000\" fill-rule=\"evenodd\" fill-opacity=\"1\" /><path clip-path=\"url(#clip770)\" d=\"M 0 0 M824.706 287.343 L824.706 285.994 L828.1 285.994 L828.1 281.04 Q828.1 277.836 830.166 276.002 Q832.253 274.168 834.804 274.168 Q836.49 274.168 837.586 275.075 Q838.683 275.981 838.683 277.204 Q838.683 278.026 838.177 278.574 Q837.692 279.101 836.785 279.101 Q835.921 279.101 835.415 278.553 Q834.93 278.005 834.93 277.246 Q834.93 275.855 836.216 275.433 Q835.563 275.138 834.804 275.117 Q833.244 275.117 832.021 276.719 Q830.82 278.321 830.82 280.998 L830.82 285.994 L835.879 285.994 L835.879 287.343 L830.967 287.343 L830.967 301.235 Q830.967 302.479 831.473 302.879 Q832 303.28 834.235 303.28 L835.141 303.28 L835.141 304.608 Q833.413 304.481 829.66 304.481 Q829.133 304.481 828.311 304.503 Q827.51 304.524 826.414 304.566 Q825.339 304.608 824.749 304.608 L824.749 303.28 Q827.046 303.28 827.573 303.006 Q828.1 302.711 828.1 301.319 L828.1 287.343 L824.706 287.343 Z\" fill=\"#000000\" fill-rule=\"evenodd\" fill-opacity=\"1\" /><path clip-path=\"url(#clip770)\" d=\"M 0 0 M836.382 304.608 L836.382 303.28 Q838.68 303.28 839.207 303.006 Q839.734 302.711 839.734 301.319 L839.734 289.704 Q839.734 288.102 839.185 287.723 Q838.658 287.343 836.55 287.343 L836.55 285.994 L842.579 285.53 L842.579 301.362 Q842.579 302.647 843.043 302.964 Q843.507 303.28 845.615 303.28 L845.615 304.608 Q841.209 304.481 841.125 304.481 Q840.535 304.481 836.382 304.608 M838.195 278.005 Q838.195 277.14 838.848 276.445 Q839.523 275.728 840.471 275.728 Q841.42 275.728 842.095 276.382 Q842.769 277.014 842.769 278.026 Q842.769 279.017 842.095 279.67 Q841.42 280.302 840.471 280.302 Q839.481 280.302 838.827 279.607 Q838.195 278.911 838.195 278.005 Z\" fill=\"#000000\" fill-rule=\"evenodd\" fill-opacity=\"1\" /><path clip-path=\"url(#clip770)\" d=\"M 0 0 M848.217 287.343 L848.217 286.395 Q850.199 286.31 851.506 284.919 Q852.834 283.507 853.277 281.778 Q853.74 280.05 853.783 278.047 L854.858 278.047 L854.858 285.994 L861.034 285.994 L861.034 287.343 L854.858 287.343 L854.858 299.338 Q854.858 303.997 857.767 303.997 Q859.01 303.997 859.833 302.732 Q860.655 301.446 860.655 299.169 L860.655 296.787 L861.73 296.787 L861.73 299.254 Q861.73 301.593 860.655 303.343 Q859.58 305.093 857.45 305.093 Q856.671 305.093 855.891 304.882 Q855.132 304.692 854.12 304.186 Q853.129 303.659 852.497 302.395 Q851.885 301.109 851.885 299.254 L851.885 287.343 L848.217 287.343 Z\" fill=\"#000000\" fill-rule=\"evenodd\" fill-opacity=\"1\" /><path clip-path=\"url(#clip770)\" d=\"M 0 0 M864.791 314.979 Q864.791 314.769 865.339 314.242 Q872.296 307.159 872.296 293.815 Q872.296 280.429 865.613 273.662 Q864.791 272.882 864.791 272.65 Q864.791 272.229 865.213 272.229 Q865.508 272.229 866.541 273.093 Q867.595 273.957 869.176 275.939 Q870.778 277.92 871.959 280.345 Q874.804 286.226 874.804 293.815 Q874.804 301.109 872.085 306.99 Q870.926 309.456 869.302 311.522 Q867.679 313.588 866.604 314.495 Q865.529 315.401 865.213 315.401 Q864.791 315.401 864.791 314.979 Z\" fill=\"#000000\" fill-rule=\"evenodd\" fill-opacity=\"1\" /></svg>\n"
      ]
     },
     "metadata": {},
     "output_type": "display_data"
    },
    {
     "data": {
      "image/svg+xml": [
       "<?xml version=\"1.0\" encoding=\"utf-8\"?>\n",
       "<svg xmlns=\"http://www.w3.org/2000/svg\" xmlns:xlink=\"http://www.w3.org/1999/xlink\" width=\"540\" height=\"360\" viewBox=\"0 0 2160 1440\">\n",
       "<defs>\n",
       "  <clipPath id=\"clip820\">\n",
       "    <rect x=\"0\" y=\"0\" width=\"2160\" height=\"1440\"/>\n",
       "  </clipPath>\n",
       "</defs>\n",
       "<path clip-path=\"url(#clip820)\" d=\"\n",
       "M0 1440 L2160 1440 L2160 0 L0 0  Z\n",
       "  \" fill=\"#ffffff\" fill-rule=\"evenodd\" fill-opacity=\"1\"/>\n",
       "<defs>\n",
       "  <clipPath id=\"clip821\">\n",
       "    <rect x=\"432\" y=\"0\" width=\"1513\" height=\"1440\"/>\n",
       "  </clipPath>\n",
       "</defs>\n",
       "<defs>\n",
       "  <clipPath id=\"clip822\">\n",
       "    <rect x=\"268\" y=\"90\" width=\"1850\" height=\"1195\"/>\n",
       "  </clipPath>\n",
       "</defs>\n",
       "<path clip-path=\"url(#clip820)\" d=\"\n",
       "M267.334 1284.63 L2117.48 1284.63 L2117.48 91.2773 L267.334 91.2773  Z\n",
       "  \" fill=\"#ffffff\" fill-rule=\"evenodd\" fill-opacity=\"1\"/>\n",
       "<defs>\n",
       "  <clipPath id=\"clip823\">\n",
       "    <rect x=\"267\" y=\"91\" width=\"1851\" height=\"1194\"/>\n",
       "  </clipPath>\n",
       "</defs>\n",
       "<polyline clip-path=\"url(#clip823)\" style=\"stroke:#000000; stroke-width:1.8; stroke-opacity:0.1; fill:none\" points=\"\n",
       "  319.697,1284.63 319.697,91.2773 \n",
       "  \"/>\n",
       "<polyline clip-path=\"url(#clip823)\" style=\"stroke:#000000; stroke-width:1.8; stroke-opacity:0.1; fill:none\" points=\"\n",
       "  917.444,1284.63 917.444,91.2773 \n",
       "  \"/>\n",
       "<polyline clip-path=\"url(#clip823)\" style=\"stroke:#000000; stroke-width:1.8; stroke-opacity:0.1; fill:none\" points=\"\n",
       "  1515.19,1284.63 1515.19,91.2773 \n",
       "  \"/>\n",
       "<polyline clip-path=\"url(#clip823)\" style=\"stroke:#000000; stroke-width:1.8; stroke-opacity:0.1; fill:none\" points=\"\n",
       "  2112.94,1284.63 2112.94,91.2773 \n",
       "  \"/>\n",
       "<polyline clip-path=\"url(#clip820)\" style=\"stroke:#000000; stroke-width:3.6; stroke-opacity:1; fill:none\" points=\"\n",
       "  267.334,1284.63 2117.48,1284.63 \n",
       "  \"/>\n",
       "<polyline clip-path=\"url(#clip820)\" style=\"stroke:#000000; stroke-width:3.6; stroke-opacity:1; fill:none\" points=\"\n",
       "  319.697,1284.63 319.697,1270.31 \n",
       "  \"/>\n",
       "<polyline clip-path=\"url(#clip820)\" style=\"stroke:#000000; stroke-width:3.6; stroke-opacity:1; fill:none\" points=\"\n",
       "  917.444,1284.63 917.444,1270.31 \n",
       "  \"/>\n",
       "<polyline clip-path=\"url(#clip820)\" style=\"stroke:#000000; stroke-width:3.6; stroke-opacity:1; fill:none\" points=\"\n",
       "  1515.19,1284.63 1515.19,1270.31 \n",
       "  \"/>\n",
       "<polyline clip-path=\"url(#clip820)\" style=\"stroke:#000000; stroke-width:3.6; stroke-opacity:1; fill:none\" points=\"\n",
       "  2112.94,1284.63 2112.94,1270.31 \n",
       "  \"/>\n",
       "<path clip-path=\"url(#clip820)\" d=\"M 0 0 M310.115 1324.67 Q310.115 1317.98 311.804 1314.33 Q314.161 1308.91 319.719 1308.91 Q320.898 1308.91 322.12 1309.24 Q323.365 1309.55 324.922 1310.78 Q326.5 1312 327.456 1314 Q329.279 1317.87 329.279 1324.67 Q329.279 1331.32 327.59 1334.94 Q325.122 1340.24 319.675 1340.24 Q317.629 1340.24 315.539 1339.19 Q313.472 1338.15 312.16 1335.63 Q310.115 1331.88 310.115 1324.67 M313.894 1324.12 Q313.894 1330.99 314.383 1333.72 Q314.939 1336.68 316.451 1337.97 Q317.985 1339.23 319.675 1339.23 Q321.498 1339.23 323.01 1337.88 Q324.544 1336.5 325.011 1333.54 Q325.522 1330.63 325.5 1324.12 Q325.5 1317.78 325.055 1315.25 Q324.455 1312.29 322.854 1311.11 Q321.276 1309.91 319.675 1309.91 Q319.075 1309.91 318.43 1310.09 Q317.807 1310.27 316.896 1310.78 Q315.984 1311.29 315.273 1312.56 Q314.583 1313.82 314.25 1315.73 Q313.894 1318.2 313.894 1324.12 Z\" fill=\"#000000\" fill-rule=\"evenodd\" fill-opacity=\"1\" /><path clip-path=\"url(#clip820)\" d=\"M 0 0 M897.879 1331.9 Q897.879 1330.54 898.612 1330.03 Q899.346 1329.5 900.124 1329.5 Q901.169 1329.5 901.77 1330.16 Q902.392 1330.81 902.392 1331.72 Q902.392 1332.63 901.77 1333.3 Q901.169 1333.94 900.124 1333.94 Q899.613 1333.94 899.346 1333.85 Q899.946 1335.94 901.77 1337.46 Q903.615 1338.97 906.038 1338.97 Q909.084 1338.97 910.907 1336.01 Q911.997 1334.1 911.997 1329.76 Q911.997 1325.94 911.174 1324.03 Q909.907 1321.11 907.306 1321.11 Q903.615 1321.11 901.436 1324.29 Q901.169 1324.69 900.858 1324.72 Q900.413 1324.72 900.302 1324.47 Q900.213 1324.21 900.213 1323.52 L900.213 1310.04 Q900.213 1308.95 900.658 1308.95 Q900.836 1308.95 901.214 1309.09 Q904.082 1310.35 907.261 1310.38 Q910.529 1310.38 913.464 1309.04 Q913.686 1308.91 913.82 1308.91 Q914.265 1308.91 914.287 1309.42 Q914.287 1309.6 913.909 1310.13 Q913.553 1310.64 912.775 1311.33 Q911.997 1312 910.996 1312.64 Q909.996 1313.29 908.528 1313.73 Q907.083 1314.16 905.482 1314.16 Q903.57 1314.16 901.614 1313.56 L901.614 1322.43 Q903.971 1320.11 907.395 1320.11 Q911.041 1320.11 913.553 1323.05 Q916.065 1325.98 916.065 1330.07 Q916.065 1334.37 913.086 1337.3 Q910.129 1340.24 906.127 1340.24 Q902.481 1340.24 900.169 1337.63 Q897.879 1335.03 897.879 1331.9 Z\" fill=\"#000000\" fill-rule=\"evenodd\" fill-opacity=\"1\" /><path clip-path=\"url(#clip820)\" d=\"M 0 0 M917.844 1324.67 Q917.844 1317.98 919.534 1314.33 Q921.89 1308.91 927.449 1308.91 Q928.627 1308.91 929.85 1309.24 Q931.095 1309.55 932.651 1310.78 Q934.23 1312 935.186 1314 Q937.009 1317.87 937.009 1324.67 Q937.009 1331.32 935.319 1334.94 Q932.851 1340.24 927.404 1340.24 Q925.359 1340.24 923.269 1339.19 Q921.201 1338.15 919.889 1335.63 Q917.844 1331.88 917.844 1324.67 M921.624 1324.12 Q921.624 1330.99 922.113 1333.72 Q922.669 1336.68 924.18 1337.97 Q925.715 1339.23 927.404 1339.23 Q929.227 1339.23 930.739 1337.88 Q932.273 1336.5 932.74 1333.54 Q933.252 1330.63 933.229 1324.12 Q933.229 1317.78 932.785 1315.25 Q932.184 1312.29 930.584 1311.11 Q929.005 1309.91 927.404 1309.91 Q926.804 1309.91 926.159 1310.09 Q925.537 1310.27 924.625 1310.78 Q923.714 1311.29 923.002 1312.56 Q922.313 1313.82 921.979 1315.73 Q921.624 1318.2 921.624 1324.12 Z\" fill=\"#000000\" fill-rule=\"evenodd\" fill-opacity=\"1\" /><path clip-path=\"url(#clip820)\" d=\"M 0 0 M1486.73 1313.24 L1486.73 1311.82 Q1492.2 1311.82 1495.03 1308.91 Q1495.8 1308.91 1495.94 1309.09 Q1496.07 1309.26 1496.07 1310.09 L1496.07 1335.63 Q1496.07 1336.99 1496.74 1337.41 Q1497.4 1337.83 1500.32 1337.83 L1501.76 1337.83 L1501.76 1339.23 Q1500.16 1339.1 1494.38 1339.1 Q1488.6 1339.1 1487.02 1339.23 L1487.02 1337.83 L1488.47 1337.83 Q1491.33 1337.83 1492.02 1337.43 Q1492.71 1337.01 1492.71 1335.63 L1492.71 1312.04 Q1490.33 1313.24 1486.73 1313.24 Z\" fill=\"#000000\" fill-rule=\"evenodd\" fill-opacity=\"1\" /><path clip-path=\"url(#clip820)\" d=\"M 0 0 M1503.54 1324.67 Q1503.54 1317.98 1505.23 1314.33 Q1507.59 1308.91 1513.15 1308.91 Q1514.32 1308.91 1515.55 1309.24 Q1516.79 1309.55 1518.35 1310.78 Q1519.93 1312 1520.88 1314 Q1522.71 1317.87 1522.71 1324.67 Q1522.71 1331.32 1521.02 1334.94 Q1518.55 1340.24 1513.1 1340.24 Q1511.06 1340.24 1508.97 1339.19 Q1506.9 1338.15 1505.59 1335.63 Q1503.54 1331.88 1503.54 1324.67 M1507.32 1324.12 Q1507.32 1330.99 1507.81 1333.72 Q1508.37 1336.68 1509.88 1337.97 Q1511.41 1339.23 1513.1 1339.23 Q1514.92 1339.23 1516.44 1337.88 Q1517.97 1336.5 1518.44 1333.54 Q1518.95 1330.63 1518.93 1324.12 Q1518.93 1317.78 1518.48 1315.25 Q1517.88 1312.29 1516.28 1311.11 Q1514.7 1309.91 1513.1 1309.91 Q1512.5 1309.91 1511.86 1310.09 Q1511.23 1310.27 1510.32 1310.78 Q1509.41 1311.29 1508.7 1312.56 Q1508.01 1313.82 1507.68 1315.73 Q1507.32 1318.2 1507.32 1324.12 Z\" fill=\"#000000\" fill-rule=\"evenodd\" fill-opacity=\"1\" /><path clip-path=\"url(#clip820)\" d=\"M 0 0 M1524.48 1324.67 Q1524.48 1317.98 1526.17 1314.33 Q1528.53 1308.91 1534.09 1308.91 Q1535.27 1308.91 1536.49 1309.24 Q1537.73 1309.55 1539.29 1310.78 Q1540.87 1312 1541.83 1314 Q1543.65 1317.87 1543.65 1324.67 Q1543.65 1331.32 1541.96 1334.94 Q1539.49 1340.24 1534.04 1340.24 Q1532 1340.24 1529.91 1339.19 Q1527.84 1338.15 1526.53 1335.63 Q1524.48 1331.88 1524.48 1324.67 M1528.26 1324.12 Q1528.26 1330.99 1528.75 1333.72 Q1529.31 1336.68 1530.82 1337.97 Q1532.35 1339.23 1534.04 1339.23 Q1535.87 1339.23 1537.38 1337.88 Q1538.91 1336.5 1539.38 1333.54 Q1539.89 1330.63 1539.87 1324.12 Q1539.87 1317.78 1539.42 1315.25 Q1538.82 1312.29 1537.22 1311.11 Q1535.65 1309.91 1534.04 1309.91 Q1533.44 1309.91 1532.8 1310.09 Q1532.18 1310.27 1531.27 1310.78 Q1530.35 1311.29 1529.64 1312.56 Q1528.95 1313.82 1528.62 1315.73 Q1528.26 1318.2 1528.26 1324.12 Z\" fill=\"#000000\" fill-rule=\"evenodd\" fill-opacity=\"1\" /><path clip-path=\"url(#clip820)\" d=\"M 0 0 M2084.72 1313.24 L2084.72 1311.82 Q2090.19 1311.82 2093.02 1308.91 Q2093.79 1308.91 2093.93 1309.09 Q2094.06 1309.26 2094.06 1310.09 L2094.06 1335.63 Q2094.06 1336.99 2094.73 1337.41 Q2095.4 1337.83 2098.31 1337.83 L2099.75 1337.83 L2099.75 1339.23 Q2098.15 1339.1 2092.37 1339.1 Q2086.59 1339.1 2085.01 1339.23 L2085.01 1337.83 L2086.46 1337.83 Q2089.33 1337.83 2090.02 1337.43 Q2090.7 1337.01 2090.7 1335.63 L2090.7 1312.04 Q2088.33 1313.24 2084.72 1313.24 Z\" fill=\"#000000\" fill-rule=\"evenodd\" fill-opacity=\"1\" /><path clip-path=\"url(#clip820)\" d=\"M 0 0 M2102.02 1331.9 Q2102.02 1330.54 2102.75 1330.03 Q2103.49 1329.5 2104.27 1329.5 Q2105.31 1329.5 2105.91 1330.16 Q2106.53 1330.81 2106.53 1331.72 Q2106.53 1332.63 2105.91 1333.3 Q2105.31 1333.94 2104.27 1333.94 Q2103.76 1333.94 2103.49 1333.85 Q2104.09 1335.94 2105.91 1337.46 Q2107.76 1338.97 2110.18 1338.97 Q2113.23 1338.97 2115.05 1336.01 Q2116.14 1334.1 2116.14 1329.76 Q2116.14 1325.94 2115.32 1324.03 Q2114.05 1321.11 2111.45 1321.11 Q2107.76 1321.11 2105.58 1324.29 Q2105.31 1324.69 2105 1324.72 Q2104.56 1324.72 2104.44 1324.47 Q2104.36 1324.21 2104.36 1323.52 L2104.36 1310.04 Q2104.36 1308.95 2104.8 1308.95 Q2104.98 1308.95 2105.36 1309.09 Q2108.22 1310.35 2111.4 1310.38 Q2114.67 1310.38 2117.61 1309.04 Q2117.83 1308.91 2117.96 1308.91 Q2118.41 1308.91 2118.43 1309.42 Q2118.43 1309.6 2118.05 1310.13 Q2117.7 1310.64 2116.92 1311.33 Q2116.14 1312 2115.14 1312.64 Q2114.14 1313.29 2112.67 1313.73 Q2111.23 1314.16 2109.62 1314.16 Q2107.71 1314.16 2105.76 1313.56 L2105.76 1322.43 Q2108.11 1320.11 2111.54 1320.11 Q2115.18 1320.11 2117.7 1323.05 Q2120.21 1325.98 2120.21 1330.07 Q2120.21 1334.37 2117.23 1337.3 Q2114.27 1340.24 2110.27 1340.24 Q2106.62 1340.24 2104.31 1337.63 Q2102.02 1335.03 2102.02 1331.9 Z\" fill=\"#000000\" fill-rule=\"evenodd\" fill-opacity=\"1\" /><path clip-path=\"url(#clip820)\" d=\"M 0 0 M2121.99 1324.67 Q2121.99 1317.98 2123.68 1314.33 Q2126.03 1308.91 2131.59 1308.91 Q2132.77 1308.91 2133.99 1309.24 Q2135.24 1309.55 2136.79 1310.78 Q2138.37 1312 2139.33 1314 Q2141.15 1317.87 2141.15 1324.67 Q2141.15 1331.32 2139.46 1334.94 Q2136.99 1340.24 2131.55 1340.24 Q2129.5 1340.24 2127.41 1339.19 Q2125.34 1338.15 2124.03 1335.63 Q2121.99 1331.88 2121.99 1324.67 M2125.77 1324.12 Q2125.77 1330.99 2126.26 1333.72 Q2126.81 1336.68 2128.32 1337.97 Q2129.86 1339.23 2131.55 1339.23 Q2133.37 1339.23 2134.88 1337.88 Q2136.42 1336.5 2136.88 1333.54 Q2137.39 1330.63 2137.37 1324.12 Q2137.37 1317.78 2136.93 1315.25 Q2136.33 1312.29 2134.73 1311.11 Q2133.15 1309.91 2131.55 1309.91 Q2130.95 1309.91 2130.3 1310.09 Q2129.68 1310.27 2128.77 1310.78 Q2127.86 1311.29 2127.14 1312.56 Q2126.46 1313.82 2126.12 1315.73 Q2125.77 1318.2 2125.77 1324.12 Z\" fill=\"#000000\" fill-rule=\"evenodd\" fill-opacity=\"1\" /><path clip-path=\"url(#clip820)\" d=\"M 0 0 M892.109 1365.98 Q892.109 1366.8 891.732 1367 Q891.356 1367.17 890.312 1367.17 L884.747 1367.17 L880.341 1384.68 Q879.993 1386.22 879.993 1387.52 Q879.993 1388.97 880.428 1389.61 Q880.892 1390.24 881.848 1390.24 Q883.732 1390.24 885.761 1388.53 Q887.819 1386.82 889.558 1382.65 Q889.79 1382.1 889.906 1381.98 Q890.051 1381.84 890.428 1381.84 Q891.153 1381.84 891.153 1382.42 Q891.153 1382.62 890.747 1383.55 Q890.37 1384.48 889.53 1385.84 Q888.718 1387.2 887.645 1388.48 Q886.602 1389.75 885.008 1390.68 Q883.414 1391.58 881.703 1391.58 Q879.298 1391.58 877.761 1390.04 Q876.254 1388.51 876.254 1386.1 Q876.254 1385.32 876.863 1382.82 Q877.472 1380.3 880.776 1367.17 L875.53 1367.17 Q874.805 1367.17 874.515 1367.14 Q874.254 1367.11 874.051 1366.97 Q873.877 1366.8 873.877 1366.45 Q873.877 1365.9 874.109 1365.66 Q874.341 1365.4 874.631 1365.37 Q874.95 1365.32 875.675 1365.32 L881.24 1365.32 L883.559 1355.9 Q883.79 1354.97 884.37 1354.45 Q884.979 1353.9 885.327 1353.84 Q885.674 1353.75 885.935 1353.75 Q886.718 1353.75 887.182 1354.19 Q887.645 1354.59 887.645 1355.35 Q887.645 1355.75 885.211 1365.32 L890.428 1365.32 Q891.095 1365.32 891.356 1365.35 Q891.645 1365.37 891.877 1365.52 Q892.109 1365.66 892.109 1365.98 Z\" fill=\"#000000\" fill-rule=\"evenodd\" fill-opacity=\"1\" /><path clip-path=\"url(#clip820)\" d=\"M 0 0 M914.673 1376.07 Q914.673 1366.04 918.412 1357.95 Q920.006 1354.56 922.238 1351.72 Q924.47 1348.88 925.948 1347.64 Q927.427 1346.39 927.832 1346.39 Q928.412 1346.39 928.441 1346.97 Q928.441 1347.26 927.658 1347.98 Q918.093 1357.72 918.122 1376.07 Q918.122 1394.48 927.427 1403.84 Q928.441 1404.85 928.441 1405.17 Q928.441 1405.75 927.832 1405.75 Q927.427 1405.75 926.006 1404.56 Q924.586 1403.37 922.383 1400.65 Q920.18 1397.93 918.586 1394.59 Q914.673 1386.51 914.673 1376.07 Z\" fill=\"#000000\" fill-rule=\"evenodd\" fill-opacity=\"1\" /><path clip-path=\"url(#clip820)\" d=\"M 0 0 M937.484 1378.16 Q937.484 1372.51 941.426 1368.59 Q945.368 1364.68 950.701 1364.68 Q955.223 1364.68 958.18 1368.36 L958.18 1355.52 Q958.18 1353.32 957.397 1352.77 Q956.643 1352.22 953.571 1352.22 L953.571 1350.36 L962.122 1349.72 L962.122 1385.75 Q962.122 1387.95 962.875 1388.53 Q963.658 1389.08 966.73 1389.08 L966.73 1390.91 L958.006 1391.58 L958.006 1387.64 Q954.933 1391.55 950.064 1391.58 Q944.962 1391.58 941.223 1387.66 Q937.484 1383.75 937.484 1378.16 M942.412 1378.22 Q942.412 1383.72 944.122 1386.45 Q946.498 1390.24 950.353 1390.24 Q954.759 1390.24 957.368 1386.1 Q958.035 1385.08 958.006 1383.9 L958.006 1371.72 Q958.006 1370.53 957.368 1369.55 Q954.933 1365.98 950.962 1365.98 Q946.817 1365.98 944.238 1369.78 Q942.412 1372.62 942.412 1378.22 Z\" fill=\"#000000\" fill-rule=\"evenodd\" fill-opacity=\"1\" /><path clip-path=\"url(#clip820)\" d=\"M 0 0 M970.12 1385.26 Q970.12 1380.22 976.062 1377.55 Q979.628 1375.84 986.99 1375.4 L986.99 1373.23 Q986.99 1369.55 985.048 1367.61 Q983.135 1365.64 980.7 1365.64 Q976.352 1365.64 974.265 1368.36 Q976.033 1368.42 976.671 1369.32 Q977.309 1370.19 977.309 1371.08 Q977.309 1372.27 976.555 1373.06 Q975.831 1373.81 974.584 1373.81 Q973.396 1373.81 972.613 1373.08 Q971.831 1372.33 971.831 1371.03 Q971.831 1368.13 974.439 1366.22 Q977.077 1364.3 980.816 1364.3 Q985.686 1364.3 988.932 1367.58 Q989.946 1368.59 990.439 1369.9 Q990.961 1371.2 991.019 1372.07 Q991.077 1372.91 991.077 1374.59 L991.077 1386.45 Q991.077 1386.79 991.193 1387.37 Q991.309 1387.95 991.83 1388.71 Q992.381 1389.43 993.28 1389.43 Q995.425 1389.43 995.396 1385.64 L995.396 1382.3 L996.903 1382.3 L996.903 1385.64 Q996.903 1388.79 995.222 1390.04 Q993.57 1391.26 992.033 1391.26 Q990.062 1391.26 988.816 1389.81 Q987.57 1388.36 987.396 1386.39 Q986.497 1388.65 984.439 1390.13 Q982.41 1391.58 979.628 1391.58 Q977.483 1391.58 975.454 1391.03 Q973.454 1390.51 971.773 1389.03 Q970.12 1387.52 970.12 1385.26 M974.7 1385.2 Q974.7 1387.4 976.265 1388.82 Q977.831 1390.24 980.033 1390.24 Q982.526 1390.24 984.758 1388.33 Q986.99 1386.39 986.99 1382.59 L986.99 1376.65 Q980.41 1376.88 977.541 1379.52 Q974.7 1382.13 974.7 1385.2 Z\" fill=\"#000000\" fill-rule=\"evenodd\" fill-opacity=\"1\" /><path clip-path=\"url(#clip820)\" d=\"M 0 0 M997.627 1398.27 Q997.627 1397.03 998.351 1396.36 Q999.105 1395.72 1000.12 1395.72 Q1001.19 1395.72 1001.89 1396.39 Q1002.61 1397.08 1002.61 1398.22 Q1002.61 1400.42 1000.29 1400.71 Q1001.42 1401.78 1003.08 1401.78 Q1004.84 1401.78 1006.26 1400.48 Q1007.71 1399.17 1008.32 1397.93 Q1008.96 1396.68 1009.86 1394.42 Q1010.7 1392.65 1011.34 1390.91 L1002.44 1369.23 Q1001.86 1367.81 1000.96 1367.49 Q1000.06 1367.17 997.627 1367.17 L997.627 1365.32 Q1000.29 1365.49 1003.39 1365.49 Q1005.22 1365.49 1009.86 1365.32 L1009.86 1367.17 Q1006.53 1367.17 1006.53 1368.71 Q1006.53 1368.88 1006.87 1369.78 L1013.48 1385.75 L1019.48 1371.14 Q1019.83 1370.3 1019.83 1369.72 Q1019.83 1367.29 1017.05 1367.17 L1017.05 1365.32 Q1020.96 1365.49 1022.21 1365.49 Q1024.64 1365.49 1026.64 1365.32 L1026.64 1367.17 Q1022.67 1367.17 1021.13 1370.97 L1010.67 1396.3 Q1007.83 1403.06 1003.08 1403.08 Q1000.82 1403.08 999.221 1401.69 Q997.627 1400.3 997.627 1398.27 Z\" fill=\"#000000\" fill-rule=\"evenodd\" fill-opacity=\"1\" /><path clip-path=\"url(#clip820)\" d=\"M 0 0 M1027.05 1390.13 L1027.05 1382.3 Q1027.05 1381.64 1027.08 1381.4 Q1027.11 1381.17 1027.28 1381 Q1027.46 1380.82 1027.8 1380.82 Q1028.21 1380.82 1028.35 1381 Q1028.53 1381.17 1028.64 1381.84 Q1029.54 1385.93 1031.46 1388.1 Q1033.4 1390.24 1036.91 1390.24 Q1040.24 1390.24 1041.92 1388.77 Q1043.6 1387.29 1043.6 1384.85 Q1043.6 1380.51 1037.43 1379.4 Q1033.86 1378.68 1032.38 1378.22 Q1030.91 1377.72 1029.6 1376.65 Q1027.05 1374.56 1027.05 1371.61 Q1027.05 1368.65 1029.28 1366.48 Q1031.54 1364.3 1036.53 1364.3 Q1039.86 1364.3 1042.12 1365.98 Q1042.79 1365.46 1043.14 1365.03 Q1043.92 1364.3 1044.33 1364.3 Q1044.79 1364.3 1044.88 1364.62 Q1044.96 1364.91 1044.96 1365.75 L1044.96 1371.72 Q1044.96 1372.39 1044.93 1372.62 Q1044.91 1372.85 1044.73 1373.03 Q1044.56 1373.17 1044.18 1373.17 Q1043.51 1373.17 1043.49 1372.62 Q1043.02 1365.43 1036.53 1365.43 Q1033.02 1365.43 1031.46 1366.8 Q1029.89 1368.13 1029.89 1369.95 Q1029.89 1370.97 1030.35 1371.75 Q1030.85 1372.51 1031.46 1372.97 Q1032.09 1373.4 1033.25 1373.84 Q1034.41 1374.24 1035.11 1374.39 Q1035.83 1374.53 1037.2 1374.82 Q1041.95 1375.72 1043.95 1377.66 Q1046.44 1380.16 1046.44 1383.32 Q1046.44 1386.82 1044.06 1389.2 Q1041.69 1391.58 1036.91 1391.58 Q1033.05 1391.58 1030.35 1389 Q1030.01 1389.35 1029.75 1389.66 Q1029.49 1389.95 1029.37 1390.07 Q1029.28 1390.19 1029.25 1390.27 Q1029.22 1390.33 1029.17 1390.39 Q1027.98 1391.58 1027.69 1391.58 Q1027.22 1391.58 1027.14 1391.26 Q1027.05 1390.97 1027.05 1390.13 Z\" fill=\"#000000\" fill-rule=\"evenodd\" fill-opacity=\"1\" /><path clip-path=\"url(#clip820)\" d=\"M 0 0 M1069.77 1390.13 L1069.77 1382.3 Q1069.77 1381.64 1069.8 1381.4 Q1069.83 1381.17 1070 1381 Q1070.18 1380.82 1070.52 1380.82 Q1070.93 1380.82 1071.08 1381 Q1071.25 1381.17 1071.37 1381.84 Q1072.26 1385.93 1074.18 1388.1 Q1076.12 1390.24 1079.63 1390.24 Q1082.96 1390.24 1084.64 1388.77 Q1086.32 1387.29 1086.32 1384.85 Q1086.32 1380.51 1080.15 1379.4 Q1076.58 1378.68 1075.1 1378.22 Q1073.63 1377.72 1072.32 1376.65 Q1069.77 1374.56 1069.77 1371.61 Q1069.77 1368.65 1072 1366.48 Q1074.26 1364.3 1079.25 1364.3 Q1082.58 1364.3 1084.84 1365.98 Q1085.51 1365.46 1085.86 1365.03 Q1086.64 1364.3 1087.05 1364.3 Q1087.51 1364.3 1087.6 1364.62 Q1087.68 1364.91 1087.68 1365.75 L1087.68 1371.72 Q1087.68 1372.39 1087.65 1372.62 Q1087.63 1372.85 1087.45 1373.03 Q1087.28 1373.17 1086.9 1373.17 Q1086.23 1373.17 1086.21 1372.62 Q1085.74 1365.43 1079.25 1365.43 Q1075.74 1365.43 1074.18 1366.8 Q1072.61 1368.13 1072.61 1369.95 Q1072.61 1370.97 1073.08 1371.75 Q1073.57 1372.51 1074.18 1372.97 Q1074.81 1373.4 1075.97 1373.84 Q1077.13 1374.24 1077.83 1374.39 Q1078.55 1374.53 1079.92 1374.82 Q1084.67 1375.72 1086.67 1377.66 Q1089.16 1380.16 1089.16 1383.32 Q1089.16 1386.82 1086.79 1389.2 Q1084.41 1391.58 1079.63 1391.58 Q1075.77 1391.58 1073.08 1389 Q1072.73 1389.35 1072.47 1389.66 Q1072.21 1389.95 1072.09 1390.07 Q1072 1390.19 1071.97 1390.27 Q1071.94 1390.33 1071.89 1390.39 Q1070.7 1391.58 1070.41 1391.58 Q1069.94 1391.58 1069.86 1391.26 Q1069.77 1390.97 1069.77 1390.13 Z\" fill=\"#000000\" fill-rule=\"evenodd\" fill-opacity=\"1\" /><path clip-path=\"url(#clip820)\" d=\"M 0 0 M1092.93 1390.91 L1092.93 1389.08 Q1096.09 1389.08 1096.81 1388.71 Q1097.54 1388.3 1097.54 1386.39 L1097.54 1370.42 Q1097.54 1368.22 1096.78 1367.69 Q1096.06 1367.17 1093.16 1367.17 L1093.16 1365.32 L1101.45 1364.68 L1101.45 1386.45 Q1101.45 1388.22 1102.09 1388.65 Q1102.72 1389.08 1105.62 1389.08 L1105.62 1390.91 Q1099.56 1390.74 1099.45 1390.74 Q1098.64 1390.74 1092.93 1390.91 M1095.42 1354.33 Q1095.42 1353.14 1096.32 1352.19 Q1097.25 1351.2 1098.55 1351.2 Q1099.85 1351.2 1100.78 1352.1 Q1101.71 1352.97 1101.71 1354.36 Q1101.71 1355.72 1100.78 1356.62 Q1099.85 1357.49 1098.55 1357.49 Q1097.19 1357.49 1096.29 1356.53 Q1095.42 1355.58 1095.42 1354.33 Z\" fill=\"#000000\" fill-rule=\"evenodd\" fill-opacity=\"1\" /><path clip-path=\"url(#clip820)\" d=\"M 0 0 M1109.22 1390.91 L1109.22 1389.08 Q1112.38 1389.08 1113.1 1388.71 Q1113.82 1388.3 1113.82 1386.39 L1113.82 1370.48 Q1113.82 1368.27 1113.04 1367.72 Q1112.29 1367.17 1109.22 1367.17 L1109.22 1365.32 L1117.56 1364.68 L1117.56 1370.91 Q1120.35 1364.68 1126.35 1364.68 Q1130.81 1364.68 1132.58 1366.88 Q1133.88 1368.36 1134.14 1370.01 Q1134.43 1371.66 1134.43 1375.95 L1134.43 1387.29 Q1134.49 1388.53 1135.45 1388.82 Q1136.4 1389.08 1139.07 1389.08 L1139.07 1390.91 Q1133.01 1390.74 1132.4 1390.74 Q1131.94 1390.74 1125.71 1390.91 L1125.71 1389.08 Q1128.87 1389.08 1129.59 1388.71 Q1130.35 1388.3 1130.35 1386.39 L1130.35 1372.56 Q1130.35 1369.55 1129.42 1367.78 Q1128.49 1365.98 1125.94 1365.98 Q1122.87 1365.98 1120.4 1368.56 Q1117.94 1371.14 1117.94 1375.49 L1117.94 1386.39 Q1117.94 1388.3 1118.67 1388.71 Q1119.42 1389.08 1122.55 1389.08 L1122.55 1390.91 Q1116.49 1390.74 1115.91 1390.74 Q1115.45 1390.74 1109.22 1390.91 Z\" fill=\"#000000\" fill-rule=\"evenodd\" fill-opacity=\"1\" /><path clip-path=\"url(#clip820)\" d=\"M 0 0 M1145.62 1387.66 Q1141.85 1383.72 1141.85 1378.1 Q1141.85 1372.45 1145.56 1368.39 Q1149.27 1364.3 1154.72 1364.3 Q1158.35 1364.3 1161.07 1366.04 Q1163.79 1367.75 1163.79 1370.68 Q1163.79 1371.98 1163.01 1372.74 Q1162.26 1373.46 1161.07 1373.46 Q1159.82 1373.46 1159.07 1372.71 Q1158.35 1371.93 1158.35 1370.74 Q1158.35 1370.22 1158.52 1369.69 Q1158.69 1369.17 1159.33 1368.62 Q1160 1368.07 1161.13 1367.98 Q1159.01 1365.81 1154.9 1365.81 Q1154.84 1365.81 1154.78 1365.81 Q1151.77 1365.81 1149.27 1368.65 Q1146.78 1371.49 1146.78 1377.98 Q1146.78 1381.37 1147.59 1383.87 Q1148.43 1386.33 1149.79 1387.61 Q1151.16 1388.88 1152.49 1389.49 Q1153.82 1390.07 1155.13 1390.07 Q1160.95 1390.07 1162.92 1383.84 Q1163.1 1383.26 1163.68 1383.26 Q1164.46 1383.26 1164.46 1383.84 Q1164.46 1384.13 1164.23 1384.88 Q1164 1385.64 1163.27 1386.82 Q1162.55 1388.01 1161.5 1389.06 Q1160.49 1390.07 1158.66 1390.82 Q1156.87 1391.58 1154.61 1391.58 Q1149.39 1391.58 1145.62 1387.66 Z\" fill=\"#000000\" fill-rule=\"evenodd\" fill-opacity=\"1\" /><path clip-path=\"url(#clip820)\" d=\"M 0 0 M1167.97 1377.84 Q1167.97 1372.24 1171.56 1368.27 Q1175.16 1364.3 1180.32 1364.3 Q1185.53 1364.3 1188.23 1367.69 Q1190.95 1371.08 1190.95 1375.95 Q1190.95 1376.85 1190.72 1377.03 Q1190.49 1377.2 1189.47 1377.2 L1172.9 1377.2 Q1172.9 1383.26 1174.69 1386.1 Q1177.18 1390.07 1181.39 1390.07 Q1181.97 1390.07 1182.66 1389.95 Q1183.36 1389.84 1184.78 1389.35 Q1186.2 1388.82 1187.45 1387.46 Q1188.69 1386.1 1189.42 1383.95 Q1189.59 1383.11 1190.17 1383.14 Q1190.95 1383.14 1190.95 1383.84 Q1190.95 1384.36 1190.37 1385.55 Q1189.82 1386.71 1188.75 1388.1 Q1187.68 1389.49 1185.59 1390.53 Q1183.53 1391.58 1181.04 1391.58 Q1175.82 1391.58 1171.88 1387.64 Q1167.97 1383.66 1167.97 1377.84 M1172.95 1375.95 L1187.04 1375.95 Q1187.04 1374.71 1186.81 1373.32 Q1186.61 1371.93 1185.97 1370.01 Q1185.36 1368.07 1183.91 1366.85 Q1182.46 1365.64 1180.32 1365.64 Q1179.36 1365.64 1178.32 1366.04 Q1177.3 1366.45 1176.05 1367.43 Q1174.81 1368.42 1173.94 1370.65 Q1173.07 1372.88 1172.95 1375.95 Z\" fill=\"#000000\" fill-rule=\"evenodd\" fill-opacity=\"1\" /><path clip-path=\"url(#clip820)\" d=\"M 0 0 M1213.65 1371.93 Q1213.65 1363.2 1215.85 1358.45 Q1218.92 1351.37 1226.17 1351.37 Q1227.7 1351.37 1229.3 1351.81 Q1230.92 1352.22 1232.95 1353.81 Q1235.01 1355.4 1236.26 1358.01 Q1238.63 1363.06 1238.63 1371.93 Q1238.63 1380.59 1236.43 1385.32 Q1233.21 1392.22 1226.11 1392.22 Q1223.44 1392.22 1220.72 1390.85 Q1218.02 1389.49 1216.31 1386.22 Q1213.65 1381.32 1213.65 1371.93 M1218.57 1371.2 Q1218.57 1380.16 1219.21 1383.72 Q1219.94 1387.58 1221.91 1389.26 Q1223.91 1390.91 1226.11 1390.91 Q1228.49 1390.91 1230.46 1389.14 Q1232.46 1387.35 1233.07 1383.49 Q1233.73 1379.69 1233.7 1371.2 Q1233.7 1362.94 1233.13 1359.64 Q1232.34 1355.78 1230.26 1354.24 Q1228.2 1352.68 1226.11 1352.68 Q1225.33 1352.68 1224.49 1352.91 Q1223.68 1353.14 1222.49 1353.81 Q1221.3 1354.48 1220.37 1356.13 Q1219.47 1357.78 1219.04 1360.27 Q1218.57 1363.49 1218.57 1371.2 Z\" fill=\"#000000\" fill-rule=\"evenodd\" fill-opacity=\"1\" /><path clip-path=\"url(#clip820)\" d=\"M 0 0 M1243.07 1382.91 Q1243.07 1381.14 1244.08 1380.3 Q1245.09 1379.46 1246.4 1379.46 Q1247.76 1379.46 1248.72 1380.36 Q1249.7 1381.23 1249.7 1382.77 Q1249.7 1384.42 1248.54 1385.35 Q1247.41 1386.27 1245.79 1386.04 Q1247.21 1388.42 1249.82 1389.49 Q1252.46 1390.56 1254.89 1390.56 Q1257.44 1390.56 1259.5 1388.36 Q1261.59 1386.16 1261.59 1380.77 Q1261.59 1376.19 1259.79 1373.55 Q1258.02 1370.91 1254.51 1370.91 L1251.91 1370.91 Q1251.01 1370.91 1250.75 1370.82 Q1250.49 1370.74 1250.49 1370.24 Q1250.49 1369.66 1251.38 1369.55 Q1252.28 1369.55 1253.7 1369.37 Q1257.15 1369.26 1258.98 1366.27 Q1260.63 1363.49 1260.63 1359.52 Q1260.63 1355.9 1258.89 1354.39 Q1257.18 1352.85 1254.95 1352.85 Q1252.86 1352.85 1250.57 1353.72 Q1248.28 1354.59 1247.04 1356.53 Q1250.72 1356.53 1250.72 1359.52 Q1250.72 1360.82 1249.88 1361.69 Q1249.07 1362.53 1247.7 1362.53 Q1246.4 1362.53 1245.53 1361.72 Q1244.66 1360.88 1244.66 1359.46 Q1244.66 1356.07 1247.67 1353.72 Q1250.72 1351.37 1255.18 1351.37 Q1259.59 1351.37 1262.83 1353.69 Q1266.11 1356.01 1266.11 1359.58 Q1266.11 1363.08 1263.79 1365.95 Q1261.47 1368.82 1257.79 1370.01 Q1262.31 1370.91 1265.01 1373.98 Q1267.7 1377.03 1267.7 1380.77 Q1267.7 1385.4 1264.05 1388.82 Q1260.4 1392.22 1255.07 1392.22 Q1250.14 1392.22 1246.6 1389.55 Q1243.07 1386.88 1243.07 1382.91 Z\" fill=\"#000000\" fill-rule=\"evenodd\" fill-opacity=\"1\" /><path clip-path=\"url(#clip820)\" d=\"M 0 0 M1272.48 1379.87 L1272.48 1376.36 L1288.28 1376.36 L1288.28 1379.87 L1272.48 1379.87 Z\" fill=\"#000000\" fill-rule=\"evenodd\" fill-opacity=\"1\" /><path clip-path=\"url(#clip820)\" d=\"M 0 0 M1292.05 1390.91 Q1292.05 1389.84 1292.14 1389.52 Q1292.25 1389.2 1292.72 1388.71 L1304.11 1376.01 Q1310.34 1369 1310.34 1362.88 Q1310.34 1358.91 1308.25 1356.07 Q1306.19 1353.23 1302.4 1353.23 Q1299.79 1353.23 1297.59 1354.82 Q1295.38 1356.42 1294.37 1359.26 Q1294.54 1359.2 1295.15 1359.2 Q1296.63 1359.2 1297.44 1360.13 Q1298.28 1361.06 1298.28 1362.3 Q1298.28 1363.9 1297.24 1364.68 Q1296.22 1365.43 1295.21 1365.43 Q1294.8 1365.43 1294.25 1365.35 Q1293.73 1365.26 1292.89 1364.45 Q1292.05 1363.61 1292.05 1362.13 Q1292.05 1357.98 1295.18 1354.68 Q1298.34 1351.37 1303.15 1351.37 Q1308.6 1351.37 1312.16 1354.62 Q1315.76 1357.84 1315.76 1362.88 Q1315.76 1364.65 1315.21 1366.27 Q1314.69 1367.87 1313.96 1369.11 Q1313.27 1370.36 1311.35 1372.36 Q1309.44 1374.36 1307.9 1375.78 Q1306.37 1377.2 1302.92 1380.22 L1296.63 1386.33 L1307.32 1386.33 Q1312.54 1386.33 1312.95 1385.87 Q1313.53 1385.03 1314.25 1380.59 L1315.76 1380.59 L1314.08 1390.91 L1292.05 1390.91 Z\" fill=\"#000000\" fill-rule=\"evenodd\" fill-opacity=\"1\" /><path clip-path=\"url(#clip820)\" d=\"M 0 0 M1321.47 1390.91 Q1321.47 1389.84 1321.55 1389.52 Q1321.67 1389.2 1322.13 1388.71 L1333.53 1376.01 Q1339.76 1369 1339.76 1362.88 Q1339.76 1358.91 1337.67 1356.07 Q1335.61 1353.23 1331.82 1353.23 Q1329.21 1353.23 1327 1354.82 Q1324.8 1356.42 1323.79 1359.26 Q1323.96 1359.2 1324.57 1359.2 Q1326.05 1359.2 1326.86 1360.13 Q1327.7 1361.06 1327.7 1362.3 Q1327.7 1363.9 1326.66 1364.68 Q1325.64 1365.43 1324.63 1365.43 Q1324.22 1365.43 1323.67 1365.35 Q1323.15 1365.26 1322.31 1364.45 Q1321.47 1363.61 1321.47 1362.13 Q1321.47 1357.98 1324.6 1354.68 Q1327.76 1351.37 1332.57 1351.37 Q1338.02 1351.37 1341.58 1354.62 Q1345.18 1357.84 1345.18 1362.88 Q1345.18 1364.65 1344.63 1366.27 Q1344.11 1367.87 1343.38 1369.11 Q1342.69 1370.36 1340.77 1372.36 Q1338.86 1374.36 1337.32 1375.78 Q1335.79 1377.2 1332.34 1380.22 L1326.05 1386.33 L1336.74 1386.33 Q1341.96 1386.33 1342.37 1385.87 Q1342.95 1385.03 1343.67 1380.59 L1345.18 1380.59 L1343.5 1390.91 L1321.47 1390.91 Z\" fill=\"#000000\" fill-rule=\"evenodd\" fill-opacity=\"1\" /><path clip-path=\"url(#clip820)\" d=\"M 0 0 M1350.89 1379.87 L1350.89 1376.36 L1366.68 1376.36 L1366.68 1379.87 L1350.89 1379.87 Z\" fill=\"#000000\" fill-rule=\"evenodd\" fill-opacity=\"1\" /><path clip-path=\"url(#clip820)\" d=\"M 0 0 M1370.45 1390.91 Q1370.45 1389.84 1370.54 1389.52 Q1370.65 1389.2 1371.12 1388.71 L1382.51 1376.01 Q1388.74 1369 1388.74 1362.88 Q1388.74 1358.91 1386.65 1356.07 Q1384.6 1353.23 1380.8 1353.23 Q1378.19 1353.23 1375.99 1354.82 Q1373.78 1356.42 1372.77 1359.26 Q1372.94 1359.2 1373.55 1359.2 Q1375.03 1359.2 1375.84 1360.13 Q1376.68 1361.06 1376.68 1362.3 Q1376.68 1363.9 1375.64 1364.68 Q1374.63 1365.43 1373.61 1365.43 Q1373.2 1365.43 1372.65 1365.35 Q1372.13 1365.26 1371.29 1364.45 Q1370.45 1363.61 1370.45 1362.13 Q1370.45 1357.98 1373.58 1354.68 Q1376.74 1351.37 1381.55 1351.37 Q1387 1351.37 1390.57 1354.62 Q1394.16 1357.84 1394.16 1362.88 Q1394.16 1364.65 1393.61 1366.27 Q1393.09 1367.87 1392.36 1369.11 Q1391.67 1370.36 1389.76 1372.36 Q1387.84 1374.36 1386.31 1375.78 Q1384.77 1377.2 1381.32 1380.22 L1375.03 1386.33 L1385.73 1386.33 Q1390.94 1386.33 1391.35 1385.87 Q1391.93 1385.03 1392.65 1380.59 L1394.16 1380.59 L1392.48 1390.91 L1370.45 1390.91 Z\" fill=\"#000000\" fill-rule=\"evenodd\" fill-opacity=\"1\" /><path clip-path=\"url(#clip820)\" d=\"M 0 0 M1399.87 1371.93 Q1399.87 1363.2 1402.07 1358.45 Q1405.15 1351.37 1412.39 1351.37 Q1413.93 1351.37 1415.52 1351.81 Q1417.15 1352.22 1419.17 1353.81 Q1421.23 1355.4 1422.48 1358.01 Q1424.86 1363.06 1424.86 1371.93 Q1424.86 1380.59 1422.65 1385.32 Q1419.44 1392.22 1412.33 1392.22 Q1409.67 1392.22 1406.94 1390.85 Q1404.25 1389.49 1402.54 1386.22 Q1399.87 1381.32 1399.87 1371.93 M1404.8 1371.2 Q1404.8 1380.16 1405.44 1383.72 Q1406.16 1387.58 1408.13 1389.26 Q1410.13 1390.91 1412.33 1390.91 Q1414.71 1390.91 1416.68 1389.14 Q1418.68 1387.35 1419.29 1383.49 Q1419.96 1379.69 1419.93 1371.2 Q1419.93 1362.94 1419.35 1359.64 Q1418.57 1355.78 1416.48 1354.24 Q1414.42 1352.68 1412.33 1352.68 Q1411.55 1352.68 1410.71 1352.91 Q1409.9 1353.14 1408.71 1353.81 Q1407.52 1354.48 1406.59 1356.13 Q1405.7 1357.78 1405.26 1360.27 Q1404.8 1363.49 1404.8 1371.2 Z\" fill=\"#000000\" fill-rule=\"evenodd\" fill-opacity=\"1\" /><path clip-path=\"url(#clip820)\" d=\"M 0 0 M1429.29 1390.91 Q1429.29 1389.84 1429.38 1389.52 Q1429.49 1389.2 1429.96 1388.71 L1441.35 1376.01 Q1447.58 1369 1447.58 1362.88 Q1447.58 1358.91 1445.49 1356.07 Q1443.43 1353.23 1439.64 1353.23 Q1437.03 1353.23 1434.82 1354.82 Q1432.62 1356.42 1431.61 1359.26 Q1431.78 1359.2 1432.39 1359.2 Q1433.87 1359.2 1434.68 1360.13 Q1435.52 1361.06 1435.52 1362.3 Q1435.52 1363.9 1434.48 1364.68 Q1433.46 1365.43 1432.45 1365.43 Q1432.04 1365.43 1431.49 1365.35 Q1430.97 1365.26 1430.13 1364.45 Q1429.29 1363.61 1429.29 1362.13 Q1429.29 1357.98 1432.42 1354.68 Q1435.58 1351.37 1440.39 1351.37 Q1445.84 1351.37 1449.4 1354.62 Q1453 1357.84 1453 1362.88 Q1453 1364.65 1452.45 1366.27 Q1451.93 1367.87 1451.2 1369.11 Q1450.51 1370.36 1448.59 1372.36 Q1446.68 1374.36 1445.14 1375.78 Q1443.61 1377.2 1440.16 1380.22 L1433.87 1386.33 L1444.56 1386.33 Q1449.78 1386.33 1450.19 1385.87 Q1450.77 1385.03 1451.49 1380.59 L1453 1380.59 L1451.32 1390.91 L1429.29 1390.91 Z\" fill=\"#000000\" fill-rule=\"evenodd\" fill-opacity=\"1\" /><path clip-path=\"url(#clip820)\" d=\"M 0 0 M1458.71 1371.93 Q1458.71 1363.2 1460.91 1358.45 Q1463.98 1351.37 1471.23 1351.37 Q1472.77 1351.37 1474.36 1351.81 Q1475.98 1352.22 1478.01 1353.81 Q1480.07 1355.4 1481.32 1358.01 Q1483.69 1363.06 1483.69 1371.93 Q1483.69 1380.59 1481.49 1385.32 Q1478.27 1392.22 1471.17 1392.22 Q1468.5 1392.22 1465.78 1390.85 Q1463.08 1389.49 1461.37 1386.22 Q1458.71 1381.32 1458.71 1371.93 M1463.64 1371.2 Q1463.64 1380.16 1464.27 1383.72 Q1465 1387.58 1466.97 1389.26 Q1468.97 1390.91 1471.17 1390.91 Q1473.55 1390.91 1475.52 1389.14 Q1477.52 1387.35 1478.13 1383.49 Q1478.79 1379.69 1478.77 1371.2 Q1478.77 1362.94 1478.19 1359.64 Q1477.4 1355.78 1475.32 1354.24 Q1473.26 1352.68 1471.17 1352.68 Q1470.39 1352.68 1469.55 1352.91 Q1468.74 1353.14 1467.55 1353.81 Q1466.36 1354.48 1465.43 1356.13 Q1464.53 1357.78 1464.1 1360.27 Q1463.64 1363.49 1463.64 1371.2 Z\" fill=\"#000000\" fill-rule=\"evenodd\" fill-opacity=\"1\" /><path clip-path=\"url(#clip820)\" d=\"M 0 0 M1488.13 1405.17 Q1488.13 1404.88 1488.88 1404.16 Q1498.45 1394.42 1498.45 1376.07 Q1498.45 1357.66 1489.26 1348.36 Q1488.13 1347.29 1488.13 1346.97 Q1488.13 1346.39 1488.71 1346.39 Q1489.11 1346.39 1490.53 1347.58 Q1491.98 1348.77 1494.16 1351.49 Q1496.36 1354.22 1497.98 1357.55 Q1501.89 1365.64 1501.89 1376.07 Q1501.89 1386.1 1498.16 1394.19 Q1496.56 1397.58 1494.33 1400.42 Q1492.1 1403.26 1490.62 1404.5 Q1489.14 1405.75 1488.71 1405.75 Q1488.13 1405.75 1488.13 1405.17 Z\" fill=\"#000000\" fill-rule=\"evenodd\" fill-opacity=\"1\" /><polyline clip-path=\"url(#clip823)\" style=\"stroke:#000000; stroke-width:1.8; stroke-opacity:0.1; fill:none\" points=\"\n",
       "  267.334,1251.75 2117.48,1251.75 \n",
       "  \"/>\n",
       "<polyline clip-path=\"url(#clip823)\" style=\"stroke:#000000; stroke-width:1.8; stroke-opacity:0.1; fill:none\" points=\"\n",
       "  267.334,980.378 2117.48,980.378 \n",
       "  \"/>\n",
       "<polyline clip-path=\"url(#clip823)\" style=\"stroke:#000000; stroke-width:1.8; stroke-opacity:0.1; fill:none\" points=\"\n",
       "  267.334,709.009 2117.48,709.009 \n",
       "  \"/>\n",
       "<polyline clip-path=\"url(#clip823)\" style=\"stroke:#000000; stroke-width:1.8; stroke-opacity:0.1; fill:none\" points=\"\n",
       "  267.334,437.639 2117.48,437.639 \n",
       "  \"/>\n",
       "<polyline clip-path=\"url(#clip823)\" style=\"stroke:#000000; stroke-width:1.8; stroke-opacity:0.1; fill:none\" points=\"\n",
       "  267.334,166.269 2117.48,166.269 \n",
       "  \"/>\n",
       "<polyline clip-path=\"url(#clip820)\" style=\"stroke:#000000; stroke-width:3.6; stroke-opacity:1; fill:none\" points=\"\n",
       "  267.334,1284.63 267.334,91.2773 \n",
       "  \"/>\n",
       "<polyline clip-path=\"url(#clip820)\" style=\"stroke:#000000; stroke-width:3.6; stroke-opacity:1; fill:none\" points=\"\n",
       "  267.334,1251.75 289.536,1251.75 \n",
       "  \"/>\n",
       "<polyline clip-path=\"url(#clip820)\" style=\"stroke:#000000; stroke-width:3.6; stroke-opacity:1; fill:none\" points=\"\n",
       "  267.334,980.378 289.536,980.378 \n",
       "  \"/>\n",
       "<polyline clip-path=\"url(#clip820)\" style=\"stroke:#000000; stroke-width:3.6; stroke-opacity:1; fill:none\" points=\"\n",
       "  267.334,709.009 289.536,709.009 \n",
       "  \"/>\n",
       "<polyline clip-path=\"url(#clip820)\" style=\"stroke:#000000; stroke-width:3.6; stroke-opacity:1; fill:none\" points=\"\n",
       "  267.334,437.639 289.536,437.639 \n",
       "  \"/>\n",
       "<polyline clip-path=\"url(#clip820)\" style=\"stroke:#000000; stroke-width:3.6; stroke-opacity:1; fill:none\" points=\"\n",
       "  267.334,166.269 289.536,166.269 \n",
       "  \"/>\n",
       "<path clip-path=\"url(#clip820)\" d=\"M 0 0 M215.77 1252.74 Q215.77 1246.05 217.459 1242.4 Q219.816 1236.97 225.374 1236.97 Q226.553 1236.97 227.775 1237.31 Q229.02 1237.62 230.577 1238.84 Q232.155 1240.06 233.111 1242.07 Q234.934 1245.93 234.934 1252.74 Q234.934 1259.39 233.245 1263.01 Q230.777 1268.3 225.33 1268.3 Q223.284 1268.3 221.194 1267.26 Q219.127 1266.21 217.815 1263.7 Q215.77 1259.94 215.77 1252.74 M219.549 1252.18 Q219.549 1259.05 220.038 1261.79 Q220.594 1264.74 222.106 1266.03 Q223.64 1267.3 225.33 1267.3 Q227.153 1267.3 228.665 1265.94 Q230.199 1264.57 230.666 1261.61 Q231.177 1258.7 231.155 1252.18 Q231.155 1245.85 230.71 1243.31 Q230.11 1240.35 228.509 1239.18 Q226.931 1237.97 225.33 1237.97 Q224.729 1237.97 224.085 1238.15 Q223.462 1238.33 222.551 1238.84 Q221.639 1239.35 220.928 1240.62 Q220.238 1241.89 219.905 1243.8 Q219.549 1246.27 219.549 1252.18 Z\" fill=\"#000000\" fill-rule=\"evenodd\" fill-opacity=\"1\" /><path clip-path=\"url(#clip820)\" d=\"M 0 0 M104.168 1001.73 Q104.168 1000.91 104.235 1000.67 Q104.324 1000.42 104.679 1000.04 L113.417 990.305 Q118.197 984.925 118.197 980.234 Q118.197 977.188 116.596 975.009 Q115.018 972.83 112.105 972.83 Q110.104 972.83 108.415 974.053 Q106.725 975.276 105.947 977.455 Q106.08 977.41 106.547 977.41 Q107.681 977.41 108.303 978.122 Q108.948 978.833 108.948 979.789 Q108.948 981.012 108.148 981.612 Q107.37 982.19 106.592 982.19 Q106.28 982.19 105.858 982.124 Q105.458 982.057 104.813 981.434 Q104.168 980.79 104.168 979.656 Q104.168 976.476 106.569 973.942 Q108.993 971.407 112.683 971.407 Q116.863 971.407 119.598 973.897 Q122.355 976.365 122.355 980.234 Q122.355 981.59 121.932 982.835 Q121.532 984.058 120.976 985.014 Q120.443 985.97 118.975 987.504 Q117.508 989.038 116.33 990.127 Q115.151 991.217 112.506 993.529 L107.681 998.22 L115.885 998.22 Q119.887 998.22 120.198 997.865 Q120.643 997.22 121.199 993.818 L122.355 993.818 L121.065 1001.73 L104.168 1001.73 Z\" fill=\"#000000\" fill-rule=\"evenodd\" fill-opacity=\"1\" /><path clip-path=\"url(#clip820)\" d=\"M 0 0 M126.913 1001 Q126.223 1000.27 126.223 999.31 Q126.223 998.354 126.913 997.664 Q127.602 996.953 128.647 996.953 Q129.647 996.953 130.314 997.62 Q131.003 998.265 131.003 999.332 Q131.003 1000.38 130.27 1001.07 Q129.558 1001.73 128.647 1001.73 Q127.602 1001.73 126.913 1001 Z\" fill=\"#000000\" fill-rule=\"evenodd\" fill-opacity=\"1\" /><path clip-path=\"url(#clip820)\" d=\"M 0 0 M133.271 994.396 Q133.271 993.04 134.005 992.529 Q134.739 991.995 135.517 991.995 Q136.562 991.995 137.162 992.662 Q137.784 993.307 137.784 994.218 Q137.784 995.13 137.162 995.797 Q136.562 996.442 135.517 996.442 Q135.005 996.442 134.739 996.353 Q135.339 998.443 137.162 999.954 Q139.007 1001.47 141.431 1001.47 Q144.477 1001.47 146.3 998.509 Q147.389 996.597 147.389 992.262 Q147.389 988.438 146.566 986.526 Q145.299 983.613 142.698 983.613 Q139.007 983.613 136.828 986.793 Q136.562 987.193 136.25 987.215 Q135.806 987.215 135.695 986.97 Q135.606 986.704 135.606 986.014 L135.606 972.541 Q135.606 971.452 136.05 971.452 Q136.228 971.452 136.606 971.585 Q139.474 972.852 142.653 972.875 Q145.922 972.875 148.857 971.541 Q149.079 971.407 149.212 971.407 Q149.657 971.407 149.679 971.919 Q149.679 972.096 149.301 972.63 Q148.945 973.141 148.167 973.831 Q147.389 974.498 146.389 975.142 Q145.388 975.787 143.921 976.232 Q142.476 976.654 140.875 976.654 Q138.963 976.654 137.006 976.054 L137.006 984.925 Q139.363 982.613 142.787 982.613 Q146.433 982.613 148.945 985.547 Q151.458 988.482 151.458 992.573 Q151.458 996.864 148.479 999.799 Q145.522 1002.73 141.52 1002.73 Q137.873 1002.73 135.561 1000.13 Q133.271 997.531 133.271 994.396 Z\" fill=\"#000000\" fill-rule=\"evenodd\" fill-opacity=\"1\" /><path clip-path=\"url(#clip820)\" d=\"M 0 0 M179.872 1001.04 Q179.649 1001.31 179.249 1001.31 Q178.871 1001.31 178.604 1001.04 L169.177 991.617 L159.751 1001.04 Q159.484 1001.31 159.084 1001.31 Q158.706 1001.31 158.461 1001.04 Q158.194 1000.8 158.194 1000.42 Q158.194 1000.04 158.461 999.777 L167.888 990.35 L158.461 980.923 Q158.194 980.656 158.194 980.278 Q158.194 979.878 158.461 979.656 Q158.706 979.389 159.084 979.389 Q159.484 979.389 159.751 979.656 L169.177 989.083 L178.604 979.656 Q178.871 979.389 179.249 979.389 Q179.649 979.389 179.872 979.656 Q180.138 979.878 180.138 980.278 Q180.138 980.656 179.872 980.923 L170.445 990.35 L179.872 999.777 Q180.138 1000.04 180.138 1000.44 Q180.138 1000.82 179.872 1001.04 Z\" fill=\"#000000\" fill-rule=\"evenodd\" fill-opacity=\"1\" /><path clip-path=\"url(#clip820)\" d=\"M 0 0 M184.185 975.743 L184.185 974.32 Q189.654 974.32 192.478 971.407 Q193.256 971.407 193.389 971.585 Q193.523 971.763 193.523 972.586 L193.523 998.131 Q193.523 999.488 194.19 999.91 Q194.857 1000.33 197.769 1000.33 L199.214 1000.33 L199.214 1001.73 Q197.614 1001.6 191.833 1001.6 Q186.052 1001.6 184.474 1001.73 L184.474 1000.33 L185.919 1000.33 Q188.787 1000.33 189.476 999.932 Q190.165 999.51 190.165 998.131 L190.165 974.542 Q187.787 975.743 184.185 975.743 Z\" fill=\"#000000\" fill-rule=\"evenodd\" fill-opacity=\"1\" /><path clip-path=\"url(#clip820)\" d=\"M 0 0 M200.993 987.17 Q200.993 980.478 202.683 976.832 Q205.039 971.407 210.598 971.407 Q211.776 971.407 212.999 971.741 Q214.244 972.052 215.8 973.275 Q217.379 974.498 218.335 976.499 Q220.158 980.367 220.158 987.17 Q220.158 993.818 218.468 997.442 Q216 1002.73 210.553 1002.73 Q208.508 1002.73 206.418 1001.69 Q204.35 1000.64 203.038 998.131 Q200.993 994.374 200.993 987.17 M204.773 986.615 Q204.773 993.485 205.262 996.219 Q205.818 999.176 207.329 1000.47 Q208.863 1001.73 210.553 1001.73 Q212.376 1001.73 213.888 1000.38 Q215.422 998.998 215.889 996.041 Q216.4 993.129 216.378 986.615 Q216.378 980.278 215.934 977.744 Q215.333 974.787 213.732 973.608 Q212.154 972.408 210.553 972.408 Q209.953 972.408 209.308 972.586 Q208.686 972.763 207.774 973.275 Q206.862 973.786 206.151 975.053 Q205.462 976.321 205.128 978.233 Q204.773 980.701 204.773 986.615 Z\" fill=\"#000000\" fill-rule=\"evenodd\" fill-opacity=\"1\" /><path clip-path=\"url(#clip820)\" d=\"M 0 0 M220.158 971.103 Q220.158 970.001 220.754 969.585 Q221.35 969.152 221.982 969.152 Q222.831 969.152 223.319 969.693 Q223.825 970.217 223.825 970.958 Q223.825 971.699 223.319 972.241 Q222.831 972.764 221.982 972.764 Q221.567 972.764 221.35 972.692 Q221.838 974.39 223.319 975.619 Q224.818 976.847 226.787 976.847 Q229.262 976.847 230.744 974.444 Q231.629 972.891 231.629 969.368 Q231.629 966.261 230.96 964.708 Q229.931 962.341 227.817 962.341 Q224.818 962.341 223.048 964.925 Q222.831 965.25 222.578 965.268 Q222.217 965.268 222.127 965.069 Q222.055 964.852 222.055 964.292 L222.055 953.345 Q222.055 952.46 222.416 952.46 Q222.56 952.46 222.867 952.569 Q225.198 953.598 227.781 953.616 Q230.436 953.616 232.821 952.532 Q233.002 952.424 233.11 952.424 Q233.471 952.424 233.489 952.839 Q233.489 952.984 233.182 953.418 Q232.893 953.833 232.261 954.393 Q231.629 954.935 230.816 955.459 Q230.003 955.983 228.811 956.344 Q227.636 956.687 226.336 956.687 Q224.782 956.687 223.193 956.199 L223.193 963.407 Q225.107 961.528 227.889 961.528 Q230.852 961.528 232.893 963.913 Q234.934 966.297 234.934 969.621 Q234.934 973.108 232.514 975.492 Q230.111 977.877 226.86 977.877 Q223.897 977.877 222.018 975.763 Q220.158 973.65 220.158 971.103 Z\" fill=\"#000000\" fill-rule=\"evenodd\" fill-opacity=\"1\" /><path clip-path=\"url(#clip820)\" d=\"M 0 0 M103.679 723.026 Q103.679 721.67 104.413 721.159 Q105.146 720.625 105.925 720.625 Q106.969 720.625 107.57 721.292 Q108.192 721.937 108.192 722.849 Q108.192 723.76 107.57 724.427 Q106.969 725.072 105.925 725.072 Q105.413 725.072 105.146 724.983 Q105.747 727.073 107.57 728.585 Q109.415 730.097 111.839 730.097 Q114.884 730.097 116.708 727.14 Q117.797 725.228 117.797 720.892 Q117.797 717.068 116.974 715.156 Q115.707 712.243 113.106 712.243 Q109.415 712.243 107.236 715.423 Q106.969 715.823 106.658 715.845 Q106.214 715.845 106.102 715.601 Q106.013 715.334 106.013 714.645 L106.013 701.171 Q106.013 700.082 106.458 700.082 Q106.636 700.082 107.014 700.215 Q109.882 701.483 113.061 701.505 Q116.33 701.505 119.264 700.171 Q119.487 700.038 119.62 700.038 Q120.065 700.038 120.087 700.549 Q120.087 700.727 119.709 701.26 Q119.353 701.772 118.575 702.461 Q117.797 703.128 116.796 703.773 Q115.796 704.417 114.329 704.862 Q112.883 705.285 111.283 705.285 Q109.371 705.285 107.414 704.684 L107.414 713.555 Q109.771 711.243 113.195 711.243 Q116.841 711.243 119.353 714.178 Q121.866 717.112 121.866 721.203 Q121.866 725.494 118.886 728.429 Q115.929 731.364 111.927 731.364 Q108.281 731.364 105.969 728.763 Q103.679 726.161 103.679 723.026 Z\" fill=\"#000000\" fill-rule=\"evenodd\" fill-opacity=\"1\" /><path clip-path=\"url(#clip820)\" d=\"M 0 0 M126.423 729.63 Q125.734 728.896 125.734 727.94 Q125.734 726.984 126.423 726.295 Q127.113 725.583 128.158 725.583 Q129.158 725.583 129.825 726.25 Q130.514 726.895 130.514 727.962 Q130.514 729.007 129.781 729.696 Q129.069 730.363 128.158 730.363 Q127.113 730.363 126.423 729.63 Z\" fill=\"#000000\" fill-rule=\"evenodd\" fill-opacity=\"1\" /><path clip-path=\"url(#clip820)\" d=\"M 0 0 M132.293 715.801 Q132.293 709.109 133.983 705.462 Q136.339 700.038 141.898 700.038 Q143.076 700.038 144.299 700.371 Q145.544 700.682 147.1 701.905 Q148.679 703.128 149.635 705.129 Q151.458 708.997 151.458 715.801 Q151.458 722.448 149.768 726.072 Q147.3 731.364 141.853 731.364 Q139.808 731.364 137.718 730.319 Q135.65 729.274 134.338 726.762 Q132.293 723.004 132.293 715.801 M136.073 715.245 Q136.073 722.115 136.562 724.85 Q137.117 727.807 138.629 729.096 Q140.163 730.363 141.853 730.363 Q143.676 730.363 145.188 729.007 Q146.722 727.629 147.189 724.672 Q147.7 721.759 147.678 715.245 Q147.678 708.908 147.233 706.374 Q146.633 703.417 145.032 702.239 Q143.454 701.038 141.853 701.038 Q141.253 701.038 140.608 701.216 Q139.986 701.394 139.074 701.905 Q138.162 702.416 137.451 703.684 Q136.762 704.951 136.428 706.863 Q136.073 709.331 136.073 715.245 Z\" fill=\"#000000\" fill-rule=\"evenodd\" fill-opacity=\"1\" /><path clip-path=\"url(#clip820)\" d=\"M 0 0 M179.872 729.674 Q179.649 729.941 179.249 729.941 Q178.871 729.941 178.604 729.674 L169.177 720.247 L159.751 729.674 Q159.484 729.941 159.084 729.941 Q158.706 729.941 158.461 729.674 Q158.194 729.43 158.194 729.052 Q158.194 728.674 158.461 728.407 L167.888 718.98 L158.461 709.553 Q158.194 709.286 158.194 708.908 Q158.194 708.508 158.461 708.286 Q158.706 708.019 159.084 708.019 Q159.484 708.019 159.751 708.286 L169.177 717.713 L178.604 708.286 Q178.871 708.019 179.249 708.019 Q179.649 708.019 179.872 708.286 Q180.138 708.508 180.138 708.908 Q180.138 709.286 179.872 709.553 L170.445 718.98 L179.872 728.407 Q180.138 728.674 180.138 729.074 Q180.138 729.452 179.872 729.674 Z\" fill=\"#000000\" fill-rule=\"evenodd\" fill-opacity=\"1\" /><path clip-path=\"url(#clip820)\" d=\"M 0 0 M184.185 704.373 L184.185 702.95 Q189.654 702.95 192.478 700.038 Q193.256 700.038 193.389 700.215 Q193.523 700.393 193.523 701.216 L193.523 726.762 Q193.523 728.118 194.19 728.54 Q194.857 728.963 197.769 728.963 L199.214 728.963 L199.214 730.363 Q197.614 730.23 191.833 730.23 Q186.052 730.23 184.474 730.363 L184.474 728.963 L185.919 728.963 Q188.787 728.963 189.476 728.562 Q190.165 728.14 190.165 726.762 L190.165 703.172 Q187.787 704.373 184.185 704.373 Z\" fill=\"#000000\" fill-rule=\"evenodd\" fill-opacity=\"1\" /><path clip-path=\"url(#clip820)\" d=\"M 0 0 M200.993 715.801 Q200.993 709.109 202.683 705.462 Q205.039 700.038 210.598 700.038 Q211.776 700.038 212.999 700.371 Q214.244 700.682 215.8 701.905 Q217.379 703.128 218.335 705.129 Q220.158 708.997 220.158 715.801 Q220.158 722.448 218.468 726.072 Q216 731.364 210.553 731.364 Q208.508 731.364 206.418 730.319 Q204.35 729.274 203.038 726.762 Q200.993 723.004 200.993 715.801 M204.773 715.245 Q204.773 722.115 205.262 724.85 Q205.818 727.807 207.329 729.096 Q208.863 730.363 210.553 730.363 Q212.376 730.363 213.888 729.007 Q215.422 727.629 215.889 724.672 Q216.4 721.759 216.378 715.245 Q216.378 708.908 215.934 706.374 Q215.333 703.417 213.732 702.239 Q212.154 701.038 210.553 701.038 Q209.953 701.038 209.308 701.216 Q208.686 701.394 207.774 701.905 Q206.862 702.416 206.151 703.684 Q205.462 704.951 205.128 706.863 Q204.773 709.331 204.773 715.245 Z\" fill=\"#000000\" fill-rule=\"evenodd\" fill-opacity=\"1\" /><path clip-path=\"url(#clip820)\" d=\"M 0 0 M220.158 699.733 Q220.158 698.631 220.754 698.215 Q221.35 697.782 221.982 697.782 Q222.831 697.782 223.319 698.324 Q223.825 698.848 223.825 699.588 Q223.825 700.329 223.319 700.871 Q222.831 701.395 221.982 701.395 Q221.567 701.395 221.35 701.322 Q221.838 703.02 223.319 704.249 Q224.818 705.477 226.787 705.477 Q229.262 705.477 230.744 703.075 Q231.629 701.521 231.629 697.999 Q231.629 694.892 230.96 693.338 Q229.931 690.972 227.817 690.972 Q224.818 690.972 223.048 693.555 Q222.831 693.88 222.578 693.898 Q222.217 693.898 222.127 693.699 Q222.055 693.483 222.055 692.923 L222.055 681.976 Q222.055 681.09 222.416 681.09 Q222.56 681.09 222.867 681.199 Q225.198 682.228 227.781 682.246 Q230.436 682.246 232.821 681.163 Q233.002 681.054 233.11 681.054 Q233.471 681.054 233.489 681.47 Q233.489 681.614 233.182 682.048 Q232.893 682.463 232.261 683.023 Q231.629 683.565 230.816 684.089 Q230.003 684.613 228.811 684.974 Q227.636 685.317 226.336 685.317 Q224.782 685.317 223.193 684.83 L223.193 692.037 Q225.107 690.159 227.889 690.159 Q230.852 690.159 232.893 692.543 Q234.934 694.928 234.934 698.251 Q234.934 701.738 232.514 704.122 Q230.111 706.507 226.86 706.507 Q223.897 706.507 222.018 704.393 Q220.158 702.28 220.158 699.733 Z\" fill=\"#000000\" fill-rule=\"evenodd\" fill-opacity=\"1\" /><path clip-path=\"url(#clip820)\" d=\"M 0 0 M102.834 437.583 L104.324 428.223 L105.458 428.223 Q105.591 428.779 105.813 429.024 Q106.058 429.268 107.347 429.468 Q108.659 429.668 111.305 429.668 L122.355 429.668 Q122.355 430.713 121.955 431.269 L115.796 439.918 Q113.839 442.652 112.972 447.699 Q112.461 451.079 112.483 455.17 L112.483 457.482 Q112.483 459.994 110.371 459.994 Q108.281 459.994 108.281 457.482 Q108.281 448.789 113.884 440.362 Q114.484 439.495 116.685 436.405 Q118.909 433.314 118.998 433.181 L109.571 433.181 Q105.435 433.181 105.102 433.448 Q104.657 433.848 103.968 437.583 L102.834 437.583 Z\" fill=\"#000000\" fill-rule=\"evenodd\" fill-opacity=\"1\" /><path clip-path=\"url(#clip820)\" d=\"M 0 0 M126.913 458.26 Q126.223 457.526 126.223 456.57 Q126.223 455.614 126.913 454.925 Q127.602 454.214 128.647 454.214 Q129.647 454.214 130.314 454.881 Q131.003 455.525 131.003 456.592 Q131.003 457.637 130.27 458.327 Q129.558 458.994 128.647 458.994 Q127.602 458.994 126.913 458.26 Z\" fill=\"#000000\" fill-rule=\"evenodd\" fill-opacity=\"1\" /><path clip-path=\"url(#clip820)\" d=\"M 0 0 M133.271 451.657 Q133.271 450.301 134.005 449.789 Q134.739 449.256 135.517 449.256 Q136.562 449.256 137.162 449.923 Q137.784 450.567 137.784 451.479 Q137.784 452.39 137.162 453.057 Q136.562 453.702 135.517 453.702 Q135.005 453.702 134.739 453.613 Q135.339 455.703 137.162 457.215 Q139.007 458.727 141.431 458.727 Q144.477 458.727 146.3 455.77 Q147.389 453.858 147.389 449.522 Q147.389 445.698 146.566 443.786 Q145.299 440.874 142.698 440.874 Q139.007 440.874 136.828 444.053 Q136.562 444.453 136.25 444.475 Q135.806 444.475 135.695 444.231 Q135.606 443.964 135.606 443.275 L135.606 429.802 Q135.606 428.712 136.05 428.712 Q136.228 428.712 136.606 428.846 Q139.474 430.113 142.653 430.135 Q145.922 430.135 148.857 428.801 Q149.079 428.668 149.212 428.668 Q149.657 428.668 149.679 429.179 Q149.679 429.357 149.301 429.891 Q148.945 430.402 148.167 431.091 Q147.389 431.758 146.389 432.403 Q145.388 433.048 143.921 433.492 Q142.476 433.915 140.875 433.915 Q138.963 433.915 137.006 433.314 L137.006 442.185 Q139.363 439.873 142.787 439.873 Q146.433 439.873 148.945 442.808 Q151.458 445.743 151.458 449.834 Q151.458 454.125 148.479 457.059 Q145.522 459.994 141.52 459.994 Q137.873 459.994 135.561 457.393 Q133.271 454.792 133.271 451.657 Z\" fill=\"#000000\" fill-rule=\"evenodd\" fill-opacity=\"1\" /><path clip-path=\"url(#clip820)\" d=\"M 0 0 M179.872 458.304 Q179.649 458.571 179.249 458.571 Q178.871 458.571 178.604 458.304 L169.177 448.878 L159.751 458.304 Q159.484 458.571 159.084 458.571 Q158.706 458.571 158.461 458.304 Q158.194 458.06 158.194 457.682 Q158.194 457.304 158.461 457.037 L167.888 447.61 L158.461 438.184 Q158.194 437.917 158.194 437.539 Q158.194 437.139 158.461 436.916 Q158.706 436.649 159.084 436.649 Q159.484 436.649 159.751 436.916 L169.177 446.343 L178.604 436.916 Q178.871 436.649 179.249 436.649 Q179.649 436.649 179.872 436.916 Q180.138 437.139 180.138 437.539 Q180.138 437.917 179.872 438.184 L170.445 447.61 L179.872 457.037 Q180.138 457.304 180.138 457.704 Q180.138 458.082 179.872 458.304 Z\" fill=\"#000000\" fill-rule=\"evenodd\" fill-opacity=\"1\" /><path clip-path=\"url(#clip820)\" d=\"M 0 0 M184.185 433.003 L184.185 431.58 Q189.654 431.58 192.478 428.668 Q193.256 428.668 193.389 428.846 Q193.523 429.024 193.523 429.846 L193.523 455.392 Q193.523 456.748 194.19 457.171 Q194.857 457.593 197.769 457.593 L199.214 457.593 L199.214 458.994 Q197.614 458.86 191.833 458.86 Q186.052 458.86 184.474 458.994 L184.474 457.593 L185.919 457.593 Q188.787 457.593 189.476 457.193 Q190.165 456.77 190.165 455.392 L190.165 431.803 Q187.787 433.003 184.185 433.003 Z\" fill=\"#000000\" fill-rule=\"evenodd\" fill-opacity=\"1\" /><path clip-path=\"url(#clip820)\" d=\"M 0 0 M200.993 444.431 Q200.993 437.739 202.683 434.093 Q205.039 428.668 210.598 428.668 Q211.776 428.668 212.999 429.001 Q214.244 429.313 215.8 430.535 Q217.379 431.758 218.335 433.759 Q220.158 437.628 220.158 444.431 Q220.158 451.079 218.468 454.703 Q216 459.994 210.553 459.994 Q208.508 459.994 206.418 458.949 Q204.35 457.904 203.038 455.392 Q200.993 451.634 200.993 444.431 M204.773 443.875 Q204.773 450.745 205.262 453.48 Q205.818 456.437 207.329 457.726 Q208.863 458.994 210.553 458.994 Q212.376 458.994 213.888 457.637 Q215.422 456.259 215.889 453.302 Q216.4 450.389 216.378 443.875 Q216.378 437.539 215.934 435.004 Q215.333 432.047 213.732 430.869 Q212.154 429.668 210.553 429.668 Q209.953 429.668 209.308 429.846 Q208.686 430.024 207.774 430.535 Q206.862 431.047 206.151 432.314 Q205.462 433.581 205.128 435.493 Q204.773 437.961 204.773 443.875 Z\" fill=\"#000000\" fill-rule=\"evenodd\" fill-opacity=\"1\" /><path clip-path=\"url(#clip820)\" d=\"M 0 0 M220.158 428.363 Q220.158 427.261 220.754 426.846 Q221.35 426.412 221.982 426.412 Q222.831 426.412 223.319 426.954 Q223.825 427.478 223.825 428.219 Q223.825 428.959 223.319 429.501 Q222.831 430.025 221.982 430.025 Q221.567 430.025 221.35 429.953 Q221.838 431.651 223.319 432.879 Q224.818 434.107 226.787 434.107 Q229.262 434.107 230.744 431.705 Q231.629 430.151 231.629 426.629 Q231.629 423.522 230.96 421.968 Q229.931 419.602 227.817 419.602 Q224.818 419.602 223.048 422.185 Q222.831 422.51 222.578 422.528 Q222.217 422.528 222.127 422.33 Q222.055 422.113 222.055 421.553 L222.055 410.606 Q222.055 409.721 222.416 409.721 Q222.56 409.721 222.867 409.829 Q225.198 410.859 227.781 410.877 Q230.436 410.877 232.821 409.793 Q233.002 409.685 233.11 409.685 Q233.471 409.685 233.489 410.1 Q233.489 410.245 233.182 410.678 Q232.893 411.094 232.261 411.654 Q231.629 412.195 230.816 412.719 Q230.003 413.243 228.811 413.604 Q227.636 413.948 226.336 413.948 Q224.782 413.948 223.193 413.46 L223.193 420.668 Q225.107 418.789 227.889 418.789 Q230.852 418.789 232.893 421.173 Q234.934 423.558 234.934 426.882 Q234.934 430.368 232.514 432.753 Q230.111 435.137 226.86 435.137 Q223.897 435.137 222.018 433.024 Q220.158 430.91 220.158 428.363 Z\" fill=\"#000000\" fill-rule=\"evenodd\" fill-opacity=\"1\" /><path clip-path=\"url(#clip820)\" d=\"M 0 0 M106.258 161.633 L106.258 160.211 Q111.727 160.211 114.551 157.298 Q115.329 157.298 115.462 157.476 Q115.596 157.654 115.596 158.476 L115.596 184.022 Q115.596 185.378 116.263 185.801 Q116.93 186.223 119.842 186.223 L121.288 186.223 L121.288 187.624 Q119.687 187.49 113.906 187.49 Q108.126 187.49 106.547 187.624 L106.547 186.223 L107.992 186.223 Q110.86 186.223 111.549 185.823 Q112.239 185.401 112.239 184.022 L112.239 160.433 Q109.86 161.633 106.258 161.633 Z\" fill=\"#000000\" fill-rule=\"evenodd\" fill-opacity=\"1\" /><path clip-path=\"url(#clip820)\" d=\"M 0 0 M125.845 186.89 Q125.156 186.157 125.156 185.2 Q125.156 184.244 125.845 183.555 Q126.535 182.844 127.579 182.844 Q128.58 182.844 129.247 183.511 Q129.936 184.156 129.936 185.223 Q129.936 186.268 129.203 186.957 Q128.491 187.624 127.579 187.624 Q126.535 187.624 125.845 186.89 Z\" fill=\"#000000\" fill-rule=\"evenodd\" fill-opacity=\"1\" /><path clip-path=\"url(#clip820)\" d=\"M 0 0 M131.715 173.061 Q131.715 166.369 133.405 162.723 Q135.761 157.298 141.32 157.298 Q142.498 157.298 143.721 157.632 Q144.966 157.943 146.522 159.166 Q148.101 160.388 149.057 162.389 Q150.88 166.258 150.88 173.061 Q150.88 179.709 149.19 183.333 Q146.722 188.624 141.275 188.624 Q139.23 188.624 137.14 187.579 Q135.072 186.534 133.76 184.022 Q131.715 180.265 131.715 173.061 M135.494 172.505 Q135.494 179.375 135.984 182.11 Q136.539 185.067 138.051 186.357 Q139.585 187.624 141.275 187.624 Q143.098 187.624 144.61 186.268 Q146.144 184.889 146.611 181.932 Q147.122 179.02 147.1 172.505 Q147.1 166.169 146.655 163.634 Q146.055 160.677 144.454 159.499 Q142.876 158.299 141.275 158.299 Q140.675 158.299 140.03 158.476 Q139.407 158.654 138.496 159.166 Q137.584 159.677 136.873 160.944 Q136.184 162.212 135.85 164.124 Q135.494 166.591 135.494 172.505 Z\" fill=\"#000000\" fill-rule=\"evenodd\" fill-opacity=\"1\" /><path clip-path=\"url(#clip820)\" d=\"M 0 0 M179.294 186.935 Q179.071 187.201 178.671 187.201 Q178.293 187.201 178.026 186.935 L168.599 177.508 L159.173 186.935 Q158.906 187.201 158.506 187.201 Q158.128 187.201 157.883 186.935 Q157.616 186.69 157.616 186.312 Q157.616 185.934 157.883 185.667 L167.31 176.241 L157.883 166.814 Q157.616 166.547 157.616 166.169 Q157.616 165.769 157.883 165.546 Q158.128 165.28 158.506 165.28 Q158.906 165.28 159.173 165.546 L168.599 174.973 L178.026 165.546 Q178.293 165.28 178.671 165.28 Q179.071 165.28 179.294 165.546 Q179.56 165.769 179.56 166.169 Q179.56 166.547 179.294 166.814 L169.867 176.241 L179.294 185.667 Q179.56 185.934 179.56 186.334 Q179.56 186.712 179.294 186.935 Z\" fill=\"#000000\" fill-rule=\"evenodd\" fill-opacity=\"1\" /><path clip-path=\"url(#clip820)\" d=\"M 0 0 M183.607 161.633 L183.607 160.211 Q189.076 160.211 191.9 157.298 Q192.678 157.298 192.811 157.476 Q192.945 157.654 192.945 158.476 L192.945 184.022 Q192.945 185.378 193.612 185.801 Q194.279 186.223 197.191 186.223 L198.636 186.223 L198.636 187.624 Q197.035 187.49 191.255 187.49 Q185.474 187.49 183.896 187.624 L183.896 186.223 L185.341 186.223 Q188.209 186.223 188.898 185.823 Q189.587 185.401 189.587 184.022 L189.587 160.433 Q187.208 161.633 183.607 161.633 Z\" fill=\"#000000\" fill-rule=\"evenodd\" fill-opacity=\"1\" /><path clip-path=\"url(#clip820)\" d=\"M 0 0 M200.415 173.061 Q200.415 166.369 202.105 162.723 Q204.461 157.298 210.02 157.298 Q211.198 157.298 212.421 157.632 Q213.666 157.943 215.222 159.166 Q216.801 160.388 217.757 162.389 Q219.58 166.258 219.58 173.061 Q219.58 179.709 217.89 183.333 Q215.422 188.624 209.975 188.624 Q207.93 188.624 205.84 187.579 Q203.772 186.534 202.46 184.022 Q200.415 180.265 200.415 173.061 M204.194 172.505 Q204.194 179.375 204.684 182.11 Q205.239 185.067 206.751 186.357 Q208.285 187.624 209.975 187.624 Q211.798 187.624 213.31 186.268 Q214.844 184.889 215.311 181.932 Q215.822 179.02 215.8 172.505 Q215.8 166.169 215.355 163.634 Q214.755 160.677 213.154 159.499 Q211.576 158.299 209.975 158.299 Q209.375 158.299 208.73 158.476 Q208.108 158.654 207.196 159.166 Q206.284 159.677 205.573 160.944 Q204.884 162.212 204.55 164.124 Q204.194 166.591 204.194 172.505 Z\" fill=\"#000000\" fill-rule=\"evenodd\" fill-opacity=\"1\" /><path clip-path=\"url(#clip820)\" d=\"M 0 0 M219.58 151.267 Q219.58 145.45 222.542 141.892 Q225.505 138.315 229.316 138.315 Q231.538 138.315 232.767 139.453 Q234.013 140.573 234.013 142.307 Q234.013 143.264 233.453 143.68 Q232.893 144.095 232.315 144.095 Q231.647 144.095 231.123 143.644 Q230.599 143.192 230.599 142.379 Q230.599 140.717 232.64 140.717 Q231.683 139.236 229.389 139.236 Q228.684 139.236 227.962 139.453 Q227.239 139.652 226.3 140.338 Q225.36 141.024 224.638 142.108 Q223.915 143.192 223.409 145.233 Q222.904 147.275 222.904 149.93 L222.904 150.815 Q224.421 147.148 227.528 147.166 Q230.635 147.166 232.785 149.533 Q234.934 151.899 234.934 155.404 Q234.934 158.998 232.694 161.383 Q230.454 163.767 227.311 163.767 Q225.902 163.767 224.62 163.171 Q223.355 162.593 222.163 161.256 Q220.989 159.92 220.284 157.355 Q219.58 154.789 219.58 151.267 M222.976 154.591 Q222.976 158.222 223.644 159.956 Q223.753 160.245 223.987 160.642 Q224.24 161.04 224.656 161.564 Q225.089 162.069 225.794 162.413 Q226.498 162.738 227.311 162.738 Q229.786 162.738 230.978 160.335 Q231.611 158.998 231.611 155.368 Q231.611 151.664 230.942 150.31 Q229.804 148.015 227.492 148.015 Q225.938 148.015 224.855 149.081 Q223.789 150.147 223.373 151.574 Q222.976 153.001 222.976 154.591 Z\" fill=\"#000000\" fill-rule=\"evenodd\" fill-opacity=\"1\" /><path clip-path=\"url(#clip820)\" d=\"M 0 0 M79.2037 792.214 L77.2778 792.214 Q77.2778 789.952 76.8498 788.515 Q76.3913 787.078 75.5659 786.558 Q74.7099 786.039 74.1596 785.916 Q73.5788 785.764 72.6311 785.764 L39.9513 785.764 Q39.0648 785.764 38.8508 786.008 Q38.6368 786.222 38.5145 787.292 Q38.3922 789.157 38.3922 790.41 L38.3922 792.214 L36.4357 792.214 L36.4357 781.575 Q36.4357 780.689 36.558 780.444 Q36.6803 780.2 37.2611 779.772 L69.7575 757.669 L43.0084 757.669 Q42.0607 757.669 41.5104 757.792 Q40.9602 757.914 40.1042 758.464 Q39.2482 758.984 38.8202 760.421 Q38.3922 761.858 38.3922 764.12 L36.4357 764.12 Q36.6192 757.547 36.6192 756.813 Q36.6192 756.049 36.4357 749.477 L38.3922 749.477 Q38.3922 751.739 38.8202 753.176 Q39.2482 754.612 40.1042 755.132 Q40.9602 755.652 41.541 755.805 Q42.0913 755.927 43.0084 755.927 L77.5835 755.927 Q78.5923 755.927 78.898 756.049 Q79.2037 756.171 79.2037 756.783 Q79.2037 757.211 78.3783 757.853 L40.8379 783.41 Q40.471 783.654 40.0736 784.021 L72.6311 784.021 Q73.5788 784.021 74.1596 783.899 Q74.7099 783.777 75.5659 783.257 Q76.3913 782.707 76.8498 781.27 Q77.2778 779.833 77.2778 777.571 L79.2037 777.571 Q79.0203 784.143 79.0203 784.908 Q79.0203 785.641 79.2037 792.214 Z\" fill=\"#000000\" fill-rule=\"evenodd\" fill-opacity=\"1\" /><path clip-path=\"url(#clip820)\" d=\"M 0 0 M54.1666 747.459 L52.2101 747.459 L51.5375 738.257 L72.3254 738.257 Q73.8234 738.257 74.7099 738.135 Q75.5659 738.013 76.5747 737.523 Q77.5835 737.004 78.0421 735.842 Q78.5006 734.65 78.5006 732.755 Q78.5006 729.361 75.7187 727.282 Q72.9368 725.173 68.8098 725.173 L57.6516 725.173 Q55.3283 725.173 54.7474 725.998 Q54.1666 726.824 54.1666 730.064 L52.2101 730.064 L51.5375 720.863 L73.7622 720.863 Q76.0856 720.863 76.697 720.068 Q77.2778 719.242 77.2778 715.971 L79.2037 715.971 L79.9069 724.99 L74.2513 724.99 Q79.8763 727.619 79.9069 733.06 Q79.9069 735.812 79.2037 737.707 Q78.5006 739.572 77.6447 740.519 Q76.7581 741.467 75.0767 741.987 Q73.3954 742.476 72.356 742.537 Q71.3166 742.598 69.2989 742.598 L59.9138 742.598 Q55.6645 742.598 54.9308 743.21 Q54.1666 743.821 54.1666 747.459 Z\" fill=\"#000000\" fill-rule=\"evenodd\" fill-opacity=\"1\" /><path clip-path=\"url(#clip820)\" d=\"M 0 0 M79.2037 713.954 L77.2778 713.954 Q77.2778 710.622 76.8804 709.857 Q76.4524 709.093 74.4348 709.093 L57.6516 709.093 Q55.3283 709.093 54.7474 709.918 Q54.1666 710.713 54.1666 713.954 L52.2101 713.954 L51.5375 705.149 L58.1102 705.149 Q51.5375 702.215 51.5375 695.887 Q51.5375 688.55 57.6516 687.541 Q55.2671 686.471 53.4023 684.239 Q51.5375 681.977 51.5375 678.461 Q51.5375 673.754 53.8609 671.889 Q55.42 670.513 57.1625 670.238 Q58.905 669.963 63.4294 669.963 L75.3824 669.963 Q76.697 669.902 77.0027 668.893 Q77.2778 667.884 77.2778 665.072 L79.2037 665.072 Q79.0203 671.461 79.0203 672.072 Q79.0203 672.561 79.2037 679.165 L77.2778 679.165 Q77.2778 675.832 76.8804 675.068 Q76.4524 674.273 74.4348 674.273 L59.8527 674.273 Q56.6734 674.273 54.8086 675.252 Q52.9132 676.23 52.9132 678.92 Q52.9132 682.16 55.634 684.759 Q58.3547 687.357 62.9403 687.357 L74.4348 687.357 Q76.4524 687.357 76.8804 686.593 Q77.2778 685.798 77.2778 682.466 L79.2037 682.466 Q79.0203 688.855 79.0203 689.497 Q79.0203 689.987 79.2037 696.559 L77.2778 696.559 Q77.2778 693.227 76.8804 692.463 Q76.4524 691.668 74.4348 691.668 L59.8527 691.668 Q56.6734 691.668 54.8086 692.646 Q52.9132 693.624 52.9132 696.315 Q52.9132 699.555 55.634 702.154 Q58.3547 704.752 62.9403 704.752 L74.4348 704.752 Q76.4524 704.752 76.8804 703.988 Q77.2778 703.193 77.2778 699.891 L79.2037 699.891 Q79.0203 706.281 79.0203 706.892 Q79.0203 707.381 79.2037 713.954 Z\" fill=\"#000000\" fill-rule=\"evenodd\" fill-opacity=\"1\" /><path clip-path=\"url(#clip820)\" d=\"M 0 0 M38.3922 665.072 L36.4357 665.072 L35.7632 656.053 L55.6034 656.053 Q51.5375 652.415 51.5375 647.463 Q51.5375 642.083 55.6645 638.139 Q59.7915 634.196 65.6916 634.196 Q71.6529 634.196 75.7799 638.323 Q79.9069 642.45 79.9069 648.166 Q79.9069 653.363 75.3213 656.359 Q79.1426 658.56 79.2037 658.621 L79.2037 660.18 L41.8773 660.18 Q39.5539 660.18 38.9731 661.006 Q38.3922 661.831 38.3922 665.072 M72.0808 655.87 Q73.3954 655.87 74.7099 654.983 Q78.5006 652.507 78.5006 648.472 Q78.5006 648.441 78.5006 648.411 Q78.5006 644.039 74.4959 641.318 Q71.5 639.392 65.6305 639.392 Q59.8221 639.392 56.9179 641.196 Q52.9132 643.703 52.9132 647.769 Q52.9132 652.354 56.9179 655.167 Q57.9267 655.87 59.1801 655.87 L72.0808 655.87 Z\" fill=\"#000000\" fill-rule=\"evenodd\" fill-opacity=\"1\" /><path clip-path=\"url(#clip820)\" d=\"M 0 0 M65.4165 630.71 Q59.5164 630.71 55.3283 626.92 Q51.1401 623.129 51.1401 617.687 Q51.1401 612.185 54.7168 609.342 Q58.2936 606.468 63.4294 606.468 Q64.3771 606.468 64.5605 606.713 Q64.7439 606.957 64.7439 608.027 L64.7439 625.514 Q71.1332 625.514 74.1291 623.618 Q78.3172 620.989 78.3172 616.556 Q78.3172 615.945 78.1949 615.211 Q78.0726 614.478 77.5529 612.98 Q77.0027 611.482 75.5659 610.167 Q74.1291 608.853 71.8668 608.088 Q70.9803 607.905 71.0109 607.294 Q71.0109 606.468 71.7446 606.468 Q72.2948 606.468 73.5482 607.08 Q74.771 607.66 76.2384 608.792 Q77.7058 609.923 78.8063 612.124 Q79.9069 614.294 79.9069 616.923 Q79.9069 622.426 75.7493 626.583 Q71.5611 630.71 65.4165 630.71 M63.4294 625.452 L63.4294 610.595 Q62.1149 610.595 60.6475 610.84 Q59.1801 611.054 57.1625 611.726 Q55.1143 612.368 53.8303 613.897 Q52.5463 615.425 52.5463 617.687 Q52.5463 618.696 52.9743 619.797 Q53.4023 620.867 54.4417 622.181 Q55.4811 623.496 57.835 624.413 Q60.1889 625.33 63.4294 625.452 Z\" fill=\"#000000\" fill-rule=\"evenodd\" fill-opacity=\"1\" /><path clip-path=\"url(#clip820)\" d=\"M 0 0 M79.2037 604.726 L77.2778 604.726 Q77.2778 601.393 76.8804 600.629 Q76.4524 599.834 74.4348 599.834 L57.6516 599.834 Q55.3283 599.834 54.7474 600.66 Q54.1666 601.455 54.1666 604.726 L52.2101 604.726 L51.5375 596.013 L58.4159 596.013 Q55.7257 595.127 53.6469 593.262 Q51.5375 591.366 51.5375 588.309 Q51.5375 586.292 52.6686 585.008 Q53.7997 583.693 55.3588 583.693 Q56.7345 583.693 57.4376 584.549 Q58.1102 585.375 58.1102 586.383 Q58.1102 587.514 57.407 588.309 Q56.6734 589.074 55.42 589.074 Q54.6557 589.074 54.0749 588.737 Q53.4635 588.37 53.2495 588.095 Q53.0355 587.82 52.9743 587.637 Q52.9132 587.759 52.9132 588.309 Q52.9132 591.764 56.3676 593.751 Q59.7915 595.707 64.6828 595.707 L74.3125 595.707 Q76.1161 595.707 76.697 594.974 Q77.2778 594.209 77.2778 590.938 L77.2778 589.624 L79.2037 589.624 Q79.0203 592.131 79.0203 597.572 Q79.0203 598.336 79.0509 599.529 Q79.0815 600.721 79.1426 602.28 Q79.2037 603.839 79.2037 604.726 Z\" fill=\"#000000\" fill-rule=\"evenodd\" fill-opacity=\"1\" /><path clip-path=\"url(#clip820)\" d=\"M 0 0 M1208.76 5.45935 Q1208.76 6.52917 1208.28 6.75051 Q1207.83 6.97185 1206.21 6.97185 Q1203.44 6.97185 1202.19 7.34075 Q1200.97 7.67277 1200.6 8.26301 Q1200.27 8.81637 1199.86 10.4395 L1189.65 51.2403 Q1189.65 51.2772 1189.54 51.7936 Q1189.42 52.2732 1189.42 52.5314 Q1189.42 53.011 1189.72 53.3061 Q1190.05 53.6013 1190.86 53.7488 Q1191.68 53.8595 1192.3 53.8964 Q1192.97 53.8964 1194.33 53.8964 Q1196.03 53.8964 1196.29 54.1915 Q1196.43 54.376 1196.43 54.708 Q1196.43 55.4089 1196.14 55.7778 Q1195.88 56.1098 1195.62 56.1836 Q1195.4 56.2205 1194.96 56.2205 Q1194.18 56.2205 1192.52 56.1467 Q1190.86 56.0729 1190.02 56.0729 L1185.18 55.9991 L1175.59 56.2205 Q1174.56 56.2205 1174.56 55.372 Q1174.56 54.6342 1174.82 54.3022 Q1175.07 53.9702 1175.33 53.9333 Q1175.63 53.8964 1176.37 53.8964 Q1180.17 53.8964 1181.42 53.5275 Q1182.71 53.1217 1183.23 51.3878 L1188.43 30.5448 L1165.41 30.5448 L1160.24 51.2403 Q1160.24 51.2772 1160.13 51.7936 Q1160.02 52.2732 1160.02 52.5314 Q1160.02 53.011 1160.32 53.3061 Q1160.65 53.6013 1161.46 53.7488 Q1162.27 53.8595 1162.9 53.8964 Q1163.56 53.8964 1164.93 53.8964 Q1166.63 53.8964 1166.92 54.1915 Q1167.07 54.376 1167.07 54.708 Q1167.07 55.2244 1166.92 55.5933 Q1166.81 55.9253 1166.52 56.036 Q1166.26 56.1467 1166.07 56.1836 Q1165.89 56.2205 1165.56 56.2205 Q1164.78 56.2205 1163.12 56.1467 Q1161.5 56.0729 1160.65 56.0729 L1155.82 55.9991 L1146.23 56.2205 Q1145.16 56.2205 1145.16 55.372 Q1145.16 54.6342 1145.41 54.3391 Q1145.67 54.007 1146 53.9702 Q1146.34 53.8964 1147.19 53.8964 Q1149.03 53.8964 1150.14 53.7857 Q1151.24 53.675 1151.94 53.5275 Q1152.68 53.343 1153.05 52.8266 Q1153.46 52.3101 1153.64 51.8674 Q1153.83 51.3878 1154.08 50.318 L1164.19 9.73863 Q1164.49 8.52125 1164.49 8.33679 Q1164.49 7.63588 1164.04 7.45143 Q1163.64 7.23008 1162.46 7.11941 L1159.58 6.97185 Q1158.7 6.97185 1158.33 6.93496 Q1157.99 6.89807 1157.74 6.71362 Q1157.48 6.52917 1157.48 6.12337 Q1157.48 5.60691 1157.59 5.2749 Q1157.74 4.90599 1157.99 4.79532 Q1158.25 4.68465 1158.44 4.64776 Q1158.62 4.61087 1158.92 4.61087 L1168.66 4.83221 L1178.32 4.61087 Q1179.39 4.61087 1179.39 5.45935 Q1179.39 6.52917 1178.91 6.75051 Q1178.43 6.97185 1176.81 6.97185 Q1174.12 6.97185 1172.86 7.34075 Q1171.61 7.67277 1171.2 8.26301 Q1170.83 8.85326 1170.46 10.4395 L1166 28.1838 L1189.06 28.1838 L1193.59 9.73863 Q1193.89 8.41057 1193.89 8.33679 Q1193.89 7.63588 1193.45 7.45143 Q1193.04 7.23008 1191.86 7.11941 L1188.98 6.97185 Q1188.1 6.97185 1187.73 6.93496 Q1187.4 6.89807 1187.1 6.71362 Q1186.84 6.52917 1186.84 6.12337 Q1186.84 5.60691 1186.95 5.2749 Q1187.1 4.90599 1187.36 4.79532 Q1187.62 4.68465 1187.8 4.64776 Q1187.99 4.61087 1188.28 4.61087 L1198.02 4.83221 L1207.72 4.61087 Q1208.76 4.61087 1208.76 5.45935 Z\" fill=\"#000000\" fill-rule=\"evenodd\" fill-opacity=\"1\" /><path clip-path=\"url(#clip820)\" d=\"M 0 0 M1236.4 47.4775 Q1236.69 47.8095 1236.69 48.1415 Q1236.69 48.4735 1235.96 49.4326 Q1235.26 50.3918 1233.74 51.683 Q1232.23 52.9741 1230.28 54.1915 Q1228.32 55.4089 1225.44 56.2205 Q1222.57 57.0689 1219.54 57.0689 Q1213.9 57.0689 1210.58 53.343 Q1207.29 49.6171 1207.29 44.268 Q1207.29 39.0665 1210.21 34.0863 Q1213.12 29.0692 1217.84 25.9704 Q1222.57 22.8347 1227.55 22.8347 Q1231.49 22.8347 1233.96 24.6792 Q1236.44 26.5237 1236.44 29.3274 Q1236.44 31.5039 1235.18 32.832 Q1233.93 34.16 1232.23 34.16 Q1231.05 34.16 1230.24 33.496 Q1229.43 32.7951 1229.43 31.5039 Q1229.43 29.8439 1230.79 28.5527 Q1231.31 28.0362 1231.9 27.8149 Q1232.53 27.5567 1232.9 27.5567 Q1233.26 27.5198 1234.11 27.5198 Q1233.34 26.0811 1231.49 25.3064 Q1229.69 24.4948 1227.62 24.4948 Q1224.56 24.4948 1221.64 26.6344 Q1218.73 28.7372 1216.96 32.0573 Q1215.19 35.3036 1214.04 39.9149 Q1212.9 44.4893 1212.9 47.1454 Q1212.9 50.7976 1214.6 53.0848 Q1216.29 55.372 1219.69 55.372 Q1220.35 55.372 1221.05 55.3351 Q1221.79 55.2982 1223.64 54.8924 Q1225.52 54.4866 1227.18 53.7857 Q1228.84 53.0848 1230.94 51.5723 Q1233.08 50.0229 1234.78 47.9201 Q1235.37 47.1454 1235.77 47.1454 Q1236.1 47.1454 1236.4 47.4775 Z\" fill=\"#000000\" fill-rule=\"evenodd\" fill-opacity=\"1\" /><path clip-path=\"url(#clip823)\" d=\"\n",
       "M319.697 1250.86 L331.652 1250.81 L343.607 1250.75 L355.562 1250.66 L367.517 1250.55 L379.472 1250.41 L391.427 1250.24 L403.382 1250.05 L415.337 1249.82 L427.291 1249.57 \n",
       "  L439.246 1249.28 L451.201 1248.97 L463.156 1248.62 L475.111 1248.24 L487.066 1247.82 L499.021 1247.36 L510.976 1246.87 L522.931 1246.36 L534.886 1245.8 L546.841 1245.18 \n",
       "  L558.796 1244.52 L570.751 1243.83 L582.706 1243.09 L594.661 1242.29 L606.616 1241.43 L618.57 1240.52 L630.525 1239.54 L642.48 1238.51 L654.435 1237.41 L666.39 1236.23 \n",
       "  L678.345 1234.98 L690.3 1233.62 L702.255 1232.22 L714.21 1230.72 L726.165 1229.14 L738.12 1227.49 L750.075 1225.77 L762.03 1223.99 L773.985 1222.17 L785.94 1220.29 \n",
       "  L797.894 1218.36 L809.849 1216.41 L821.804 1214.37 L833.759 1212.26 L845.714 1210.07 L857.669 1207.86 L869.624 1205.6 L881.579 1203.27 L893.534 1200.89 L905.489 1198.43 \n",
       "  L917.444 1195.94 L929.399 1193.39 L941.354 1190.77 L953.309 1188.09 L965.264 1185.34 L977.219 1182.53 L989.173 1179.64 L1001.13 1176.7 L1013.08 1173.71 L1025.04 1170.62 \n",
       "  L1036.99 1167.42 L1048.95 1164.15 L1060.9 1160.9 L1072.86 1157.52 L1084.81 1154.05 L1096.77 1150.39 L1108.72 1146.61 L1120.68 1142.74 L1132.63 1138.77 L1144.59 1134.78 \n",
       "  L1156.54 1130.7 L1168.5 1126.51 L1180.45 1122.33 L1192.41 1118.08 L1204.36 1113.72 L1216.32 1109.23 L1228.27 1104.49 L1240.23 1099.68 L1252.18 1094.89 L1264.14 1090 \n",
       "  L1276.09 1084.99 L1288.05 1079.88 L1300 1074.81 L1311.96 1069.63 L1323.91 1064.27 L1335.87 1058.74 L1347.82 1053.04 L1359.78 1047.2 L1371.73 1041.23 L1383.69 1035.12 \n",
       "  L1395.64 1028.8 L1407.6 1022.48 L1419.55 1015.87 L1431.51 1009.24 L1443.46 1002.49 L1455.42 995.521 L1467.37 988.394 L1479.33 981.108 L1491.28 973.933 L1503.24 966.634 \n",
       "  L1515.19 959.186 L1527.15 951.588 L1539.1 943.835 L1551.06 935.925 L1563.01 927.855 L1574.97 919.623 L1586.92 911.104 L1598.88 902.358 L1610.83 893.425 L1622.79 884.296 \n",
       "  L1634.74 874.909 L1646.69 865.146 L1658.65 855.58 L1670.6 845.845 L1682.56 835.724 L1694.51 825.363 L1706.47 814.748 L1718.42 803.911 L1730.38 792.849 L1742.33 781.708 \n",
       "  L1754.29 770.439 L1766.24 758.767 L1778.2 746.855 L1790.15 734.7 L1802.11 722.297 L1814.06 709.641 L1826.02 696.728 L1837.97 683.553 L1849.93 670.112 L1861.88 656.4 \n",
       "  L1873.84 642.412 L1885.79 628.143 L1897.75 613.589 L1909.7 598.745 L1921.66 583.606 L1933.61 568.167 L1945.57 552.422 L1957.52 536.367 L1969.48 519.996 L1981.43 503.677 \n",
       "  L1993.39 487.215 L2005.34 470.454 L2017.3 453.389 L2029.25 436.016 L2041.21 418.332 L2053.16 400.332 L2065.12 382.033 L2065.12 125.051 L2053.16 152.059 L2041.21 178.537 \n",
       "  L2029.25 204.492 L2017.3 229.928 L2005.34 254.853 L1993.39 279.274 L1981.43 303.196 L1969.48 326.626 L1957.52 349.57 L1945.57 372.037 L1933.61 394.031 L1921.66 415.875 \n",
       "  L1909.7 437.705 L1897.75 459.027 L1885.79 479.852 L1873.84 500.189 L1861.88 520.048 L1849.93 539.438 L1837.97 558.37 L1826.02 576.508 L1814.06 594.126 L1802.11 611.339 \n",
       "  L1790.15 628.155 L1778.2 644.581 L1766.24 660.627 L1754.29 676.299 L1742.33 691.974 L1730.38 707.414 L1718.42 722.482 L1706.47 737.179 L1694.51 751.513 L1682.56 765.49 \n",
       "  L1670.6 779.119 L1658.65 792.127 L1646.69 804.577 L1634.74 816.733 L1622.79 828.858 L1610.83 840.824 L1598.88 852.39 L1586.92 863.558 L1574.97 874.459 L1563.01 885.096 \n",
       "  L1551.06 895.275 L1539.1 905.463 L1527.15 915.457 L1515.19 925.083 L1503.24 934.473 L1491.28 943.632 L1479.33 952.541 L1467.37 961.23 L1455.42 969.704 L1443.46 977.968 \n",
       "  L1431.51 986.029 L1419.55 993.747 L1407.6 1001.06 L1395.64 1008.22 L1383.69 1015.21 L1371.73 1022.04 L1359.78 1028.72 L1347.82 1035.3 L1335.87 1041.96 L1323.91 1048.42 \n",
       "  L1311.96 1054.5 L1300 1060.44 L1288.05 1066.25 L1276.09 1071.93 L1264.14 1077.46 L1252.18 1082.87 L1240.23 1088.17 L1228.27 1093.48 L1216.32 1098.65 L1204.36 1103.69 \n",
       "  L1192.41 1108.54 L1180.45 1113.18 L1168.5 1117.72 L1156.54 1122.15 L1144.59 1126.48 L1132.63 1130.72 L1120.68 1134.93 L1108.72 1139.03 L1096.77 1143.03 L1084.81 1146.94 \n",
       "  L1072.86 1150.75 L1060.9 1154.47 L1048.95 1158.09 L1036.99 1161.63 L1025.04 1165.08 L1013.08 1168.44 L1001.13 1171.7 L989.173 1174.78 L977.219 1177.93 L965.264 1180.91 \n",
       "  L953.309 1183.82 L941.354 1186.66 L929.399 1189.43 L917.444 1192.14 L905.489 1194.78 L893.534 1197.35 L881.579 1199.86 L869.624 1202.32 L857.669 1204.74 L845.714 1207.11 \n",
       "  L833.759 1209.41 L821.804 1211.65 L809.849 1213.83 L797.894 1215.96 L785.94 1218.01 L773.985 1220.04 L762.03 1222.01 L750.075 1223.9 L738.12 1225.72 L726.165 1227.48 \n",
       "  L714.21 1229.14 L702.255 1230.78 L690.3 1232.29 L678.345 1233.69 L666.39 1235.01 L654.435 1236.26 L642.48 1237.43 L630.525 1238.54 L618.57 1239.58 L606.616 1240.55 \n",
       "  L594.661 1241.46 L582.706 1242.31 L570.751 1243.1 L558.796 1243.85 L546.841 1244.55 L534.886 1245.21 L522.931 1245.82 L510.976 1246.39 L499.021 1246.92 L487.066 1247.42 \n",
       "  L475.111 1247.87 L463.156 1248.29 L451.201 1248.66 L439.246 1249.01 L427.291 1249.33 L415.337 1249.62 L403.382 1249.87 L391.427 1250.09 L379.472 1250.28 L367.517 1250.45 \n",
       "  L355.562 1250.59 L343.607 1250.7 L331.652 1250.79 L319.697 1250.86  Z\n",
       "  \" fill=\"#c271d2\" fill-rule=\"evenodd\" fill-opacity=\"0.25\"/>\n",
       "<polyline clip-path=\"url(#clip823)\" style=\"stroke:#c271d2; stroke-width:0; stroke-opacity:1; fill:none\" points=\"\n",
       "  319.697,1250.86 331.652,1250.81 343.607,1250.75 355.562,1250.66 367.517,1250.55 379.472,1250.41 391.427,1250.24 403.382,1250.05 415.337,1249.82 427.291,1249.57 \n",
       "  439.246,1249.28 451.201,1248.97 463.156,1248.62 475.111,1248.24 487.066,1247.82 499.021,1247.36 510.976,1246.87 522.931,1246.36 534.886,1245.8 546.841,1245.18 \n",
       "  558.796,1244.52 570.751,1243.83 582.706,1243.09 594.661,1242.29 606.616,1241.43 618.57,1240.52 630.525,1239.54 642.48,1238.51 654.435,1237.41 666.39,1236.23 \n",
       "  678.345,1234.98 690.3,1233.62 702.255,1232.22 714.21,1230.72 726.165,1229.14 738.12,1227.49 750.075,1225.77 762.03,1223.99 773.985,1222.17 785.94,1220.29 \n",
       "  797.894,1218.36 809.849,1216.41 821.804,1214.37 833.759,1212.26 845.714,1210.07 857.669,1207.86 869.624,1205.6 881.579,1203.27 893.534,1200.89 905.489,1198.43 \n",
       "  917.444,1195.94 929.399,1193.39 941.354,1190.77 953.309,1188.09 965.264,1185.34 977.219,1182.53 989.173,1179.64 1001.13,1176.7 1013.08,1173.71 1025.04,1170.62 \n",
       "  1036.99,1167.42 1048.95,1164.15 1060.9,1160.9 1072.86,1157.52 1084.81,1154.05 1096.77,1150.39 1108.72,1146.61 1120.68,1142.74 1132.63,1138.77 1144.59,1134.78 \n",
       "  1156.54,1130.7 1168.5,1126.51 1180.45,1122.33 1192.41,1118.08 1204.36,1113.72 1216.32,1109.23 1228.27,1104.49 1240.23,1099.68 1252.18,1094.89 1264.14,1090 \n",
       "  1276.09,1084.99 1288.05,1079.88 1300,1074.81 1311.96,1069.63 1323.91,1064.27 1335.87,1058.74 1347.82,1053.04 1359.78,1047.2 1371.73,1041.23 1383.69,1035.12 \n",
       "  1395.64,1028.8 1407.6,1022.48 1419.55,1015.87 1431.51,1009.24 1443.46,1002.49 1455.42,995.521 1467.37,988.394 1479.33,981.108 1491.28,973.933 1503.24,966.634 \n",
       "  1515.19,959.186 1527.15,951.588 1539.1,943.835 1551.06,935.925 1563.01,927.855 1574.97,919.623 1586.92,911.104 1598.88,902.358 1610.83,893.425 1622.79,884.296 \n",
       "  1634.74,874.909 1646.69,865.146 1658.65,855.58 1670.6,845.845 1682.56,835.724 1694.51,825.363 1706.47,814.748 1718.42,803.911 1730.38,792.849 1742.33,781.708 \n",
       "  1754.29,770.439 1766.24,758.767 1778.2,746.855 1790.15,734.7 1802.11,722.297 1814.06,709.641 1826.02,696.728 1837.97,683.553 1849.93,670.112 1861.88,656.4 \n",
       "  1873.84,642.412 1885.79,628.143 1897.75,613.589 1909.7,598.745 1921.66,583.606 1933.61,568.167 1945.57,552.422 1957.52,536.367 1969.48,519.996 1981.43,503.677 \n",
       "  1993.39,487.215 2005.34,470.454 2017.3,453.389 2029.25,436.016 2041.21,418.332 2053.16,400.332 2065.12,382.033 \n",
       "  \"/>\n",
       "<circle clip-path=\"url(#clip823)\" cx=\"319.697\" cy=\"1250.86\" r=\"6\" fill=\"#e26f46\" fill-rule=\"evenodd\" fill-opacity=\"1\" stroke=\"#000000\" stroke-opacity=\"1\" stroke-width=\"0\"/>\n",
       "<circle clip-path=\"url(#clip823)\" cx=\"331.652\" cy=\"1250.71\" r=\"6\" fill=\"#e26f46\" fill-rule=\"evenodd\" fill-opacity=\"1\" stroke=\"#000000\" stroke-opacity=\"1\" stroke-width=\"0\"/>\n",
       "<circle clip-path=\"url(#clip823)\" cx=\"343.607\" cy=\"1250.53\" r=\"6\" fill=\"#e26f46\" fill-rule=\"evenodd\" fill-opacity=\"1\" stroke=\"#000000\" stroke-opacity=\"1\" stroke-width=\"0\"/>\n",
       "<circle clip-path=\"url(#clip823)\" cx=\"355.562\" cy=\"1250.38\" r=\"6\" fill=\"#e26f46\" fill-rule=\"evenodd\" fill-opacity=\"1\" stroke=\"#000000\" stroke-opacity=\"1\" stroke-width=\"0\"/>\n",
       "<circle clip-path=\"url(#clip823)\" cx=\"367.517\" cy=\"1250.19\" r=\"6\" fill=\"#e26f46\" fill-rule=\"evenodd\" fill-opacity=\"1\" stroke=\"#000000\" stroke-opacity=\"1\" stroke-width=\"0\"/>\n",
       "<circle clip-path=\"url(#clip823)\" cx=\"379.472\" cy=\"1249.96\" r=\"6\" fill=\"#e26f46\" fill-rule=\"evenodd\" fill-opacity=\"1\" stroke=\"#000000\" stroke-opacity=\"1\" stroke-width=\"0\"/>\n",
       "<circle clip-path=\"url(#clip823)\" cx=\"391.427\" cy=\"1249.79\" r=\"6\" fill=\"#e26f46\" fill-rule=\"evenodd\" fill-opacity=\"1\" stroke=\"#000000\" stroke-opacity=\"1\" stroke-width=\"0\"/>\n",
       "<circle clip-path=\"url(#clip823)\" cx=\"403.382\" cy=\"1249.63\" r=\"6\" fill=\"#e26f46\" fill-rule=\"evenodd\" fill-opacity=\"1\" stroke=\"#000000\" stroke-opacity=\"1\" stroke-width=\"0\"/>\n",
       "<circle clip-path=\"url(#clip823)\" cx=\"415.337\" cy=\"1249.29\" r=\"6\" fill=\"#e26f46\" fill-rule=\"evenodd\" fill-opacity=\"1\" stroke=\"#000000\" stroke-opacity=\"1\" stroke-width=\"0\"/>\n",
       "<circle clip-path=\"url(#clip823)\" cx=\"427.291\" cy=\"1248.98\" r=\"6\" fill=\"#e26f46\" fill-rule=\"evenodd\" fill-opacity=\"1\" stroke=\"#000000\" stroke-opacity=\"1\" stroke-width=\"0\"/>\n",
       "<circle clip-path=\"url(#clip823)\" cx=\"439.246\" cy=\"1248.62\" r=\"6\" fill=\"#e26f46\" fill-rule=\"evenodd\" fill-opacity=\"1\" stroke=\"#000000\" stroke-opacity=\"1\" stroke-width=\"0\"/>\n",
       "<circle clip-path=\"url(#clip823)\" cx=\"451.201\" cy=\"1248.28\" r=\"6\" fill=\"#e26f46\" fill-rule=\"evenodd\" fill-opacity=\"1\" stroke=\"#000000\" stroke-opacity=\"1\" stroke-width=\"0\"/>\n",
       "<circle clip-path=\"url(#clip823)\" cx=\"463.156\" cy=\"1247.91\" r=\"6\" fill=\"#e26f46\" fill-rule=\"evenodd\" fill-opacity=\"1\" stroke=\"#000000\" stroke-opacity=\"1\" stroke-width=\"0\"/>\n",
       "<circle clip-path=\"url(#clip823)\" cx=\"475.111\" cy=\"1247.67\" r=\"6\" fill=\"#e26f46\" fill-rule=\"evenodd\" fill-opacity=\"1\" stroke=\"#000000\" stroke-opacity=\"1\" stroke-width=\"0\"/>\n",
       "<circle clip-path=\"url(#clip823)\" cx=\"487.066\" cy=\"1247.42\" r=\"6\" fill=\"#e26f46\" fill-rule=\"evenodd\" fill-opacity=\"1\" stroke=\"#000000\" stroke-opacity=\"1\" stroke-width=\"0\"/>\n",
       "<circle clip-path=\"url(#clip823)\" cx=\"499.021\" cy=\"1246.82\" r=\"6\" fill=\"#e26f46\" fill-rule=\"evenodd\" fill-opacity=\"1\" stroke=\"#000000\" stroke-opacity=\"1\" stroke-width=\"0\"/>\n",
       "<circle clip-path=\"url(#clip823)\" cx=\"510.976\" cy=\"1246.32\" r=\"6\" fill=\"#e26f46\" fill-rule=\"evenodd\" fill-opacity=\"1\" stroke=\"#000000\" stroke-opacity=\"1\" stroke-width=\"0\"/>\n",
       "<circle clip-path=\"url(#clip823)\" cx=\"522.931\" cy=\"1245.75\" r=\"6\" fill=\"#e26f46\" fill-rule=\"evenodd\" fill-opacity=\"1\" stroke=\"#000000\" stroke-opacity=\"1\" stroke-width=\"0\"/>\n",
       "<circle clip-path=\"url(#clip823)\" cx=\"534.886\" cy=\"1245.3\" r=\"6\" fill=\"#e26f46\" fill-rule=\"evenodd\" fill-opacity=\"1\" stroke=\"#000000\" stroke-opacity=\"1\" stroke-width=\"0\"/>\n",
       "<circle clip-path=\"url(#clip823)\" cx=\"546.841\" cy=\"1244.75\" r=\"6\" fill=\"#e26f46\" fill-rule=\"evenodd\" fill-opacity=\"1\" stroke=\"#000000\" stroke-opacity=\"1\" stroke-width=\"0\"/>\n",
       "<circle clip-path=\"url(#clip823)\" cx=\"558.796\" cy=\"1244.3\" r=\"6\" fill=\"#e26f46\" fill-rule=\"evenodd\" fill-opacity=\"1\" stroke=\"#000000\" stroke-opacity=\"1\" stroke-width=\"0\"/>\n",
       "<circle clip-path=\"url(#clip823)\" cx=\"570.751\" cy=\"1243.83\" r=\"6\" fill=\"#e26f46\" fill-rule=\"evenodd\" fill-opacity=\"1\" stroke=\"#000000\" stroke-opacity=\"1\" stroke-width=\"0\"/>\n",
       "<circle clip-path=\"url(#clip823)\" cx=\"582.706\" cy=\"1242.89\" r=\"6\" fill=\"#e26f46\" fill-rule=\"evenodd\" fill-opacity=\"1\" stroke=\"#000000\" stroke-opacity=\"1\" stroke-width=\"0\"/>\n",
       "<circle clip-path=\"url(#clip823)\" cx=\"594.661\" cy=\"1241.96\" r=\"6\" fill=\"#e26f46\" fill-rule=\"evenodd\" fill-opacity=\"1\" stroke=\"#000000\" stroke-opacity=\"1\" stroke-width=\"0\"/>\n",
       "<circle clip-path=\"url(#clip823)\" cx=\"606.616\" cy=\"1240.99\" r=\"6\" fill=\"#e26f46\" fill-rule=\"evenodd\" fill-opacity=\"1\" stroke=\"#000000\" stroke-opacity=\"1\" stroke-width=\"0\"/>\n",
       "<circle clip-path=\"url(#clip823)\" cx=\"618.57\" cy=\"1240\" r=\"6\" fill=\"#e26f46\" fill-rule=\"evenodd\" fill-opacity=\"1\" stroke=\"#000000\" stroke-opacity=\"1\" stroke-width=\"0\"/>\n",
       "<circle clip-path=\"url(#clip823)\" cx=\"630.525\" cy=\"1238.86\" r=\"6\" fill=\"#e26f46\" fill-rule=\"evenodd\" fill-opacity=\"1\" stroke=\"#000000\" stroke-opacity=\"1\" stroke-width=\"0\"/>\n",
       "<circle clip-path=\"url(#clip823)\" cx=\"642.48\" cy=\"1238.05\" r=\"6\" fill=\"#e26f46\" fill-rule=\"evenodd\" fill-opacity=\"1\" stroke=\"#000000\" stroke-opacity=\"1\" stroke-width=\"0\"/>\n",
       "<circle clip-path=\"url(#clip823)\" cx=\"654.435\" cy=\"1237.3\" r=\"6\" fill=\"#e26f46\" fill-rule=\"evenodd\" fill-opacity=\"1\" stroke=\"#000000\" stroke-opacity=\"1\" stroke-width=\"0\"/>\n",
       "<circle clip-path=\"url(#clip823)\" cx=\"666.39\" cy=\"1235.79\" r=\"6\" fill=\"#e26f46\" fill-rule=\"evenodd\" fill-opacity=\"1\" stroke=\"#000000\" stroke-opacity=\"1\" stroke-width=\"0\"/>\n",
       "<circle clip-path=\"url(#clip823)\" cx=\"678.345\" cy=\"1234.32\" r=\"6\" fill=\"#e26f46\" fill-rule=\"evenodd\" fill-opacity=\"1\" stroke=\"#000000\" stroke-opacity=\"1\" stroke-width=\"0\"/>\n",
       "<circle clip-path=\"url(#clip823)\" cx=\"690.3\" cy=\"1232.94\" r=\"6\" fill=\"#e26f46\" fill-rule=\"evenodd\" fill-opacity=\"1\" stroke=\"#000000\" stroke-opacity=\"1\" stroke-width=\"0\"/>\n",
       "<circle clip-path=\"url(#clip823)\" cx=\"702.255\" cy=\"1231.45\" r=\"6\" fill=\"#e26f46\" fill-rule=\"evenodd\" fill-opacity=\"1\" stroke=\"#000000\" stroke-opacity=\"1\" stroke-width=\"0\"/>\n",
       "<circle clip-path=\"url(#clip823)\" cx=\"714.21\" cy=\"1229.76\" r=\"6\" fill=\"#e26f46\" fill-rule=\"evenodd\" fill-opacity=\"1\" stroke=\"#000000\" stroke-opacity=\"1\" stroke-width=\"0\"/>\n",
       "<circle clip-path=\"url(#clip823)\" cx=\"726.165\" cy=\"1228.69\" r=\"6\" fill=\"#e26f46\" fill-rule=\"evenodd\" fill-opacity=\"1\" stroke=\"#000000\" stroke-opacity=\"1\" stroke-width=\"0\"/>\n",
       "<circle clip-path=\"url(#clip823)\" cx=\"738.12\" cy=\"1227.64\" r=\"6\" fill=\"#e26f46\" fill-rule=\"evenodd\" fill-opacity=\"1\" stroke=\"#000000\" stroke-opacity=\"1\" stroke-width=\"0\"/>\n",
       "<circle clip-path=\"url(#clip823)\" cx=\"750.075\" cy=\"1225.73\" r=\"6\" fill=\"#e26f46\" fill-rule=\"evenodd\" fill-opacity=\"1\" stroke=\"#000000\" stroke-opacity=\"1\" stroke-width=\"0\"/>\n",
       "<circle clip-path=\"url(#clip823)\" cx=\"762.03\" cy=\"1223.83\" r=\"6\" fill=\"#e26f46\" fill-rule=\"evenodd\" fill-opacity=\"1\" stroke=\"#000000\" stroke-opacity=\"1\" stroke-width=\"0\"/>\n",
       "<circle clip-path=\"url(#clip823)\" cx=\"773.985\" cy=\"1221.96\" r=\"6\" fill=\"#e26f46\" fill-rule=\"evenodd\" fill-opacity=\"1\" stroke=\"#000000\" stroke-opacity=\"1\" stroke-width=\"0\"/>\n",
       "<circle clip-path=\"url(#clip823)\" cx=\"785.94\" cy=\"1220.07\" r=\"6\" fill=\"#e26f46\" fill-rule=\"evenodd\" fill-opacity=\"1\" stroke=\"#000000\" stroke-opacity=\"1\" stroke-width=\"0\"/>\n",
       "<circle clip-path=\"url(#clip823)\" cx=\"797.894\" cy=\"1218.61\" r=\"6\" fill=\"#e26f46\" fill-rule=\"evenodd\" fill-opacity=\"1\" stroke=\"#000000\" stroke-opacity=\"1\" stroke-width=\"0\"/>\n",
       "<circle clip-path=\"url(#clip823)\" cx=\"809.849\" cy=\"1217.16\" r=\"6\" fill=\"#e26f46\" fill-rule=\"evenodd\" fill-opacity=\"1\" stroke=\"#000000\" stroke-opacity=\"1\" stroke-width=\"0\"/>\n",
       "<circle clip-path=\"url(#clip823)\" cx=\"821.804\" cy=\"1215.84\" r=\"6\" fill=\"#e26f46\" fill-rule=\"evenodd\" fill-opacity=\"1\" stroke=\"#000000\" stroke-opacity=\"1\" stroke-width=\"0\"/>\n",
       "<circle clip-path=\"url(#clip823)\" cx=\"833.759\" cy=\"1213.17\" r=\"6\" fill=\"#e26f46\" fill-rule=\"evenodd\" fill-opacity=\"1\" stroke=\"#000000\" stroke-opacity=\"1\" stroke-width=\"0\"/>\n",
       "<circle clip-path=\"url(#clip823)\" cx=\"845.714\" cy=\"1210.94\" r=\"6\" fill=\"#e26f46\" fill-rule=\"evenodd\" fill-opacity=\"1\" stroke=\"#000000\" stroke-opacity=\"1\" stroke-width=\"0\"/>\n",
       "<circle clip-path=\"url(#clip823)\" cx=\"857.669\" cy=\"1208.52\" r=\"6\" fill=\"#e26f46\" fill-rule=\"evenodd\" fill-opacity=\"1\" stroke=\"#000000\" stroke-opacity=\"1\" stroke-width=\"0\"/>\n",
       "<circle clip-path=\"url(#clip823)\" cx=\"869.624\" cy=\"1205.99\" r=\"6\" fill=\"#e26f46\" fill-rule=\"evenodd\" fill-opacity=\"1\" stroke=\"#000000\" stroke-opacity=\"1\" stroke-width=\"0\"/>\n",
       "<circle clip-path=\"url(#clip823)\" cx=\"881.579\" cy=\"1203.44\" r=\"6\" fill=\"#e26f46\" fill-rule=\"evenodd\" fill-opacity=\"1\" stroke=\"#000000\" stroke-opacity=\"1\" stroke-width=\"0\"/>\n",
       "<circle clip-path=\"url(#clip823)\" cx=\"893.534\" cy=\"1201.83\" r=\"6\" fill=\"#e26f46\" fill-rule=\"evenodd\" fill-opacity=\"1\" stroke=\"#000000\" stroke-opacity=\"1\" stroke-width=\"0\"/>\n",
       "<circle clip-path=\"url(#clip823)\" cx=\"905.489\" cy=\"1200.34\" r=\"6\" fill=\"#e26f46\" fill-rule=\"evenodd\" fill-opacity=\"1\" stroke=\"#000000\" stroke-opacity=\"1\" stroke-width=\"0\"/>\n",
       "<circle clip-path=\"url(#clip823)\" cx=\"917.444\" cy=\"1197.21\" r=\"6\" fill=\"#e26f46\" fill-rule=\"evenodd\" fill-opacity=\"1\" stroke=\"#000000\" stroke-opacity=\"1\" stroke-width=\"0\"/>\n",
       "<circle clip-path=\"url(#clip823)\" cx=\"929.399\" cy=\"1194.14\" r=\"6\" fill=\"#e26f46\" fill-rule=\"evenodd\" fill-opacity=\"1\" stroke=\"#000000\" stroke-opacity=\"1\" stroke-width=\"0\"/>\n",
       "<circle clip-path=\"url(#clip823)\" cx=\"941.354\" cy=\"1190.82\" r=\"6\" fill=\"#e26f46\" fill-rule=\"evenodd\" fill-opacity=\"1\" stroke=\"#000000\" stroke-opacity=\"1\" stroke-width=\"0\"/>\n",
       "<circle clip-path=\"url(#clip823)\" cx=\"953.309\" cy=\"1187.55\" r=\"6\" fill=\"#e26f46\" fill-rule=\"evenodd\" fill-opacity=\"1\" stroke=\"#000000\" stroke-opacity=\"1\" stroke-width=\"0\"/>\n",
       "<circle clip-path=\"url(#clip823)\" cx=\"965.264\" cy=\"1183.83\" r=\"6\" fill=\"#e26f46\" fill-rule=\"evenodd\" fill-opacity=\"1\" stroke=\"#000000\" stroke-opacity=\"1\" stroke-width=\"0\"/>\n",
       "<circle clip-path=\"url(#clip823)\" cx=\"977.219\" cy=\"1181.53\" r=\"6\" fill=\"#e26f46\" fill-rule=\"evenodd\" fill-opacity=\"1\" stroke=\"#000000\" stroke-opacity=\"1\" stroke-width=\"0\"/>\n",
       "<circle clip-path=\"url(#clip823)\" cx=\"989.173\" cy=\"1179.79\" r=\"6\" fill=\"#e26f46\" fill-rule=\"evenodd\" fill-opacity=\"1\" stroke=\"#000000\" stroke-opacity=\"1\" stroke-width=\"0\"/>\n",
       "<circle clip-path=\"url(#clip823)\" cx=\"1001.13\" cy=\"1175.5\" r=\"6\" fill=\"#e26f46\" fill-rule=\"evenodd\" fill-opacity=\"1\" stroke=\"#000000\" stroke-opacity=\"1\" stroke-width=\"0\"/>\n",
       "<circle clip-path=\"url(#clip823)\" cx=\"1013.08\" cy=\"1171.69\" r=\"6\" fill=\"#e26f46\" fill-rule=\"evenodd\" fill-opacity=\"1\" stroke=\"#000000\" stroke-opacity=\"1\" stroke-width=\"0\"/>\n",
       "<circle clip-path=\"url(#clip823)\" cx=\"1025.04\" cy=\"1167.51\" r=\"6\" fill=\"#e26f46\" fill-rule=\"evenodd\" fill-opacity=\"1\" stroke=\"#000000\" stroke-opacity=\"1\" stroke-width=\"0\"/>\n",
       "<circle clip-path=\"url(#clip823)\" cx=\"1036.99\" cy=\"1163.24\" r=\"6\" fill=\"#e26f46\" fill-rule=\"evenodd\" fill-opacity=\"1\" stroke=\"#000000\" stroke-opacity=\"1\" stroke-width=\"0\"/>\n",
       "<circle clip-path=\"url(#clip823)\" cx=\"1048.95\" cy=\"1158.99\" r=\"6\" fill=\"#e26f46\" fill-rule=\"evenodd\" fill-opacity=\"1\" stroke=\"#000000\" stroke-opacity=\"1\" stroke-width=\"0\"/>\n",
       "<circle clip-path=\"url(#clip823)\" cx=\"1060.9\" cy=\"1156.57\" r=\"6\" fill=\"#e26f46\" fill-rule=\"evenodd\" fill-opacity=\"1\" stroke=\"#000000\" stroke-opacity=\"1\" stroke-width=\"0\"/>\n",
       "<circle clip-path=\"url(#clip823)\" cx=\"1072.86\" cy=\"1154.59\" r=\"6\" fill=\"#e26f46\" fill-rule=\"evenodd\" fill-opacity=\"1\" stroke=\"#000000\" stroke-opacity=\"1\" stroke-width=\"0\"/>\n",
       "<circle clip-path=\"url(#clip823)\" cx=\"1084.81\" cy=\"1149.64\" r=\"6\" fill=\"#e26f46\" fill-rule=\"evenodd\" fill-opacity=\"1\" stroke=\"#000000\" stroke-opacity=\"1\" stroke-width=\"0\"/>\n",
       "<circle clip-path=\"url(#clip823)\" cx=\"1096.77\" cy=\"1144.99\" r=\"6\" fill=\"#e26f46\" fill-rule=\"evenodd\" fill-opacity=\"1\" stroke=\"#000000\" stroke-opacity=\"1\" stroke-width=\"0\"/>\n",
       "<circle clip-path=\"url(#clip823)\" cx=\"1108.72\" cy=\"1140.2\" r=\"6\" fill=\"#e26f46\" fill-rule=\"evenodd\" fill-opacity=\"1\" stroke=\"#000000\" stroke-opacity=\"1\" stroke-width=\"0\"/>\n",
       "<circle clip-path=\"url(#clip823)\" cx=\"1120.68\" cy=\"1135.68\" r=\"6\" fill=\"#e26f46\" fill-rule=\"evenodd\" fill-opacity=\"1\" stroke=\"#000000\" stroke-opacity=\"1\" stroke-width=\"0\"/>\n",
       "<circle clip-path=\"url(#clip823)\" cx=\"1132.63\" cy=\"1131.02\" r=\"6\" fill=\"#e26f46\" fill-rule=\"evenodd\" fill-opacity=\"1\" stroke=\"#000000\" stroke-opacity=\"1\" stroke-width=\"0\"/>\n",
       "<circle clip-path=\"url(#clip823)\" cx=\"1144.59\" cy=\"1128.12\" r=\"6\" fill=\"#e26f46\" fill-rule=\"evenodd\" fill-opacity=\"1\" stroke=\"#000000\" stroke-opacity=\"1\" stroke-width=\"0\"/>\n",
       "<circle clip-path=\"url(#clip823)\" cx=\"1156.54\" cy=\"1125.91\" r=\"6\" fill=\"#e26f46\" fill-rule=\"evenodd\" fill-opacity=\"1\" stroke=\"#000000\" stroke-opacity=\"1\" stroke-width=\"0\"/>\n",
       "<circle clip-path=\"url(#clip823)\" cx=\"1168.5\" cy=\"1120.26\" r=\"6\" fill=\"#e26f46\" fill-rule=\"evenodd\" fill-opacity=\"1\" stroke=\"#000000\" stroke-opacity=\"1\" stroke-width=\"0\"/>\n",
       "<circle clip-path=\"url(#clip823)\" cx=\"1180.45\" cy=\"1115.19\" r=\"6\" fill=\"#e26f46\" fill-rule=\"evenodd\" fill-opacity=\"1\" stroke=\"#000000\" stroke-opacity=\"1\" stroke-width=\"0\"/>\n",
       "<circle clip-path=\"url(#clip823)\" cx=\"1192.41\" cy=\"1109.89\" r=\"6\" fill=\"#e26f46\" fill-rule=\"evenodd\" fill-opacity=\"1\" stroke=\"#000000\" stroke-opacity=\"1\" stroke-width=\"0\"/>\n",
       "<circle clip-path=\"url(#clip823)\" cx=\"1204.36\" cy=\"1104.65\" r=\"6\" fill=\"#e26f46\" fill-rule=\"evenodd\" fill-opacity=\"1\" stroke=\"#000000\" stroke-opacity=\"1\" stroke-width=\"0\"/>\n",
       "<circle clip-path=\"url(#clip823)\" cx=\"1216.32\" cy=\"1099.26\" r=\"6\" fill=\"#e26f46\" fill-rule=\"evenodd\" fill-opacity=\"1\" stroke=\"#000000\" stroke-opacity=\"1\" stroke-width=\"0\"/>\n",
       "<circle clip-path=\"url(#clip823)\" cx=\"1228.27\" cy=\"1096.08\" r=\"6\" fill=\"#e26f46\" fill-rule=\"evenodd\" fill-opacity=\"1\" stroke=\"#000000\" stroke-opacity=\"1\" stroke-width=\"0\"/>\n",
       "<circle clip-path=\"url(#clip823)\" cx=\"1240.23\" cy=\"1093.58\" r=\"6\" fill=\"#e26f46\" fill-rule=\"evenodd\" fill-opacity=\"1\" stroke=\"#000000\" stroke-opacity=\"1\" stroke-width=\"0\"/>\n",
       "<circle clip-path=\"url(#clip823)\" cx=\"1252.18\" cy=\"1087\" r=\"6\" fill=\"#e26f46\" fill-rule=\"evenodd\" fill-opacity=\"1\" stroke=\"#000000\" stroke-opacity=\"1\" stroke-width=\"0\"/>\n",
       "<circle clip-path=\"url(#clip823)\" cx=\"1264.14\" cy=\"1080.84\" r=\"6\" fill=\"#e26f46\" fill-rule=\"evenodd\" fill-opacity=\"1\" stroke=\"#000000\" stroke-opacity=\"1\" stroke-width=\"0\"/>\n",
       "<circle clip-path=\"url(#clip823)\" cx=\"1276.09\" cy=\"1074.72\" r=\"6\" fill=\"#e26f46\" fill-rule=\"evenodd\" fill-opacity=\"1\" stroke=\"#000000\" stroke-opacity=\"1\" stroke-width=\"0\"/>\n",
       "<circle clip-path=\"url(#clip823)\" cx=\"1288.05\" cy=\"1068.94\" r=\"6\" fill=\"#3da44d\" fill-rule=\"evenodd\" fill-opacity=\"1\" stroke=\"#000000\" stroke-opacity=\"1\" stroke-width=\"0\"/>\n",
       "<circle clip-path=\"url(#clip823)\" cx=\"1300\" cy=\"1062.92\" r=\"6\" fill=\"#3da44d\" fill-rule=\"evenodd\" fill-opacity=\"1\" stroke=\"#000000\" stroke-opacity=\"1\" stroke-width=\"0\"/>\n",
       "<circle clip-path=\"url(#clip823)\" cx=\"1311.96\" cy=\"1059.65\" r=\"6\" fill=\"#3da44d\" fill-rule=\"evenodd\" fill-opacity=\"1\" stroke=\"#000000\" stroke-opacity=\"1\" stroke-width=\"0\"/>\n",
       "<circle clip-path=\"url(#clip823)\" cx=\"1323.91\" cy=\"1056.9\" r=\"6\" fill=\"#3da44d\" fill-rule=\"evenodd\" fill-opacity=\"1\" stroke=\"#000000\" stroke-opacity=\"1\" stroke-width=\"0\"/>\n",
       "<circle clip-path=\"url(#clip823)\" cx=\"1335.87\" cy=\"1049.87\" r=\"6\" fill=\"#3da44d\" fill-rule=\"evenodd\" fill-opacity=\"1\" stroke=\"#000000\" stroke-opacity=\"1\" stroke-width=\"0\"/>\n",
       "<circle clip-path=\"url(#clip823)\" cx=\"1347.82\" cy=\"1042.99\" r=\"6\" fill=\"#3da44d\" fill-rule=\"evenodd\" fill-opacity=\"1\" stroke=\"#000000\" stroke-opacity=\"1\" stroke-width=\"0\"/>\n",
       "<circle clip-path=\"url(#clip823)\" cx=\"1359.78\" cy=\"1036.44\" r=\"6\" fill=\"#3da44d\" fill-rule=\"evenodd\" fill-opacity=\"1\" stroke=\"#000000\" stroke-opacity=\"1\" stroke-width=\"0\"/>\n",
       "<circle clip-path=\"url(#clip823)\" cx=\"1371.73\" cy=\"1029.94\" r=\"6\" fill=\"#3da44d\" fill-rule=\"evenodd\" fill-opacity=\"1\" stroke=\"#000000\" stroke-opacity=\"1\" stroke-width=\"0\"/>\n",
       "<circle clip-path=\"url(#clip823)\" cx=\"1383.69\" cy=\"1023.4\" r=\"6\" fill=\"#3da44d\" fill-rule=\"evenodd\" fill-opacity=\"1\" stroke=\"#000000\" stroke-opacity=\"1\" stroke-width=\"0\"/>\n",
       "<circle clip-path=\"url(#clip823)\" cx=\"1395.64\" cy=\"1019.62\" r=\"6\" fill=\"#3da44d\" fill-rule=\"evenodd\" fill-opacity=\"1\" stroke=\"#000000\" stroke-opacity=\"1\" stroke-width=\"0\"/>\n",
       "<circle clip-path=\"url(#clip823)\" cx=\"1407.6\" cy=\"1017.01\" r=\"6\" fill=\"#3da44d\" fill-rule=\"evenodd\" fill-opacity=\"1\" stroke=\"#000000\" stroke-opacity=\"1\" stroke-width=\"0\"/>\n",
       "<circle clip-path=\"url(#clip823)\" cx=\"1419.55\" cy=\"1009.66\" r=\"6\" fill=\"#3da44d\" fill-rule=\"evenodd\" fill-opacity=\"1\" stroke=\"#000000\" stroke-opacity=\"1\" stroke-width=\"0\"/>\n",
       "<circle clip-path=\"url(#clip823)\" cx=\"1431.51\" cy=\"1002.58\" r=\"6\" fill=\"#3da44d\" fill-rule=\"evenodd\" fill-opacity=\"1\" stroke=\"#000000\" stroke-opacity=\"1\" stroke-width=\"0\"/>\n",
       "<circle clip-path=\"url(#clip823)\" cx=\"1443.46\" cy=\"995.813\" r=\"6\" fill=\"#3da44d\" fill-rule=\"evenodd\" fill-opacity=\"1\" stroke=\"#000000\" stroke-opacity=\"1\" stroke-width=\"0\"/>\n",
       "<circle clip-path=\"url(#clip823)\" cx=\"1455.42\" cy=\"989.117\" r=\"6\" fill=\"#3da44d\" fill-rule=\"evenodd\" fill-opacity=\"1\" stroke=\"#000000\" stroke-opacity=\"1\" stroke-width=\"0\"/>\n",
       "<circle clip-path=\"url(#clip823)\" cx=\"1467.37\" cy=\"982.176\" r=\"6\" fill=\"#3da44d\" fill-rule=\"evenodd\" fill-opacity=\"1\" stroke=\"#000000\" stroke-opacity=\"1\" stroke-width=\"0\"/>\n",
       "<circle clip-path=\"url(#clip823)\" cx=\"1479.33\" cy=\"978.291\" r=\"6\" fill=\"#3da44d\" fill-rule=\"evenodd\" fill-opacity=\"1\" stroke=\"#000000\" stroke-opacity=\"1\" stroke-width=\"0\"/>\n",
       "<circle clip-path=\"url(#clip823)\" cx=\"1491.28\" cy=\"975.189\" r=\"6\" fill=\"#3da44d\" fill-rule=\"evenodd\" fill-opacity=\"1\" stroke=\"#000000\" stroke-opacity=\"1\" stroke-width=\"0\"/>\n",
       "<circle clip-path=\"url(#clip823)\" cx=\"1503.24\" cy=\"967.195\" r=\"6\" fill=\"#3da44d\" fill-rule=\"evenodd\" fill-opacity=\"1\" stroke=\"#000000\" stroke-opacity=\"1\" stroke-width=\"0\"/>\n",
       "<circle clip-path=\"url(#clip823)\" cx=\"1515.19\" cy=\"959.541\" r=\"6\" fill=\"#3da44d\" fill-rule=\"evenodd\" fill-opacity=\"1\" stroke=\"#000000\" stroke-opacity=\"1\" stroke-width=\"0\"/>\n",
       "<circle clip-path=\"url(#clip823)\" cx=\"1527.15\" cy=\"951.48\" r=\"6\" fill=\"#3da44d\" fill-rule=\"evenodd\" fill-opacity=\"1\" stroke=\"#000000\" stroke-opacity=\"1\" stroke-width=\"0\"/>\n",
       "<circle clip-path=\"url(#clip823)\" cx=\"1539.1\" cy=\"944.03\" r=\"6\" fill=\"#3da44d\" fill-rule=\"evenodd\" fill-opacity=\"1\" stroke=\"#000000\" stroke-opacity=\"1\" stroke-width=\"0\"/>\n",
       "<circle clip-path=\"url(#clip823)\" cx=\"1551.06\" cy=\"936.578\" r=\"6\" fill=\"#3da44d\" fill-rule=\"evenodd\" fill-opacity=\"1\" stroke=\"#000000\" stroke-opacity=\"1\" stroke-width=\"0\"/>\n",
       "<circle clip-path=\"url(#clip823)\" cx=\"1563.01\" cy=\"932.739\" r=\"6\" fill=\"#3da44d\" fill-rule=\"evenodd\" fill-opacity=\"1\" stroke=\"#000000\" stroke-opacity=\"1\" stroke-width=\"0\"/>\n",
       "<circle clip-path=\"url(#clip823)\" cx=\"1574.97\" cy=\"929.622\" r=\"6\" fill=\"#3da44d\" fill-rule=\"evenodd\" fill-opacity=\"1\" stroke=\"#000000\" stroke-opacity=\"1\" stroke-width=\"0\"/>\n",
       "<circle clip-path=\"url(#clip823)\" cx=\"1586.92\" cy=\"921.372\" r=\"6\" fill=\"#3da44d\" fill-rule=\"evenodd\" fill-opacity=\"1\" stroke=\"#000000\" stroke-opacity=\"1\" stroke-width=\"0\"/>\n",
       "<circle clip-path=\"url(#clip823)\" cx=\"1598.88\" cy=\"913.086\" r=\"6\" fill=\"#3da44d\" fill-rule=\"evenodd\" fill-opacity=\"1\" stroke=\"#000000\" stroke-opacity=\"1\" stroke-width=\"0\"/>\n",
       "<circle clip-path=\"url(#clip823)\" cx=\"1610.83\" cy=\"905.248\" r=\"6\" fill=\"#3da44d\" fill-rule=\"evenodd\" fill-opacity=\"1\" stroke=\"#000000\" stroke-opacity=\"1\" stroke-width=\"0\"/>\n",
       "<circle clip-path=\"url(#clip823)\" cx=\"1622.79\" cy=\"897.727\" r=\"6\" fill=\"#3da44d\" fill-rule=\"evenodd\" fill-opacity=\"1\" stroke=\"#000000\" stroke-opacity=\"1\" stroke-width=\"0\"/>\n",
       "<circle clip-path=\"url(#clip823)\" cx=\"1634.74\" cy=\"890.186\" r=\"6\" fill=\"#3da44d\" fill-rule=\"evenodd\" fill-opacity=\"1\" stroke=\"#000000\" stroke-opacity=\"1\" stroke-width=\"0\"/>\n",
       "<circle clip-path=\"url(#clip823)\" cx=\"1646.69\" cy=\"886.196\" r=\"6\" fill=\"#3da44d\" fill-rule=\"evenodd\" fill-opacity=\"1\" stroke=\"#000000\" stroke-opacity=\"1\" stroke-width=\"0\"/>\n",
       "<circle clip-path=\"url(#clip823)\" cx=\"1658.65\" cy=\"882.913\" r=\"6\" fill=\"#3da44d\" fill-rule=\"evenodd\" fill-opacity=\"1\" stroke=\"#000000\" stroke-opacity=\"1\" stroke-width=\"0\"/>\n",
       "<circle clip-path=\"url(#clip823)\" cx=\"1670.6\" cy=\"873.969\" r=\"6\" fill=\"#3da44d\" fill-rule=\"evenodd\" fill-opacity=\"1\" stroke=\"#000000\" stroke-opacity=\"1\" stroke-width=\"0\"/>\n",
       "<circle clip-path=\"url(#clip823)\" cx=\"1682.56\" cy=\"865.378\" r=\"6\" fill=\"#3da44d\" fill-rule=\"evenodd\" fill-opacity=\"1\" stroke=\"#000000\" stroke-opacity=\"1\" stroke-width=\"0\"/>\n",
       "<circle clip-path=\"url(#clip823)\" cx=\"1694.51\" cy=\"856.375\" r=\"6\" fill=\"#3da44d\" fill-rule=\"evenodd\" fill-opacity=\"1\" stroke=\"#000000\" stroke-opacity=\"1\" stroke-width=\"0\"/>\n",
       "<circle clip-path=\"url(#clip823)\" cx=\"1706.47\" cy=\"847.941\" r=\"6\" fill=\"#3da44d\" fill-rule=\"evenodd\" fill-opacity=\"1\" stroke=\"#000000\" stroke-opacity=\"1\" stroke-width=\"0\"/>\n",
       "<circle clip-path=\"url(#clip823)\" cx=\"1718.42\" cy=\"839.843\" r=\"6\" fill=\"#3da44d\" fill-rule=\"evenodd\" fill-opacity=\"1\" stroke=\"#000000\" stroke-opacity=\"1\" stroke-width=\"0\"/>\n",
       "<circle clip-path=\"url(#clip823)\" cx=\"1730.38\" cy=\"835.375\" r=\"6\" fill=\"#3da44d\" fill-rule=\"evenodd\" fill-opacity=\"1\" stroke=\"#000000\" stroke-opacity=\"1\" stroke-width=\"0\"/>\n",
       "<circle clip-path=\"url(#clip823)\" cx=\"1742.33\" cy=\"831.976\" r=\"6\" fill=\"#3da44d\" fill-rule=\"evenodd\" fill-opacity=\"1\" stroke=\"#000000\" stroke-opacity=\"1\" stroke-width=\"0\"/>\n",
       "<circle clip-path=\"url(#clip823)\" cx=\"1754.29\" cy=\"822.601\" r=\"6\" fill=\"#3da44d\" fill-rule=\"evenodd\" fill-opacity=\"1\" stroke=\"#000000\" stroke-opacity=\"1\" stroke-width=\"0\"/>\n",
       "<circle clip-path=\"url(#clip823)\" cx=\"1766.24\" cy=\"813.623\" r=\"6\" fill=\"#3da44d\" fill-rule=\"evenodd\" fill-opacity=\"1\" stroke=\"#000000\" stroke-opacity=\"1\" stroke-width=\"0\"/>\n",
       "<circle clip-path=\"url(#clip823)\" cx=\"1778.2\" cy=\"805.058\" r=\"6\" fill=\"#3da44d\" fill-rule=\"evenodd\" fill-opacity=\"1\" stroke=\"#000000\" stroke-opacity=\"1\" stroke-width=\"0\"/>\n",
       "<circle clip-path=\"url(#clip823)\" cx=\"1790.15\" cy=\"796.718\" r=\"6\" fill=\"#3da44d\" fill-rule=\"evenodd\" fill-opacity=\"1\" stroke=\"#000000\" stroke-opacity=\"1\" stroke-width=\"0\"/>\n",
       "<circle clip-path=\"url(#clip823)\" cx=\"1802.11\" cy=\"788.502\" r=\"6\" fill=\"#3da44d\" fill-rule=\"evenodd\" fill-opacity=\"1\" stroke=\"#000000\" stroke-opacity=\"1\" stroke-width=\"0\"/>\n",
       "<circle clip-path=\"url(#clip823)\" cx=\"1814.06\" cy=\"784.341\" r=\"6\" fill=\"#3da44d\" fill-rule=\"evenodd\" fill-opacity=\"1\" stroke=\"#000000\" stroke-opacity=\"1\" stroke-width=\"0\"/>\n",
       "<circle clip-path=\"url(#clip823)\" cx=\"1826.02\" cy=\"781.323\" r=\"6\" fill=\"#3da44d\" fill-rule=\"evenodd\" fill-opacity=\"1\" stroke=\"#000000\" stroke-opacity=\"1\" stroke-width=\"0\"/>\n",
       "<circle clip-path=\"url(#clip823)\" cx=\"1837.97\" cy=\"772.682\" r=\"6\" fill=\"#3da44d\" fill-rule=\"evenodd\" fill-opacity=\"1\" stroke=\"#000000\" stroke-opacity=\"1\" stroke-width=\"0\"/>\n",
       "<circle clip-path=\"url(#clip823)\" cx=\"1849.93\" cy=\"764.415\" r=\"6\" fill=\"#3da44d\" fill-rule=\"evenodd\" fill-opacity=\"1\" stroke=\"#000000\" stroke-opacity=\"1\" stroke-width=\"0\"/>\n",
       "<circle clip-path=\"url(#clip823)\" cx=\"1861.88\" cy=\"756.597\" r=\"6\" fill=\"#3da44d\" fill-rule=\"evenodd\" fill-opacity=\"1\" stroke=\"#000000\" stroke-opacity=\"1\" stroke-width=\"0\"/>\n",
       "<circle clip-path=\"url(#clip823)\" cx=\"1873.84\" cy=\"748.958\" r=\"6\" fill=\"#3da44d\" fill-rule=\"evenodd\" fill-opacity=\"1\" stroke=\"#000000\" stroke-opacity=\"1\" stroke-width=\"0\"/>\n",
       "<circle clip-path=\"url(#clip823)\" cx=\"1885.79\" cy=\"742.213\" r=\"6\" fill=\"#3da44d\" fill-rule=\"evenodd\" fill-opacity=\"1\" stroke=\"#000000\" stroke-opacity=\"1\" stroke-width=\"0\"/>\n",
       "<circle clip-path=\"url(#clip823)\" cx=\"1897.75\" cy=\"738.427\" r=\"6\" fill=\"#3da44d\" fill-rule=\"evenodd\" fill-opacity=\"1\" stroke=\"#000000\" stroke-opacity=\"1\" stroke-width=\"0\"/>\n",
       "<circle clip-path=\"url(#clip823)\" cx=\"1909.7\" cy=\"735.898\" r=\"6\" fill=\"#3da44d\" fill-rule=\"evenodd\" fill-opacity=\"1\" stroke=\"#000000\" stroke-opacity=\"1\" stroke-width=\"0\"/>\n",
       "<circle clip-path=\"url(#clip823)\" cx=\"1921.66\" cy=\"728.269\" r=\"6\" fill=\"#3da44d\" fill-rule=\"evenodd\" fill-opacity=\"1\" stroke=\"#000000\" stroke-opacity=\"1\" stroke-width=\"0\"/>\n",
       "<circle clip-path=\"url(#clip823)\" cx=\"1933.61\" cy=\"720.794\" r=\"6\" fill=\"#3da44d\" fill-rule=\"evenodd\" fill-opacity=\"1\" stroke=\"#000000\" stroke-opacity=\"1\" stroke-width=\"0\"/>\n",
       "<circle clip-path=\"url(#clip823)\" cx=\"1945.57\" cy=\"713.62\" r=\"6\" fill=\"#3da44d\" fill-rule=\"evenodd\" fill-opacity=\"1\" stroke=\"#000000\" stroke-opacity=\"1\" stroke-width=\"0\"/>\n",
       "<circle clip-path=\"url(#clip823)\" cx=\"1957.52\" cy=\"706.815\" r=\"6\" fill=\"#3da44d\" fill-rule=\"evenodd\" fill-opacity=\"1\" stroke=\"#000000\" stroke-opacity=\"1\" stroke-width=\"0\"/>\n",
       "<circle clip-path=\"url(#clip823)\" cx=\"1969.48\" cy=\"700.168\" r=\"6\" fill=\"#3da44d\" fill-rule=\"evenodd\" fill-opacity=\"1\" stroke=\"#000000\" stroke-opacity=\"1\" stroke-width=\"0\"/>\n",
       "<circle clip-path=\"url(#clip823)\" cx=\"1981.43\" cy=\"696.541\" r=\"6\" fill=\"#3da44d\" fill-rule=\"evenodd\" fill-opacity=\"1\" stroke=\"#000000\" stroke-opacity=\"1\" stroke-width=\"0\"/>\n",
       "<circle clip-path=\"url(#clip823)\" cx=\"1993.39\" cy=\"694.139\" r=\"6\" fill=\"#3da44d\" fill-rule=\"evenodd\" fill-opacity=\"1\" stroke=\"#000000\" stroke-opacity=\"1\" stroke-width=\"0\"/>\n",
       "<circle clip-path=\"url(#clip823)\" cx=\"2005.34\" cy=\"686.851\" r=\"6\" fill=\"#3da44d\" fill-rule=\"evenodd\" fill-opacity=\"1\" stroke=\"#000000\" stroke-opacity=\"1\" stroke-width=\"0\"/>\n",
       "<circle clip-path=\"url(#clip823)\" cx=\"2017.3\" cy=\"679.815\" r=\"6\" fill=\"#3da44d\" fill-rule=\"evenodd\" fill-opacity=\"1\" stroke=\"#000000\" stroke-opacity=\"1\" stroke-width=\"0\"/>\n",
       "<circle clip-path=\"url(#clip823)\" cx=\"2029.25\" cy=\"673.263\" r=\"6\" fill=\"#3da44d\" fill-rule=\"evenodd\" fill-opacity=\"1\" stroke=\"#000000\" stroke-opacity=\"1\" stroke-width=\"0\"/>\n",
       "<circle clip-path=\"url(#clip823)\" cx=\"2041.21\" cy=\"666.746\" r=\"6\" fill=\"#3da44d\" fill-rule=\"evenodd\" fill-opacity=\"1\" stroke=\"#000000\" stroke-opacity=\"1\" stroke-width=\"0\"/>\n",
       "<circle clip-path=\"url(#clip823)\" cx=\"2053.16\" cy=\"660.544\" r=\"6\" fill=\"#3da44d\" fill-rule=\"evenodd\" fill-opacity=\"1\" stroke=\"#000000\" stroke-opacity=\"1\" stroke-width=\"0\"/>\n",
       "<circle clip-path=\"url(#clip823)\" cx=\"2065.12\" cy=\"657.276\" r=\"6\" fill=\"#3da44d\" fill-rule=\"evenodd\" fill-opacity=\"1\" stroke=\"#000000\" stroke-opacity=\"1\" stroke-width=\"0\"/>\n",
       "<path clip-path=\"url(#clip820)\" d=\"\n",
       "M329.006 348.784 L940.414 348.784 L940.414 131.056 L329.006 131.056  Z\n",
       "  \" fill=\"#ffffff\" fill-rule=\"evenodd\" fill-opacity=\"1\"/>\n",
       "<polyline clip-path=\"url(#clip820)\" style=\"stroke:#000000; stroke-width:3.6; stroke-opacity:1; fill:none\" points=\"\n",
       "  329.006,348.784 940.414,348.784 940.414,131.056 329.006,131.056 329.006,348.784 \n",
       "  \"/>\n",
       "<path clip-path=\"url(#clip820)\" d=\"\n",
       "M349.563 207.261 L472.906 207.261 L472.906 163.715 L349.563 163.715 L349.563 207.261  Z\n",
       "  \" fill=\"#c271d2\" fill-rule=\"evenodd\" fill-opacity=\"0.25\"/>\n",
       "<polyline clip-path=\"url(#clip820)\" style=\"stroke:#c271d2; stroke-width:0; stroke-opacity:1; fill:none\" points=\"\n",
       "  349.563,163.715 472.906,163.715 \n",
       "  \"/>\n",
       "<path clip-path=\"url(#clip820)\" d=\"M 0 0 M493.463 180.963 Q493.463 178.54 494.175 176.895 Q494.886 175.227 496.376 173.582 Q499.111 170.714 503.068 170.714 Q504.758 170.714 506.247 171.425 Q507.759 172.137 509.182 173.76 Q510.627 175.361 511.494 178.54 Q512.361 181.697 512.361 186.055 Q512.361 193.103 508.938 197.571 Q505.536 202.04 500.934 202.04 Q498.021 202.04 496.309 200.728 Q494.597 199.394 494.597 197.127 Q494.597 195.948 495.264 195.459 Q495.931 194.948 496.687 194.948 Q497.51 194.948 498.155 195.504 Q498.799 196.037 498.799 197.038 Q498.799 197.86 498.266 198.505 Q497.754 199.128 496.42 199.128 Q497.732 200.773 500.889 200.773 Q502.023 200.773 503.157 200.262 Q504.291 199.728 505.514 198.461 Q506.759 197.171 507.515 194.481 Q508.271 191.791 508.271 188.011 L508.271 186.566 Q506.447 191.124 502.579 191.124 Q498.755 191.124 496.109 188.189 Q493.463 185.254 493.463 180.963 M497.554 181.008 Q497.554 185.521 498.377 187.189 Q499.778 190.057 502.623 190.057 Q505.403 190.057 506.781 187.589 Q508.182 185.099 508.182 181.875 Q508.182 177.406 507.448 175.449 Q506.092 171.848 503.068 171.848 Q500.067 171.848 498.51 174.716 Q497.554 176.406 497.554 181.008 Z\" fill=\"#000000\" fill-rule=\"evenodd\" fill-opacity=\"1\" /><path clip-path=\"url(#clip820)\" d=\"M 0 0 M514.629 193.703 Q514.629 192.347 515.363 191.835 Q516.097 191.302 516.875 191.302 Q517.92 191.302 518.52 191.969 Q519.143 192.613 519.143 193.525 Q519.143 194.436 518.52 195.103 Q517.92 195.748 516.875 195.748 Q516.363 195.748 516.097 195.659 Q516.697 197.749 518.52 199.261 Q520.365 200.773 522.789 200.773 Q525.835 200.773 527.658 197.816 Q528.747 195.904 528.747 191.568 Q528.747 187.744 527.925 185.832 Q526.657 182.92 524.056 182.92 Q520.365 182.92 518.186 186.099 Q517.92 186.499 517.608 186.522 Q517.164 186.522 517.053 186.277 Q516.964 186.01 516.964 185.321 L516.964 171.848 Q516.964 170.758 517.408 170.758 Q517.586 170.758 517.964 170.892 Q520.832 172.159 524.012 172.181 Q527.28 172.181 530.215 170.847 Q530.437 170.714 530.57 170.714 Q531.015 170.714 531.037 171.225 Q531.037 171.403 530.659 171.937 Q530.303 172.448 529.525 173.137 Q528.747 173.804 527.747 174.449 Q526.746 175.094 525.279 175.538 Q523.834 175.961 522.233 175.961 Q520.321 175.961 518.364 175.361 L518.364 184.232 Q520.721 181.919 524.145 181.919 Q527.791 181.919 530.303 184.854 Q532.816 187.789 532.816 191.88 Q532.816 196.171 529.837 199.105 Q526.88 202.04 522.878 202.04 Q519.231 202.04 516.919 199.439 Q514.629 196.838 514.629 193.703 Z\" fill=\"#000000\" fill-rule=\"evenodd\" fill-opacity=\"1\" /><path clip-path=\"url(#clip820)\" d=\"M 0 0 M535.373 176.05 Q535.373 172.137 537.374 169.513 Q539.375 166.89 542.065 166.89 Q543.71 166.89 545.333 168.357 Q549.024 171.87 553.848 171.848 Q559.318 171.848 562.497 167.535 Q563.053 166.89 563.453 166.89 Q563.809 166.89 564.075 167.179 Q564.364 167.446 564.364 167.801 Q564.364 168.068 564.009 168.624 L540.975 202.907 Q540.464 203.597 540.064 203.597 Q539.708 203.597 539.419 203.307 Q539.152 203.041 539.152 202.685 Q539.152 202.374 539.552 201.773 L560.007 171.314 L559.962 171.27 Q557.606 172.87 553.893 172.848 Q550.38 172.848 547.023 170.936 Q547.979 173.293 547.979 176.094 Q547.979 179.918 546.267 182.586 Q544.555 185.232 542.065 185.232 Q539.375 185.232 537.374 182.653 Q535.373 180.052 535.373 176.05 M538.507 172.337 Q538.196 173.938 538.196 176.094 Q538.196 178.229 538.507 179.829 Q538.819 181.408 539.263 182.231 Q539.73 183.053 540.353 183.542 Q540.975 184.009 541.353 184.12 Q541.731 184.232 542.109 184.232 Q543.977 184.232 545.4 181.919 Q546.845 179.585 546.845 176.05 Q546.845 172.581 545.4 170.247 Q543.977 167.89 542.109 167.89 Q541.709 167.89 541.309 168.001 Q540.931 168.113 540.331 168.602 Q539.73 169.069 539.263 169.891 Q538.819 170.714 538.507 172.337 M555.538 194.392 Q555.538 190.479 557.539 187.856 Q559.54 185.232 562.23 185.232 Q564.698 185.232 566.41 187.9 Q568.144 190.568 568.144 194.436 Q568.144 198.261 566.432 200.929 Q564.742 203.597 562.23 203.597 Q559.54 203.597 557.539 200.995 Q555.538 198.394 555.538 194.392 M558.673 190.679 Q558.362 192.302 558.362 194.436 Q558.362 196.571 558.673 198.172 Q559.006 199.772 559.451 200.595 Q559.918 201.395 560.518 201.862 Q561.141 202.351 561.519 202.463 Q561.919 202.596 562.275 202.596 Q564.142 202.596 565.565 200.284 Q567.01 197.949 567.01 194.392 Q567.01 190.924 565.565 188.589 Q564.142 186.233 562.275 186.233 Q561.874 186.233 561.474 186.366 Q561.096 186.477 560.496 186.966 Q559.918 187.433 559.451 188.256 Q559.006 189.056 558.673 190.679 Z\" fill=\"#000000\" fill-rule=\"evenodd\" fill-opacity=\"1\" /><path clip-path=\"url(#clip820)\" d=\"M 0 0 M584.552 208.466 Q586.975 208.466 587.531 208.154 Q588.109 207.865 588.109 206.42 L588.109 185.099 Q588.109 183.587 587.531 183.209 Q586.975 182.831 584.552 182.831 L584.552 181.408 L591.111 180.919 L591.111 183.92 Q593.845 180.919 597.492 180.919 Q601.36 180.919 604.184 183.92 Q607.007 186.922 607.007 191.213 Q607.007 195.548 604.006 198.55 Q601.005 201.551 596.847 201.551 Q594.579 201.551 593.045 200.395 Q591.533 199.217 591.244 198.35 L591.244 198.772 L591.244 206.42 Q591.244 207.887 591.822 208.177 Q592.4 208.466 594.801 208.466 L594.801 209.866 Q590.021 209.733 589.666 209.733 Q589.221 209.733 584.552 209.866 L584.552 208.466 M591.244 195.859 Q591.244 196.549 591.333 196.793 Q591.444 197.038 591.889 197.771 Q593.69 200.528 596.625 200.528 Q596.647 200.528 596.669 200.528 Q599.27 200.528 601.249 197.883 Q603.228 195.215 603.228 191.213 Q603.228 187.389 601.427 184.721 Q599.626 182.053 597.136 182.053 Q595.357 182.053 593.801 183.009 Q592.245 183.965 591.244 185.699 L591.244 195.859 Z\" fill=\"#000000\" fill-rule=\"evenodd\" fill-opacity=\"1\" /><path clip-path=\"url(#clip820)\" d=\"M 0 0 M608.275 201.04 L608.275 199.639 Q610.698 199.639 611.254 199.35 Q611.832 199.039 611.832 197.571 L611.832 185.365 Q611.832 183.676 611.232 183.253 Q610.654 182.831 608.275 182.831 L608.275 181.408 L614.611 180.919 L614.611 185.921 Q615.256 183.965 616.612 182.453 Q617.991 180.919 620.214 180.919 Q621.681 180.919 622.615 181.741 Q623.571 182.564 623.571 183.698 Q623.571 184.698 622.949 185.21 Q622.348 185.699 621.615 185.699 Q620.792 185.699 620.214 185.188 Q619.658 184.654 619.658 183.742 Q619.658 183.187 619.903 182.764 Q620.169 182.32 620.369 182.164 Q620.57 182.008 620.703 181.964 Q620.614 181.919 620.214 181.919 Q617.702 181.919 616.256 184.432 Q614.833 186.922 614.833 190.479 L614.833 197.482 Q614.833 198.794 615.367 199.217 Q615.923 199.639 618.302 199.639 L619.258 199.639 L619.258 201.04 Q617.435 200.906 613.477 200.906 Q612.921 200.906 612.054 200.929 Q611.187 200.951 610.053 200.995 Q608.919 201.04 608.275 201.04 Z\" fill=\"#000000\" fill-rule=\"evenodd\" fill-opacity=\"1\" /><path clip-path=\"url(#clip820)\" d=\"M 0 0 M624.838 191.013 Q624.838 186.722 627.595 183.676 Q630.352 180.63 634.31 180.63 Q638.312 180.63 640.379 183.231 Q642.469 185.832 642.469 189.567 Q642.469 190.257 642.291 190.39 Q642.113 190.523 641.335 190.523 L628.618 190.523 Q628.618 195.17 629.996 197.349 Q631.908 200.395 635.132 200.395 Q635.577 200.395 636.11 200.306 Q636.644 200.217 637.733 199.839 Q638.823 199.439 639.779 198.394 Q640.735 197.349 641.291 195.704 Q641.424 195.059 641.869 195.081 Q642.469 195.081 642.469 195.615 Q642.469 196.015 642.024 196.927 Q641.602 197.816 640.779 198.883 Q639.957 199.95 638.356 200.751 Q636.777 201.551 634.865 201.551 Q630.863 201.551 627.84 198.527 Q624.838 195.481 624.838 191.013 M628.662 189.567 L639.468 189.567 Q639.468 188.611 639.29 187.544 Q639.134 186.477 638.645 185.01 Q638.178 183.52 637.066 182.586 Q635.955 181.653 634.31 181.653 Q633.576 181.653 632.775 181.964 Q631.997 182.275 631.041 183.031 Q630.085 183.787 629.418 185.499 Q628.751 187.211 628.662 189.567 Z\" fill=\"#000000\" fill-rule=\"evenodd\" fill-opacity=\"1\" /><path clip-path=\"url(#clip820)\" d=\"M 0 0 M644.025 191.257 Q644.025 186.922 647.049 183.92 Q650.073 180.919 654.164 180.919 Q657.632 180.919 659.9 183.742 L659.9 173.893 Q659.9 172.203 659.299 171.781 Q658.721 171.359 656.365 171.359 L656.365 169.936 L662.923 169.447 L662.923 197.082 Q662.923 198.772 663.502 199.217 Q664.102 199.639 666.459 199.639 L666.459 201.04 L659.766 201.551 L659.766 198.527 Q657.41 201.529 653.675 201.551 Q649.762 201.551 646.893 198.55 Q644.025 195.548 644.025 191.257 M647.805 191.302 Q647.805 195.526 649.117 197.616 Q650.94 200.528 653.897 200.528 Q657.276 200.528 659.277 197.349 Q659.789 196.571 659.766 195.659 L659.766 186.321 Q659.766 185.41 659.277 184.654 Q657.41 181.919 654.364 181.919 Q651.184 181.919 649.206 184.832 Q647.805 187.011 647.805 191.302 Z\" fill=\"#000000\" fill-rule=\"evenodd\" fill-opacity=\"1\" /><path clip-path=\"url(#clip820)\" d=\"M 0 0 M667.97 201.04 L667.97 199.639 Q670.394 199.639 670.95 199.35 Q671.505 199.039 671.505 197.571 L671.505 185.321 Q671.505 183.631 670.927 183.231 Q670.372 182.831 668.148 182.831 L668.148 181.408 L674.507 180.919 L674.507 197.616 Q674.507 198.972 674.996 199.306 Q675.485 199.639 677.708 199.639 L677.708 201.04 Q673.062 200.906 672.973 200.906 Q672.35 200.906 667.97 201.04 M669.882 172.982 Q669.882 172.07 670.572 171.336 Q671.283 170.58 672.284 170.58 Q673.284 170.58 673.996 171.27 Q674.707 171.937 674.707 173.004 Q674.707 174.049 673.996 174.738 Q673.284 175.405 672.284 175.405 Q671.239 175.405 670.549 174.671 Q669.882 173.938 669.882 172.982 Z\" fill=\"#000000\" fill-rule=\"evenodd\" fill-opacity=\"1\" /><path clip-path=\"url(#clip820)\" d=\"M 0 0 M682.155 198.55 Q679.265 195.526 679.265 191.213 Q679.265 186.877 682.111 183.765 Q684.956 180.63 689.136 180.63 Q691.915 180.63 694.005 181.964 Q696.095 183.276 696.095 185.521 Q696.095 186.522 695.495 187.1 Q694.917 187.655 694.005 187.655 Q693.049 187.655 692.471 187.077 Q691.915 186.477 691.915 185.566 Q691.915 185.165 692.049 184.765 Q692.182 184.365 692.671 183.943 Q693.183 183.52 694.05 183.453 Q692.427 181.786 689.27 181.786 Q689.225 181.786 689.181 181.786 Q686.868 181.786 684.956 183.965 Q683.044 186.144 683.044 191.124 Q683.044 193.725 683.667 195.637 Q684.312 197.527 685.357 198.505 Q686.402 199.483 687.424 199.95 Q688.447 200.395 689.447 200.395 Q693.916 200.395 695.428 195.615 Q695.562 195.17 696.006 195.17 Q696.607 195.17 696.607 195.615 Q696.607 195.837 696.429 196.415 Q696.251 196.993 695.695 197.905 Q695.139 198.816 694.339 199.617 Q693.561 200.395 692.16 200.973 Q690.781 201.551 689.047 201.551 Q685.045 201.551 682.155 198.55 Z\" fill=\"#000000\" fill-rule=\"evenodd\" fill-opacity=\"1\" /><path clip-path=\"url(#clip820)\" d=\"M 0 0 M697.474 182.831 L697.474 181.83 Q699.564 181.741 700.942 180.274 Q702.343 178.784 702.81 176.961 Q703.299 175.138 703.343 173.026 L704.477 173.026 L704.477 181.408 L710.991 181.408 L710.991 182.831 L704.477 182.831 L704.477 195.481 Q704.477 200.395 707.545 200.395 Q708.857 200.395 709.724 199.061 Q710.591 197.705 710.591 195.304 L710.591 192.791 L711.725 192.791 L711.725 195.393 Q711.725 197.86 710.591 199.706 Q709.457 201.551 707.212 201.551 Q706.389 201.551 705.566 201.329 Q704.766 201.129 703.699 200.595 Q702.654 200.039 701.987 198.705 Q701.342 197.349 701.342 195.393 L701.342 182.831 L697.474 182.831 Z\" fill=\"#000000\" fill-rule=\"evenodd\" fill-opacity=\"1\" /><path clip-path=\"url(#clip820)\" d=\"M 0 0 M713.237 201.04 L713.237 199.639 Q715.66 199.639 716.216 199.35 Q716.772 199.039 716.772 197.571 L716.772 185.321 Q716.772 183.631 716.194 183.231 Q715.638 182.831 713.415 182.831 L713.415 181.408 L719.773 180.919 L719.773 197.616 Q719.773 198.972 720.262 199.306 Q720.752 199.639 722.975 199.639 L722.975 201.04 Q718.328 200.906 718.239 200.906 Q717.617 200.906 713.237 201.04 M715.149 172.982 Q715.149 172.07 715.838 171.336 Q716.55 170.58 717.55 170.58 Q718.551 170.58 719.262 171.27 Q719.973 171.937 719.973 173.004 Q719.973 174.049 719.262 174.738 Q718.551 175.405 717.55 175.405 Q716.505 175.405 715.816 174.671 Q715.149 173.938 715.149 172.982 Z\" fill=\"#000000\" fill-rule=\"evenodd\" fill-opacity=\"1\" /><path clip-path=\"url(#clip820)\" d=\"M 0 0 M727.244 198.594 Q724.242 195.615 724.242 191.302 Q724.242 186.966 727.177 183.809 Q730.134 180.63 734.358 180.63 Q738.494 180.63 741.451 183.787 Q744.43 186.922 744.43 191.302 Q744.43 195.593 741.428 198.572 Q738.449 201.551 734.314 201.551 Q730.267 201.551 727.244 198.594 M728.022 190.924 Q728.022 195.348 729.178 197.349 Q730.957 200.395 734.358 200.395 Q736.048 200.395 737.449 199.483 Q738.871 198.572 739.65 197.038 Q740.65 195.037 740.65 190.924 Q740.65 186.544 739.45 184.61 Q737.671 181.653 734.314 181.653 Q732.846 181.653 731.401 182.431 Q729.978 183.187 729.111 184.698 Q728.022 186.699 728.022 190.924 Z\" fill=\"#000000\" fill-rule=\"evenodd\" fill-opacity=\"1\" /><path clip-path=\"url(#clip820)\" d=\"M 0 0 M745.897 201.04 L745.897 199.639 Q748.321 199.639 748.876 199.35 Q749.432 199.039 749.432 197.571 L749.432 185.365 Q749.432 183.676 748.832 183.253 Q748.254 182.831 745.897 182.831 L745.897 181.408 L752.3 180.919 L752.3 185.699 Q754.435 180.919 759.037 180.919 Q762.461 180.919 763.817 182.609 Q764.817 183.742 765.018 185.01 Q765.24 186.277 765.24 189.567 L765.24 198.261 Q765.284 199.217 766.018 199.439 Q766.752 199.639 768.797 199.639 L768.797 201.04 Q764.15 200.906 763.684 200.906 Q763.328 200.906 758.548 201.04 L758.548 199.639 Q760.971 199.639 761.527 199.35 Q762.105 199.039 762.105 197.571 L762.105 186.966 Q762.105 184.654 761.394 183.298 Q760.682 181.919 758.726 181.919 Q756.369 181.919 754.479 183.898 Q752.589 185.877 752.589 189.212 L752.589 197.571 Q752.589 199.039 753.145 199.35 Q753.723 199.639 756.124 199.639 L756.124 201.04 Q751.478 200.906 751.033 200.906 Q750.677 200.906 745.897 201.04 Z\" fill=\"#000000\" fill-rule=\"evenodd\" fill-opacity=\"1\" /><path clip-path=\"url(#clip820)\" d=\"M 0 0 M785.205 171.359 L785.205 169.936 L791.764 169.447 L791.764 183.876 Q794.41 180.919 798.011 180.919 Q801.924 180.919 804.792 183.92 Q807.66 186.922 807.66 191.213 Q807.66 195.548 804.659 198.55 Q801.658 201.551 797.5 201.551 Q793.72 201.551 791.542 198.216 Q789.941 200.995 789.896 201.04 L788.762 201.04 L788.762 173.893 Q788.762 172.203 788.162 171.781 Q787.562 171.359 785.205 171.359 M791.897 195.859 Q791.897 196.815 792.542 197.771 Q794.343 200.528 797.278 200.528 Q797.3 200.528 797.322 200.528 Q800.501 200.528 802.48 197.616 Q803.881 195.437 803.881 191.168 Q803.881 186.944 802.569 184.832 Q800.746 181.919 797.789 181.919 Q794.454 181.919 792.409 184.832 Q791.897 185.566 791.897 186.477 L791.897 195.859 Z\" fill=\"#000000\" fill-rule=\"evenodd\" fill-opacity=\"1\" /><path clip-path=\"url(#clip820)\" d=\"M 0 0 M809.573 196.704 Q809.573 192.836 814.13 190.79 Q816.865 189.479 822.512 189.145 L822.512 187.478 Q822.512 184.654 821.023 183.164 Q819.555 181.653 817.688 181.653 Q814.353 181.653 812.752 183.742 Q814.108 183.787 814.597 184.476 Q815.086 185.143 815.086 185.832 Q815.086 186.744 814.508 187.344 Q813.952 187.922 812.996 187.922 Q812.085 187.922 811.485 187.366 Q810.884 186.788 810.884 185.788 Q810.884 183.565 812.885 182.097 Q814.908 180.63 817.776 180.63 Q821.512 180.63 824.002 183.142 Q824.78 183.92 825.158 184.921 Q825.558 185.921 825.603 186.588 Q825.647 187.233 825.647 188.523 L825.647 197.616 Q825.647 197.883 825.736 198.327 Q825.825 198.772 826.225 199.35 Q826.647 199.906 827.337 199.906 Q828.982 199.906 828.96 196.993 L828.96 194.436 L830.116 194.436 L830.116 196.993 Q830.116 199.417 828.826 200.373 Q827.559 201.307 826.381 201.307 Q824.869 201.307 823.913 200.195 Q822.957 199.083 822.823 197.571 Q822.134 199.306 820.556 200.439 Q818.999 201.551 816.865 201.551 Q815.22 201.551 813.663 201.129 Q812.129 200.728 810.84 199.595 Q809.573 198.438 809.573 196.704 M813.085 196.66 Q813.085 198.35 814.286 199.439 Q815.486 200.528 817.176 200.528 Q819.088 200.528 820.8 199.061 Q822.512 197.571 822.512 194.659 L822.512 190.101 Q817.465 190.279 815.264 192.302 Q813.085 194.303 813.085 196.66 Z\" fill=\"#000000\" fill-rule=\"evenodd\" fill-opacity=\"1\" /><path clip-path=\"url(#clip820)\" d=\"M 0 0 M831.583 201.04 L831.583 199.639 Q834.007 199.639 834.562 199.35 Q835.118 199.039 835.118 197.571 L835.118 185.365 Q835.118 183.676 834.518 183.253 Q833.94 182.831 831.583 182.831 L831.583 181.408 L837.986 180.919 L837.986 185.699 Q840.121 180.919 844.723 180.919 Q848.147 180.919 849.503 182.609 Q850.503 183.742 850.704 185.01 Q850.926 186.277 850.926 189.567 L850.926 198.261 Q850.97 199.217 851.704 199.439 Q852.438 199.639 854.483 199.639 L854.483 201.04 Q849.837 200.906 849.37 200.906 Q849.014 200.906 844.234 201.04 L844.234 199.639 Q846.657 199.639 847.213 199.35 Q847.791 199.039 847.791 197.571 L847.791 186.966 Q847.791 184.654 847.08 183.298 Q846.368 181.919 844.412 181.919 Q842.055 181.919 840.165 183.898 Q838.275 185.877 838.275 189.212 L838.275 197.571 Q838.275 199.039 838.831 199.35 Q839.409 199.639 841.81 199.639 L841.81 201.04 Q837.164 200.906 836.719 200.906 Q836.363 200.906 831.583 201.04 Z\" fill=\"#000000\" fill-rule=\"evenodd\" fill-opacity=\"1\" /><path clip-path=\"url(#clip820)\" d=\"M 0 0 M856.04 191.257 Q856.04 186.922 859.063 183.92 Q862.087 180.919 866.178 180.919 Q869.646 180.919 871.914 183.742 L871.914 173.893 Q871.914 172.203 871.314 171.781 Q870.736 171.359 868.379 171.359 L868.379 169.936 L874.938 169.447 L874.938 197.082 Q874.938 198.772 875.516 199.217 Q876.116 199.639 878.473 199.639 L878.473 201.04 L871.781 201.551 L871.781 198.527 Q869.424 201.529 865.689 201.551 Q861.776 201.551 858.908 198.55 Q856.04 195.548 856.04 191.257 M859.819 191.302 Q859.819 195.526 861.131 197.616 Q862.954 200.528 865.911 200.528 Q869.29 200.528 871.291 197.349 Q871.803 196.571 871.781 195.659 L871.781 186.321 Q871.781 185.41 871.291 184.654 Q869.424 181.919 866.378 181.919 Q863.199 181.919 861.22 184.832 Q859.819 187.011 859.819 191.302 Z\" fill=\"#000000\" fill-rule=\"evenodd\" fill-opacity=\"1\" /><circle clip-path=\"url(#clip820)\" cx=\"411.235\" cy=\"239.92\" r=\"20\" fill=\"#e26f46\" fill-rule=\"evenodd\" fill-opacity=\"1\" stroke=\"#000000\" stroke-opacity=\"1\" stroke-width=\"0\"/>\n",
       "<path clip-path=\"url(#clip820)\" d=\"M 0 0 M529.806 221.713 Q529.806 222.325 529.532 222.451 Q529.279 222.578 528.351 222.578 Q526.77 222.578 526.053 222.788 Q525.358 222.978 525.147 223.315 Q524.957 223.632 524.725 224.559 L518.886 247.874 Q518.886 247.895 518.823 248.19 Q518.76 248.464 518.76 248.612 Q518.76 248.886 518.928 249.054 Q519.118 249.223 519.582 249.307 Q520.046 249.371 520.404 249.392 Q520.783 249.392 521.563 249.392 Q522.533 249.392 522.681 249.56 Q522.765 249.666 522.765 249.855 Q522.765 250.256 522.596 250.467 Q522.449 250.656 522.301 250.699 Q522.175 250.72 521.922 250.72 Q521.479 250.72 520.53 250.678 Q519.582 250.635 519.097 250.635 L516.335 250.593 L510.855 250.72 Q510.264 250.72 510.264 250.235 Q510.264 249.813 510.412 249.624 Q510.559 249.434 510.707 249.413 Q510.876 249.392 511.297 249.392 Q513.468 249.392 514.185 249.181 Q514.923 248.949 515.218 247.958 L518.19 236.048 L505.036 236.048 L502.085 247.874 Q502.085 247.895 502.022 248.19 Q501.959 248.464 501.959 248.612 Q501.959 248.886 502.127 249.054 Q502.317 249.223 502.781 249.307 Q503.245 249.371 503.603 249.392 Q503.982 249.392 504.762 249.392 Q505.732 249.392 505.901 249.56 Q505.985 249.666 505.985 249.855 Q505.985 250.151 505.901 250.361 Q505.837 250.551 505.669 250.614 Q505.521 250.678 505.416 250.699 Q505.31 250.72 505.121 250.72 Q504.678 250.72 503.729 250.678 Q502.802 250.635 502.317 250.635 L499.556 250.593 L494.075 250.72 Q493.463 250.72 493.463 250.235 Q493.463 249.813 493.611 249.645 Q493.758 249.455 493.948 249.434 Q494.138 249.392 494.623 249.392 Q495.677 249.392 496.309 249.328 Q496.942 249.265 497.342 249.181 Q497.764 249.075 497.975 248.78 Q498.206 248.485 498.312 248.232 Q498.417 247.958 498.565 247.347 L504.341 224.159 Q504.509 223.463 504.509 223.358 Q504.509 222.957 504.256 222.852 Q504.025 222.725 503.35 222.662 L501.706 222.578 Q501.2 222.578 500.989 222.557 Q500.799 222.535 500.652 222.43 Q500.504 222.325 500.504 222.093 Q500.504 221.798 500.567 221.608 Q500.652 221.397 500.799 221.334 Q500.947 221.271 501.052 221.25 Q501.158 221.229 501.326 221.229 L506.891 221.355 L512.414 221.229 Q513.026 221.229 513.026 221.713 Q513.026 222.325 512.752 222.451 Q512.478 222.578 511.55 222.578 Q510.011 222.578 509.295 222.788 Q508.578 222.978 508.346 223.315 Q508.135 223.653 507.924 224.559 L505.374 234.699 L518.549 234.699 L521.142 224.159 Q521.31 223.4 521.31 223.358 Q521.31 222.957 521.057 222.852 Q520.825 222.725 520.151 222.662 L518.507 222.578 Q518.001 222.578 517.79 222.557 Q517.6 222.535 517.432 222.43 Q517.284 222.325 517.284 222.093 Q517.284 221.798 517.347 221.608 Q517.432 221.397 517.579 221.334 Q517.727 221.271 517.832 221.25 Q517.937 221.229 518.106 221.229 L523.671 221.355 L529.215 221.229 Q529.806 221.229 529.806 221.713 Z\" fill=\"#000000\" fill-rule=\"evenodd\" fill-opacity=\"1\" /><path clip-path=\"url(#clip820)\" d=\"M 0 0 M545.602 245.724 Q545.771 245.913 545.771 246.103 Q545.771 246.293 545.349 246.841 Q544.949 247.389 544.085 248.127 Q543.22 248.865 542.103 249.56 Q540.986 250.256 539.342 250.72 Q537.697 251.205 535.969 251.205 Q532.743 251.205 530.846 249.075 Q528.97 246.946 528.97 243.89 Q528.97 240.917 530.635 238.072 Q532.301 235.205 534.999 233.434 Q537.697 231.642 540.543 231.642 Q542.799 231.642 544.211 232.696 Q545.623 233.75 545.623 235.352 Q545.623 236.596 544.907 237.355 Q544.19 238.114 543.22 238.114 Q542.546 238.114 542.082 237.734 Q541.618 237.334 541.618 236.596 Q541.618 235.647 542.398 234.91 Q542.693 234.614 543.031 234.488 Q543.389 234.34 543.6 234.34 Q543.811 234.319 544.295 234.319 Q543.853 233.497 542.799 233.054 Q541.766 232.591 540.585 232.591 Q538.836 232.591 537.17 233.813 Q535.505 235.015 534.493 236.912 Q533.481 238.767 532.828 241.402 Q532.174 244.016 532.174 245.534 Q532.174 247.621 533.144 248.928 Q534.114 250.235 536.053 250.235 Q536.432 250.235 536.833 250.214 Q537.255 250.193 538.309 249.961 Q539.384 249.729 540.332 249.328 Q541.281 248.928 542.482 248.064 Q543.705 247.178 544.675 245.977 Q545.012 245.534 545.244 245.534 Q545.434 245.534 545.602 245.724 Z\" fill=\"#000000\" fill-rule=\"evenodd\" fill-opacity=\"1\" /><path clip-path=\"url(#clip820)\" d=\"M 0 0 M561.68 239.927 Q561.68 232.633 564.399 226.752 Q565.558 224.285 567.182 222.219 Q568.805 220.153 569.88 219.247 Q570.955 218.341 571.25 218.341 Q571.672 218.341 571.693 218.762 Q571.693 218.973 571.124 219.5 Q564.167 226.583 564.188 239.927 Q564.188 253.313 570.955 260.121 Q571.693 260.859 571.693 261.091 Q571.693 261.513 571.25 261.513 Q570.955 261.513 569.922 260.648 Q568.889 259.784 567.287 257.803 Q565.685 255.821 564.526 253.397 Q561.68 247.516 561.68 239.927 Z\" fill=\"#000000\" fill-rule=\"evenodd\" fill-opacity=\"1\" /><path clip-path=\"url(#clip820)\" d=\"M 0 0 M581.099 248.401 Q578.254 245.576 578.254 241.487 Q578.254 237.376 581.036 234.383 Q583.84 231.368 587.845 231.368 Q591.766 231.368 594.57 234.361 Q597.394 237.334 597.394 241.487 Q597.394 245.555 594.549 248.38 Q591.724 251.205 587.803 251.205 Q583.966 251.205 581.099 248.401 M581.837 241.128 Q581.837 245.323 582.933 247.22 Q584.62 250.108 587.845 250.108 Q589.447 250.108 590.775 249.244 Q592.124 248.38 592.862 246.925 Q593.811 245.028 593.811 241.128 Q593.811 236.975 592.673 235.141 Q590.986 232.338 587.803 232.338 Q586.412 232.338 585.041 233.076 Q583.692 233.792 582.87 235.226 Q581.837 237.123 581.837 241.128 Z\" fill=\"#000000\" fill-rule=\"evenodd\" fill-opacity=\"1\" /><path clip-path=\"url(#clip820)\" d=\"M 0 0 M599.629 222.578 L599.629 221.229 L605.847 220.765 L605.847 234.446 Q608.356 231.642 611.771 231.642 Q615.481 231.642 618.2 234.488 Q620.92 237.334 620.92 241.402 Q620.92 245.513 618.074 248.359 Q615.228 251.205 611.286 251.205 Q607.702 251.205 605.637 248.043 Q604.119 250.678 604.077 250.72 L603.001 250.72 L603.001 224.981 Q603.001 223.379 602.432 222.978 Q601.863 222.578 599.629 222.578 M605.974 245.808 Q605.974 246.714 606.585 247.621 Q608.293 250.235 611.075 250.235 Q611.096 250.235 611.117 250.235 Q614.132 250.235 616.008 247.473 Q617.336 245.407 617.336 241.36 Q617.336 237.355 616.092 235.352 Q614.364 232.591 611.56 232.591 Q608.398 232.591 606.459 235.352 Q605.974 236.048 605.974 236.912 L605.974 245.808 Z\" fill=\"#000000\" fill-rule=\"evenodd\" fill-opacity=\"1\" /><path clip-path=\"url(#clip820)\" d=\"M 0 0 M623.342 250.151 L623.342 244.459 Q623.342 243.974 623.363 243.805 Q623.384 243.637 623.51 243.51 Q623.637 243.384 623.89 243.384 Q624.185 243.384 624.29 243.51 Q624.417 243.637 624.501 244.122 Q625.154 247.094 626.546 248.675 Q627.958 250.235 630.509 250.235 Q632.933 250.235 634.156 249.16 Q635.378 248.085 635.378 246.314 Q635.378 243.152 630.888 242.351 Q628.295 241.824 627.22 241.487 Q626.145 241.128 625.197 240.348 Q623.342 238.83 623.342 236.68 Q623.342 234.53 624.965 232.949 Q626.609 231.368 630.235 231.368 Q632.659 231.368 634.303 232.591 Q634.788 232.211 635.041 231.895 Q635.61 231.368 635.905 231.368 Q636.243 231.368 636.306 231.6 Q636.369 231.811 636.369 232.422 L636.369 236.765 Q636.369 237.249 636.348 237.418 Q636.327 237.587 636.2 237.713 Q636.074 237.819 635.8 237.819 Q635.315 237.819 635.294 237.418 Q634.957 232.19 630.235 232.19 Q627.684 232.19 626.546 233.181 Q625.407 234.151 625.407 235.479 Q625.407 236.217 625.745 236.786 Q626.103 237.334 626.546 237.671 Q627.01 237.987 627.853 238.303 Q628.696 238.599 629.202 238.704 Q629.729 238.809 630.72 239.02 Q634.177 239.674 635.631 241.086 Q637.444 242.899 637.444 245.197 Q637.444 247.747 635.716 249.476 Q633.987 251.205 630.509 251.205 Q627.705 251.205 625.745 249.328 Q625.492 249.581 625.302 249.813 Q625.112 250.024 625.028 250.108 Q624.965 250.193 624.944 250.256 Q624.923 250.298 624.88 250.34 Q624.016 251.205 623.805 251.205 Q623.468 251.205 623.405 250.973 Q623.342 250.762 623.342 250.151 Z\" fill=\"#000000\" fill-rule=\"evenodd\" fill-opacity=\"1\" /><path clip-path=\"url(#clip820)\" d=\"M 0 0 M640.166 241.213 Q640.166 237.144 642.78 234.256 Q645.394 231.368 649.146 231.368 Q652.941 231.368 654.901 233.834 Q656.883 236.301 656.883 239.842 Q656.883 240.496 656.714 240.622 Q656.545 240.749 655.808 240.749 L643.75 240.749 Q643.75 245.155 645.057 247.22 Q646.87 250.108 649.926 250.108 Q650.348 250.108 650.854 250.024 Q651.36 249.94 652.393 249.581 Q653.425 249.202 654.332 248.211 Q655.238 247.22 655.765 245.66 Q655.892 245.049 656.313 245.07 Q656.883 245.07 656.883 245.576 Q656.883 245.956 656.461 246.82 Q656.06 247.663 655.281 248.675 Q654.501 249.687 652.983 250.446 Q651.486 251.205 649.673 251.205 Q645.879 251.205 643.012 248.338 Q640.166 245.45 640.166 241.213 M643.792 239.842 L654.037 239.842 Q654.037 238.936 653.868 237.924 Q653.721 236.912 653.257 235.521 Q652.814 234.109 651.76 233.223 Q650.706 232.338 649.146 232.338 Q648.451 232.338 647.692 232.633 Q646.954 232.928 646.047 233.645 Q645.141 234.361 644.509 235.985 Q643.876 237.608 643.792 239.842 Z\" fill=\"#000000\" fill-rule=\"evenodd\" fill-opacity=\"1\" /><path clip-path=\"url(#clip820)\" d=\"M 0 0 M659.14 250.72 L659.14 249.392 Q661.438 249.392 661.965 249.118 Q662.513 248.822 662.513 247.431 L662.513 235.858 Q662.513 234.256 661.944 233.856 Q661.396 233.455 659.14 233.455 L659.14 232.106 L665.148 231.642 L665.148 236.385 Q665.76 234.53 667.046 233.097 Q668.353 231.642 670.461 231.642 Q671.852 231.642 672.737 232.422 Q673.644 233.202 673.644 234.277 Q673.644 235.226 673.053 235.711 Q672.484 236.174 671.789 236.174 Q671.009 236.174 670.461 235.69 Q669.934 235.184 669.934 234.319 Q669.934 233.792 670.165 233.392 Q670.418 232.97 670.608 232.823 Q670.798 232.675 670.924 232.633 Q670.84 232.591 670.461 232.591 Q668.079 232.591 666.708 234.973 Q665.359 237.334 665.359 240.707 L665.359 247.347 Q665.359 248.591 665.865 248.991 Q666.392 249.392 668.648 249.392 L669.554 249.392 L669.554 250.72 Q667.826 250.593 664.073 250.593 Q663.546 250.593 662.724 250.614 Q661.902 250.635 660.827 250.678 Q659.752 250.72 659.14 250.72 Z\" fill=\"#000000\" fill-rule=\"evenodd\" fill-opacity=\"1\" /><path clip-path=\"url(#clip820)\" d=\"M 0 0 M676.74 233.455 L676.74 232.106 Q678.679 232.232 680.935 232.232 Q681.757 232.232 685.636 232.106 L685.636 233.455 Q683.169 233.455 683.169 234.572 Q683.169 234.741 683.422 235.31 L688.271 247.347 L692.676 236.343 Q692.929 235.605 692.929 235.31 Q692.929 234.572 692.423 234.045 Q691.939 233.497 690.863 233.455 L690.863 232.106 Q693.056 232.232 694.616 232.232 Q696.386 232.232 697.841 232.106 L697.841 233.455 Q696.555 233.455 695.649 234.045 Q694.742 234.614 694.447 235.12 Q694.173 235.605 693.878 236.343 L688.228 250.382 Q687.891 251.205 687.322 251.205 Q686.943 251.205 686.774 251.036 Q686.626 250.888 686.416 250.382 L680.197 235.057 Q679.775 233.982 679.227 233.729 Q678.679 233.455 676.74 233.455 Z\" fill=\"#000000\" fill-rule=\"evenodd\" fill-opacity=\"1\" /><path clip-path=\"url(#clip820)\" d=\"M 0 0 M698.813 241.213 Q698.813 237.144 701.427 234.256 Q704.041 231.368 707.793 231.368 Q711.587 231.368 713.548 233.834 Q715.529 236.301 715.529 239.842 Q715.529 240.496 715.361 240.622 Q715.192 240.749 714.454 240.749 L702.396 240.749 Q702.396 245.155 703.703 247.22 Q705.516 250.108 708.573 250.108 Q708.995 250.108 709.5 250.024 Q710.006 249.94 711.039 249.581 Q712.072 249.202 712.979 248.211 Q713.885 247.22 714.412 245.66 Q714.539 245.049 714.96 245.07 Q715.529 245.07 715.529 245.576 Q715.529 245.956 715.108 246.82 Q714.707 247.663 713.927 248.675 Q713.147 249.687 711.63 250.446 Q710.133 251.205 708.32 251.205 Q704.526 251.205 701.659 248.338 Q698.813 245.45 698.813 241.213 M702.439 239.842 L712.684 239.842 Q712.684 238.936 712.515 237.924 Q712.367 236.912 711.904 235.521 Q711.461 234.109 710.407 233.223 Q709.353 232.338 707.793 232.338 Q707.097 232.338 706.338 232.633 Q705.601 232.928 704.694 233.645 Q703.788 234.361 703.155 235.985 Q702.523 237.608 702.439 239.842 Z\" fill=\"#000000\" fill-rule=\"evenodd\" fill-opacity=\"1\" /><path clip-path=\"url(#clip820)\" d=\"M 0 0 M717.787 241.444 Q717.787 237.334 720.654 234.488 Q723.521 231.642 727.4 231.642 Q730.688 231.642 732.839 234.319 L732.839 224.981 Q732.839 223.379 732.269 222.978 Q731.721 222.578 729.487 222.578 L729.487 221.229 L735.705 220.765 L735.705 246.967 Q735.705 248.57 736.254 248.991 Q736.823 249.392 739.057 249.392 L739.057 250.72 L732.712 251.205 L732.712 248.338 Q730.478 251.183 726.936 251.205 Q723.226 251.205 720.507 248.359 Q717.787 245.513 717.787 241.444 M721.371 241.487 Q721.371 245.492 722.615 247.473 Q724.343 250.235 727.147 250.235 Q730.351 250.235 732.248 247.22 Q732.733 246.483 732.712 245.618 L732.712 236.765 Q732.712 235.9 732.248 235.184 Q730.478 232.591 727.59 232.591 Q724.575 232.591 722.699 235.352 Q721.371 237.418 721.371 241.487 Z\" fill=\"#000000\" fill-rule=\"evenodd\" fill-opacity=\"1\" /><path clip-path=\"url(#clip820)\" d=\"M 0 0 M742.111 250.024 Q741.5 249.328 741.5 248.422 Q741.5 247.516 742.09 246.841 Q742.702 246.145 743.798 246.145 Q745.084 246.145 745.822 247.389 Q746.559 248.612 746.559 250.678 Q746.559 252.912 745.653 254.978 Q744.747 257.065 743.861 258.056 Q742.976 259.046 742.617 259.046 Q742.196 259.046 742.196 258.583 Q742.196 258.414 742.491 258.098 Q745.59 254.767 745.611 250.678 Q745.611 250.024 745.526 250.024 L745.421 250.108 Q744.683 250.72 743.798 250.72 Q742.723 250.72 742.111 250.024 Z\" fill=\"#000000\" fill-rule=\"evenodd\" fill-opacity=\"1\" /><path clip-path=\"url(#clip820)\" d=\"M 0 0 M767.551 233.455 L767.551 232.106 L770.945 232.106 L770.945 227.152 Q770.945 223.948 773.011 222.114 Q775.098 220.28 777.648 220.28 Q779.335 220.28 780.431 221.186 Q781.527 222.093 781.527 223.315 Q781.527 224.138 781.021 224.686 Q780.536 225.213 779.63 225.213 Q778.766 225.213 778.26 224.665 Q777.775 224.116 777.775 223.358 Q777.775 221.966 779.061 221.545 Q778.407 221.25 777.648 221.229 Q776.088 221.229 774.866 222.831 Q773.664 224.433 773.664 227.11 L773.664 232.106 L778.723 232.106 L778.723 233.455 L773.812 233.455 L773.812 247.347 Q773.812 248.591 774.318 248.991 Q774.845 249.392 777.079 249.392 L777.986 249.392 L777.986 250.72 Q776.257 250.593 772.505 250.593 Q771.978 250.593 771.156 250.614 Q770.355 250.635 769.258 250.678 Q768.183 250.72 767.593 250.72 L767.593 249.392 Q769.891 249.392 770.418 249.118 Q770.945 248.822 770.945 247.431 L770.945 233.455 L767.551 233.455 Z\" fill=\"#000000\" fill-rule=\"evenodd\" fill-opacity=\"1\" /><path clip-path=\"url(#clip820)\" d=\"M 0 0 M779.226 250.72 L779.226 249.392 Q781.524 249.392 782.051 249.118 Q782.578 248.822 782.578 247.431 L782.578 235.816 Q782.578 234.214 782.03 233.834 Q781.503 233.455 779.395 233.455 L779.395 232.106 L785.424 231.642 L785.424 247.473 Q785.424 248.759 785.888 249.075 Q786.351 249.392 788.459 249.392 L788.459 250.72 Q784.054 250.593 783.969 250.593 Q783.379 250.593 779.226 250.72 M781.039 224.116 Q781.039 223.252 781.693 222.557 Q782.367 221.84 783.316 221.84 Q784.265 221.84 784.939 222.493 Q785.614 223.126 785.614 224.138 Q785.614 225.128 784.939 225.782 Q784.265 226.414 783.316 226.414 Q782.325 226.414 781.672 225.719 Q781.039 225.023 781.039 224.116 Z\" fill=\"#000000\" fill-rule=\"evenodd\" fill-opacity=\"1\" /><path clip-path=\"url(#clip820)\" d=\"M 0 0 M791.062 233.455 L791.062 232.506 Q793.043 232.422 794.35 231.031 Q795.678 229.618 796.121 227.89 Q796.585 226.161 796.627 224.159 L797.702 224.159 L797.702 232.106 L803.879 232.106 L803.879 233.455 L797.702 233.455 L797.702 245.45 Q797.702 250.108 800.611 250.108 Q801.855 250.108 802.677 248.844 Q803.499 247.558 803.499 245.281 L803.499 242.899 L804.574 242.899 L804.574 245.365 Q804.574 247.705 803.499 249.455 Q802.424 251.205 800.295 251.205 Q799.515 251.205 798.735 250.994 Q797.976 250.804 796.964 250.298 Q795.974 249.771 795.341 248.506 Q794.73 247.22 794.73 245.365 L794.73 233.455 L791.062 233.455 Z\" fill=\"#000000\" fill-rule=\"evenodd\" fill-opacity=\"1\" /><path clip-path=\"url(#clip820)\" d=\"M 0 0 M807.636 261.091 Q807.636 260.88 808.184 260.353 Q815.14 253.27 815.14 239.927 Q815.14 226.541 808.458 219.774 Q807.636 218.994 807.636 218.762 Q807.636 218.341 808.057 218.341 Q808.353 218.341 809.386 219.205 Q810.44 220.069 812.021 222.051 Q813.623 224.032 814.803 226.456 Q817.649 232.338 817.649 239.927 Q817.649 247.22 814.93 253.102 Q813.77 255.568 812.147 257.634 Q810.524 259.7 809.449 260.606 Q808.374 261.513 808.057 261.513 Q807.636 261.513 807.636 261.091 Z\" fill=\"#000000\" fill-rule=\"evenodd\" fill-opacity=\"1\" /><circle clip-path=\"url(#clip820)\" cx=\"411.235\" cy=\"294.352\" r=\"20\" fill=\"#3da44d\" fill-rule=\"evenodd\" fill-opacity=\"1\" stroke=\"#000000\" stroke-opacity=\"1\" stroke-width=\"0\"/>\n",
       "<path clip-path=\"url(#clip820)\" d=\"M 0 0 M529.806 276.145 Q529.806 276.757 529.532 276.883 Q529.279 277.01 528.351 277.01 Q526.77 277.01 526.053 277.22 Q525.358 277.41 525.147 277.747 Q524.957 278.064 524.725 278.991 L518.886 302.306 Q518.886 302.327 518.823 302.622 Q518.76 302.896 518.76 303.044 Q518.76 303.318 518.928 303.486 Q519.118 303.655 519.582 303.739 Q520.046 303.803 520.404 303.824 Q520.783 303.824 521.563 303.824 Q522.533 303.824 522.681 303.992 Q522.765 304.098 522.765 304.287 Q522.765 304.688 522.596 304.899 Q522.449 305.088 522.301 305.131 Q522.175 305.152 521.922 305.152 Q521.479 305.152 520.53 305.11 Q519.582 305.067 519.097 305.067 L516.335 305.025 L510.855 305.152 Q510.264 305.152 510.264 304.667 Q510.264 304.245 510.412 304.056 Q510.559 303.866 510.707 303.845 Q510.876 303.824 511.297 303.824 Q513.468 303.824 514.185 303.613 Q514.923 303.381 515.218 302.39 L518.19 290.48 L505.036 290.48 L502.085 302.306 Q502.085 302.327 502.022 302.622 Q501.959 302.896 501.959 303.044 Q501.959 303.318 502.127 303.486 Q502.317 303.655 502.781 303.739 Q503.245 303.803 503.603 303.824 Q503.982 303.824 504.762 303.824 Q505.732 303.824 505.901 303.992 Q505.985 304.098 505.985 304.287 Q505.985 304.583 505.901 304.793 Q505.837 304.983 505.669 305.046 Q505.521 305.11 505.416 305.131 Q505.31 305.152 505.121 305.152 Q504.678 305.152 503.729 305.11 Q502.802 305.067 502.317 305.067 L499.556 305.025 L494.075 305.152 Q493.463 305.152 493.463 304.667 Q493.463 304.245 493.611 304.077 Q493.758 303.887 493.948 303.866 Q494.138 303.824 494.623 303.824 Q495.677 303.824 496.309 303.76 Q496.942 303.697 497.342 303.613 Q497.764 303.507 497.975 303.212 Q498.206 302.917 498.312 302.664 Q498.417 302.39 498.565 301.779 L504.341 278.591 Q504.509 277.895 504.509 277.79 Q504.509 277.389 504.256 277.284 Q504.025 277.157 503.35 277.094 L501.706 277.01 Q501.2 277.01 500.989 276.989 Q500.799 276.967 500.652 276.862 Q500.504 276.757 500.504 276.525 Q500.504 276.23 500.567 276.04 Q500.652 275.829 500.799 275.766 Q500.947 275.703 501.052 275.682 Q501.158 275.661 501.326 275.661 L506.891 275.787 L512.414 275.661 Q513.026 275.661 513.026 276.145 Q513.026 276.757 512.752 276.883 Q512.478 277.01 511.55 277.01 Q510.011 277.01 509.295 277.22 Q508.578 277.41 508.346 277.747 Q508.135 278.085 507.924 278.991 L505.374 289.131 L518.549 289.131 L521.142 278.591 Q521.31 277.832 521.31 277.79 Q521.31 277.389 521.057 277.284 Q520.825 277.157 520.151 277.094 L518.507 277.01 Q518.001 277.01 517.79 276.989 Q517.6 276.967 517.432 276.862 Q517.284 276.757 517.284 276.525 Q517.284 276.23 517.347 276.04 Q517.432 275.829 517.579 275.766 Q517.727 275.703 517.832 275.682 Q517.937 275.661 518.106 275.661 L523.671 275.787 L529.215 275.661 Q529.806 275.661 529.806 276.145 Z\" fill=\"#000000\" fill-rule=\"evenodd\" fill-opacity=\"1\" /><path clip-path=\"url(#clip820)\" d=\"M 0 0 M545.602 300.156 Q545.771 300.345 545.771 300.535 Q545.771 300.725 545.349 301.273 Q544.949 301.821 544.085 302.559 Q543.22 303.297 542.103 303.992 Q540.986 304.688 539.342 305.152 Q537.697 305.637 535.969 305.637 Q532.743 305.637 530.846 303.507 Q528.97 301.378 528.97 298.322 Q528.97 295.349 530.635 292.504 Q532.301 289.637 534.999 287.866 Q537.697 286.074 540.543 286.074 Q542.799 286.074 544.211 287.128 Q545.623 288.182 545.623 289.784 Q545.623 291.028 544.907 291.787 Q544.19 292.546 543.22 292.546 Q542.546 292.546 542.082 292.166 Q541.618 291.766 541.618 291.028 Q541.618 290.079 542.398 289.342 Q542.693 289.046 543.031 288.92 Q543.389 288.772 543.6 288.772 Q543.811 288.751 544.295 288.751 Q543.853 287.929 542.799 287.486 Q541.766 287.023 540.585 287.023 Q538.836 287.023 537.17 288.245 Q535.505 289.447 534.493 291.344 Q533.481 293.199 532.828 295.834 Q532.174 298.448 532.174 299.966 Q532.174 302.053 533.144 303.36 Q534.114 304.667 536.053 304.667 Q536.432 304.667 536.833 304.646 Q537.255 304.625 538.309 304.393 Q539.384 304.161 540.332 303.76 Q541.281 303.36 542.482 302.496 Q543.705 301.61 544.675 300.409 Q545.012 299.966 545.244 299.966 Q545.434 299.966 545.602 300.156 Z\" fill=\"#000000\" fill-rule=\"evenodd\" fill-opacity=\"1\" /><path clip-path=\"url(#clip820)\" d=\"M 0 0 M561.68 294.359 Q561.68 287.065 564.399 281.184 Q565.558 278.717 567.182 276.651 Q568.805 274.585 569.88 273.679 Q570.955 272.773 571.25 272.773 Q571.672 272.773 571.693 273.194 Q571.693 273.405 571.124 273.932 Q564.167 281.015 564.188 294.359 Q564.188 307.745 570.955 314.553 Q571.693 315.291 571.693 315.523 Q571.693 315.945 571.25 315.945 Q570.955 315.945 569.922 315.08 Q568.889 314.216 567.287 312.235 Q565.685 310.253 564.526 307.829 Q561.68 301.948 561.68 294.359 Z\" fill=\"#000000\" fill-rule=\"evenodd\" fill-opacity=\"1\" /><path clip-path=\"url(#clip820)\" d=\"M 0 0 M581.099 302.833 Q578.254 300.008 578.254 295.919 Q578.254 291.808 581.036 288.815 Q583.84 285.8 587.845 285.8 Q591.766 285.8 594.57 288.793 Q597.394 291.766 597.394 295.919 Q597.394 299.987 594.549 302.812 Q591.724 305.637 587.803 305.637 Q583.966 305.637 581.099 302.833 M581.837 295.56 Q581.837 299.755 582.933 301.652 Q584.62 304.54 587.845 304.54 Q589.447 304.54 590.775 303.676 Q592.124 302.812 592.862 301.357 Q593.811 299.46 593.811 295.56 Q593.811 291.407 592.673 289.573 Q590.986 286.77 587.803 286.77 Q586.412 286.77 585.041 287.508 Q583.692 288.224 582.87 289.658 Q581.837 291.555 581.837 295.56 Z\" fill=\"#000000\" fill-rule=\"evenodd\" fill-opacity=\"1\" /><path clip-path=\"url(#clip820)\" d=\"M 0 0 M599.629 277.01 L599.629 275.661 L605.847 275.197 L605.847 288.878 Q608.356 286.074 611.771 286.074 Q615.481 286.074 618.2 288.92 Q620.92 291.766 620.92 295.834 Q620.92 299.945 618.074 302.791 Q615.228 305.637 611.286 305.637 Q607.702 305.637 605.637 302.475 Q604.119 305.11 604.077 305.152 L603.001 305.152 L603.001 279.413 Q603.001 277.811 602.432 277.41 Q601.863 277.01 599.629 277.01 M605.974 300.24 Q605.974 301.146 606.585 302.053 Q608.293 304.667 611.075 304.667 Q611.096 304.667 611.117 304.667 Q614.132 304.667 616.008 301.905 Q617.336 299.839 617.336 295.792 Q617.336 291.787 616.092 289.784 Q614.364 287.023 611.56 287.023 Q608.398 287.023 606.459 289.784 Q605.974 290.48 605.974 291.344 L605.974 300.24 Z\" fill=\"#000000\" fill-rule=\"evenodd\" fill-opacity=\"1\" /><path clip-path=\"url(#clip820)\" d=\"M 0 0 M623.342 304.583 L623.342 298.891 Q623.342 298.406 623.363 298.237 Q623.384 298.069 623.51 297.942 Q623.637 297.816 623.89 297.816 Q624.185 297.816 624.29 297.942 Q624.417 298.069 624.501 298.554 Q625.154 301.526 626.546 303.107 Q627.958 304.667 630.509 304.667 Q632.933 304.667 634.156 303.592 Q635.378 302.517 635.378 300.746 Q635.378 297.584 630.888 296.783 Q628.295 296.256 627.22 295.919 Q626.145 295.56 625.197 294.78 Q623.342 293.262 623.342 291.112 Q623.342 288.962 624.965 287.381 Q626.609 285.8 630.235 285.8 Q632.659 285.8 634.303 287.023 Q634.788 286.643 635.041 286.327 Q635.61 285.8 635.905 285.8 Q636.243 285.8 636.306 286.032 Q636.369 286.243 636.369 286.854 L636.369 291.197 Q636.369 291.681 636.348 291.85 Q636.327 292.019 636.2 292.145 Q636.074 292.251 635.8 292.251 Q635.315 292.251 635.294 291.85 Q634.957 286.622 630.235 286.622 Q627.684 286.622 626.546 287.613 Q625.407 288.583 625.407 289.911 Q625.407 290.649 625.745 291.218 Q626.103 291.766 626.546 292.103 Q627.01 292.419 627.853 292.735 Q628.696 293.031 629.202 293.136 Q629.729 293.241 630.72 293.452 Q634.177 294.106 635.631 295.518 Q637.444 297.331 637.444 299.629 Q637.444 302.179 635.716 303.908 Q633.987 305.637 630.509 305.637 Q627.705 305.637 625.745 303.76 Q625.492 304.013 625.302 304.245 Q625.112 304.456 625.028 304.54 Q624.965 304.625 624.944 304.688 Q624.923 304.73 624.88 304.772 Q624.016 305.637 623.805 305.637 Q623.468 305.637 623.405 305.405 Q623.342 305.194 623.342 304.583 Z\" fill=\"#000000\" fill-rule=\"evenodd\" fill-opacity=\"1\" /><path clip-path=\"url(#clip820)\" d=\"M 0 0 M640.166 295.645 Q640.166 291.576 642.78 288.688 Q645.394 285.8 649.146 285.8 Q652.941 285.8 654.901 288.266 Q656.883 290.733 656.883 294.274 Q656.883 294.928 656.714 295.054 Q656.545 295.181 655.808 295.181 L643.75 295.181 Q643.75 299.587 645.057 301.652 Q646.87 304.54 649.926 304.54 Q650.348 304.54 650.854 304.456 Q651.36 304.372 652.393 304.013 Q653.425 303.634 654.332 302.643 Q655.238 301.652 655.765 300.092 Q655.892 299.481 656.313 299.502 Q656.883 299.502 656.883 300.008 Q656.883 300.388 656.461 301.252 Q656.06 302.095 655.281 303.107 Q654.501 304.119 652.983 304.878 Q651.486 305.637 649.673 305.637 Q645.879 305.637 643.012 302.77 Q640.166 299.882 640.166 295.645 M643.792 294.274 L654.037 294.274 Q654.037 293.368 653.868 292.356 Q653.721 291.344 653.257 289.953 Q652.814 288.541 651.76 287.655 Q650.706 286.77 649.146 286.77 Q648.451 286.77 647.692 287.065 Q646.954 287.36 646.047 288.077 Q645.141 288.793 644.509 290.417 Q643.876 292.04 643.792 294.274 Z\" fill=\"#000000\" fill-rule=\"evenodd\" fill-opacity=\"1\" /><path clip-path=\"url(#clip820)\" d=\"M 0 0 M659.14 305.152 L659.14 303.824 Q661.438 303.824 661.965 303.55 Q662.513 303.254 662.513 301.863 L662.513 290.29 Q662.513 288.688 661.944 288.288 Q661.396 287.887 659.14 287.887 L659.14 286.538 L665.148 286.074 L665.148 290.817 Q665.76 288.962 667.046 287.529 Q668.353 286.074 670.461 286.074 Q671.852 286.074 672.737 286.854 Q673.644 287.634 673.644 288.709 Q673.644 289.658 673.053 290.143 Q672.484 290.606 671.789 290.606 Q671.009 290.606 670.461 290.122 Q669.934 289.616 669.934 288.751 Q669.934 288.224 670.165 287.824 Q670.418 287.402 670.608 287.255 Q670.798 287.107 670.924 287.065 Q670.84 287.023 670.461 287.023 Q668.079 287.023 666.708 289.405 Q665.359 291.766 665.359 295.139 L665.359 301.779 Q665.359 303.023 665.865 303.423 Q666.392 303.824 668.648 303.824 L669.554 303.824 L669.554 305.152 Q667.826 305.025 664.073 305.025 Q663.546 305.025 662.724 305.046 Q661.902 305.067 660.827 305.11 Q659.752 305.152 659.14 305.152 Z\" fill=\"#000000\" fill-rule=\"evenodd\" fill-opacity=\"1\" /><path clip-path=\"url(#clip820)\" d=\"M 0 0 M676.74 287.887 L676.74 286.538 Q678.679 286.664 680.935 286.664 Q681.757 286.664 685.636 286.538 L685.636 287.887 Q683.169 287.887 683.169 289.004 Q683.169 289.173 683.422 289.742 L688.271 301.779 L692.676 290.775 Q692.929 290.037 692.929 289.742 Q692.929 289.004 692.423 288.477 Q691.939 287.929 690.863 287.887 L690.863 286.538 Q693.056 286.664 694.616 286.664 Q696.386 286.664 697.841 286.538 L697.841 287.887 Q696.555 287.887 695.649 288.477 Q694.742 289.046 694.447 289.552 Q694.173 290.037 693.878 290.775 L688.228 304.814 Q687.891 305.637 687.322 305.637 Q686.943 305.637 686.774 305.468 Q686.626 305.32 686.416 304.814 L680.197 289.489 Q679.775 288.414 679.227 288.161 Q678.679 287.887 676.74 287.887 Z\" fill=\"#000000\" fill-rule=\"evenodd\" fill-opacity=\"1\" /><path clip-path=\"url(#clip820)\" d=\"M 0 0 M698.813 295.645 Q698.813 291.576 701.427 288.688 Q704.041 285.8 707.793 285.8 Q711.587 285.8 713.548 288.266 Q715.529 290.733 715.529 294.274 Q715.529 294.928 715.361 295.054 Q715.192 295.181 714.454 295.181 L702.396 295.181 Q702.396 299.587 703.703 301.652 Q705.516 304.54 708.573 304.54 Q708.995 304.54 709.5 304.456 Q710.006 304.372 711.039 304.013 Q712.072 303.634 712.979 302.643 Q713.885 301.652 714.412 300.092 Q714.539 299.481 714.96 299.502 Q715.529 299.502 715.529 300.008 Q715.529 300.388 715.108 301.252 Q714.707 302.095 713.927 303.107 Q713.147 304.119 711.63 304.878 Q710.133 305.637 708.32 305.637 Q704.526 305.637 701.659 302.77 Q698.813 299.882 698.813 295.645 M702.439 294.274 L712.684 294.274 Q712.684 293.368 712.515 292.356 Q712.367 291.344 711.904 289.953 Q711.461 288.541 710.407 287.655 Q709.353 286.77 707.793 286.77 Q707.097 286.77 706.338 287.065 Q705.601 287.36 704.694 288.077 Q703.788 288.793 703.155 290.417 Q702.523 292.04 702.439 294.274 Z\" fill=\"#000000\" fill-rule=\"evenodd\" fill-opacity=\"1\" /><path clip-path=\"url(#clip820)\" d=\"M 0 0 M717.787 295.876 Q717.787 291.766 720.654 288.92 Q723.521 286.074 727.4 286.074 Q730.688 286.074 732.839 288.751 L732.839 279.413 Q732.839 277.811 732.269 277.41 Q731.721 277.01 729.487 277.01 L729.487 275.661 L735.705 275.197 L735.705 301.399 Q735.705 303.002 736.254 303.423 Q736.823 303.824 739.057 303.824 L739.057 305.152 L732.712 305.637 L732.712 302.77 Q730.478 305.615 726.936 305.637 Q723.226 305.637 720.507 302.791 Q717.787 299.945 717.787 295.876 M721.371 295.919 Q721.371 299.924 722.615 301.905 Q724.343 304.667 727.147 304.667 Q730.351 304.667 732.248 301.652 Q732.733 300.915 732.712 300.05 L732.712 291.197 Q732.712 290.332 732.248 289.616 Q730.478 287.023 727.59 287.023 Q724.575 287.023 722.699 289.784 Q721.371 291.85 721.371 295.919 Z\" fill=\"#000000\" fill-rule=\"evenodd\" fill-opacity=\"1\" /><path clip-path=\"url(#clip820)\" d=\"M 0 0 M742.111 304.456 Q741.5 303.76 741.5 302.854 Q741.5 301.948 742.09 301.273 Q742.702 300.577 743.798 300.577 Q745.084 300.577 745.822 301.821 Q746.559 303.044 746.559 305.11 Q746.559 307.344 745.653 309.41 Q744.747 311.497 743.861 312.488 Q742.976 313.478 742.617 313.478 Q742.196 313.478 742.196 313.015 Q742.196 312.846 742.491 312.53 Q745.59 309.199 745.611 305.11 Q745.611 304.456 745.526 304.456 L745.421 304.54 Q744.683 305.152 743.798 305.152 Q742.723 305.152 742.111 304.456 Z\" fill=\"#000000\" fill-rule=\"evenodd\" fill-opacity=\"1\" /><path clip-path=\"url(#clip820)\" d=\"M 0 0 M767.551 305.152 L767.551 303.824 Q769.849 303.824 770.376 303.55 Q770.903 303.254 770.903 301.863 L770.903 290.29 Q770.903 288.688 770.334 288.288 Q769.785 287.887 767.551 287.887 L767.551 286.538 L773.622 286.074 L773.622 290.606 Q775.646 286.074 780.009 286.074 Q783.256 286.074 784.542 287.676 Q785.49 288.751 785.68 289.953 Q785.891 291.154 785.891 294.274 L785.891 302.517 Q785.933 303.423 786.629 303.634 Q787.324 303.824 789.264 303.824 L789.264 305.152 Q784.858 305.025 784.415 305.025 Q784.078 305.025 779.546 305.152 L779.546 303.824 Q781.843 303.824 782.37 303.55 Q782.918 303.254 782.918 301.863 L782.918 291.808 Q782.918 289.616 782.244 288.33 Q781.569 287.023 779.714 287.023 Q777.48 287.023 775.688 288.899 Q773.896 290.775 773.896 293.937 L773.896 301.863 Q773.896 303.254 774.423 303.55 Q774.971 303.824 777.248 303.824 L777.248 305.152 Q772.842 305.025 772.42 305.025 Q772.083 305.025 767.551 305.152 Z\" fill=\"#000000\" fill-rule=\"evenodd\" fill-opacity=\"1\" /><path clip-path=\"url(#clip820)\" d=\"M 0 0 M794.11 302.833 Q791.264 300.008 791.264 295.919 Q791.264 291.808 794.046 288.815 Q796.85 285.8 800.855 285.8 Q804.776 285.8 807.58 288.793 Q810.405 291.766 810.405 295.919 Q810.405 299.987 807.559 302.812 Q804.734 305.637 800.813 305.637 Q796.977 305.637 794.11 302.833 M794.847 295.56 Q794.847 299.755 795.944 301.652 Q797.63 304.54 800.855 304.54 Q802.457 304.54 803.785 303.676 Q805.135 302.812 805.872 301.357 Q806.821 299.46 806.821 295.56 Q806.821 291.407 805.683 289.573 Q803.996 286.77 800.813 286.77 Q799.422 286.77 798.052 287.508 Q796.703 288.224 795.88 289.658 Q794.847 291.555 794.847 295.56 Z\" fill=\"#000000\" fill-rule=\"evenodd\" fill-opacity=\"1\" /><path clip-path=\"url(#clip820)\" d=\"M 0 0 M811.851 287.887 L811.851 286.938 Q813.833 286.854 815.14 285.463 Q816.468 284.05 816.911 282.322 Q817.374 280.593 817.417 278.591 L818.492 278.591 L818.492 286.538 L824.668 286.538 L824.668 287.887 L818.492 287.887 L818.492 299.882 Q818.492 304.54 821.401 304.54 Q822.644 304.54 823.467 303.276 Q824.289 301.99 824.289 299.713 L824.289 297.331 L825.364 297.331 L825.364 299.797 Q825.364 302.137 824.289 303.887 Q823.214 305.637 821.084 305.637 Q820.304 305.637 819.525 305.426 Q818.766 305.236 817.754 304.73 Q816.763 304.203 816.131 302.938 Q815.519 301.652 815.519 299.797 L815.519 287.887 L811.851 287.887 Z\" fill=\"#000000\" fill-rule=\"evenodd\" fill-opacity=\"1\" /><path clip-path=\"url(#clip820)\" d=\"M 0 0 M842.641 287.887 L842.641 286.538 L846.034 286.538 L846.034 281.584 Q846.034 278.38 848.1 276.546 Q850.187 274.712 852.738 274.712 Q854.424 274.712 855.521 275.618 Q856.617 276.525 856.617 277.747 Q856.617 278.57 856.111 279.118 Q855.626 279.645 854.719 279.645 Q853.855 279.645 853.349 279.097 Q852.864 278.548 852.864 277.79 Q852.864 276.398 854.15 275.977 Q853.497 275.682 852.738 275.661 Q851.178 275.661 849.955 277.263 Q848.754 278.865 848.754 281.542 L848.754 286.538 L853.813 286.538 L853.813 287.887 L848.901 287.887 L848.901 301.779 Q848.901 303.023 849.407 303.423 Q849.934 303.824 852.169 303.824 L853.075 303.824 L853.075 305.152 Q851.347 305.025 847.594 305.025 Q847.067 305.025 846.245 305.046 Q845.444 305.067 844.348 305.11 Q843.273 305.152 842.683 305.152 L842.683 303.824 Q844.98 303.824 845.507 303.55 Q846.034 303.254 846.034 301.863 L846.034 287.887 L842.641 287.887 Z\" fill=\"#000000\" fill-rule=\"evenodd\" fill-opacity=\"1\" /><path clip-path=\"url(#clip820)\" d=\"M 0 0 M854.316 305.152 L854.316 303.824 Q856.614 303.824 857.141 303.55 Q857.668 303.254 857.668 301.863 L857.668 290.248 Q857.668 288.646 857.12 288.266 Q856.593 287.887 854.485 287.887 L854.485 286.538 L860.513 286.074 L860.513 301.905 Q860.513 303.191 860.977 303.507 Q861.441 303.824 863.549 303.824 L863.549 305.152 Q859.143 305.025 859.059 305.025 Q858.469 305.025 854.316 305.152 M856.129 278.548 Q856.129 277.684 856.782 276.989 Q857.457 276.272 858.405 276.272 Q859.354 276.272 860.029 276.925 Q860.703 277.558 860.703 278.57 Q860.703 279.56 860.029 280.214 Q859.354 280.846 858.405 280.846 Q857.415 280.846 856.761 280.151 Q856.129 279.455 856.129 278.548 Z\" fill=\"#000000\" fill-rule=\"evenodd\" fill-opacity=\"1\" /><path clip-path=\"url(#clip820)\" d=\"M 0 0 M866.151 287.887 L866.151 286.938 Q868.133 286.854 869.44 285.463 Q870.768 284.05 871.211 282.322 Q871.674 280.593 871.717 278.591 L872.792 278.591 L872.792 286.538 L878.968 286.538 L878.968 287.887 L872.792 287.887 L872.792 299.882 Q872.792 304.54 875.701 304.54 Q876.945 304.54 877.767 303.276 Q878.589 301.99 878.589 299.713 L878.589 297.331 L879.664 297.331 L879.664 299.797 Q879.664 302.137 878.589 303.887 Q877.514 305.637 875.385 305.637 Q874.605 305.637 873.825 305.426 Q873.066 305.236 872.054 304.73 Q871.063 304.203 870.431 302.938 Q869.819 301.652 869.819 299.797 L869.819 287.887 L866.151 287.887 Z\" fill=\"#000000\" fill-rule=\"evenodd\" fill-opacity=\"1\" /><path clip-path=\"url(#clip820)\" d=\"M 0 0 M882.725 315.523 Q882.725 315.312 883.274 314.785 Q890.23 307.702 890.23 294.359 Q890.23 280.973 883.548 274.206 Q882.725 273.426 882.725 273.194 Q882.725 272.773 883.147 272.773 Q883.442 272.773 884.475 273.637 Q885.529 274.501 887.11 276.483 Q888.712 278.464 889.893 280.888 Q892.739 286.77 892.739 294.359 Q892.739 301.652 890.019 307.534 Q888.86 310 887.237 312.066 Q885.613 314.132 884.538 315.038 Q883.463 315.945 883.147 315.945 Q882.725 315.945 882.725 315.523 Z\" fill=\"#000000\" fill-rule=\"evenodd\" fill-opacity=\"1\" /></svg>\n"
      ]
     },
     "metadata": {},
     "output_type": "display_data"
    },
    {
     "name": "stdout",
     "output_type": "stream",
     "text": [
      "\n",
      "Total optimization time: 16221.0 seconds\n",
      "Average time per optimization: 16.22 seconds\n",
      "\n",
      "Number of autodiff fails: 0\n",
      "\n",
      "\u001b[1m19×6 DataFrame\u001b[0m\n",
      "\u001b[1m Row \u001b[0m│\u001b[1m Parameter   \u001b[0m\u001b[1m 2.5         \u001b[0m\u001b[1m 25.0        \u001b[0m\u001b[1m 50.0        \u001b[0m\u001b[1m 75.0        \u001b[0m\u001b[1m 97.5         \u001b[0m\n",
      "\u001b[1m     \u001b[0m│\u001b[90m String      \u001b[0m\u001b[90m Float64     \u001b[0m\u001b[90m Float64     \u001b[0m\u001b[90m Float64     \u001b[0m\u001b[90m Float64     \u001b[0m\u001b[90m Float64      \u001b[0m\n",
      "─────┼───────────────────────────────────────────────────────────────────────────────\n",
      "   1 │ \\\\beta_{SA}    0.293348     0.341086     0.372267     0.400379      0.493952\n",
      "   2 │ \\\\beta_{SI}    0.0071461    0.0267779    0.0399912    0.0515781     0.097034\n",
      "   3 │ \\\\sigma_1      0.279039     0.337186     0.372689     0.425885      0.490297\n",
      "   4 │ \\\\sigma_2      0.334535     0.355651     0.397885     0.433686      0.632694\n",
      "   5 │ \\\\varphi       0.11132      0.162799     0.186569     0.222821      0.298418\n",
      "   6 │ M              0.0892979    0.114625     0.132399     0.155747      0.230411\n",
      "   7 │ M_{AR}         0.0857002    0.109848     0.124662     0.145021      0.166408\n",
      "   8 │ \\\\gamma        0.203771     0.290489     0.329144     0.37172       0.50773\n",
      "   9 │ \\\\omega        0.118731     0.146816     0.224882     0.263273      0.336171\n",
      "  10 │ \\\\chi          0.108678     0.131654     0.145088     0.166437      0.205863\n",
      "  11 │ \\\\psi          0.0747668    0.0954939    0.109836     0.176186      0.198434\n",
      "  12 │ \\\\eta_{SA}     0.686085     0.765069     0.796959     0.813886      0.85916\n",
      "  13 │ \\\\eta_{SI}     0.260057     0.531751     0.646266     0.838408      0.987818\n",
      "  14 │ E(0)/I(0)      1.46385      2.31523      2.61242      2.8384        2.99845\n",
      "  15 │ P(0)/I(0)      1.02474      1.24053      1.56737      1.9172        2.65581\n",
      "  16 │ A(0)/I(0)      2.32748      2.61452      2.77341      2.91002       2.99883\n",
      "  17 │ H(0)/I(0)      0.0100038    0.0101632    0.010809     0.0118429     0.0176272\n",
      "  18 │ R(0)/I(0)      1.10318      1.4581       1.50177      1.52689       2.85902\n",
      "  19 │ I(0)         754.482      829.767      894.571      990.316      1225.52\n"
     ]
    }
   ],
   "source": [
    "out = ODE_Param_Est(;ODE_model = OneAgeModel!,\n",
    "                     ODE_vars = [:S, :E, :P, :A, :AR, :I, :H, :R, :D, :Hc],\n",
    "                     vars_to_fit = [:D, :Hc],\n",
    "                     paramIC_dict = ParIC_dict,\n",
    "                     data_dict = Data_dict, \n",
    "                     f_calc_ICs = f_ICs,\n",
    "                     func_sim_data = Sim_Data_1age,\n",
    "                     fit_range = [\"03-22-2020\",\"6-10-2020\"], \n",
    "                     date_obs_last = \"08-15-2020\", \n",
    "                     forecast_until = \"08-15-2020\", \n",
    "                     N0 = 127575528.0,\n",
    "                     norm = mean_square_rel_error, \n",
    "                     norm_weights = exp_weights,\n",
    "                     norm_scale = 1.0,\n",
    "                     optimizer = IPNewton,\n",
    "                     constraints = cons,\n",
    "                     func_get_x0 = func_get_x0,\n",
    "                     BS_samples = 200,  \n",
    "                     num_x0 = 5,\n",
    "                     pred_band_pct = 95,\n",
    "                     x_pctiles = [2.5, 25.0, 50.0, 75.0, 97.5],\n",
    "                     integrator_options = int_options, \n",
    "                     optimizer_options = optim_options,\n",
    "                     save_options = save_options);"
   ]
  },
  {
   "cell_type": "code",
   "execution_count": 23,
   "metadata": {},
   "outputs": [
    {
     "data": {
      "text/plain": [
       "5-element Array{Float64,1}:\n",
       "  5.039449670865512\n",
       "  5.676189817781391\n",
       "  9.104486021031931\n",
       " 10.471896270248157\n",
       " 13.375070123828586"
      ]
     },
     "execution_count": 23,
     "metadata": {},
     "output_type": "execute_result"
    }
   ],
   "source": [
    "x = out.minimizers_df\n",
    "\n",
    "\n",
    "\n",
    "quantile( 1 ./ x.\"\\\\psi\", [0.025, .25, .50, .75, .975])"
   ]
  }
 ],
 "metadata": {
  "kernelspec": {
   "display_name": "Julia 1.5.3",
   "language": "julia",
   "name": "julia-1.5"
  },
  "language_info": {
   "file_extension": ".jl",
   "mimetype": "application/julia",
   "name": "julia",
   "version": "1.5.3"
  }
 },
 "nbformat": 4,
 "nbformat_minor": 4
}

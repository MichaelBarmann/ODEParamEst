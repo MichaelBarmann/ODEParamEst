{
 "cells": [
  {
   "cell_type": "code",
   "execution_count": 5,
   "metadata": {},
   "outputs": [],
   "source": [
    "using Pkg, BenchmarkTools, Random, Statistics\n",
    "using XLSX, Dates, DataFrames, Statistics\n",
    "using DifferentialEquations, Plots "
   ]
  },
  {
   "cell_type": "code",
   "execution_count": 6,
   "metadata": {},
   "outputs": [
    {
     "data": {
      "text/plain": [
       "ODE_sol (generic function with 1 method)"
      ]
     },
     "execution_count": 6,
     "metadata": {},
     "output_type": "execute_result"
    }
   ],
   "source": [
    "function ODE_sol(ODE_model, ODE_vars, x, params_fix, ICs_fix, param_opt_indices, param_fix_indices,\n",
    "                 IC_opt_indices, IC_fix_indices, param_UBs, IC_UBs, f_calc_ICs, \n",
    "                 N0, t_pred, int_options)\n",
    "               \n",
    "   params_opt_scaled = x[1:length(param_opt_indices)] \n",
    "   IC_ratios_opt_scaled = x[length(param_opt_indices)+1:end]\n",
    "\n",
    "   params_opt = params_opt_scaled .* param_UBs\n",
    "   IC_ratios_opt = IC_ratios_opt_scaled .*IC_UBs\n",
    "\n",
    "   num_params = length(param_opt_indices) + length(param_fix_indices)\n",
    "   num_ICs_and_IC_ratios = length(IC_opt_indices) + length(IC_fix_indices)\n",
    "    \n",
    "   #Create vectors to store ODE_params and ICs/IC_ratios\n",
    "   ODE_params = Array{Real}(undef,num_params)\n",
    "   ICs_and_IC_ratios = Array{Real}(undef,num_ICs_and_IC_ratios)\n",
    "\n",
    "   #Populate ODE_params\n",
    "   ODE_params[param_opt_indices] = params_opt\n",
    "   ODE_params[param_fix_indices] = params_fix\n",
    "\n",
    "   #Populate ICs_and_IC_ratios\n",
    "   ICs_and_IC_ratios[IC_opt_indices] = IC_ratios_opt\n",
    "   ICs_and_IC_ratios[IC_fix_indices] = ICs_fix\n",
    "\n",
    "   #Calculate the IC from the IC ratios \n",
    "   ODE_ICs = f_calc_ICs(ICs_and_IC_ratios) \n",
    "\n",
    "   #Scale the Initial Condition \n",
    "   ODE_ICs_scaled = ODE_ICs ./ N0\n",
    "\n",
    "   #Now we solve the ODE system:\n",
    "   t_span = 1.0 .* [t_pred[1],t_pred[end]] \n",
    "\n",
    "   #Get the integrator options \n",
    "   integrator = get(int_options, :integrator, Tsit5())\n",
    "   rtol = get(int_options, :rtol, 1e-8)\n",
    "   atol = get(int_options, :atol, 1e-10)\n",
    "    \n",
    "   ODE_prob = ODEProblem(ODE_model, ODE_ICs_scaled, t_span, ODE_params);\n",
    "   sol_scaled = solve(ODE_prob, integrator, reltol = rtol, abstol = atol, saveat = t_pred, dt = 0.01);\n",
    "  \n",
    "   sol = N0.* DataFrame(sol_scaled', ODE_vars); \n",
    "    \n",
    "   insertcols!(sol, 1, :t => t_pred)\n",
    "   return sol\n",
    "    \n",
    "end"
   ]
  },
  {
   "cell_type": "code",
   "execution_count": 7,
   "metadata": {},
   "outputs": [
    {
     "data": {
      "text/plain": [
       "sort_by_var (generic function with 1 method)"
      ]
     },
     "execution_count": 7,
     "metadata": {},
     "output_type": "execute_result"
    }
   ],
   "source": [
    "function sort_by_var(soln_dfs)\n",
    "   \n",
    "    \"\"\"\n",
    "    soln_dfs:   A list of DataFrames, each containing the time series solution data \n",
    "                of an ODE--the solution to the *same* ODE solved at the same time values!\n",
    "                The DataFrames should include a column of the time values, named :t. \n",
    "    \"\"\"\n",
    "    \n",
    "    #Create a dictionary to store results\n",
    "    var_dfs = Dict()\n",
    "    \n",
    "    #Get the names of the variables, but exclude 't' (we only want to sort the dependent variables)\n",
    "    vars_list = filter(sym -> sym != :t,  Symbol.(names(soln_dfs[1]))) \n",
    "        \n",
    "    #The number of ODE solutions we've got \n",
    "    num_solns = length(soln_dfs)   \n",
    "        \n",
    "    #Get the time values (should be the first column of each DataFrame)\n",
    "    t_vals = soln_dfs[1].t   \n",
    "\n",
    "    for var in vars_list\n",
    "        \n",
    "        #Create DataFrames and name the columns by variable & sample (e.g. \"S1\",\"S2\",...,\"S500\")\n",
    "        col_names = [Symbol(string(var) * string(i)) for i=1:num_solns]\n",
    "        df = DataFrame(Array{Float64,2}(undef,length(t_vals),num_solns), col_names)\n",
    "        \n",
    "        for j = 1:num_solns\n",
    "            #Go through each DataFrame in 'soln_dfs' and select the column for variable 'var'.\n",
    "            #Put these columns into the DataFrame for 'var' that we just created.\n",
    "            df[:,j] = (soln_dfs[j])[:,var]\n",
    "        end\n",
    "        \n",
    "        #Add a column for the t values\n",
    "        insertcols!(df, 1, :t => t_vals)\n",
    "        \n",
    "        #Add the DataFrame to the dictionary\n",
    "        var_dfs[var] = df\n",
    "    end\n",
    "    \n",
    "    #Return the dictionary of DataFrames that we created.\n",
    "    return var_dfs\n",
    "end"
   ]
  },
  {
   "cell_type": "code",
   "execution_count": 8,
   "metadata": {},
   "outputs": [
    {
     "data": {
      "text/plain": [
       "percentiles_by_row (generic function with 1 method)"
      ]
     },
     "execution_count": 8,
     "metadata": {},
     "output_type": "execute_result"
    }
   ],
   "source": [
    "function percentiles_by_row(df::AbstractDataFrame; low::Float64 = 0.25, med::Float64 = 0.50, high::Float64 = 0.75)\n",
    "    \n",
    "    \"\"\"\n",
    "    THE ARGUMENTS:\n",
    "    df:            A DataFrame whose columns are each a time series values of a variable.\n",
    "                   In the case of ParamEst, we'll pass this function a DataFrame whose columns are \n",
    "                   the time series values **of ONE (1) particular variable**, obtained from solving an ODE \n",
    "                   multiple times. So for example, the DataFrame 'df' might have columns named \"S_1\", \"S_2\", \"S_3\",...,\"S_500\", where each\n",
    "                   column is a solution for S (susceptibles) from the same ODE, but with different parameters.\n",
    "    \n",
    "    low,med,high:  Floats satisfying 0.0 <= low < med < high <= 1.0. These are the percentiles that will be computed \n",
    "                   for *each row* of the DataFrame 'df'.\n",
    "    \n",
    "    NOTE: \n",
    "    It is assumed that df does not have a column for time values. If df does have a column for t values,\n",
    "    remember to only select the dependent variable values by, for example, select(df, Not(:t)). \n",
    "    \n",
    "    OUTPUT:\n",
    "    An nrow(df) x 3 DataFrame whose columns names are the percentiles passed (converted to Strings). \n",
    "    So the ith row of the DataFrame that gets returned consists of the low, med, and high quantile values \n",
    "    of the ith row of the inputted DataFrame.\n",
    "    \"\"\"\n",
    "    \n",
    "    #Exception handling:\n",
    "    if !(0.0 <= low < med < high <= 1.0)\n",
    "        error(\"Error! 0.0 <= low < med < high <= 1.0 not satisfied.\")\n",
    "    end\n",
    "    \n",
    "    #Create column names for DataFrame to be returned\n",
    "    col_names = [string(low), string(med), string(high) ]\n",
    "\n",
    "    #Create an empty data frame with the column names by quantile \n",
    "    pctiles_df = DataFrame(Array{Float64}(undef, nrow(df), 3), col_names)\n",
    "\n",
    "    #Calculate the quantiles for each row of df\n",
    "    #Store each set of quantiles as a row in qtiles_df\n",
    "    for i=1:nrow(df)\n",
    "        pctiles_df[i,:] = quantile(df[i,:] , [low, med, high])\n",
    "    end\n",
    "    \n",
    "    return pctiles_df\n",
    "    \n",
    "end"
   ]
  },
  {
   "cell_type": "code",
   "execution_count": 9,
   "metadata": {},
   "outputs": [
    {
     "data": {
      "text/plain": [
       "df_from_rows (generic function with 1 method)"
      ]
     },
     "execution_count": 9,
     "metadata": {},
     "output_type": "execute_result"
    }
   ],
   "source": [
    "function df_from_rows(rows::Array, col_names::Array)\n",
    "\n",
    "    col_types = typeof.(rows[1]) #Note: we're assuming that all values within a column are of the same type\n",
    "    df = DataFrame(col_types, col_names)\n",
    "    \n",
    "    for row in rows\n",
    "        push!(df, row)\n",
    "    end\n",
    "    return df\n",
    "end"
   ]
  },
  {
   "cell_type": "code",
   "execution_count": 10,
   "metadata": {},
   "outputs": [
    {
     "data": {
      "text/plain": [
       "data_to_df (generic function with 1 method)"
      ]
     },
     "execution_count": 10,
     "metadata": {},
     "output_type": "execute_result"
    }
   ],
   "source": [
    "#NOTE: The first column of the inputted data is expected to be Dates\n",
    "function data_to_df(;file_path, sheet_name, date_format, date_range, usecols, colnames)\n",
    "    \n",
    "    xf = XLSX.readxlsx(file_path)\n",
    "    data_sheet = xf[sheet_name]\n",
    "      \n",
    "    #Put the data in a DataFrame\n",
    "    data_all_df = DataFrame(XLSX.gettable(data_sheet, header = true)...)\n",
    "      \n",
    "    #Select only the columns we want \n",
    "    data_df = data_all_df[:,usecols]\n",
    "    rename!(data_df, colnames)\n",
    "    \n",
    "    #Convert the first column to the \"Date\" type \n",
    "    data_df[!,1] = convert.(Date, data_df.Date)\n",
    "    \n",
    "    #The first and last dates to select\n",
    "    date_first = Date(date_range[1], date_format)\n",
    "    date_last = Date(date_range[2], date_format)\n",
    "     \n",
    "    local row_first::Any\n",
    "    local row_last::Any\n",
    "    \n",
    "    try\n",
    "        row_first = findall(data_df.Date .== date_first)[1]\n",
    "        row_last = findall(data_df.Date .== date_last)[1]\n",
    "    catch\n",
    "        error(\"Error: One or more of the entered dates was not contained in the spreadsheet.\")\n",
    "    end\n",
    "    \n",
    "    #Select the data in the date range\n",
    "    data_df_new = data_df[row_first:row_last,:]   \n",
    "    \n",
    "    #The date range of interest, as an array of Dates\n",
    "    dates_obs = data_df_new.Date\n",
    "    \n",
    "    #Calculate the Rata Die value of date_first\n",
    "    t0_rata = Dates.datetime2rata(date_first)\n",
    "    \n",
    "    #Convert the Dates to integers (days since date_first)\n",
    "    t_obs = Array{Any}(Dates.datetime2rata.(dates_obs) .- t0_rata)\n",
    "    \n",
    "    #Insert t_obs into the DataFrame\n",
    "    insertcols!(data_df_new, 2, \"t\" => t_obs)\n",
    "    return data_df_new\n",
    "end"
   ]
  }
 ],
 "metadata": {
  "kernelspec": {
   "display_name": "Julia 1.5.3",
   "language": "julia",
   "name": "julia-1.5"
  },
  "language_info": {
   "file_extension": ".jl",
   "mimetype": "application/julia",
   "name": "julia",
   "version": "1.5.3"
  }
 },
 "nbformat": 4,
 "nbformat_minor": 4
}
